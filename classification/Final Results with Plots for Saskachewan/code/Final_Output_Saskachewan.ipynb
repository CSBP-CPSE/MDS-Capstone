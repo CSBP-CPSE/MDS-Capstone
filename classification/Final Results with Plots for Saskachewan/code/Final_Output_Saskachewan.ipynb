{
 "cells": [
  {
   "cell_type": "code",
   "execution_count": 0,
   "metadata": {
    "colab": {},
    "colab_type": "code",
    "id": "GvVgcl_zjZMK"
   },
   "outputs": [],
   "source": [
    "# !pip install descartes\n",
    "# !pip install geopandas"
   ]
  },
  {
   "cell_type": "code",
   "execution_count": 1,
   "metadata": {
    "colab": {
     "base_uri": "https://localhost:8080/",
     "height": 544
    },
    "colab_type": "code",
    "id": "ujrfSsbPjlV4",
    "outputId": "786acfe8-62a0-49bb-cf53-c57f557924bc"
   },
   "outputs": [
    {
     "name": "stdout",
     "output_type": "stream",
     "text": [
      "Archive:  FinalOutputs.zip\n",
      "replace FinalOutputs/CT_Stats.dbf? [y]es, [n]o, [A]ll, [N]one, [r]ename: y\n",
      "  inflating: FinalOutputs/CT_Stats.dbf  \n",
      "replace FinalOutputs/CT_Stats.prj? [y]es, [n]o, [A]ll, [N]one, [r]ename: y\n",
      "  inflating: FinalOutputs/CT_Stats.prj  \n",
      "replace FinalOutputs/CT_Stats.qpj? [y]es, [n]o, [A]ll, [N]one, [r]ename: y\n",
      "  inflating: FinalOutputs/CT_Stats.qpj  \n",
      "replace FinalOutputs/CT_Stats.shp? [y]es, [n]o, [A]ll, [N]one, [r]ename: y\n",
      "  inflating: FinalOutputs/CT_Stats.shp  \n",
      "replace FinalOutputs/CT_Stats.shx? [y]es, [n]o, [A]ll, [N]one, [r]ename: y\n",
      "  inflating: FinalOutputs/CT_Stats.shx  \n",
      "replace FinalOutputs/DB_Stats.dbf? [y]es, [n]o, [A]ll, [N]one, [r]ename: y\n",
      "  inflating: FinalOutputs/DB_Stats.dbf  \n",
      "replace FinalOutputs/DB_Stats.prj? [y]es, [n]o, [A]ll, [N]one, [r]ename: y\n",
      "  inflating: FinalOutputs/DB_Stats.prj  \n",
      "replace FinalOutputs/DB_Stats.qpj? [y]es, [n]o, [A]ll, [N]one, [r]ename: y\n",
      "  inflating: FinalOutputs/DB_Stats.qpj  \n",
      "replace FinalOutputs/DB_Stats.shp? [y]es, [n]o, [A]ll, [N]one, [r]ename: y\n",
      "  inflating: FinalOutputs/DB_Stats.shp  \n",
      "replace FinalOutputs/DB_Stats.shx? [y]es, [n]o, [A]ll, [N]one, [r]ename: y\n",
      "  inflating: FinalOutputs/DB_Stats.shx  \n",
      "replace FinalOutputs/GRID_Stats.dbf? [y]es, [n]o, [A]ll, [N]one, [r]ename: y\n",
      "  inflating: FinalOutputs/GRID_Stats.dbf  \n",
      "replace FinalOutputs/GRID_Stats.prj? [y]es, [n]o, [A]ll, [N]one, [r]ename: y\n",
      "  inflating: FinalOutputs/GRID_Stats.prj  \n",
      "replace FinalOutputs/GRID_Stats.qpj? [y]es, [n]o, [A]ll, [N]one, [r]ename: y\n",
      "  inflating: FinalOutputs/GRID_Stats.qpj  \n",
      "replace FinalOutputs/GRID_Stats.shp? [y]es, [n]o, [A]ll, [N]one, [r]ename: y\n",
      "  inflating: FinalOutputs/GRID_Stats.shp  \n",
      "replace FinalOutputs/GRID_Stats.shx? [y]es, [n]o, [A]ll, [N]one, [r]ename: y\n",
      "  inflating: FinalOutputs/GRID_Stats.shx  \n"
     ]
    }
   ],
   "source": [
    "!unzip FinalOutputs.zip"
   ]
  },
  {
   "cell_type": "code",
   "execution_count": 2,
   "metadata": {
    "colab": {
     "base_uri": "https://localhost:8080/",
     "height": 34
    },
    "colab_type": "code",
    "id": "CLhRbtEkjw2P",
    "outputId": "ed5dfbb1-bbd9-4d5e-a975-b488e4d53395"
   },
   "outputs": [
    {
     "name": "stdout",
     "output_type": "stream",
     "text": [
      "Libraries imported.\n"
     ]
    }
   ],
   "source": [
    "import geopandas as gpd\n",
    "from shapely.geometry import Point\n",
    "import random # library for random number generation\n",
    "import numpy as np # library for vectorized computation\n",
    "import pandas as pd # library to process data as dataframes\n",
    "\n",
    "import matplotlib.pyplot as plt # plotting library\n",
    "# backend for rendering plots within the browser\n",
    "%matplotlib inline \n",
    "\n",
    "from sklearn.cluster import KMeans \n",
    "from sklearn.datasets.samples_generator import make_blobs\n",
    "from sklearn.preprocessing import StandardScaler #for standardization\n",
    "print('Libraries imported.')\n"
   ]
  },
  {
   "cell_type": "code",
   "execution_count": 0,
   "metadata": {
    "colab": {},
    "colab_type": "code",
    "id": "LdXbcCX4j6sn"
   },
   "outputs": [],
   "source": [
    "ctstats = gpd.read_file('FinalOutputs/CT_Stats.shp')"
   ]
  },
  {
   "cell_type": "code",
   "execution_count": 0,
   "metadata": {
    "colab": {},
    "colab_type": "code",
    "id": "hzEkTAbNkFCm"
   },
   "outputs": [],
   "source": [
    "dbstats = gpd.read_file('FinalOutputs/DB_Stats.shp')"
   ]
  },
  {
   "cell_type": "code",
   "execution_count": 0,
   "metadata": {
    "colab": {},
    "colab_type": "code",
    "id": "Z4OLBZshkON9"
   },
   "outputs": [],
   "source": [
    "gridstats = gpd.read_file('FinalOutputs/GRID_Stats.shp')"
   ]
  },
  {
   "cell_type": "markdown",
   "metadata": {
    "colab_type": "text",
    "id": "ZUIfVgQpYP8_"
   },
   "source": [
    "# 1. Census Tract"
   ]
  },
  {
   "cell_type": "code",
   "execution_count": 6,
   "metadata": {
    "colab": {
     "base_uri": "https://localhost:8080/",
     "height": 297
    },
    "colab_type": "code",
    "id": "D_eiv7z8kRXj",
    "outputId": "6c21759e-92f0-4c9c-9edf-ec0b1c0bf775"
   },
   "outputs": [
    {
     "data": {
      "text/html": [
       "<div>\n",
       "<style scoped>\n",
       "    .dataframe tbody tr th:only-of-type {\n",
       "        vertical-align: middle;\n",
       "    }\n",
       "\n",
       "    .dataframe tbody tr th {\n",
       "        vertical-align: top;\n",
       "    }\n",
       "\n",
       "    .dataframe thead th {\n",
       "        text-align: right;\n",
       "    }\n",
       "</style>\n",
       "<table border=\"1\" class=\"dataframe\">\n",
       "  <thead>\n",
       "    <tr style=\"text-align: right;\">\n",
       "      <th></th>\n",
       "      <th>area</th>\n",
       "      <th>AvgSize</th>\n",
       "      <th>BldgCount</th>\n",
       "      <th>BD</th>\n",
       "      <th>BldgArea</th>\n",
       "      <th>BCR</th>\n",
       "      <th>ProxMean</th>\n",
       "      <th>ContCount</th>\n",
       "      <th>ContRatio</th>\n",
       "    </tr>\n",
       "  </thead>\n",
       "  <tbody>\n",
       "    <tr>\n",
       "      <th>count</th>\n",
       "      <td>4.900000e+01</td>\n",
       "      <td>49.000000</td>\n",
       "      <td>49.000000</td>\n",
       "      <td>4.900000e+01</td>\n",
       "      <td>4.900000e+01</td>\n",
       "      <td>49.000000</td>\n",
       "      <td>49.000000</td>\n",
       "      <td>49.000000</td>\n",
       "      <td>49.000000</td>\n",
       "    </tr>\n",
       "    <tr>\n",
       "      <th>mean</th>\n",
       "      <td>1.725584e+07</td>\n",
       "      <td>234.781478</td>\n",
       "      <td>2003.795918</td>\n",
       "      <td>9.984835e-04</td>\n",
       "      <td>3.434071e+05</td>\n",
       "      <td>0.155841</td>\n",
       "      <td>2.943307</td>\n",
       "      <td>700.959184</td>\n",
       "      <td>0.339713</td>\n",
       "    </tr>\n",
       "    <tr>\n",
       "      <th>std</th>\n",
       "      <td>9.461521e+07</td>\n",
       "      <td>375.261951</td>\n",
       "      <td>983.608217</td>\n",
       "      <td>5.620423e-04</td>\n",
       "      <td>2.139301e+05</td>\n",
       "      <td>0.066330</td>\n",
       "      <td>1.748940</td>\n",
       "      <td>445.216940</td>\n",
       "      <td>0.099833</td>\n",
       "    </tr>\n",
       "    <tr>\n",
       "      <th>min</th>\n",
       "      <td>5.018554e+05</td>\n",
       "      <td>93.981718</td>\n",
       "      <td>13.000000</td>\n",
       "      <td>2.000000e-08</td>\n",
       "      <td>3.509556e+03</td>\n",
       "      <td>0.000005</td>\n",
       "      <td>1.774306</td>\n",
       "      <td>6.000000</td>\n",
       "      <td>0.138462</td>\n",
       "    </tr>\n",
       "    <tr>\n",
       "      <th>25%</th>\n",
       "      <td>1.336939e+06</td>\n",
       "      <td>121.691518</td>\n",
       "      <td>1488.000000</td>\n",
       "      <td>6.311200e-04</td>\n",
       "      <td>2.056291e+05</td>\n",
       "      <td>0.145332</td>\n",
       "      <td>2.178488</td>\n",
       "      <td>443.000000</td>\n",
       "      <td>0.288525</td>\n",
       "    </tr>\n",
       "    <tr>\n",
       "      <th>50%</th>\n",
       "      <td>1.736146e+06</td>\n",
       "      <td>144.937066</td>\n",
       "      <td>1841.000000</td>\n",
       "      <td>1.125610e-03</td>\n",
       "      <td>3.044708e+05</td>\n",
       "      <td>0.167110</td>\n",
       "      <td>2.355070</td>\n",
       "      <td>592.000000</td>\n",
       "      <td>0.316940</td>\n",
       "    </tr>\n",
       "    <tr>\n",
       "      <th>75%</th>\n",
       "      <td>2.428093e+06</td>\n",
       "      <td>246.231107</td>\n",
       "      <td>2674.000000</td>\n",
       "      <td>1.398620e-03</td>\n",
       "      <td>3.870525e+05</td>\n",
       "      <td>0.191665</td>\n",
       "      <td>2.801816</td>\n",
       "      <td>850.000000</td>\n",
       "      <td>0.363694</td>\n",
       "    </tr>\n",
       "    <tr>\n",
       "      <th>max</th>\n",
       "      <td>6.649859e+08</td>\n",
       "      <td>2744.717766</td>\n",
       "      <td>4117.000000</td>\n",
       "      <td>2.197400e-03</td>\n",
       "      <td>1.185492e+06</td>\n",
       "      <td>0.355494</td>\n",
       "      <td>11.783530</td>\n",
       "      <td>1964.000000</td>\n",
       "      <td>0.626804</td>\n",
       "    </tr>\n",
       "  </tbody>\n",
       "</table>\n",
       "</div>"
      ],
      "text/plain": [
       "               area      AvgSize  ...    ContCount  ContRatio\n",
       "count  4.900000e+01    49.000000  ...    49.000000  49.000000\n",
       "mean   1.725584e+07   234.781478  ...   700.959184   0.339713\n",
       "std    9.461521e+07   375.261951  ...   445.216940   0.099833\n",
       "min    5.018554e+05    93.981718  ...     6.000000   0.138462\n",
       "25%    1.336939e+06   121.691518  ...   443.000000   0.288525\n",
       "50%    1.736146e+06   144.937066  ...   592.000000   0.316940\n",
       "75%    2.428093e+06   246.231107  ...   850.000000   0.363694\n",
       "max    6.649859e+08  2744.717766  ...  1964.000000   0.626804\n",
       "\n",
       "[8 rows x 9 columns]"
      ]
     },
     "execution_count": 6,
     "metadata": {
      "tags": []
     },
     "output_type": "execute_result"
    }
   ],
   "source": [
    "ctstats.describe()"
   ]
  },
  {
   "cell_type": "code",
   "execution_count": 7,
   "metadata": {
    "colab": {
     "base_uri": "https://localhost:8080/",
     "height": 479
    },
    "colab_type": "code",
    "id": "fFWPTZW-kUmz",
    "outputId": "3bbf1c77-ab5b-4350-88dd-ee1e7b6816f6"
   },
   "outputs": [
    {
     "data": {
      "text/html": [
       "<div>\n",
       "<style scoped>\n",
       "    .dataframe tbody tr th:only-of-type {\n",
       "        vertical-align: middle;\n",
       "    }\n",
       "\n",
       "    .dataframe tbody tr th {\n",
       "        vertical-align: top;\n",
       "    }\n",
       "\n",
       "    .dataframe thead th {\n",
       "        text-align: right;\n",
       "    }\n",
       "</style>\n",
       "<table border=\"1\" class=\"dataframe\">\n",
       "  <thead>\n",
       "    <tr style=\"text-align: right;\">\n",
       "      <th></th>\n",
       "      <th>CTUID</th>\n",
       "      <th>PRNAME</th>\n",
       "      <th>CMANAME</th>\n",
       "      <th>CMATYPE</th>\n",
       "      <th>area</th>\n",
       "      <th>AvgSize</th>\n",
       "      <th>BldgCount</th>\n",
       "      <th>BD</th>\n",
       "      <th>BldgArea</th>\n",
       "      <th>BCR</th>\n",
       "      <th>ProxMean</th>\n",
       "      <th>ContCount</th>\n",
       "      <th>ContRatio</th>\n",
       "      <th>geometry</th>\n",
       "    </tr>\n",
       "  </thead>\n",
       "  <tbody>\n",
       "    <tr>\n",
       "      <th>0</th>\n",
       "      <td>7050100.12</td>\n",
       "      <td>Saskatchewan</td>\n",
       "      <td>Regina</td>\n",
       "      <td>B</td>\n",
       "      <td>9.886176e+06</td>\n",
       "      <td>207.743248</td>\n",
       "      <td>3421</td>\n",
       "      <td>3.460400e-04</td>\n",
       "      <td>710689.652329</td>\n",
       "      <td>0.071887</td>\n",
       "      <td>2.269360</td>\n",
       "      <td>1146</td>\n",
       "      <td>0.334990</td>\n",
       "      <td>POLYGON ((5313856.75143 1677717.71143, 5313403...</td>\n",
       "    </tr>\n",
       "    <tr>\n",
       "      <th>1</th>\n",
       "      <td>7050100.13</td>\n",
       "      <td>Saskatchewan</td>\n",
       "      <td>Regina</td>\n",
       "      <td>B</td>\n",
       "      <td>8.509538e+06</td>\n",
       "      <td>262.318343</td>\n",
       "      <td>2054</td>\n",
       "      <td>2.413800e-04</td>\n",
       "      <td>538801.877355</td>\n",
       "      <td>0.063317</td>\n",
       "      <td>2.242403</td>\n",
       "      <td>849</td>\n",
       "      <td>0.413340</td>\n",
       "      <td>POLYGON ((5313190.09143 1678349.31143, 5313158...</td>\n",
       "    </tr>\n",
       "    <tr>\n",
       "      <th>2</th>\n",
       "      <td>7050100.14</td>\n",
       "      <td>Saskatchewan</td>\n",
       "      <td>Regina</td>\n",
       "      <td>B</td>\n",
       "      <td>6.649859e+08</td>\n",
       "      <td>269.965845</td>\n",
       "      <td>13</td>\n",
       "      <td>2.000000e-08</td>\n",
       "      <td>3509.555987</td>\n",
       "      <td>0.000005</td>\n",
       "      <td>1.862394</td>\n",
       "      <td>6</td>\n",
       "      <td>0.461538</td>\n",
       "      <td>POLYGON ((5317260.705715 1691091.03143, 531730...</td>\n",
       "    </tr>\n",
       "    <tr>\n",
       "      <th>3</th>\n",
       "      <td>7050005.00</td>\n",
       "      <td>Saskatchewan</td>\n",
       "      <td>Regina</td>\n",
       "      <td>B</td>\n",
       "      <td>2.138134e+06</td>\n",
       "      <td>102.769961</td>\n",
       "      <td>3141</td>\n",
       "      <td>1.469040e-03</td>\n",
       "      <td>322800.447030</td>\n",
       "      <td>0.150973</td>\n",
       "      <td>2.637148</td>\n",
       "      <td>990</td>\n",
       "      <td>0.315186</td>\n",
       "      <td>POLYGON ((5303740.34 1679038.68, 5303777.06285...</td>\n",
       "    </tr>\n",
       "    <tr>\n",
       "      <th>4</th>\n",
       "      <td>7050006.00</td>\n",
       "      <td>Saskatchewan</td>\n",
       "      <td>Regina</td>\n",
       "      <td>B</td>\n",
       "      <td>1.273107e+07</td>\n",
       "      <td>277.171637</td>\n",
       "      <td>2442</td>\n",
       "      <td>1.918100e-04</td>\n",
       "      <td>676853.138049</td>\n",
       "      <td>0.053165</td>\n",
       "      <td>3.868232</td>\n",
       "      <td>762</td>\n",
       "      <td>0.312039</td>\n",
       "      <td>POLYGON ((5305754.04857 1677692.21143, 5305760...</td>\n",
       "    </tr>\n",
       "  </tbody>\n",
       "</table>\n",
       "</div>"
      ],
      "text/plain": [
       "        CTUID  ...                                           geometry\n",
       "0  7050100.12  ...  POLYGON ((5313856.75143 1677717.71143, 5313403...\n",
       "1  7050100.13  ...  POLYGON ((5313190.09143 1678349.31143, 5313158...\n",
       "2  7050100.14  ...  POLYGON ((5317260.705715 1691091.03143, 531730...\n",
       "3  7050005.00  ...  POLYGON ((5303740.34 1679038.68, 5303777.06285...\n",
       "4  7050006.00  ...  POLYGON ((5305754.04857 1677692.21143, 5305760...\n",
       "\n",
       "[5 rows x 14 columns]"
      ]
     },
     "execution_count": 7,
     "metadata": {
      "tags": []
     },
     "output_type": "execute_result"
    }
   ],
   "source": [
    "ctstats.head()"
   ]
  },
  {
   "cell_type": "markdown",
   "metadata": {
    "colab_type": "text",
    "id": "mfScBcY9YWK4"
   },
   "source": [
    "## We need only the 5 statistics, the Census Tract ID and the geometry of the CT polygons"
   ]
  },
  {
   "cell_type": "code",
   "execution_count": 8,
   "metadata": {
    "colab": {
     "base_uri": "https://localhost:8080/",
     "height": 204
    },
    "colab_type": "code",
    "id": "KrA6CgTWXjsX",
    "outputId": "065eeeee-acaa-4438-f027-2b46eab6ec40"
   },
   "outputs": [
    {
     "data": {
      "text/html": [
       "<div>\n",
       "<style scoped>\n",
       "    .dataframe tbody tr th:only-of-type {\n",
       "        vertical-align: middle;\n",
       "    }\n",
       "\n",
       "    .dataframe tbody tr th {\n",
       "        vertical-align: top;\n",
       "    }\n",
       "\n",
       "    .dataframe thead th {\n",
       "        text-align: right;\n",
       "    }\n",
       "</style>\n",
       "<table border=\"1\" class=\"dataframe\">\n",
       "  <thead>\n",
       "    <tr style=\"text-align: right;\">\n",
       "      <th></th>\n",
       "      <th>CTUID</th>\n",
       "      <th>AvgSize</th>\n",
       "      <th>BD</th>\n",
       "      <th>BCR</th>\n",
       "      <th>ProxMean</th>\n",
       "      <th>ContRatio</th>\n",
       "      <th>geometry</th>\n",
       "    </tr>\n",
       "  </thead>\n",
       "  <tbody>\n",
       "    <tr>\n",
       "      <th>0</th>\n",
       "      <td>7050100.12</td>\n",
       "      <td>207.743248</td>\n",
       "      <td>3.460400e-04</td>\n",
       "      <td>0.071887</td>\n",
       "      <td>2.269360</td>\n",
       "      <td>0.334990</td>\n",
       "      <td>POLYGON ((5313856.75143 1677717.71143, 5313403...</td>\n",
       "    </tr>\n",
       "    <tr>\n",
       "      <th>1</th>\n",
       "      <td>7050100.13</td>\n",
       "      <td>262.318343</td>\n",
       "      <td>2.413800e-04</td>\n",
       "      <td>0.063317</td>\n",
       "      <td>2.242403</td>\n",
       "      <td>0.413340</td>\n",
       "      <td>POLYGON ((5313190.09143 1678349.31143, 5313158...</td>\n",
       "    </tr>\n",
       "    <tr>\n",
       "      <th>2</th>\n",
       "      <td>7050100.14</td>\n",
       "      <td>269.965845</td>\n",
       "      <td>2.000000e-08</td>\n",
       "      <td>0.000005</td>\n",
       "      <td>1.862394</td>\n",
       "      <td>0.461538</td>\n",
       "      <td>POLYGON ((5317260.705715 1691091.03143, 531730...</td>\n",
       "    </tr>\n",
       "    <tr>\n",
       "      <th>3</th>\n",
       "      <td>7050005.00</td>\n",
       "      <td>102.769961</td>\n",
       "      <td>1.469040e-03</td>\n",
       "      <td>0.150973</td>\n",
       "      <td>2.637148</td>\n",
       "      <td>0.315186</td>\n",
       "      <td>POLYGON ((5303740.34 1679038.68, 5303777.06285...</td>\n",
       "    </tr>\n",
       "    <tr>\n",
       "      <th>4</th>\n",
       "      <td>7050006.00</td>\n",
       "      <td>277.171637</td>\n",
       "      <td>1.918100e-04</td>\n",
       "      <td>0.053165</td>\n",
       "      <td>3.868232</td>\n",
       "      <td>0.312039</td>\n",
       "      <td>POLYGON ((5305754.04857 1677692.21143, 5305760...</td>\n",
       "    </tr>\n",
       "  </tbody>\n",
       "</table>\n",
       "</div>"
      ],
      "text/plain": [
       "        CTUID  ...                                           geometry\n",
       "0  7050100.12  ...  POLYGON ((5313856.75143 1677717.71143, 5313403...\n",
       "1  7050100.13  ...  POLYGON ((5313190.09143 1678349.31143, 5313158...\n",
       "2  7050100.14  ...  POLYGON ((5317260.705715 1691091.03143, 531730...\n",
       "3  7050005.00  ...  POLYGON ((5303740.34 1679038.68, 5303777.06285...\n",
       "4  7050006.00  ...  POLYGON ((5305754.04857 1677692.21143, 5305760...\n",
       "\n",
       "[5 rows x 7 columns]"
      ]
     },
     "execution_count": 8,
     "metadata": {
      "tags": []
     },
     "output_type": "execute_result"
    }
   ],
   "source": [
    "df_ct = ctstats.drop(['PRNAME','CMANAME','CMATYPE','area', 'BldgArea', 'BldgCount', 'ContCount'], axis=1)\n",
    "df_ct.head()"
   ]
  },
  {
   "cell_type": "markdown",
   "metadata": {
    "colab_type": "text",
    "id": "Nb_hjdQSYU4x"
   },
   "source": [
    "## Classification Task on the Census Tract data"
   ]
  },
  {
   "cell_type": "markdown",
   "metadata": {
    "colab_type": "text",
    "id": "pyMEKJ0RZWWK"
   },
   "source": [
    "### Creating Standardized/normalized data for scale invariance as below:\n",
    "\n",
    "### For every given variable x we standardize it as: $\\frac{(x-\\mu)}{\\sigma}$ , where $\\mu$ is the mean and $\\sigma$ is standard deviation"
   ]
  },
  {
   "cell_type": "code",
   "execution_count": 9,
   "metadata": {
    "colab": {
     "base_uri": "https://localhost:8080/",
     "height": 1000
    },
    "colab_type": "code",
    "id": "F9ozGyPoYlMU",
    "outputId": "89098de9-18b4-4100-c596-bbd9660ea4fa"
   },
   "outputs": [
    {
     "data": {
      "text/plain": [
       "array([[-7.27982861e-02, -1.17287393e+00, -1.27881335e+00,\n",
       "        -3.89339302e-01, -4.77981855e-02],\n",
       "       [ 7.41408187e-02, -1.36101741e+00, -1.40935162e+00,\n",
       "        -4.04912365e-01,  7.45146368e-01],\n",
       "       [ 9.47311099e-02, -1.79490152e+00, -2.37374474e+00,\n",
       "        -6.24443626e-01,  1.23294247e+00],\n",
       "       [-3.55430516e-01,  8.45902387e-01, -7.41501711e-02,\n",
       "        -1.76868115e-01, -2.48220436e-01],\n",
       "       [ 1.14132132e-01, -1.45012760e+00, -1.56399008e+00,\n",
       "         5.34329310e-01, -2.80069157e-01],\n",
       "       [ 9.88156383e-02, -6.02097735e-01,  3.70162672e-01,\n",
       "         8.13292052e-01, -3.57911063e-01],\n",
       "       [-2.45178603e-01,  1.22450834e+00,  1.30323958e+00,\n",
       "        -6.64768253e-01,  2.88726098e+00],\n",
       "       [-2.56152222e-01,  2.18337994e-01,  8.40388541e-03,\n",
       "        -1.62241325e-01, -5.25053041e-01],\n",
       "       [-1.62876001e-01, -1.37369094e+00, -1.75172037e+00,\n",
       "         1.54253441e-01,  9.64870405e-01],\n",
       "       [-3.13489651e-01,  1.61909551e+00,  1.04979658e+00,\n",
       "        -5.35841175e-01,  1.76181348e+00],\n",
       "       [ 6.75780392e+00, -1.56210407e+00,  3.04118933e+00,\n",
       "         2.85441128e+00, -2.03676934e+00],\n",
       "       [-2.41898938e-01,  8.27530264e-01,  8.46871088e-01,\n",
       "        -4.91964847e-01,  2.90551964e+00],\n",
       "       [ 3.08272146e-02, -5.18560304e-01,  2.89241372e-01,\n",
       "         5.62466196e-01, -3.50254067e-01],\n",
       "       [-3.04485728e-01,  9.00317667e-01,  4.05376993e-01,\n",
       "        -4.11750025e-01, -4.70796642e-01],\n",
       "       [ 5.73252303e-01, -1.06084353e+00,  4.10945486e-01,\n",
       "         1.49899672e+00, -9.75066182e-02],\n",
       "       [-3.41589361e-01,  1.39798288e+00,  5.45687129e-01,\n",
       "        -3.39824621e-01,  1.80569653e+00],\n",
       "       [-2.92753808e-01,  1.03089996e+00,  6.44363267e-01,\n",
       "        -1.15542932e-01,  2.42708783e-01],\n",
       "       [-3.77217825e-01,  1.37801084e+00,  1.71652737e-01,\n",
       "        -8.17393853e-02, -5.74749026e-01],\n",
       "       [-3.39695604e-01,  6.10444398e-01, -1.60074844e-01,\n",
       "        -7.78618618e-02, -1.28828724e+00],\n",
       "       [-2.94109600e-01,  5.36722210e-01,  1.06590608e-01,\n",
       "        -4.63838360e-01, -8.05427531e-01],\n",
       "       [-1.58964738e-01,  2.76672181e-01,  7.11044444e-01,\n",
       "        -4.58438018e-01, -2.58912479e-01],\n",
       "       [-2.86217136e-01,  4.94297347e-01,  1.18328664e-01,\n",
       "        -1.09912667e-01, -5.01134367e-01],\n",
       "       [-2.69652708e-01,  4.22840215e-01,  1.56139493e-01,\n",
       "        -4.18563420e-01, -2.09203679e-02],\n",
       "       [ 4.78786942e-01, -6.60395968e-01,  1.59274306e+00,\n",
       "         4.79254842e-01, -2.30472658e-01],\n",
       "       [-3.44523909e-01,  7.34878678e-01, -8.39866195e-02,\n",
       "        -3.54228420e-01, -2.22151553e-01],\n",
       "       [-1.91145576e-01,  3.21056497e-01,  5.62824752e-01,\n",
       "         6.73014793e-02, -3.60065725e-01],\n",
       "       [ 1.89239383e-01, -1.40610282e+00, -1.36869569e+00,\n",
       "         2.14417457e+00, -8.88695498e-02],\n",
       "       [ 9.63618578e-02, -4.42015784e-01,  7.27981304e-01,\n",
       "        -2.11430183e-01, -5.30275744e-01],\n",
       "       [-1.13289286e-01, -4.35816045e-02,  4.85912000e-01,\n",
       "        -1.76511674e-01, -7.99223541e-01],\n",
       "       [-3.79007265e-01,  1.75395624e+00,  4.53277584e-01,\n",
       "        -4.41836071e-01,  4.36097463e-01],\n",
       "       [-4.11525502e-02, -5.57839255e-01, -7.29428543e-02,\n",
       "        -3.79162536e-01, -5.13128114e-01],\n",
       "       [-3.79092162e-01,  2.15524871e+00,  7.71889799e-01,\n",
       "        -6.59291655e-01,  2.75212611e+00],\n",
       "       [ 4.47390456e-02, -4.54743243e-01,  4.81071765e-01,\n",
       "        -2.36465975e-01, -4.96141603e-01],\n",
       "       [-2.50071821e-01,  4.10058827e-01,  2.77436294e-01,\n",
       "        -2.69026889e-01, -5.18050743e-01],\n",
       "       [-3.13493832e-01,  6.10354514e-01,  3.81843666e-02,\n",
       "        -3.66817084e-01, -7.81707928e-01],\n",
       "       [-3.16618322e-01, -1.10798451e-02, -6.02521266e-01,\n",
       "        -4.24138227e-01,  2.82311050e-01],\n",
       "       [-2.72692232e-01,  2.33150743e-01, -7.96461587e-02,\n",
       "        -4.23901947e-01, -2.30031807e-01],\n",
       "       [ 3.43841900e-01, -1.73221699e+00, -2.18118563e+00,\n",
       "         5.10699824e+00, -1.17785488e+00],\n",
       "       [-3.34164721e-01,  2.28530748e-01, -4.76335639e-01,\n",
       "        -1.00855484e-01, -7.60097142e-01],\n",
       "       [-2.79847076e-01,  7.19310910e-01,  4.13689139e-01,\n",
       "        -5.42121931e-01,  2.58726658e-01],\n",
       "       [-2.43388218e-01,  4.34435146e-01,  3.53639065e-01,\n",
       "        -4.59092553e-01, -5.56956616e-01],\n",
       "       [-1.45197993e-01, -1.49007169e+00, -1.90664352e+00,\n",
       "        -4.25570346e-01,  1.86328286e-01],\n",
       "       [-3.21472193e-01,  9.21008776e-01,  2.81509883e-01,\n",
       "        -5.76320047e-01, -8.12818799e-02],\n",
       "       [-3.39538820e-02, -5.83473939e-01, -9.32026539e-02,\n",
       "        -5.59552878e-01,  7.33009416e-01],\n",
       "       [-2.43265794e-01, -7.94124170e-01, -1.14902557e+00,\n",
       "        -4.32903671e-01, -1.76521595e-01],\n",
       "       [-8.39010986e-02, -1.11698457e+00, -1.20410639e+00,\n",
       "        -3.06378093e-01, -2.21498980e-01],\n",
       "       [ 6.48011835e-02, -4.32290423e-01,  6.14913633e-01,\n",
       "        -2.67023425e-01, -1.11360014e-01],\n",
       "       [-2.41763830e-01,  6.75663636e-01,  6.61391065e-01,\n",
       "        -6.75332078e-01, -3.91900683e-01],\n",
       "       [-1.20920965e-01, -3.60078273e-01, -6.53598812e-02,\n",
       "         3.33321203e-04, -1.08315732e+00]])"
      ]
     },
     "execution_count": 9,
     "metadata": {
      "tags": []
     },
     "output_type": "execute_result"
    }
   ],
   "source": [
    "from sklearn.preprocessing import StandardScaler #for standardization\n",
    "\n",
    "X = df_ct.values[:,1:-1] #we are taking only the 5 statistics\n",
    "cluster_dataset = StandardScaler().fit_transform(X) #creating standard scalar from unscaled data a \n",
    "cluster_dataset"
   ]
  },
  {
   "cell_type": "markdown",
   "metadata": {
    "colab_type": "text",
    "id": "klyfj1tlizgP"
   },
   "source": [
    "## k-means clustering on Census Tract"
   ]
  },
  {
   "cell_type": "code",
   "execution_count": 10,
   "metadata": {
    "colab": {
     "base_uri": "https://localhost:8080/",
     "height": 68
    },
    "colab_type": "code",
    "id": "nieiZdyuYlS3",
    "outputId": "9078fa36-db3c-4a50-84a5-d78958f38b9c"
   },
   "outputs": [
    {
     "data": {
      "text/plain": [
       "array([1, 1, 1, 0, 1, 0, 0, 0, 1, 0, 2, 0, 0, 0, 1, 0, 0, 0, 0, 0, 0, 0,\n",
       "       0, 0, 0, 0, 1, 0, 0, 0, 0, 0, 0, 0, 0, 0, 0, 1, 0, 0, 0, 1, 0, 0,\n",
       "       1, 1, 0, 0, 0], dtype=int32)"
      ]
     },
     "execution_count": 10,
     "metadata": {
      "tags": []
     },
     "output_type": "execute_result"
    }
   ],
   "source": [
    "k_means = KMeans(init = \"k-means++\", n_clusters = 3, n_init = 12)\n",
    "# fit the X value to the model\n",
    "k_means.fit(cluster_dataset)\n",
    "labels = k_means.labels_\n",
    "labels"
   ]
  },
  {
   "cell_type": "code",
   "execution_count": 0,
   "metadata": {
    "colab": {},
    "colab_type": "code",
    "id": "ZONwiQ0kYlYS"
   },
   "outputs": [],
   "source": [
    "new_lab = []\n",
    "for label in labels:\n",
    "    new_lab.append(\"Class \"+str(label))"
   ]
  },
  {
   "cell_type": "code",
   "execution_count": 12,
   "metadata": {
    "colab": {
     "base_uri": "https://localhost:8080/",
     "height": 170
    },
    "colab_type": "code",
    "id": "H_XFHZ0hjCpW",
    "outputId": "da5ddd1b-6040-475b-937d-64b80a4f4c91"
   },
   "outputs": [
    {
     "data": {
      "text/plain": [
       "array(['Class 1', 'Class 1', 'Class 1', 'Class 0', 'Class 1', 'Class 0',\n",
       "       'Class 0', 'Class 0', 'Class 1', 'Class 0', 'Class 2', 'Class 0',\n",
       "       'Class 0', 'Class 0', 'Class 1', 'Class 0', 'Class 0', 'Class 0',\n",
       "       'Class 0', 'Class 0', 'Class 0', 'Class 0', 'Class 0', 'Class 0',\n",
       "       'Class 0', 'Class 0', 'Class 1', 'Class 0', 'Class 0', 'Class 0',\n",
       "       'Class 0', 'Class 0', 'Class 0', 'Class 0', 'Class 0', 'Class 0',\n",
       "       'Class 0', 'Class 1', 'Class 0', 'Class 0', 'Class 0', 'Class 1',\n",
       "       'Class 0', 'Class 0', 'Class 1', 'Class 1', 'Class 0', 'Class 0',\n",
       "       'Class 0'], dtype='<U7')"
      ]
     },
     "execution_count": 12,
     "metadata": {
      "tags": []
     },
     "output_type": "execute_result"
    }
   ],
   "source": [
    "new_lab = np.asarray(new_lab)\n",
    "new_lab"
   ]
  },
  {
   "cell_type": "code",
   "execution_count": 13,
   "metadata": {
    "colab": {
     "base_uri": "https://localhost:8080/",
     "height": 289
    },
    "colab_type": "code",
    "id": "1MPKGn4VjCzO",
    "outputId": "43ad92cd-20f1-41af-eb33-bca5c3b8ed79"
   },
   "outputs": [
    {
     "data": {
      "text/html": [
       "<div>\n",
       "<style scoped>\n",
       "    .dataframe tbody tr th:only-of-type {\n",
       "        vertical-align: middle;\n",
       "    }\n",
       "\n",
       "    .dataframe tbody tr th {\n",
       "        vertical-align: top;\n",
       "    }\n",
       "\n",
       "    .dataframe thead th {\n",
       "        text-align: right;\n",
       "    }\n",
       "</style>\n",
       "<table border=\"1\" class=\"dataframe\">\n",
       "  <thead>\n",
       "    <tr style=\"text-align: right;\">\n",
       "      <th></th>\n",
       "      <th>CTUID</th>\n",
       "      <th>AvgSize</th>\n",
       "      <th>BD</th>\n",
       "      <th>BCR</th>\n",
       "      <th>ProxMean</th>\n",
       "      <th>ContRatio</th>\n",
       "      <th>geometry</th>\n",
       "      <th>Labels</th>\n",
       "    </tr>\n",
       "  </thead>\n",
       "  <tbody>\n",
       "    <tr>\n",
       "      <th>0</th>\n",
       "      <td>7050100.12</td>\n",
       "      <td>207.743248</td>\n",
       "      <td>3.460400e-04</td>\n",
       "      <td>0.071887</td>\n",
       "      <td>2.269360</td>\n",
       "      <td>0.334990</td>\n",
       "      <td>POLYGON ((5313856.75143 1677717.71143, 5313403...</td>\n",
       "      <td>Class 1</td>\n",
       "    </tr>\n",
       "    <tr>\n",
       "      <th>1</th>\n",
       "      <td>7050100.13</td>\n",
       "      <td>262.318343</td>\n",
       "      <td>2.413800e-04</td>\n",
       "      <td>0.063317</td>\n",
       "      <td>2.242403</td>\n",
       "      <td>0.413340</td>\n",
       "      <td>POLYGON ((5313190.09143 1678349.31143, 5313158...</td>\n",
       "      <td>Class 1</td>\n",
       "    </tr>\n",
       "    <tr>\n",
       "      <th>2</th>\n",
       "      <td>7050100.14</td>\n",
       "      <td>269.965845</td>\n",
       "      <td>2.000000e-08</td>\n",
       "      <td>0.000005</td>\n",
       "      <td>1.862394</td>\n",
       "      <td>0.461538</td>\n",
       "      <td>POLYGON ((5317260.705715 1691091.03143, 531730...</td>\n",
       "      <td>Class 1</td>\n",
       "    </tr>\n",
       "    <tr>\n",
       "      <th>3</th>\n",
       "      <td>7050005.00</td>\n",
       "      <td>102.769961</td>\n",
       "      <td>1.469040e-03</td>\n",
       "      <td>0.150973</td>\n",
       "      <td>2.637148</td>\n",
       "      <td>0.315186</td>\n",
       "      <td>POLYGON ((5303740.34 1679038.68, 5303777.06285...</td>\n",
       "      <td>Class 0</td>\n",
       "    </tr>\n",
       "    <tr>\n",
       "      <th>4</th>\n",
       "      <td>7050006.00</td>\n",
       "      <td>277.171637</td>\n",
       "      <td>1.918100e-04</td>\n",
       "      <td>0.053165</td>\n",
       "      <td>3.868232</td>\n",
       "      <td>0.312039</td>\n",
       "      <td>POLYGON ((5305754.04857 1677692.21143, 5305760...</td>\n",
       "      <td>Class 1</td>\n",
       "    </tr>\n",
       "  </tbody>\n",
       "</table>\n",
       "</div>"
      ],
      "text/plain": [
       "        CTUID  ...   Labels\n",
       "0  7050100.12  ...  Class 1\n",
       "1  7050100.13  ...  Class 1\n",
       "2  7050100.14  ...  Class 1\n",
       "3  7050005.00  ...  Class 0\n",
       "4  7050006.00  ...  Class 1\n",
       "\n",
       "[5 rows x 8 columns]"
      ]
     },
     "execution_count": 13,
     "metadata": {
      "tags": []
     },
     "output_type": "execute_result"
    }
   ],
   "source": [
    "df_ct['Labels'] = new_lab\n",
    "df_ct.head()"
   ]
  },
  {
   "cell_type": "code",
   "execution_count": 0,
   "metadata": {
    "colab": {},
    "colab_type": "code",
    "id": "HlVSz0nUjC3N"
   },
   "outputs": [],
   "source": [
    "df_ct['Labels'] = df_ct['Labels'].astype(object)"
   ]
  },
  {
   "cell_type": "code",
   "execution_count": 15,
   "metadata": {
    "colab": {
     "base_uri": "https://localhost:8080/",
     "height": 595
    },
    "colab_type": "code",
    "id": "gXK6ilnDjCxB",
    "outputId": "b44aa1d4-7870-49e5-df81-df8daee51bfb"
   },
   "outputs": [
    {
     "data": {
      "image/png": "[encoded data removed]",
      "text/plain": [
       "<Figure size 1080x720 with 1 Axes>"
      ]
     },
     "metadata": {
      "tags": []
     },
     "output_type": "display_data"
    }
   ],
   "source": [
    "df_ct.plot(figsize= (15,10), column='Labels', legend=True, cmap = 'Accent')\n",
    "plt.savefig('CTclassification.png')"
   ]
  },
  {
   "cell_type": "markdown",
   "metadata": {
    "colab_type": "text",
    "id": "C26sVSLUSDAl"
   },
   "source": [
    "# Interpretation of Classes"
   ]
  },
  {
   "cell_type": "code",
   "execution_count": 0,
   "metadata": {
    "colab": {},
    "colab_type": "code",
    "id": "xqGyY25ZW7pp"
   },
   "outputs": [],
   "source": [
    "CT_cluster0 = df_ct[df_ct.Labels==\"Class 0\"]\n",
    "CT_cluster1 = df_ct[df_ct.Labels==\"Class 1\"]\n",
    "CT_cluster2 = df_ct[df_ct.Labels==\"Class 2\"]"
   ]
  },
  {
   "cell_type": "markdown",
   "metadata": {
    "colab_type": "text",
    "id": "qvSDHyYNY27f"
   },
   "source": [
    "#BCR"
   ]
  },
  {
   "cell_type": "code",
   "execution_count": 17,
   "metadata": {
    "colab": {
     "base_uri": "https://localhost:8080/",
     "height": 408
    },
    "colab_type": "code",
    "id": "G32zjlyYXGya",
    "outputId": "b865fcd7-0dbb-423f-8443-638a7b730865"
   },
   "outputs": [
    {
     "name": "stdout",
     "output_type": "stream",
     "text": [
      "For Class 0\n",
      "min    0.116286\n",
      "25%    0.156393\n",
      "50%    0.179057\n",
      "75%    0.196210\n",
      "max    0.260404\n",
      "Name: BCR, dtype: float64\n",
      "----------------------------\n",
      "For Class 1\n",
      "min    0.000005\n",
      "25%    0.035756\n",
      "50%    0.063317\n",
      "75%    0.074339\n",
      "max    0.182819\n",
      "Name: BCR, dtype: float64\n",
      "----------------------------\n",
      "For Class 2\n",
      "min    0.355494\n",
      "25%    0.355494\n",
      "50%    0.355494\n",
      "75%    0.355494\n",
      "max    0.355494\n",
      "Name: BCR, dtype: float64\n"
     ]
    }
   ],
   "source": [
    "data0 = CT_cluster0.describe()[\"BCR\"]\n",
    "data0 = data0.drop(labels=['count','mean','std'])\n",
    "print(\"For Class 0\")\n",
    "print(data0)\n",
    "print(\"----------------------------\")\n",
    "data1 = CT_cluster1.describe()[\"BCR\"]\n",
    "data1 = data1.drop(labels=['count','mean','std'])\n",
    "print(\"For Class 1\")\n",
    "print(data1)\n",
    "print(\"----------------------------\")\n",
    "data2 = CT_cluster2.describe()[\"BCR\"]\n",
    "data2 = data2.drop(labels=['count','mean','std'])\n",
    "print(\"For Class 2\")\n",
    "print(data2)"
   ]
  },
  {
   "cell_type": "code",
   "execution_count": 19,
   "metadata": {
    "colab": {
     "base_uri": "https://localhost:8080/",
     "height": 603
    },
    "colab_type": "code",
    "id": "1NlloGB6XGvf",
    "outputId": "266d4963-72b7-4b5f-9515-bf831045143c"
   },
   "outputs": [
    {
     "data": {
      "image/png": "[encoded data removed]",
      "text/plain": [
       "<Figure size 648x648 with 1 Axes>"
      ]
     },
     "metadata": {
      "tags": []
     },
     "output_type": "display_data"
    }
   ],
   "source": [
    "data = [data0,data1,data2]\n",
    "# Create a figure instance\n",
    "fig = plt.figure(1, figsize=(9, 9))\n",
    "\n",
    "# Create an axes instance\n",
    "ax = fig.add_subplot(111)\n",
    "\n",
    "# Create the boxplot\n",
    "bp = ax.boxplot(data,patch_artist=True)\n",
    "\n",
    "#formatting options in matplotlib\n",
    "for box in bp['boxes']:\n",
    "    # change outline color\n",
    "    box.set( color='#7570b3', linewidth=2)\n",
    "    # change fill color\n",
    "    box.set( facecolor = '#1b9e77' )\n",
    "    \n",
    "for whisker in bp['whiskers']:\n",
    "    whisker.set(color='#7570b3', linewidth=2)\n",
    "\n",
    "for cap in bp['caps']:\n",
    "    cap.set(color='#7570b3', linewidth=2)\n",
    "    \n",
    "for median in bp['medians']:\n",
    "    median.set(color='#b2df8a', linewidth=5)\n",
    "\n",
    "for flier in bp['fliers']:\n",
    "    flier.set(marker='o', color='#e7298a', alpha=0.5)\n",
    "\n",
    "    \n",
    "ax.set_title('BCR Boxplots')\n",
    "ax.set_xticklabels(['Class0', 'Class1', 'Class2'], rotation=45, fontsize=20)\n",
    "ax.set_ylim(0,0.4)\n",
    "\n",
    "# Save the figure\n",
    "fig.savefig('BCRforCT.png', bbox_inches='tight')\n"
   ]
  },
  {
   "cell_type": "markdown",
   "metadata": {
    "colab_type": "text",
    "id": "c9cM-NRENtAF"
   },
   "source": [
    "# BD"
   ]
  },
  {
   "cell_type": "code",
   "execution_count": 20,
   "metadata": {
    "colab": {
     "base_uri": "https://localhost:8080/",
     "height": 408
    },
    "colab_type": "code",
    "id": "kjlmbbb4Ydp7",
    "outputId": "605bbbad-64ed-4ccb-d00b-e6e9e3869f2b"
   },
   "outputs": [
    {
     "name": "stdout",
     "output_type": "stream",
     "text": [
      "For Class 0\n",
      "min    0.000631\n",
      "25%    0.000974\n",
      "50%    0.001240\n",
      "75%    0.001469\n",
      "max    0.002197\n",
      "Name: BD, dtype: float64\n",
      "----------------------------\n",
      "For Class 1\n",
      "min    2.000000e-08\n",
      "25%    1.807000e-04\n",
      "50%    2.343300e-04\n",
      "75%    3.615850e-04\n",
      "max    5.567300e-04\n",
      "Name: BD, dtype: float64\n",
      "----------------------------\n",
      "For Class 2\n",
      "min    0.00013\n",
      "25%    0.00013\n",
      "50%    0.00013\n",
      "75%    0.00013\n",
      "max    0.00013\n",
      "Name: BD, dtype: float64\n"
     ]
    }
   ],
   "source": [
    "data0 = CT_cluster0.describe()[\"BD\"]\n",
    "data0 = data0.drop(labels=['count','mean','std'])\n",
    "print(\"For Class 0\")\n",
    "print(data0)\n",
    "print(\"----------------------------\")\n",
    "data1 = CT_cluster1.describe()[\"BD\"]\n",
    "data1 = data1.drop(labels=['count','mean','std'])\n",
    "print(\"For Class 1\")\n",
    "print(data1)\n",
    "print(\"----------------------------\")\n",
    "data2 = CT_cluster2.describe()[\"BD\"]\n",
    "data2 = data2.drop(labels=['count','mean','std'])\n",
    "print(\"For Class 2\")\n",
    "print(data2)"
   ]
  },
  {
   "cell_type": "code",
   "execution_count": 21,
   "metadata": {
    "colab": {
     "base_uri": "https://localhost:8080/",
     "height": 603
    },
    "colab_type": "code",
    "id": "rxE1bTBkYdmY",
    "outputId": "4b49c07b-8a20-4f90-a452-7451e5319c99"
   },
   "outputs": [
    {
     "data": {
      "image/png": "[encoded data removed]",
      "text/plain": [
       "<Figure size 648x648 with 1 Axes>"
      ]
     },
     "metadata": {
      "tags": []
     },
     "output_type": "display_data"
    }
   ],
   "source": [
    "data = [data0,data1,data2]\n",
    "# Create a figure instance\n",
    "fig = plt.figure(1, figsize=(9, 9))\n",
    "\n",
    "# Create an axes instance\n",
    "ax = fig.add_subplot(111)\n",
    "\n",
    "# Create the boxplot\n",
    "bp = ax.boxplot(data,patch_artist=True)\n",
    "\n",
    "#formatting options in matplotlib\n",
    "for box in bp['boxes']:\n",
    "    # change outline color\n",
    "    box.set( color='#7570b3', linewidth=2)\n",
    "    # change fill color\n",
    "    box.set( facecolor = '#1b9e77' )\n",
    "    \n",
    "for whisker in bp['whiskers']:\n",
    "    whisker.set(color='#7570b3', linewidth=2)\n",
    "\n",
    "for cap in bp['caps']:\n",
    "    cap.set(color='#7570b3', linewidth=2)\n",
    "    \n",
    "for median in bp['medians']:\n",
    "    median.set(color='#b2df8a', linewidth=5)\n",
    "\n",
    "for flier in bp['fliers']:\n",
    "    flier.set(marker='o', color='#e7298a', alpha=0.5)\n",
    "\n",
    "    \n",
    "ax.set_title('Building Density Boxplots')\n",
    "ax.set_xticklabels(['Class0', 'Class1', 'Class2'], rotation=45, fontsize=20)\n",
    "ax.set_ylim(0,0.0025)\n",
    "\n",
    "# Save the figure\n",
    "fig.savefig('BuildingDensityforCT.png', bbox_inches='tight')\n"
   ]
  },
  {
   "cell_type": "markdown",
   "metadata": {
    "colab_type": "text",
    "id": "meHmlKRXP8kw"
   },
   "source": [
    "# Mean Proximity"
   ]
  },
  {
   "cell_type": "code",
   "execution_count": 22,
   "metadata": {
    "colab": {
     "base_uri": "https://localhost:8080/",
     "height": 408
    },
    "colab_type": "code",
    "id": "KQvXcQEFYdjl",
    "outputId": "34babdcb-2501-439a-cb35-26e7d9e02478"
   },
   "outputs": [
    {
     "name": "stdout",
     "output_type": "stream",
     "text": [
      "For Class 0\n",
      "min    1.774306\n",
      "25%    2.148617\n",
      "50%    2.330137\n",
      "75%    2.743302\n",
      "max    4.351117\n",
      "Name: ProxMean, dtype: float64\n",
      "----------------------------\n",
      "For Class 1\n",
      "min     1.862394\n",
      "25%     2.224524\n",
      "50%     2.412966\n",
      "75%     4.703152\n",
      "max    11.783530\n",
      "Name: ProxMean, dtype: float64\n",
      "----------------------------\n",
      "For Class 2\n",
      "min    7.884298\n",
      "25%    7.884298\n",
      "50%    7.884298\n",
      "75%    7.884298\n",
      "max    7.884298\n",
      "Name: ProxMean, dtype: float64\n"
     ]
    }
   ],
   "source": [
    "data0 = CT_cluster0.describe()[\"ProxMean\"]\n",
    "data0 = data0.drop(labels=['count','mean','std'])\n",
    "print(\"For Class 0\")\n",
    "print(data0)\n",
    "print(\"----------------------------\")\n",
    "data1 = CT_cluster1.describe()[\"ProxMean\"]\n",
    "data1 = data1.drop(labels=['count','mean','std'])\n",
    "print(\"For Class 1\")\n",
    "print(data1)\n",
    "print(\"----------------------------\")\n",
    "data2 = CT_cluster2.describe()[\"ProxMean\"]\n",
    "data2 = data2.drop(labels=['count','mean','std'])\n",
    "print(\"For Class 2\")\n",
    "print(data2)"
   ]
  },
  {
   "cell_type": "code",
   "execution_count": 25,
   "metadata": {
    "colab": {
     "base_uri": "https://localhost:8080/",
     "height": 603
    },
    "colab_type": "code",
    "id": "1VldsK5NYdg5",
    "outputId": "5ecaa87d-2691-44e2-e1f7-829f315959ea"
   },
   "outputs": [
    {
     "data": {
      "image/png": "[encoded data removed]",
      "text/plain": [
       "<Figure size 648x648 with 1 Axes>"
      ]
     },
     "metadata": {
      "tags": []
     },
     "output_type": "display_data"
    }
   ],
   "source": [
    "data = [data0,data1,data2]\n",
    "# Create a figure instance\n",
    "fig = plt.figure(1, figsize=(9, 9))\n",
    "\n",
    "# Create an axes instance\n",
    "ax = fig.add_subplot(111)\n",
    "\n",
    "# Create the boxplot\n",
    "bp = ax.boxplot(data,patch_artist=True)\n",
    "\n",
    "#formatting options in matplotlib\n",
    "for box in bp['boxes']:\n",
    "    # change outline color\n",
    "    box.set( color='#7570b3', linewidth=2)\n",
    "    # change fill color\n",
    "    box.set( facecolor = '#1b9e77' )\n",
    "    \n",
    "for whisker in bp['whiskers']:\n",
    "    whisker.set(color='#7570b3', linewidth=2)\n",
    "\n",
    "for cap in bp['caps']:\n",
    "    cap.set(color='#7570b3', linewidth=2)\n",
    "    \n",
    "for median in bp['medians']:\n",
    "    median.set(color='#b2df8a', linewidth=5)\n",
    "\n",
    "for flier in bp['fliers']:\n",
    "    flier.set(marker='o', color='#e7298a', alpha=0.5)\n",
    "\n",
    "    \n",
    "ax.set_title('Mean Proximity Boxplots')\n",
    "ax.set_xticklabels(['Class0', 'Class1', 'Class2'], rotation=45, fontsize=20)\n",
    "ax.set_ylim(0,14)\n",
    "\n",
    "# Save the figure\n",
    "fig.savefig('MeanProximityforCT.png', bbox_inches='tight')\n"
   ]
  },
  {
   "cell_type": "markdown",
   "metadata": {
    "colab_type": "text",
    "id": "w-P3UrjGQeU9"
   },
   "source": [
    "# Average Size"
   ]
  },
  {
   "cell_type": "code",
   "execution_count": 26,
   "metadata": {
    "colab": {
     "base_uri": "https://localhost:8080/",
     "height": 408
    },
    "colab_type": "code",
    "id": "UJFj4-rEQdsQ",
    "outputId": "6957cffb-deb6-4f25-e2b4-ef7cb8f3b211"
   },
   "outputs": [
    {
     "name": "stdout",
     "output_type": "stream",
     "text": [
      "For Class 0\n",
      "min     93.981718\n",
      "25%    117.185315\n",
      "50%    134.628955\n",
      "75%    189.869859\n",
      "max    412.609177\n",
      "Name: AvgSize, dtype: float64\n",
      "----------------------------\n",
      "For Class 1\n",
      "min    144.429398\n",
      "25%    192.236287\n",
      "50%    262.318343\n",
      "75%    291.119542\n",
      "max    447.694841\n",
      "Name: AvgSize, dtype: float64\n",
      "----------------------------\n",
      "For Class 2\n",
      "min    2744.717766\n",
      "25%    2744.717766\n",
      "50%    2744.717766\n",
      "75%    2744.717766\n",
      "max    2744.717766\n",
      "Name: AvgSize, dtype: float64\n"
     ]
    }
   ],
   "source": [
    "data0 = CT_cluster0.describe()[\"AvgSize\"]\n",
    "data0 = data0.drop(labels=['count','mean','std'])\n",
    "print(\"For Class 0\")\n",
    "print(data0)\n",
    "print(\"----------------------------\")\n",
    "data1 = CT_cluster1.describe()[\"AvgSize\"]\n",
    "data1 = data1.drop(labels=['count','mean','std'])\n",
    "print(\"For Class 1\")\n",
    "print(data1)\n",
    "print(\"----------------------------\")\n",
    "data2 = CT_cluster2.describe()[\"AvgSize\"]\n",
    "data2 = data2.drop(labels=['count','mean','std'])\n",
    "print(\"For Class 2\")\n",
    "print(data2)"
   ]
  },
  {
   "cell_type": "code",
   "execution_count": 27,
   "metadata": {
    "colab": {
     "base_uri": "https://localhost:8080/",
     "height": 603
    },
    "colab_type": "code",
    "id": "174hId7uQdzi",
    "outputId": "f6fd21ce-c47b-429a-ab2e-7bd4fed6ddc9"
   },
   "outputs": [
    {
     "data": {
      "image/png": "[encoded data removed]",
      "text/plain": [
       "<Figure size 648x648 with 1 Axes>"
      ]
     },
     "metadata": {
      "tags": []
     },
     "output_type": "display_data"
    }
   ],
   "source": [
    "data = [data0,data1,data2]\n",
    "# Create a figure instance\n",
    "fig = plt.figure(1, figsize=(9, 9))\n",
    "\n",
    "# Create an axes instance\n",
    "ax = fig.add_subplot(111)\n",
    "\n",
    "# Create the boxplot\n",
    "bp = ax.boxplot(data,patch_artist=True)\n",
    "\n",
    "#formatting options in matplotlib\n",
    "for box in bp['boxes']:\n",
    "    # change outline color\n",
    "    box.set( color='#7570b3', linewidth=2)\n",
    "    # change fill color\n",
    "    box.set( facecolor = '#1b9e77' )\n",
    "    \n",
    "for whisker in bp['whiskers']:\n",
    "    whisker.set(color='#7570b3', linewidth=2)\n",
    "\n",
    "for cap in bp['caps']:\n",
    "    cap.set(color='#7570b3', linewidth=2)\n",
    "    \n",
    "for median in bp['medians']:\n",
    "    median.set(color='#b2df8a', linewidth=5)\n",
    "\n",
    "for flier in bp['fliers']:\n",
    "    flier.set(marker='o', color='#e7298a', alpha=0.5)\n",
    "\n",
    "    \n",
    "ax.set_title('Average Size Boxplots')\n",
    "ax.set_xticklabels(['Class0', 'Class1', 'Class2'], rotation=45, fontsize=20)\n",
    "ax.set_ylim(50,2800)\n",
    "\n",
    "# Save the figure\n",
    "fig.savefig('AvgsizeforCT.png', bbox_inches='tight')\n"
   ]
  },
  {
   "cell_type": "markdown",
   "metadata": {
    "colab_type": "text",
    "id": "3mb87GTdRDJF"
   },
   "source": [
    "# Contiguity Ratio"
   ]
  },
  {
   "cell_type": "code",
   "execution_count": 28,
   "metadata": {
    "colab": {
     "base_uri": "https://localhost:8080/",
     "height": 408
    },
    "colab_type": "code",
    "id": "iVUQUlU0QdxK",
    "outputId": "3fdd9fca-5e83-4189-eda2-1ce7d23b9abf"
   },
   "outputs": [
    {
     "name": "stdout",
     "output_type": "stream",
     "text": [
      "For Class 0\n",
      "min    0.212418\n",
      "25%    0.287833\n",
      "50%    0.305104\n",
      "75%    0.363694\n",
      "max    0.626804\n",
      "Name: ContRatio, dtype: float64\n",
      "----------------------------\n",
      "For Class 1\n",
      "min    0.223330\n",
      "25%    0.320049\n",
      "50%    0.330932\n",
      "75%    0.385732\n",
      "max    0.461538\n",
      "Name: ContRatio, dtype: float64\n",
      "----------------------------\n",
      "For Class 2\n",
      "min    0.138462\n",
      "25%    0.138462\n",
      "50%    0.138462\n",
      "75%    0.138462\n",
      "max    0.138462\n",
      "Name: ContRatio, dtype: float64\n"
     ]
    }
   ],
   "source": [
    "data0 = CT_cluster0.describe()[\"ContRatio\"]\n",
    "data0 = data0.drop(labels=['count','mean','std'])\n",
    "print(\"For Class 0\")\n",
    "print(data0)\n",
    "print(\"----------------------------\")\n",
    "data1 = CT_cluster1.describe()[\"ContRatio\"]\n",
    "data1 = data1.drop(labels=['count','mean','std'])\n",
    "print(\"For Class 1\")\n",
    "print(data1)\n",
    "print(\"----------------------------\")\n",
    "data2 = CT_cluster2.describe()[\"ContRatio\"]\n",
    "data2 = data2.drop(labels=['count','mean','std'])\n",
    "print(\"For Class 2\")\n",
    "print(data2)"
   ]
  },
  {
   "cell_type": "code",
   "execution_count": 30,
   "metadata": {
    "colab": {
     "base_uri": "https://localhost:8080/",
     "height": 603
    },
    "colab_type": "code",
    "id": "SrEHdCe8YdeQ",
    "outputId": "9bd44b6a-e1c5-4fb3-b34d-075aaaa6aa2b"
   },
   "outputs": [
    {
     "data": {
      "image/png": "[encoded data removed]",
      "text/plain": [
       "<Figure size 648x648 with 1 Axes>"
      ]
     },
     "metadata": {
      "tags": []
     },
     "output_type": "display_data"
    }
   ],
   "source": [
    "data = [data0,data1,data2]\n",
    "# Create a figure instance\n",
    "fig = plt.figure(1, figsize=(9, 9))\n",
    "\n",
    "# Create an axes instance\n",
    "ax = fig.add_subplot(111)\n",
    "\n",
    "# Create the boxplot\n",
    "bp = ax.boxplot(data,patch_artist=True)\n",
    "\n",
    "#formatting options in matplotlib\n",
    "for box in bp['boxes']:\n",
    "    # change outline color\n",
    "    box.set( color='#7570b3', linewidth=2)\n",
    "    # change fill color\n",
    "    box.set( facecolor = '#1b9e77' )\n",
    "    \n",
    "for whisker in bp['whiskers']:\n",
    "    whisker.set(color='#7570b3', linewidth=2)\n",
    "\n",
    "for cap in bp['caps']:\n",
    "    cap.set(color='#7570b3', linewidth=2)\n",
    "    \n",
    "for median in bp['medians']:\n",
    "    median.set(color='#b2df8a', linewidth=5)\n",
    "\n",
    "for flier in bp['fliers']:\n",
    "    flier.set(marker='o', color='#e7298a', alpha=0.5)\n",
    "\n",
    "    \n",
    "ax.set_title('Contiguity Ratio Boxplots')\n",
    "ax.set_xticklabels(['Class0', 'Class1', 'Class2'], rotation=45, fontsize=20)\n",
    "ax.set_ylim(0,0.8)\n",
    "\n",
    "# Save the figure\n",
    "fig.savefig('ContiguityRatioforCT.png', bbox_inches='tight')\n"
   ]
  },
  {
   "cell_type": "markdown",
   "metadata": {
    "colab_type": "text",
    "id": "YVPd46MtxvNi"
   },
   "source": [
    "## Cluster 0\n",
    "- BCR : Medium\n",
    "- BD : High\n",
    "- Mean Proximity : Low\n",
    "- Average Size : Low\n",
    "- Contiguity Ratio : Medium"
   ]
  },
  {
   "cell_type": "markdown",
   "metadata": {
    "colab_type": "text",
    "id": "0_uPOrHuxxnN"
   },
   "source": [
    "## Cluster 1\n",
    "- BCR : Low\n",
    "- BD : Medium\n",
    "- Mean Proximity : Medium\n",
    "- Average Size : Medium\n",
    "- Contiguity Ratio : High"
   ]
  },
  {
   "cell_type": "markdown",
   "metadata": {
    "colab_type": "text",
    "id": "_9NbK9qOxwR6"
   },
   "source": [
    "## Cluster 2\n",
    "- BCR : High\n",
    "- BD : Low\n",
    "- Mean Proximity : High\n",
    "- Average Size : High\n",
    "- Contiguity Ratio : Low"
   ]
  },
  {
   "cell_type": "markdown",
   "metadata": {
    "colab_type": "text",
    "id": "VpEyv0BSmcLj"
   },
   "source": [
    "# 2. Dissemination Block"
   ]
  },
  {
   "cell_type": "code",
   "execution_count": 31,
   "metadata": {
    "colab": {
     "base_uri": "https://localhost:8080/",
     "height": 513
    },
    "colab_type": "code",
    "id": "jVUh-3pykY0l",
    "outputId": "9c6d0711-9376-4c17-844a-b6050ef782d2"
   },
   "outputs": [
    {
     "data": {
      "text/html": [
       "<div>\n",
       "<style scoped>\n",
       "    .dataframe tbody tr th:only-of-type {\n",
       "        vertical-align: middle;\n",
       "    }\n",
       "\n",
       "    .dataframe tbody tr th {\n",
       "        vertical-align: top;\n",
       "    }\n",
       "\n",
       "    .dataframe thead th {\n",
       "        text-align: right;\n",
       "    }\n",
       "</style>\n",
       "<table border=\"1\" class=\"dataframe\">\n",
       "  <thead>\n",
       "    <tr style=\"text-align: right;\">\n",
       "      <th></th>\n",
       "      <th>DBUID</th>\n",
       "      <th>PRNAME</th>\n",
       "      <th>CMANAME</th>\n",
       "      <th>CMATYPE</th>\n",
       "      <th>area</th>\n",
       "      <th>AvgSize</th>\n",
       "      <th>BldgCount</th>\n",
       "      <th>BD</th>\n",
       "      <th>BldgArea</th>\n",
       "      <th>BCR</th>\n",
       "      <th>ProxMean</th>\n",
       "      <th>ContCount</th>\n",
       "      <th>ContRatio</th>\n",
       "      <th>geometry</th>\n",
       "    </tr>\n",
       "  </thead>\n",
       "  <tbody>\n",
       "    <tr>\n",
       "      <th>0</th>\n",
       "      <td>47060240002</td>\n",
       "      <td>Saskatchewan</td>\n",
       "      <td>Regina</td>\n",
       "      <td>B</td>\n",
       "      <td>24139.041016</td>\n",
       "      <td>159.403587</td>\n",
       "      <td>33</td>\n",
       "      <td>0.001367</td>\n",
       "      <td>5260.318370</td>\n",
       "      <td>0.217917</td>\n",
       "      <td>1.761887</td>\n",
       "      <td>10.0</td>\n",
       "      <td>0.303030</td>\n",
       "      <td>POLYGON ((5310555.5 1677478.5, 5310619.5 16774...</td>\n",
       "    </tr>\n",
       "    <tr>\n",
       "      <th>1</th>\n",
       "      <td>47060240003</td>\n",
       "      <td>Saskatchewan</td>\n",
       "      <td>Regina</td>\n",
       "      <td>B</td>\n",
       "      <td>18579.753906</td>\n",
       "      <td>193.716986</td>\n",
       "      <td>14</td>\n",
       "      <td>0.000754</td>\n",
       "      <td>2712.037802</td>\n",
       "      <td>0.145967</td>\n",
       "      <td>1.194216</td>\n",
       "      <td>2.0</td>\n",
       "      <td>0.142857</td>\n",
       "      <td>POLYGON ((5310597.5 1677715.5, 5310833 1677671...</td>\n",
       "    </tr>\n",
       "    <tr>\n",
       "      <th>2</th>\n",
       "      <td>47060241002</td>\n",
       "      <td>Saskatchewan</td>\n",
       "      <td>Regina</td>\n",
       "      <td>B</td>\n",
       "      <td>12597.505859</td>\n",
       "      <td>183.151856</td>\n",
       "      <td>17</td>\n",
       "      <td>0.001349</td>\n",
       "      <td>3113.581559</td>\n",
       "      <td>0.247159</td>\n",
       "      <td>1.180730</td>\n",
       "      <td>4.0</td>\n",
       "      <td>0.235294</td>\n",
       "      <td>POLYGON ((5309899 1677747.625715, 5309992 1677...</td>\n",
       "    </tr>\n",
       "    <tr>\n",
       "      <th>3</th>\n",
       "      <td>47060241003</td>\n",
       "      <td>Saskatchewan</td>\n",
       "      <td>Regina</td>\n",
       "      <td>B</td>\n",
       "      <td>6476.752930</td>\n",
       "      <td>204.489614</td>\n",
       "      <td>5</td>\n",
       "      <td>0.000772</td>\n",
       "      <td>1022.448069</td>\n",
       "      <td>0.157864</td>\n",
       "      <td>1.062728</td>\n",
       "      <td>2.0</td>\n",
       "      <td>0.400000</td>\n",
       "      <td>POLYGON ((5309923 1677656.75143, 5310007 16776...</td>\n",
       "    </tr>\n",
       "    <tr>\n",
       "      <th>4</th>\n",
       "      <td>47060241005</td>\n",
       "      <td>Saskatchewan</td>\n",
       "      <td>Regina</td>\n",
       "      <td>B</td>\n",
       "      <td>8103.671875</td>\n",
       "      <td>108.502947</td>\n",
       "      <td>12</td>\n",
       "      <td>0.001481</td>\n",
       "      <td>1302.035365</td>\n",
       "      <td>0.160672</td>\n",
       "      <td>1.567139</td>\n",
       "      <td>NaN</td>\n",
       "      <td>NaN</td>\n",
       "      <td>POLYGON ((5310024.817145 1677330.957145, 53100...</td>\n",
       "    </tr>\n",
       "  </tbody>\n",
       "</table>\n",
       "</div>"
      ],
      "text/plain": [
       "         DBUID  ...                                           geometry\n",
       "0  47060240002  ...  POLYGON ((5310555.5 1677478.5, 5310619.5 16774...\n",
       "1  47060240003  ...  POLYGON ((5310597.5 1677715.5, 5310833 1677671...\n",
       "2  47060241002  ...  POLYGON ((5309899 1677747.625715, 5309992 1677...\n",
       "3  47060241003  ...  POLYGON ((5309923 1677656.75143, 5310007 16776...\n",
       "4  47060241005  ...  POLYGON ((5310024.817145 1677330.957145, 53100...\n",
       "\n",
       "[5 rows x 14 columns]"
      ]
     },
     "execution_count": 31,
     "metadata": {
      "tags": []
     },
     "output_type": "execute_result"
    }
   ],
   "source": [
    "dbstats.head()"
   ]
  },
  {
   "cell_type": "code",
   "execution_count": 32,
   "metadata": {
    "colab": {
     "base_uri": "https://localhost:8080/",
     "height": 204
    },
    "colab_type": "code",
    "id": "esqqZyJCmp6w",
    "outputId": "011fc0cf-3131-4a7b-f0ef-1a20557a082c"
   },
   "outputs": [
    {
     "data": {
      "text/html": [
       "<div>\n",
       "<style scoped>\n",
       "    .dataframe tbody tr th:only-of-type {\n",
       "        vertical-align: middle;\n",
       "    }\n",
       "\n",
       "    .dataframe tbody tr th {\n",
       "        vertical-align: top;\n",
       "    }\n",
       "\n",
       "    .dataframe thead th {\n",
       "        text-align: right;\n",
       "    }\n",
       "</style>\n",
       "<table border=\"1\" class=\"dataframe\">\n",
       "  <thead>\n",
       "    <tr style=\"text-align: right;\">\n",
       "      <th></th>\n",
       "      <th>DBUID</th>\n",
       "      <th>AvgSize</th>\n",
       "      <th>BD</th>\n",
       "      <th>BCR</th>\n",
       "      <th>ProxMean</th>\n",
       "      <th>ContRatio</th>\n",
       "      <th>geometry</th>\n",
       "    </tr>\n",
       "  </thead>\n",
       "  <tbody>\n",
       "    <tr>\n",
       "      <th>0</th>\n",
       "      <td>47060240002</td>\n",
       "      <td>159.403587</td>\n",
       "      <td>0.001367</td>\n",
       "      <td>0.217917</td>\n",
       "      <td>1.761887</td>\n",
       "      <td>0.303030</td>\n",
       "      <td>POLYGON ((5310555.5 1677478.5, 5310619.5 16774...</td>\n",
       "    </tr>\n",
       "    <tr>\n",
       "      <th>1</th>\n",
       "      <td>47060240003</td>\n",
       "      <td>193.716986</td>\n",
       "      <td>0.000754</td>\n",
       "      <td>0.145967</td>\n",
       "      <td>1.194216</td>\n",
       "      <td>0.142857</td>\n",
       "      <td>POLYGON ((5310597.5 1677715.5, 5310833 1677671...</td>\n",
       "    </tr>\n",
       "    <tr>\n",
       "      <th>2</th>\n",
       "      <td>47060241002</td>\n",
       "      <td>183.151856</td>\n",
       "      <td>0.001349</td>\n",
       "      <td>0.247159</td>\n",
       "      <td>1.180730</td>\n",
       "      <td>0.235294</td>\n",
       "      <td>POLYGON ((5309899 1677747.625715, 5309992 1677...</td>\n",
       "    </tr>\n",
       "    <tr>\n",
       "      <th>3</th>\n",
       "      <td>47060241003</td>\n",
       "      <td>204.489614</td>\n",
       "      <td>0.000772</td>\n",
       "      <td>0.157864</td>\n",
       "      <td>1.062728</td>\n",
       "      <td>0.400000</td>\n",
       "      <td>POLYGON ((5309923 1677656.75143, 5310007 16776...</td>\n",
       "    </tr>\n",
       "    <tr>\n",
       "      <th>4</th>\n",
       "      <td>47060241005</td>\n",
       "      <td>108.502947</td>\n",
       "      <td>0.001481</td>\n",
       "      <td>0.160672</td>\n",
       "      <td>1.567139</td>\n",
       "      <td>NaN</td>\n",
       "      <td>POLYGON ((5310024.817145 1677330.957145, 53100...</td>\n",
       "    </tr>\n",
       "  </tbody>\n",
       "</table>\n",
       "</div>"
      ],
      "text/plain": [
       "         DBUID  ...                                           geometry\n",
       "0  47060240002  ...  POLYGON ((5310555.5 1677478.5, 5310619.5 16774...\n",
       "1  47060240003  ...  POLYGON ((5310597.5 1677715.5, 5310833 1677671...\n",
       "2  47060241002  ...  POLYGON ((5309899 1677747.625715, 5309992 1677...\n",
       "3  47060241003  ...  POLYGON ((5309923 1677656.75143, 5310007 16776...\n",
       "4  47060241005  ...  POLYGON ((5310024.817145 1677330.957145, 53100...\n",
       "\n",
       "[5 rows x 7 columns]"
      ]
     },
     "execution_count": 32,
     "metadata": {
      "tags": []
     },
     "output_type": "execute_result"
    }
   ],
   "source": [
    "df_db = dbstats.drop(['PRNAME','CMANAME','CMATYPE','area', 'BldgArea', 'BldgCount', 'ContCount'], axis=1)\n",
    "df_db.head()"
   ]
  },
  {
   "cell_type": "code",
   "execution_count": 0,
   "metadata": {
    "colab": {},
    "colab_type": "code",
    "id": "3Id3Oi8jnWHv"
   },
   "outputs": [],
   "source": [
    "df_db = df_db.dropna(axis='rows')"
   ]
  },
  {
   "cell_type": "code",
   "execution_count": 34,
   "metadata": {
    "colab": {
     "base_uri": "https://localhost:8080/",
     "height": 204
    },
    "colab_type": "code",
    "id": "M-sxwaOYmqJW",
    "outputId": "fe3cee58-58a9-4022-a1ef-3c616fcca944"
   },
   "outputs": [
    {
     "data": {
      "text/html": [
       "<div>\n",
       "<style scoped>\n",
       "    .dataframe tbody tr th:only-of-type {\n",
       "        vertical-align: middle;\n",
       "    }\n",
       "\n",
       "    .dataframe tbody tr th {\n",
       "        vertical-align: top;\n",
       "    }\n",
       "\n",
       "    .dataframe thead th {\n",
       "        text-align: right;\n",
       "    }\n",
       "</style>\n",
       "<table border=\"1\" class=\"dataframe\">\n",
       "  <thead>\n",
       "    <tr style=\"text-align: right;\">\n",
       "      <th></th>\n",
       "      <th>DBUID</th>\n",
       "      <th>AvgSize</th>\n",
       "      <th>BD</th>\n",
       "      <th>BCR</th>\n",
       "      <th>ProxMean</th>\n",
       "      <th>ContRatio</th>\n",
       "      <th>geometry</th>\n",
       "    </tr>\n",
       "  </thead>\n",
       "  <tbody>\n",
       "    <tr>\n",
       "      <th>0</th>\n",
       "      <td>47060240002</td>\n",
       "      <td>159.403587</td>\n",
       "      <td>0.001367</td>\n",
       "      <td>0.217917</td>\n",
       "      <td>1.761887</td>\n",
       "      <td>0.303030</td>\n",
       "      <td>POLYGON ((5310555.5 1677478.5, 5310619.5 16774...</td>\n",
       "    </tr>\n",
       "    <tr>\n",
       "      <th>1</th>\n",
       "      <td>47060240003</td>\n",
       "      <td>193.716986</td>\n",
       "      <td>0.000754</td>\n",
       "      <td>0.145967</td>\n",
       "      <td>1.194216</td>\n",
       "      <td>0.142857</td>\n",
       "      <td>POLYGON ((5310597.5 1677715.5, 5310833 1677671...</td>\n",
       "    </tr>\n",
       "    <tr>\n",
       "      <th>2</th>\n",
       "      <td>47060241002</td>\n",
       "      <td>183.151856</td>\n",
       "      <td>0.001349</td>\n",
       "      <td>0.247159</td>\n",
       "      <td>1.180730</td>\n",
       "      <td>0.235294</td>\n",
       "      <td>POLYGON ((5309899 1677747.625715, 5309992 1677...</td>\n",
       "    </tr>\n",
       "    <tr>\n",
       "      <th>3</th>\n",
       "      <td>47060241003</td>\n",
       "      <td>204.489614</td>\n",
       "      <td>0.000772</td>\n",
       "      <td>0.157864</td>\n",
       "      <td>1.062728</td>\n",
       "      <td>0.400000</td>\n",
       "      <td>POLYGON ((5309923 1677656.75143, 5310007 16776...</td>\n",
       "    </tr>\n",
       "    <tr>\n",
       "      <th>5</th>\n",
       "      <td>47060241007</td>\n",
       "      <td>422.638431</td>\n",
       "      <td>0.000630</td>\n",
       "      <td>0.266473</td>\n",
       "      <td>1.717315</td>\n",
       "      <td>0.666667</td>\n",
       "      <td>POLYGON ((5310145.3 1677681.74, 5310247.442855...</td>\n",
       "    </tr>\n",
       "  </tbody>\n",
       "</table>\n",
       "</div>"
      ],
      "text/plain": [
       "         DBUID  ...                                           geometry\n",
       "0  47060240002  ...  POLYGON ((5310555.5 1677478.5, 5310619.5 16774...\n",
       "1  47060240003  ...  POLYGON ((5310597.5 1677715.5, 5310833 1677671...\n",
       "2  47060241002  ...  POLYGON ((5309899 1677747.625715, 5309992 1677...\n",
       "3  47060241003  ...  POLYGON ((5309923 1677656.75143, 5310007 16776...\n",
       "5  47060241007  ...  POLYGON ((5310145.3 1677681.74, 5310247.442855...\n",
       "\n",
       "[5 rows x 7 columns]"
      ]
     },
     "execution_count": 34,
     "metadata": {
      "tags": []
     },
     "output_type": "execute_result"
    }
   ],
   "source": [
    "df_db.head()"
   ]
  },
  {
   "cell_type": "markdown",
   "metadata": {
    "colab_type": "text",
    "id": "M0_QeD9c8wT1"
   },
   "source": [
    "## Classification Task on the Dissemination Block data"
   ]
  },
  {
   "cell_type": "code",
   "execution_count": 35,
   "metadata": {
    "colab": {
     "base_uri": "https://localhost:8080/",
     "height": 136
    },
    "colab_type": "code",
    "id": "icakwg-XmqP0",
    "outputId": "a7078021-a898-44bc-d40a-b0c1a3d362ea"
   },
   "outputs": [
    {
     "data": {
      "text/plain": [
       "array([[-0.09806439, -0.37797652,  0.24305496, -0.34465445, -0.36405927],\n",
       "       [ 0.02671966, -1.10138149, -0.99954492, -0.54620972, -1.29294363],\n",
       "       [-0.01170148, -0.39873888,  0.74805804, -0.55099802, -0.75687838],\n",
       "       ...,\n",
       "       [ 0.60972664, -0.83037432,  2.49216273, -0.3753711 ,  0.58490912],\n",
       "       [-0.06927343, -0.89740102, -0.84310687,  0.86848266, -1.43914321],\n",
       "       [-0.33616412, -0.32303466, -1.22716565, -0.1468848 , -1.0167888 ]])"
      ]
     },
     "execution_count": 35,
     "metadata": {
      "tags": []
     },
     "output_type": "execute_result"
    }
   ],
   "source": [
    "X = df_db.values[:,1:-1] #we are taking only the 5 statistics\n",
    "cluster_dataset = StandardScaler().fit_transform(X) #creating standard scalar from unscaled data a \n",
    "cluster_dataset"
   ]
  },
  {
   "cell_type": "code",
   "execution_count": 36,
   "metadata": {
    "colab": {
     "base_uri": "https://localhost:8080/",
     "height": 34
    },
    "colab_type": "code",
    "id": "NaI5hvvMmqV4",
    "outputId": "02dfe531-3586-44fd-8976-478840f86ecf"
   },
   "outputs": [
    {
     "data": {
      "text/plain": [
       "array([2, 2, 2, ..., 0, 2, 2], dtype=int32)"
      ]
     },
     "execution_count": 36,
     "metadata": {
      "tags": []
     },
     "output_type": "execute_result"
    }
   ],
   "source": [
    "k_means = KMeans(init = \"k-means++\", n_clusters = 3, n_init = 12)\n",
    "# fit the X value to the model\n",
    "k_means.fit(cluster_dataset)\n",
    "labels = k_means.labels_\n",
    "labels"
   ]
  },
  {
   "cell_type": "code",
   "execution_count": 0,
   "metadata": {
    "colab": {},
    "colab_type": "code",
    "id": "mGY2gIAXmqb_"
   },
   "outputs": [],
   "source": [
    "new_lab = []\n",
    "for label in labels:\n",
    "    new_lab.append(\"Class \"+str(label))"
   ]
  },
  {
   "cell_type": "code",
   "execution_count": 38,
   "metadata": {
    "colab": {
     "base_uri": "https://localhost:8080/",
     "height": 51
    },
    "colab_type": "code",
    "id": "E5FKcwTsmqaA",
    "outputId": "32696da1-0562-45dc-c8f4-9a5f2b2f9e0d"
   },
   "outputs": [
    {
     "data": {
      "text/plain": [
       "array(['Class 2', 'Class 2', 'Class 2', ..., 'Class 0', 'Class 2',\n",
       "       'Class 2'], dtype='<U7')"
      ]
     },
     "execution_count": 38,
     "metadata": {
      "tags": []
     },
     "output_type": "execute_result"
    }
   ],
   "source": [
    "new_lab = np.asarray(new_lab)\n",
    "new_lab\n"
   ]
  },
  {
   "cell_type": "code",
   "execution_count": 39,
   "metadata": {
    "colab": {
     "base_uri": "https://localhost:8080/",
     "height": 289
    },
    "colab_type": "code",
    "id": "TsQi7shGmqTp",
    "outputId": "9ce8d9c6-67fb-4522-8fb9-45f0b599af7f"
   },
   "outputs": [
    {
     "data": {
      "text/html": [
       "<div>\n",
       "<style scoped>\n",
       "    .dataframe tbody tr th:only-of-type {\n",
       "        vertical-align: middle;\n",
       "    }\n",
       "\n",
       "    .dataframe tbody tr th {\n",
       "        vertical-align: top;\n",
       "    }\n",
       "\n",
       "    .dataframe thead th {\n",
       "        text-align: right;\n",
       "    }\n",
       "</style>\n",
       "<table border=\"1\" class=\"dataframe\">\n",
       "  <thead>\n",
       "    <tr style=\"text-align: right;\">\n",
       "      <th></th>\n",
       "      <th>DBUID</th>\n",
       "      <th>AvgSize</th>\n",
       "      <th>BD</th>\n",
       "      <th>BCR</th>\n",
       "      <th>ProxMean</th>\n",
       "      <th>ContRatio</th>\n",
       "      <th>geometry</th>\n",
       "      <th>Labels</th>\n",
       "    </tr>\n",
       "  </thead>\n",
       "  <tbody>\n",
       "    <tr>\n",
       "      <th>0</th>\n",
       "      <td>47060240002</td>\n",
       "      <td>159.403587</td>\n",
       "      <td>0.001367</td>\n",
       "      <td>0.217917</td>\n",
       "      <td>1.761887</td>\n",
       "      <td>0.303030</td>\n",
       "      <td>POLYGON ((5310555.5 1677478.5, 5310619.5 16774...</td>\n",
       "      <td>Class 2</td>\n",
       "    </tr>\n",
       "    <tr>\n",
       "      <th>1</th>\n",
       "      <td>47060240003</td>\n",
       "      <td>193.716986</td>\n",
       "      <td>0.000754</td>\n",
       "      <td>0.145967</td>\n",
       "      <td>1.194216</td>\n",
       "      <td>0.142857</td>\n",
       "      <td>POLYGON ((5310597.5 1677715.5, 5310833 1677671...</td>\n",
       "      <td>Class 2</td>\n",
       "    </tr>\n",
       "    <tr>\n",
       "      <th>2</th>\n",
       "      <td>47060241002</td>\n",
       "      <td>183.151856</td>\n",
       "      <td>0.001349</td>\n",
       "      <td>0.247159</td>\n",
       "      <td>1.180730</td>\n",
       "      <td>0.235294</td>\n",
       "      <td>POLYGON ((5309899 1677747.625715, 5309992 1677...</td>\n",
       "      <td>Class 2</td>\n",
       "    </tr>\n",
       "    <tr>\n",
       "      <th>3</th>\n",
       "      <td>47060241003</td>\n",
       "      <td>204.489614</td>\n",
       "      <td>0.000772</td>\n",
       "      <td>0.157864</td>\n",
       "      <td>1.062728</td>\n",
       "      <td>0.400000</td>\n",
       "      <td>POLYGON ((5309923 1677656.75143, 5310007 16776...</td>\n",
       "      <td>Class 2</td>\n",
       "    </tr>\n",
       "    <tr>\n",
       "      <th>5</th>\n",
       "      <td>47060241007</td>\n",
       "      <td>422.638431</td>\n",
       "      <td>0.000630</td>\n",
       "      <td>0.266473</td>\n",
       "      <td>1.717315</td>\n",
       "      <td>0.666667</td>\n",
       "      <td>POLYGON ((5310145.3 1677681.74, 5310247.442855...</td>\n",
       "      <td>Class 0</td>\n",
       "    </tr>\n",
       "  </tbody>\n",
       "</table>\n",
       "</div>"
      ],
      "text/plain": [
       "         DBUID  ...   Labels\n",
       "0  47060240002  ...  Class 2\n",
       "1  47060240003  ...  Class 2\n",
       "2  47060241002  ...  Class 2\n",
       "3  47060241003  ...  Class 2\n",
       "5  47060241007  ...  Class 0\n",
       "\n",
       "[5 rows x 8 columns]"
      ]
     },
     "execution_count": 39,
     "metadata": {
      "tags": []
     },
     "output_type": "execute_result"
    }
   ],
   "source": [
    "df_db['Labels'] = new_lab\n",
    "df_db.head()"
   ]
  },
  {
   "cell_type": "code",
   "execution_count": 0,
   "metadata": {
    "colab": {},
    "colab_type": "code",
    "id": "VeMTPjXOmqMz"
   },
   "outputs": [],
   "source": [
    "df_db['Labels'] = df_db['Labels'].astype(object)"
   ]
  },
  {
   "cell_type": "code",
   "execution_count": 80,
   "metadata": {
    "colab": {
     "base_uri": "https://localhost:8080/",
     "height": 719
    },
    "colab_type": "code",
    "id": "mhbD4wnOmqGa",
    "outputId": "c5361273-42af-418a-c429-a181e6115831"
   },
   "outputs": [
    {
     "data": {
      "image/png": "[encoded data removed]",
      "text/plain": [
       "<Figure size 1080x1080 with 1 Axes>"
      ]
     },
     "metadata": {
      "tags": []
     },
     "output_type": "display_data"
    }
   ],
   "source": [
    "df_db.plot(figsize= (15,15), column='Labels', legend=True, cmap = 'Accent')\n",
    "plt.savefig('DBclassification.png')"
   ]
  },
  {
   "cell_type": "markdown",
   "metadata": {
    "colab_type": "text",
    "id": "sg8mt7Q5Sexg"
   },
   "source": [
    "# Interpretation of Classes"
   ]
  },
  {
   "cell_type": "code",
   "execution_count": 0,
   "metadata": {
    "colab": {},
    "colab_type": "code",
    "id": "NCm2JYd4mqEB"
   },
   "outputs": [],
   "source": [
    "DB_cluster0 = df_db[df_db.Labels==\"Class 0\"]\n",
    "DB_cluster1 = df_db[df_db.Labels==\"Class 1\"]\n",
    "DB_cluster2 = df_db[df_db.Labels==\"Class 2\"]\n",
    "# DB_cluster3 = df_db[df_db.Labels==\"Cluster 3\"]\n",
    "# DB_cluster4 = df_db[df_db.Labels==\"Cluster 4\"]"
   ]
  },
  {
   "cell_type": "code",
   "execution_count": 0,
   "metadata": {
    "colab": {
     "base_uri": "https://localhost:8080/",
     "height": 297
    },
    "colab_type": "code",
    "id": "0NoNqqOKTOw5",
    "outputId": "1c2da2ad-d3dc-440a-c209-5b4e87b1709c"
   },
   "outputs": [
    {
     "data": {
      "text/html": [
       "<div>\n",
       "<style scoped>\n",
       "    .dataframe tbody tr th:only-of-type {\n",
       "        vertical-align: middle;\n",
       "    }\n",
       "\n",
       "    .dataframe tbody tr th {\n",
       "        vertical-align: top;\n",
       "    }\n",
       "\n",
       "    .dataframe thead th {\n",
       "        text-align: right;\n",
       "    }\n",
       "</style>\n",
       "<table border=\"1\" class=\"dataframe\">\n",
       "  <thead>\n",
       "    <tr style=\"text-align: right;\">\n",
       "      <th></th>\n",
       "      <th>AvgSize</th>\n",
       "      <th>BD</th>\n",
       "      <th>BCR</th>\n",
       "      <th>ProxMean</th>\n",
       "      <th>ContRatio</th>\n",
       "    </tr>\n",
       "  </thead>\n",
       "  <tbody>\n",
       "    <tr>\n",
       "      <th>count</th>\n",
       "      <td>1104.000000</td>\n",
       "      <td>1104.000000</td>\n",
       "      <td>1104.000000</td>\n",
       "      <td>1104.000000</td>\n",
       "      <td>1104.000000</td>\n",
       "    </tr>\n",
       "    <tr>\n",
       "      <th>mean</th>\n",
       "      <td>170.265173</td>\n",
       "      <td>0.001368</td>\n",
       "      <td>0.183997</td>\n",
       "      <td>2.603804</td>\n",
       "      <td>0.279462</td>\n",
       "    </tr>\n",
       "    <tr>\n",
       "      <th>std</th>\n",
       "      <td>120.354940</td>\n",
       "      <td>0.000636</td>\n",
       "      <td>0.052152</td>\n",
       "      <td>1.226209</td>\n",
       "      <td>0.124490</td>\n",
       "    </tr>\n",
       "    <tr>\n",
       "      <th>min</th>\n",
       "      <td>19.158797</td>\n",
       "      <td>0.000002</td>\n",
       "      <td>0.000518</td>\n",
       "      <td>0.290834</td>\n",
       "      <td>0.025000</td>\n",
       "    </tr>\n",
       "    <tr>\n",
       "      <th>25%</th>\n",
       "      <td>100.725493</td>\n",
       "      <td>0.000874</td>\n",
       "      <td>0.157896</td>\n",
       "      <td>1.885986</td>\n",
       "      <td>0.197647</td>\n",
       "    </tr>\n",
       "    <tr>\n",
       "      <th>50%</th>\n",
       "      <td>131.692834</td>\n",
       "      <td>0.001370</td>\n",
       "      <td>0.192732</td>\n",
       "      <td>2.341295</td>\n",
       "      <td>0.269231</td>\n",
       "    </tr>\n",
       "    <tr>\n",
       "      <th>75%</th>\n",
       "      <td>198.944197</td>\n",
       "      <td>0.001887</td>\n",
       "      <td>0.215141</td>\n",
       "      <td>2.969933</td>\n",
       "      <td>0.344828</td>\n",
       "    </tr>\n",
       "    <tr>\n",
       "      <th>max</th>\n",
       "      <td>1117.890557</td>\n",
       "      <td>0.002726</td>\n",
       "      <td>0.363798</td>\n",
       "      <td>10.038650</td>\n",
       "      <td>1.000000</td>\n",
       "    </tr>\n",
       "  </tbody>\n",
       "</table>\n",
       "</div>"
      ],
      "text/plain": [
       "           AvgSize           BD          BCR     ProxMean    ContRatio\n",
       "count  1104.000000  1104.000000  1104.000000  1104.000000  1104.000000\n",
       "mean    170.265173     0.001368     0.183997     2.603804     0.279462\n",
       "std     120.354940     0.000636     0.052152     1.226209     0.124490\n",
       "min      19.158797     0.000002     0.000518     0.290834     0.025000\n",
       "25%     100.725493     0.000874     0.157896     1.885986     0.197647\n",
       "50%     131.692834     0.001370     0.192732     2.341295     0.269231\n",
       "75%     198.944197     0.001887     0.215141     2.969933     0.344828\n",
       "max    1117.890557     0.002726     0.363798    10.038650     1.000000"
      ]
     },
     "execution_count": 42,
     "metadata": {
      "tags": []
     },
     "output_type": "execute_result"
    }
   ],
   "source": [
    "DB_cluster0.describe()"
   ]
  },
  {
   "cell_type": "markdown",
   "metadata": {
    "colab_type": "text",
    "id": "bKVXHD9nTDG_"
   },
   "source": [
    "#BCR"
   ]
  },
  {
   "cell_type": "code",
   "execution_count": 44,
   "metadata": {
    "colab": {
     "base_uri": "https://localhost:8080/",
     "height": 408
    },
    "colab_type": "code",
    "id": "pysHZQjjmqBz",
    "outputId": "cba2b8e6-eceb-4e2b-ef26-406db039d88c"
   },
   "outputs": [
    {
     "name": "stdout",
     "output_type": "stream",
     "text": [
      "For Class 0\n",
      "min    0.088155\n",
      "25%    0.214160\n",
      "50%    0.233789\n",
      "75%    0.255862\n",
      "max    0.451689\n",
      "Name: BCR, dtype: float64\n",
      "----------------------------\n",
      "For Class 1\n",
      "min    0.000346\n",
      "25%    0.048395\n",
      "50%    0.127227\n",
      "75%    0.215065\n",
      "max    0.394877\n",
      "Name: BCR, dtype: float64\n",
      "----------------------------\n",
      "For Class 2\n",
      "min    0.000518\n",
      "25%    0.155026\n",
      "50%    0.191293\n",
      "75%    0.214422\n",
      "max    0.363798\n",
      "Name: BCR, dtype: float64\n"
     ]
    }
   ],
   "source": [
    "data0 = DB_cluster0.describe()[\"BCR\"]\n",
    "data0 = data0.drop(labels=['count','mean','std'])\n",
    "print(\"For Class 0\")\n",
    "print(data0)\n",
    "print(\"----------------------------\")\n",
    "data1 = DB_cluster1.describe()[\"BCR\"]\n",
    "data1 = data1.drop(labels=['count','mean','std'])\n",
    "print(\"For Class 1\")\n",
    "print(data1)\n",
    "print(\"----------------------------\")\n",
    "data2 = DB_cluster2.describe()[\"BCR\"]\n",
    "data2 = data2.drop(labels=['count','mean','std'])\n",
    "print(\"For Class 2\")\n",
    "print(data2)\n",
    "# print(\"----------------------------\")\n",
    "# data3 = DB_cluster3.describe()[\"BCR\"]\n",
    "# data3 = data3.drop(labels=['count','mean','std'])\n",
    "# print(\"For Cluster 3\")\n",
    "# print(data3)\n",
    "# print(\"----------------------------\")\n",
    "# data4 = DB_cluster4.describe()[\"BCR\"]\n",
    "# data4 = data4.drop(labels=['count','mean','std'])\n",
    "# print(\"For Cluster 4\")\n",
    "# print(data4)"
   ]
  },
  {
   "cell_type": "code",
   "execution_count": 45,
   "metadata": {
    "colab": {
     "base_uri": "https://localhost:8080/",
     "height": 603
    },
    "colab_type": "code",
    "id": "OaUSluBImp_A",
    "outputId": "7358923a-deeb-42e5-ceef-742f9c72c11f"
   },
   "outputs": [
    {
     "data": {
      "image/png": "[encoded data removed]",
      "text/plain": [
       "<Figure size 648x648 with 1 Axes>"
      ]
     },
     "metadata": {
      "tags": []
     },
     "output_type": "display_data"
    }
   ],
   "source": [
    "#data = [data0,data1,data2,data3,data4]\n",
    "data = [data0,data1,data2]\n",
    "# Create a figure instance\n",
    "fig = plt.figure(1, figsize=(9, 9))\n",
    "\n",
    "# Create an axes instance\n",
    "ax = fig.add_subplot(111)\n",
    "\n",
    "# Create the boxplot\n",
    "bp = ax.boxplot(data,patch_artist=True)\n",
    "\n",
    "#formatting options in matplotlib\n",
    "for box in bp['boxes']:\n",
    "    # change outline color\n",
    "    box.set( color='#7570b3', linewidth=2)\n",
    "    # change fill color\n",
    "    box.set( facecolor = '#1b9e77' )\n",
    "    \n",
    "for whisker in bp['whiskers']:\n",
    "    whisker.set(color='#7570b3', linewidth=2)\n",
    "\n",
    "for cap in bp['caps']:\n",
    "    cap.set(color='#7570b3', linewidth=2)\n",
    "    \n",
    "for median in bp['medians']:\n",
    "    median.set(color='#b2df8a', linewidth=5)\n",
    "\n",
    "for flier in bp['fliers']:\n",
    "    flier.set(marker='o', color='#e7298a', alpha=0.5)\n",
    "\n",
    "    \n",
    "ax.set_title('BCR for Dissemination Block Boxplots')\n",
    "#ax.set_xticklabels(['cluster0', 'cluster1', 'cluster2', 'cluster3', 'cluster4'], rotation=45, fontsize=20)\n",
    "ax.set_xticklabels(['Class0', 'Class1', 'Class2'], rotation=45, fontsize=20)\n",
    "ax.set_ylim(0,0.5)\n",
    "\n",
    "# Save the figure\n",
    "fig.savefig('BCRforDB.png', bbox_inches='tight')"
   ]
  },
  {
   "cell_type": "markdown",
   "metadata": {
    "colab_type": "text",
    "id": "F-hNhFbsbNdP"
   },
   "source": [
    "#Building Density"
   ]
  },
  {
   "cell_type": "code",
   "execution_count": 46,
   "metadata": {
    "colab": {
     "base_uri": "https://localhost:8080/",
     "height": 408
    },
    "colab_type": "code",
    "id": "E8FmHvmDUOhQ",
    "outputId": "031ef675-61ab-4e14-8795-58cb7f5f03e1"
   },
   "outputs": [
    {
     "name": "stdout",
     "output_type": "stream",
     "text": [
      "For Class 0\n",
      "min    0.000274\n",
      "25%    0.001884\n",
      "50%    0.002330\n",
      "75%    0.002716\n",
      "max    0.004162\n",
      "Name: BD, dtype: float64\n",
      "----------------------------\n",
      "For Class 1\n",
      "min    0.000005\n",
      "25%    0.000067\n",
      "50%    0.000132\n",
      "75%    0.000219\n",
      "max    0.000416\n",
      "Name: BD, dtype: float64\n",
      "----------------------------\n",
      "For Class 2\n",
      "min    0.000002\n",
      "25%    0.000851\n",
      "50%    0.001337\n",
      "75%    0.001875\n",
      "max    0.002726\n",
      "Name: BD, dtype: float64\n"
     ]
    }
   ],
   "source": [
    "data0 = DB_cluster0.describe()[\"BD\"]\n",
    "data0 = data0.drop(labels=['count','mean','std'])\n",
    "print(\"For Class 0\")\n",
    "print(data0)\n",
    "print(\"----------------------------\")\n",
    "data1 = DB_cluster1.describe()[\"BD\"]\n",
    "data1 = data1.drop(labels=['count','mean','std'])\n",
    "print(\"For Class 1\")\n",
    "print(data1)\n",
    "print(\"----------------------------\")\n",
    "data2 = DB_cluster2.describe()[\"BD\"]\n",
    "data2 = data2.drop(labels=['count','mean','std'])\n",
    "print(\"For Class 2\")\n",
    "print(data2)\n",
    "# print(\"----------------------------\")\n",
    "# data3 = DB_cluster3.describe()[\"BD\"]\n",
    "# data3 = data3.drop(labels=['count','mean','std'])\n",
    "# print(\"For Cluster 3\")\n",
    "# print(data3)\n",
    "# print(\"----------------------------\")\n",
    "# data4 = DB_cluster4.describe()[\"BD\"]\n",
    "# data4 = data4.drop(labels=['count','mean','std'])\n",
    "# print(\"For Cluster 4\")\n",
    "# print(data4)"
   ]
  },
  {
   "cell_type": "code",
   "execution_count": 47,
   "metadata": {
    "colab": {
     "base_uri": "https://localhost:8080/",
     "height": 603
    },
    "colab_type": "code",
    "id": "iwSomXU-UOuR",
    "outputId": "f8ee617b-583f-4c25-95eb-ff30ff771718"
   },
   "outputs": [
    {
     "data": {
      "image/png": "[encoded data removed]",
      "text/plain": [
       "<Figure size 648x648 with 1 Axes>"
      ]
     },
     "metadata": {
      "tags": []
     },
     "output_type": "display_data"
    }
   ],
   "source": [
    "# data = [data0,data1,data2,data3,data4]\n",
    "data = [data0,data1,data2]\n",
    "# Create a figure instance\n",
    "fig = plt.figure(1, figsize=(9, 9))\n",
    "\n",
    "# Create an axes instance\n",
    "ax = fig.add_subplot(111)\n",
    "\n",
    "# Create the boxplot\n",
    "bp = ax.boxplot(data,patch_artist=True)\n",
    "\n",
    "#formatting options in matplotlib\n",
    "for box in bp['boxes']:\n",
    "    # change outline color\n",
    "    box.set( color='#7570b3', linewidth=2)\n",
    "    # change fill color\n",
    "    box.set( facecolor = '#1b9e77' )\n",
    "    \n",
    "for whisker in bp['whiskers']:\n",
    "    whisker.set(color='#7570b3', linewidth=2)\n",
    "\n",
    "for cap in bp['caps']:\n",
    "    cap.set(color='#7570b3', linewidth=2)\n",
    "    \n",
    "for median in bp['medians']:\n",
    "    median.set(color='#b2df8a', linewidth=5)\n",
    "\n",
    "for flier in bp['fliers']:\n",
    "    flier.set(marker='o', color='#e7298a', alpha=0.5)\n",
    "\n",
    "    \n",
    "ax.set_title('Building Density Boxplots')\n",
    "# ax.set_xticklabels(['cluster0', 'cluster1', 'cluster2', 'cluster3', 'cluster4'], rotation=45, fontsize=20)\n",
    "ax.set_xticklabels(['Class0', 'Class1', 'Class2'], rotation=45, fontsize=20)\n",
    "ax.set_ylim(0,0.005)\n",
    "\n",
    "# Save the figure\n",
    "fig.savefig('BuildingDensityforDB.png', bbox_inches='tight')"
   ]
  },
  {
   "cell_type": "markdown",
   "metadata": {
    "colab_type": "text",
    "id": "2PBfFQGCdCeR"
   },
   "source": [
    "# Mean Proximity"
   ]
  },
  {
   "cell_type": "code",
   "execution_count": 48,
   "metadata": {
    "colab": {
     "base_uri": "https://localhost:8080/",
     "height": 408
    },
    "colab_type": "code",
    "id": "VGA3KTjcUPBu",
    "outputId": "65b857ca-74bf-4883-8a3a-2cf85b1bc989"
   },
   "outputs": [
    {
     "name": "stdout",
     "output_type": "stream",
     "text": [
      "For Class 0\n",
      "min    0.438028\n",
      "25%    1.473680\n",
      "50%    1.806752\n",
      "75%    2.130898\n",
      "max    6.081525\n",
      "Name: ProxMean, dtype: float64\n",
      "----------------------------\n",
      "For Class 1\n",
      "min     1.864270\n",
      "25%     9.967164\n",
      "50%    12.961265\n",
      "75%    16.084481\n",
      "max    37.431523\n",
      "Name: ProxMean, dtype: float64\n",
      "----------------------------\n",
      "For Class 2\n",
      "min     0.290834\n",
      "25%     1.892661\n",
      "50%     2.360064\n",
      "75%     2.988273\n",
      "max    10.038650\n",
      "Name: ProxMean, dtype: float64\n"
     ]
    }
   ],
   "source": [
    "data0 = DB_cluster0.describe()[\"ProxMean\"]\n",
    "data0 = data0.drop(labels=['count','mean','std'])\n",
    "print(\"For Class 0\")\n",
    "print(data0)\n",
    "print(\"----------------------------\")\n",
    "data1 = DB_cluster1.describe()[\"ProxMean\"]\n",
    "data1 = data1.drop(labels=['count','mean','std'])\n",
    "print(\"For Class 1\")\n",
    "print(data1)\n",
    "print(\"----------------------------\")\n",
    "data2 = DB_cluster2.describe()[\"ProxMean\"]\n",
    "data2 = data2.drop(labels=['count','mean','std'])\n",
    "print(\"For Class 2\")\n",
    "print(data2)\n",
    "# print(\"----------------------------\")\n",
    "# data3 = DB_cluster3.describe()[\"ProxMean\"]\n",
    "# data3 = data3.drop(labels=['count','mean','std'])\n",
    "# print(\"For Cluster 3\")\n",
    "# print(data3)\n",
    "# print(\"----------------------------\")\n",
    "# data4 = DB_cluster4.describe()[\"ProxMean\"]\n",
    "# data4 = data4.drop(labels=['count','mean','std'])\n",
    "# print(\"For Cluster 4\")\n",
    "# print(data4)"
   ]
  },
  {
   "cell_type": "code",
   "execution_count": 49,
   "metadata": {
    "colab": {
     "base_uri": "https://localhost:8080/",
     "height": 603
    },
    "colab_type": "code",
    "id": "MzSTHZ02UPGv",
    "outputId": "f19fbdfc-0d02-4e2b-eaf2-c3a3da8cba84"
   },
   "outputs": [
    {
     "data": {
      "image/png": "[encoded data removed]",
      "text/plain": [
       "<Figure size 648x648 with 1 Axes>"
      ]
     },
     "metadata": {
      "tags": []
     },
     "output_type": "display_data"
    }
   ],
   "source": [
    "# data = [data0,data1,data2,data3,data4]\n",
    "data = [data0,data1,data2]\n",
    "# Create a figure instance\n",
    "fig = plt.figure(1, figsize=(9, 9))\n",
    "\n",
    "# Create an axes instance\n",
    "ax = fig.add_subplot(111)\n",
    "\n",
    "# Create the boxplot\n",
    "bp = ax.boxplot(data,patch_artist=True)\n",
    "\n",
    "#formatting options in matplotlib\n",
    "for box in bp['boxes']:\n",
    "    # change outline color\n",
    "    box.set( color='#7570b3', linewidth=2)\n",
    "    # change fill color\n",
    "    box.set( facecolor = '#1b9e77' )\n",
    "    \n",
    "for whisker in bp['whiskers']:\n",
    "    whisker.set(color='#7570b3', linewidth=2)\n",
    "\n",
    "for cap in bp['caps']:\n",
    "    cap.set(color='#7570b3', linewidth=2)\n",
    "    \n",
    "for median in bp['medians']:\n",
    "    median.set(color='#b2df8a', linewidth=5)\n",
    "\n",
    "for flier in bp['fliers']:\n",
    "    flier.set(marker='o', color='#e7298a', alpha=0.5)\n",
    "\n",
    "    \n",
    "ax.set_title('Mean Proximity Boxplots for Dissemination Block')\n",
    "# ax.set_xticklabels(['cluster0', 'cluster1', 'cluster2', 'cluster3', 'cluster4'], rotation=45, fontsize=20)\n",
    "ax.set_xticklabels(['Class0', 'Class1', 'Class2'], rotation=45, fontsize=20)\n",
    "ax.set_ylim(0,40)\n",
    "\n",
    "# Save the figure\n",
    "fig.savefig('MeanProximityforDB.png', bbox_inches='tight')"
   ]
  },
  {
   "cell_type": "markdown",
   "metadata": {
    "colab_type": "text",
    "id": "-Nqg7yVXekEU"
   },
   "source": [
    "# Average Size"
   ]
  },
  {
   "cell_type": "code",
   "execution_count": 50,
   "metadata": {
    "colab": {
     "base_uri": "https://localhost:8080/",
     "height": 408
    },
    "colab_type": "code",
    "id": "JDIVwcrQUPR8",
    "outputId": "a75d5a0d-09e5-4c5c-faad-35cb0d34c0a2"
   },
   "outputs": [
    {
     "name": "stdout",
     "output_type": "stream",
     "text": [
      "For Class 0\n",
      "min      62.321321\n",
      "25%      82.054920\n",
      "50%      96.906789\n",
      "75%     125.043159\n",
      "max    1146.567249\n",
      "Name: AvgSize, dtype: float64\n",
      "----------------------------\n",
      "For Class 1\n",
      "min      52.715684\n",
      "25%     448.257557\n",
      "50%     904.245895\n",
      "75%    1207.579059\n",
      "max    4771.681854\n",
      "Name: AvgSize, dtype: float64\n",
      "----------------------------\n",
      "For Class 2\n",
      "min      19.158797\n",
      "25%     100.957617\n",
      "50%     134.530522\n",
      "75%     200.095946\n",
      "max    1117.890557\n",
      "Name: AvgSize, dtype: float64\n"
     ]
    }
   ],
   "source": [
    "data0 = DB_cluster0.describe()[\"AvgSize\"]\n",
    "data0 = data0.drop(labels=['count','mean','std'])\n",
    "print(\"For Class 0\")\n",
    "print(data0)\n",
    "print(\"----------------------------\")\n",
    "data1 = DB_cluster1.describe()[\"AvgSize\"]\n",
    "data1 = data1.drop(labels=['count','mean','std'])\n",
    "print(\"For Class 1\")\n",
    "print(data1)\n",
    "print(\"----------------------------\")\n",
    "data2 = DB_cluster2.describe()[\"AvgSize\"]\n",
    "data2 = data2.drop(labels=['count','mean','std'])\n",
    "print(\"For Class 2\")\n",
    "print(data2)\n",
    "# print(\"----------------------------\")\n",
    "# data3 = DB_cluster3.describe()[\"AvgSize\"]\n",
    "# data3 = data3.drop(labels=['count','mean','std'])\n",
    "# print(\"For Cluster 3\")\n",
    "# print(data3)\n",
    "# print(\"----------------------------\")\n",
    "# data4 = DB_cluster4.describe()[\"AvgSize\"]\n",
    "# data4 = data4.drop(labels=['count','mean','std'])\n",
    "# print(\"For Cluster 4\")\n",
    "# print(data4)"
   ]
  },
  {
   "cell_type": "code",
   "execution_count": 51,
   "metadata": {
    "colab": {
     "base_uri": "https://localhost:8080/",
     "height": 603
    },
    "colab_type": "code",
    "id": "basX8BBTUPXP",
    "outputId": "0ea088af-fd11-403d-f7ee-cb4368fdee89"
   },
   "outputs": [
    {
     "data": {
      "image/png": "[encoded data removed]",
      "text/plain": [
       "<Figure size 648x648 with 1 Axes>"
      ]
     },
     "metadata": {
      "tags": []
     },
     "output_type": "display_data"
    }
   ],
   "source": [
    "# data = [data0,data1,data2,data3,data4]\n",
    "data = [data0,data1,data2]\n",
    "# Create a figure instance\n",
    "fig = plt.figure(1, figsize=(9, 9))\n",
    "\n",
    "# Create an axes instance\n",
    "ax = fig.add_subplot(111)\n",
    "\n",
    "# Create the boxplot\n",
    "bp = ax.boxplot(data,patch_artist=True)\n",
    "\n",
    "#formatting options in matplotlib\n",
    "for box in bp['boxes']:\n",
    "    # change outline color\n",
    "    box.set( color='#7570b3', linewidth=2)\n",
    "    # change fill color\n",
    "    box.set( facecolor = '#1b9e77' )\n",
    "    \n",
    "for whisker in bp['whiskers']:\n",
    "    whisker.set(color='#7570b3', linewidth=2)\n",
    "\n",
    "for cap in bp['caps']:\n",
    "    cap.set(color='#7570b3', linewidth=2)\n",
    "    \n",
    "for median in bp['medians']:\n",
    "    median.set(color='#b2df8a', linewidth=5)\n",
    "\n",
    "for flier in bp['fliers']:\n",
    "    flier.set(marker='o', color='#e7298a', alpha=0.5)\n",
    "\n",
    "    \n",
    "ax.set_title('Average Size Boxplots for Dissemination Block')\n",
    "# ax.set_xticklabels(['cluster0', 'cluster1', 'cluster2', 'cluster3', 'cluster4'], rotation=45, fontsize=20)\n",
    "ax.set_xticklabels(['Class0', 'Class1', 'Class2'], rotation=45, fontsize=20)\n",
    "ax.set_ylim(15,4800)\n",
    "\n",
    "# Save the figure\n",
    "fig.savefig('AvgsizeforDB.png', bbox_inches='tight')"
   ]
  },
  {
   "cell_type": "markdown",
   "metadata": {
    "colab_type": "text",
    "id": "dYFAGZkUellX"
   },
   "source": [
    "#Contiguity Ratio"
   ]
  },
  {
   "cell_type": "code",
   "execution_count": 52,
   "metadata": {
    "colab": {
     "base_uri": "https://localhost:8080/",
     "height": 408
    },
    "colab_type": "code",
    "id": "wUoTVuEMUPgT",
    "outputId": "8d2a540b-dc2c-4653-f875-7653ed1ff03f"
   },
   "outputs": [
    {
     "name": "stdout",
     "output_type": "stream",
     "text": [
      "For Class 0\n",
      "min    0.156863\n",
      "25%    0.382979\n",
      "50%    0.468736\n",
      "75%    0.596834\n",
      "max    1.000000\n",
      "Name: ContRatio, dtype: float64\n",
      "----------------------------\n",
      "For Class 1\n",
      "min    0.033898\n",
      "25%    0.142857\n",
      "50%    0.215751\n",
      "75%    0.333333\n",
      "max    0.666667\n",
      "Name: ContRatio, dtype: float64\n",
      "----------------------------\n",
      "For Class 2\n",
      "min    0.025000\n",
      "25%    0.192308\n",
      "50%    0.265734\n",
      "75%    0.343750\n",
      "max    1.000000\n",
      "Name: ContRatio, dtype: float64\n"
     ]
    }
   ],
   "source": [
    "data0 = DB_cluster0.describe()[\"ContRatio\"]\n",
    "data0 = data0.drop(labels=['count','mean','std'])\n",
    "print(\"For Class 0\")\n",
    "print(data0)\n",
    "print(\"----------------------------\")\n",
    "data1 = DB_cluster1.describe()[\"ContRatio\"]\n",
    "data1 = data1.drop(labels=['count','mean','std'])\n",
    "print(\"For Class 1\")\n",
    "print(data1)\n",
    "print(\"----------------------------\")\n",
    "data2 = DB_cluster2.describe()[\"ContRatio\"]\n",
    "data2 = data2.drop(labels=['count','mean','std'])\n",
    "print(\"For Class 2\")\n",
    "print(data2)\n",
    "# print(\"----------------------------\")\n",
    "# data3 = DB_cluster3.describe()[\"ContRatio\"]\n",
    "# data3 = data3.drop(labels=['count','mean','std'])\n",
    "# print(\"For Cluster 3\")\n",
    "# print(data3)\n",
    "# print(\"----------------------------\")\n",
    "# data4 = DB_cluster4.describe()[\"ContRatio\"]\n",
    "# data4 = data4.drop(labels=['count','mean','std'])\n",
    "# print(\"For Cluster 4\")\n",
    "# print(data4)"
   ]
  },
  {
   "cell_type": "code",
   "execution_count": 53,
   "metadata": {
    "colab": {
     "base_uri": "https://localhost:8080/",
     "height": 603
    },
    "colab_type": "code",
    "id": "_4OO58U2UPlv",
    "outputId": "edd2a109-af04-4b22-bb83-5714d4dde9e9"
   },
   "outputs": [
    {
     "data": {
      "image/png": "[encoded data removed]",
      "text/plain": [
       "<Figure size 648x648 with 1 Axes>"
      ]
     },
     "metadata": {
      "tags": []
     },
     "output_type": "display_data"
    }
   ],
   "source": [
    "# data = [data0,data1,data2,data3,data4]\n",
    "data = [data0,data1,data2]\n",
    "# Create a figure instance\n",
    "fig = plt.figure(1, figsize=(9, 9))\n",
    "\n",
    "# Create an axes instance\n",
    "ax = fig.add_subplot(111)\n",
    "\n",
    "# Create the boxplot\n",
    "bp = ax.boxplot(data,patch_artist=True)\n",
    "\n",
    "#formatting options in matplotlib\n",
    "for box in bp['boxes']:\n",
    "    # change outline color\n",
    "    box.set( color='#7570b3', linewidth=2)\n",
    "    # change fill color\n",
    "    box.set( facecolor = '#1b9e77' )\n",
    "    \n",
    "for whisker in bp['whiskers']:\n",
    "    whisker.set(color='#7570b3', linewidth=2)\n",
    "\n",
    "for cap in bp['caps']:\n",
    "    cap.set(color='#7570b3', linewidth=2)\n",
    "    \n",
    "for median in bp['medians']:\n",
    "    median.set(color='#b2df8a', linewidth=5)\n",
    "\n",
    "for flier in bp['fliers']:\n",
    "    flier.set(marker='o', color='#e7298a', alpha=0.5)\n",
    "\n",
    "    \n",
    "ax.set_title('Contiguity Ratio Boxplots for Dissemination Block')\n",
    "# ax.set_xticklabels(['cluster0', 'cluster1', 'cluster2', 'cluster3', 'cluster4'], rotation=45, fontsize=20)\n",
    "ax.set_xticklabels(['Class0', 'Class1', 'Class2'], rotation=45, fontsize=20)\n",
    "ax.set_ylim(0,1.1)\n",
    "\n",
    "# Save the figure\n",
    "fig.savefig('ContiguityRatioforDB.png', bbox_inches='tight')"
   ]
  },
  {
   "cell_type": "markdown",
   "metadata": {
    "colab_type": "text",
    "id": "rMGeiHbHxetl"
   },
   "source": [
    "## Cluster 0\n",
    "- BCR : High\n",
    "- BD : High\n",
    "- Mean Proximity : Low\n",
    "- Average Size : Low\n",
    "- Contiguity Ratio : High"
   ]
  },
  {
   "cell_type": "markdown",
   "metadata": {
    "colab_type": "text",
    "id": "sn1oHhpgxd-5"
   },
   "source": [
    "## Cluster 1\n",
    "- BCR : Low\n",
    "- BD : Low\n",
    "- Mean Proximity : High\n",
    "- Average Size : High\n",
    "- Contiguity Ratio : Low"
   ]
  },
  {
   "cell_type": "markdown",
   "metadata": {
    "colab_type": "text",
    "id": "xfMWQYYyxfY6"
   },
   "source": [
    "## Cluster 2\n",
    "- BCR : Medium\n",
    "- BD : Medium\n",
    "- Mean Proximity : Medium\n",
    "- Average Size : Medium\n",
    "- Contiguity Ratio : Medium"
   ]
  },
  {
   "cell_type": "markdown",
   "metadata": {
    "colab_type": "text",
    "id": "YFCb_a-QtD2Z"
   },
   "source": [
    "# 3. 1 km<sup>2</sup> Grid"
   ]
  },
  {
   "cell_type": "code",
   "execution_count": 54,
   "metadata": {
    "colab": {
     "base_uri": "https://localhost:8080/",
     "height": 479
    },
    "colab_type": "code",
    "id": "WTV3q9Dlkir4",
    "outputId": "c21031de-89cd-4d5a-feb9-80933471f9dc"
   },
   "outputs": [
    {
     "data": {
      "text/html": [
       "<div>\n",
       "<style scoped>\n",
       "    .dataframe tbody tr th:only-of-type {\n",
       "        vertical-align: middle;\n",
       "    }\n",
       "\n",
       "    .dataframe tbody tr th {\n",
       "        vertical-align: top;\n",
       "    }\n",
       "\n",
       "    .dataframe thead th {\n",
       "        text-align: right;\n",
       "    }\n",
       "</style>\n",
       "<table border=\"1\" class=\"dataframe\">\n",
       "  <thead>\n",
       "    <tr style=\"text-align: right;\">\n",
       "      <th></th>\n",
       "      <th>id</th>\n",
       "      <th>area</th>\n",
       "      <th>AvgSize</th>\n",
       "      <th>BldgCount</th>\n",
       "      <th>BD</th>\n",
       "      <th>BldgArea</th>\n",
       "      <th>BCR</th>\n",
       "      <th>ProxMean</th>\n",
       "      <th>ContCount</th>\n",
       "      <th>ContRatio</th>\n",
       "      <th>geometry</th>\n",
       "    </tr>\n",
       "  </thead>\n",
       "  <tbody>\n",
       "    <tr>\n",
       "      <th>0</th>\n",
       "      <td>3922</td>\n",
       "      <td>1.000000e+06</td>\n",
       "      <td>40.357167</td>\n",
       "      <td>12</td>\n",
       "      <td>0.000012</td>\n",
       "      <td>484.286002</td>\n",
       "      <td>0.000484</td>\n",
       "      <td>2.761683</td>\n",
       "      <td>6.0</td>\n",
       "      <td>0.500000</td>\n",
       "      <td>POLYGON ((5294439.034285 1683576.202855, 52954...</td>\n",
       "    </tr>\n",
       "    <tr>\n",
       "      <th>1</th>\n",
       "      <td>3923</td>\n",
       "      <td>1.000000e+06</td>\n",
       "      <td>2570.114800</td>\n",
       "      <td>13</td>\n",
       "      <td>0.000013</td>\n",
       "      <td>33411.492398</td>\n",
       "      <td>0.033411</td>\n",
       "      <td>32.097878</td>\n",
       "      <td>2.0</td>\n",
       "      <td>0.153846</td>\n",
       "      <td>POLYGON ((5294439.034285 1682576.202855, 52954...</td>\n",
       "    </tr>\n",
       "    <tr>\n",
       "      <th>2</th>\n",
       "      <td>4019</td>\n",
       "      <td>1.000000e+06</td>\n",
       "      <td>51.317793</td>\n",
       "      <td>4</td>\n",
       "      <td>0.000004</td>\n",
       "      <td>205.271174</td>\n",
       "      <td>0.000205</td>\n",
       "      <td>58.923854</td>\n",
       "      <td>NaN</td>\n",
       "      <td>NaN</td>\n",
       "      <td>POLYGON ((5295439.034285 1683576.202855, 52964...</td>\n",
       "    </tr>\n",
       "    <tr>\n",
       "      <th>3</th>\n",
       "      <td>4020</td>\n",
       "      <td>1.000000e+06</td>\n",
       "      <td>148.553032</td>\n",
       "      <td>11</td>\n",
       "      <td>0.000011</td>\n",
       "      <td>1634.083353</td>\n",
       "      <td>0.001634</td>\n",
       "      <td>51.955178</td>\n",
       "      <td>2.0</td>\n",
       "      <td>0.181818</td>\n",
       "      <td>POLYGON ((5295439.034285 1682576.202855, 52964...</td>\n",
       "    </tr>\n",
       "    <tr>\n",
       "      <th>4</th>\n",
       "      <td>4021</td>\n",
       "      <td>1.000000e+06</td>\n",
       "      <td>9993.058286</td>\n",
       "      <td>10</td>\n",
       "      <td>0.000010</td>\n",
       "      <td>99930.582855</td>\n",
       "      <td>0.099931</td>\n",
       "      <td>20.197038</td>\n",
       "      <td>3.0</td>\n",
       "      <td>0.300000</td>\n",
       "      <td>POLYGON ((5295439.034285 1681576.202855, 52964...</td>\n",
       "    </tr>\n",
       "  </tbody>\n",
       "</table>\n",
       "</div>"
      ],
      "text/plain": [
       "     id  ...                                           geometry\n",
       "0  3922  ...  POLYGON ((5294439.034285 1683576.202855, 52954...\n",
       "1  3923  ...  POLYGON ((5294439.034285 1682576.202855, 52954...\n",
       "2  4019  ...  POLYGON ((5295439.034285 1683576.202855, 52964...\n",
       "3  4020  ...  POLYGON ((5295439.034285 1682576.202855, 52964...\n",
       "4  4021  ...  POLYGON ((5295439.034285 1681576.202855, 52964...\n",
       "\n",
       "[5 rows x 11 columns]"
      ]
     },
     "execution_count": 54,
     "metadata": {
      "tags": []
     },
     "output_type": "execute_result"
    }
   ],
   "source": [
    "gridstats.head()"
   ]
  },
  {
   "cell_type": "code",
   "execution_count": 55,
   "metadata": {
    "colab": {
     "base_uri": "https://localhost:8080/",
     "height": 204
    },
    "colab_type": "code",
    "id": "mmZEiy74Y2yL",
    "outputId": "999d4e81-f2d4-4bc2-a114-28eab1621950"
   },
   "outputs": [
    {
     "data": {
      "text/html": [
       "<div>\n",
       "<style scoped>\n",
       "    .dataframe tbody tr th:only-of-type {\n",
       "        vertical-align: middle;\n",
       "    }\n",
       "\n",
       "    .dataframe tbody tr th {\n",
       "        vertical-align: top;\n",
       "    }\n",
       "\n",
       "    .dataframe thead th {\n",
       "        text-align: right;\n",
       "    }\n",
       "</style>\n",
       "<table border=\"1\" class=\"dataframe\">\n",
       "  <thead>\n",
       "    <tr style=\"text-align: right;\">\n",
       "      <th></th>\n",
       "      <th>id</th>\n",
       "      <th>AvgSize</th>\n",
       "      <th>BD</th>\n",
       "      <th>BCR</th>\n",
       "      <th>ProxMean</th>\n",
       "      <th>ContRatio</th>\n",
       "      <th>geometry</th>\n",
       "    </tr>\n",
       "  </thead>\n",
       "  <tbody>\n",
       "    <tr>\n",
       "      <th>0</th>\n",
       "      <td>3922</td>\n",
       "      <td>40.357167</td>\n",
       "      <td>0.000012</td>\n",
       "      <td>0.000484</td>\n",
       "      <td>2.761683</td>\n",
       "      <td>0.500000</td>\n",
       "      <td>POLYGON ((5294439.034285 1683576.202855, 52954...</td>\n",
       "    </tr>\n",
       "    <tr>\n",
       "      <th>1</th>\n",
       "      <td>3923</td>\n",
       "      <td>2570.114800</td>\n",
       "      <td>0.000013</td>\n",
       "      <td>0.033411</td>\n",
       "      <td>32.097878</td>\n",
       "      <td>0.153846</td>\n",
       "      <td>POLYGON ((5294439.034285 1682576.202855, 52954...</td>\n",
       "    </tr>\n",
       "    <tr>\n",
       "      <th>2</th>\n",
       "      <td>4019</td>\n",
       "      <td>51.317793</td>\n",
       "      <td>0.000004</td>\n",
       "      <td>0.000205</td>\n",
       "      <td>58.923854</td>\n",
       "      <td>NaN</td>\n",
       "      <td>POLYGON ((5295439.034285 1683576.202855, 52964...</td>\n",
       "    </tr>\n",
       "    <tr>\n",
       "      <th>3</th>\n",
       "      <td>4020</td>\n",
       "      <td>148.553032</td>\n",
       "      <td>0.000011</td>\n",
       "      <td>0.001634</td>\n",
       "      <td>51.955178</td>\n",
       "      <td>0.181818</td>\n",
       "      <td>POLYGON ((5295439.034285 1682576.202855, 52964...</td>\n",
       "    </tr>\n",
       "    <tr>\n",
       "      <th>4</th>\n",
       "      <td>4021</td>\n",
       "      <td>9993.058286</td>\n",
       "      <td>0.000010</td>\n",
       "      <td>0.099931</td>\n",
       "      <td>20.197038</td>\n",
       "      <td>0.300000</td>\n",
       "      <td>POLYGON ((5295439.034285 1681576.202855, 52964...</td>\n",
       "    </tr>\n",
       "  </tbody>\n",
       "</table>\n",
       "</div>"
      ],
      "text/plain": [
       "     id  ...                                           geometry\n",
       "0  3922  ...  POLYGON ((5294439.034285 1683576.202855, 52954...\n",
       "1  3923  ...  POLYGON ((5294439.034285 1682576.202855, 52954...\n",
       "2  4019  ...  POLYGON ((5295439.034285 1683576.202855, 52964...\n",
       "3  4020  ...  POLYGON ((5295439.034285 1682576.202855, 52964...\n",
       "4  4021  ...  POLYGON ((5295439.034285 1681576.202855, 52964...\n",
       "\n",
       "[5 rows x 7 columns]"
      ]
     },
     "execution_count": 55,
     "metadata": {
      "tags": []
     },
     "output_type": "execute_result"
    }
   ],
   "source": [
    "df_grid = gridstats.drop(['area', 'BldgArea', 'BldgCount', 'ContCount'], axis=1)\n",
    "df_grid.head()"
   ]
  },
  {
   "cell_type": "code",
   "execution_count": 0,
   "metadata": {
    "colab": {},
    "colab_type": "code",
    "id": "T3kjswkxsDOo"
   },
   "outputs": [],
   "source": [
    "df_grid = df_grid.dropna(axis='rows')"
   ]
  },
  {
   "cell_type": "code",
   "execution_count": 57,
   "metadata": {
    "colab": {
     "base_uri": "https://localhost:8080/",
     "height": 204
    },
    "colab_type": "code",
    "id": "ndHJ6YS9ssnV",
    "outputId": "80b07998-7c7b-41af-a0e1-40fb64d6983d"
   },
   "outputs": [
    {
     "data": {
      "text/html": [
       "<div>\n",
       "<style scoped>\n",
       "    .dataframe tbody tr th:only-of-type {\n",
       "        vertical-align: middle;\n",
       "    }\n",
       "\n",
       "    .dataframe tbody tr th {\n",
       "        vertical-align: top;\n",
       "    }\n",
       "\n",
       "    .dataframe thead th {\n",
       "        text-align: right;\n",
       "    }\n",
       "</style>\n",
       "<table border=\"1\" class=\"dataframe\">\n",
       "  <thead>\n",
       "    <tr style=\"text-align: right;\">\n",
       "      <th></th>\n",
       "      <th>id</th>\n",
       "      <th>AvgSize</th>\n",
       "      <th>BD</th>\n",
       "      <th>BCR</th>\n",
       "      <th>ProxMean</th>\n",
       "      <th>ContRatio</th>\n",
       "      <th>geometry</th>\n",
       "    </tr>\n",
       "  </thead>\n",
       "  <tbody>\n",
       "    <tr>\n",
       "      <th>0</th>\n",
       "      <td>3922</td>\n",
       "      <td>40.357167</td>\n",
       "      <td>0.000012</td>\n",
       "      <td>0.000484</td>\n",
       "      <td>2.761683</td>\n",
       "      <td>0.500000</td>\n",
       "      <td>POLYGON ((5294439.034285 1683576.202855, 52954...</td>\n",
       "    </tr>\n",
       "    <tr>\n",
       "      <th>1</th>\n",
       "      <td>3923</td>\n",
       "      <td>2570.114800</td>\n",
       "      <td>0.000013</td>\n",
       "      <td>0.033411</td>\n",
       "      <td>32.097878</td>\n",
       "      <td>0.153846</td>\n",
       "      <td>POLYGON ((5294439.034285 1682576.202855, 52954...</td>\n",
       "    </tr>\n",
       "    <tr>\n",
       "      <th>3</th>\n",
       "      <td>4020</td>\n",
       "      <td>148.553032</td>\n",
       "      <td>0.000011</td>\n",
       "      <td>0.001634</td>\n",
       "      <td>51.955178</td>\n",
       "      <td>0.181818</td>\n",
       "      <td>POLYGON ((5295439.034285 1682576.202855, 52964...</td>\n",
       "    </tr>\n",
       "    <tr>\n",
       "      <th>4</th>\n",
       "      <td>4021</td>\n",
       "      <td>9993.058286</td>\n",
       "      <td>0.000010</td>\n",
       "      <td>0.099931</td>\n",
       "      <td>20.197038</td>\n",
       "      <td>0.300000</td>\n",
       "      <td>POLYGON ((5295439.034285 1681576.202855, 52964...</td>\n",
       "    </tr>\n",
       "    <tr>\n",
       "      <th>7</th>\n",
       "      <td>4115</td>\n",
       "      <td>149.531578</td>\n",
       "      <td>0.000027</td>\n",
       "      <td>0.004037</td>\n",
       "      <td>33.231388</td>\n",
       "      <td>0.111111</td>\n",
       "      <td>POLYGON ((5296439.034285 1684576.202855, 52974...</td>\n",
       "    </tr>\n",
       "  </tbody>\n",
       "</table>\n",
       "</div>"
      ],
      "text/plain": [
       "     id  ...                                           geometry\n",
       "0  3922  ...  POLYGON ((5294439.034285 1683576.202855, 52954...\n",
       "1  3923  ...  POLYGON ((5294439.034285 1682576.202855, 52954...\n",
       "3  4020  ...  POLYGON ((5295439.034285 1682576.202855, 52964...\n",
       "4  4021  ...  POLYGON ((5295439.034285 1681576.202855, 52964...\n",
       "7  4115  ...  POLYGON ((5296439.034285 1684576.202855, 52974...\n",
       "\n",
       "[5 rows x 7 columns]"
      ]
     },
     "execution_count": 57,
     "metadata": {
      "tags": []
     },
     "output_type": "execute_result"
    }
   ],
   "source": [
    "df_grid.head()"
   ]
  },
  {
   "cell_type": "code",
   "execution_count": 58,
   "metadata": {
    "colab": {
     "base_uri": "https://localhost:8080/",
     "height": 1000
    },
    "colab_type": "code",
    "id": "Ec1kSLKtsvPz",
    "outputId": "9382bab6-5dda-4ca7-f3bb-e7c5191eae64"
   },
   "outputs": [
    {
     "data": {
      "text/plain": [
       "array([[-3.04650268e-01, -1.15481968e+00, -1.50821277e+00,\n",
       "        -3.61964168e-01,  1.18127690e+00],\n",
       "       [ 2.65982290e+00, -1.15303269e+00, -1.04028445e+00,\n",
       "         3.81913746e+00, -1.38152386e+00],\n",
       "       [-1.77861941e-01, -1.15660668e+00, -1.49187310e+00,\n",
       "         6.64927237e+00, -1.17442883e+00],\n",
       "       [ 1.13583308e+01, -1.15839368e+00, -9.49819047e-02,\n",
       "         2.12298629e+00, -2.99452409e-01],\n",
       "       [-1.76715241e-01, -1.12801472e+00, -1.45772024e+00,\n",
       "         3.98068945e+00, -1.69791899e+00],\n",
       "       [-2.53886593e-01, -1.13516271e+00, -1.48774495e+00,\n",
       "         9.29501357e-01, -1.87675104e+00],\n",
       "       [ 5.12970541e-02, -1.13694971e+00, -1.40751251e+00,\n",
       "         1.25005016e+00, -1.17442883e+00],\n",
       "       [-3.12697059e-01, -1.15839368e+00, -1.51033575e+00,\n",
       "         3.90824368e+00, -1.03981707e+00],\n",
       "       [-3.34866710e-01, -1.17268966e+00, -1.51468090e+00,\n",
       "        -6.52786672e-01,  4.88310018e+00],\n",
       "       [-2.69631546e-01, -1.11907973e+00, -1.48315295e+00,\n",
       "        -2.06865798e-01,  1.64400481e+00],\n",
       "       [-1.83751663e-01, -7.93846102e-01, -1.07860738e+00,\n",
       "        -4.21275671e-01,  2.47171995e-01],\n",
       "       [-1.36012447e-01, -7.36859354e-02,  1.00580163e-01,\n",
       "        -4.48446095e-01,  1.67325296e-01],\n",
       "       [-1.34056089e-03, -1.07261778e+00, -1.26849216e+00,\n",
       "         4.79094817e-02, -1.24405561e+00],\n",
       "       [-3.07833753e-01, -1.15124569e+00, -1.50760624e+00,\n",
       "        -4.06824913e-01,  1.71010879e+00],\n",
       "       [-3.19725761e-01, -1.16375467e+00, -1.51236010e+00,\n",
       "        -6.50137585e-01,  3.82543641e+00],\n",
       "       [-2.23671652e-01, -8.06355088e-01, -1.19309643e+00,\n",
       "        -4.79064308e-01, -8.84305653e-02],\n",
       "       [-1.31520155e-01,  4.21312492e-01,  8.74635511e-01,\n",
       "        -4.71962497e-01, -2.10012361e-01],\n",
       "       [-2.04679672e-01,  5.12449386e-01,  1.72548485e-01,\n",
       "        -4.48941649e-01, -4.91398832e-01],\n",
       "       [-2.12138305e-01, -3.22078648e-01, -7.04686796e-01,\n",
       "        -2.01378922e-01, -7.70311966e-01],\n",
       "       [-2.19733502e-01, -4.06067551e-01, -8.24069539e-01,\n",
       "        -2.05461370e-01, -1.50005287e-01],\n",
       "       [-1.63727859e-01, -8.13503080e-01, -1.05174917e+00,\n",
       "        -2.41320035e-01,  7.61858475e-01],\n",
       "       [-1.90410151e-01, -4.63251485e-01, -7.33488506e-01,\n",
       "        -4.58234334e-01,  1.11633263e+00],\n",
       "       [-1.12759978e-01, -9.95776869e-01, -1.22213617e+00,\n",
       "        -4.64983399e-01,  2.64983984e-01],\n",
       "       [-1.54861153e-01,  7.59055101e-01,  1.07329529e+00,\n",
       "        -4.56635361e-01, -1.34699062e-01],\n",
       "       [-2.03077664e-01,  1.33804243e+00,  1.02495332e+00,\n",
       "        -4.64460052e-01,  1.20982096e-01],\n",
       "       [-1.89864481e-01,  7.34037130e-01,  5.86057498e-01,\n",
       "        -4.52957253e-01, -9.65274153e-02],\n",
       "       [-2.23583881e-01,  1.45419730e+00,  7.76239851e-01,\n",
       "        -4.26882836e-01, -6.64605070e-01],\n",
       "       [-2.24768235e-01,  1.39343937e+00,  7.02661423e-01,\n",
       "        -3.98101610e-01, -6.00129007e-01],\n",
       "       [-1.44879050e-01, -3.02421671e-01, -2.87180514e-01,\n",
       "        -2.29152506e-01, -3.85752571e-01],\n",
       "       [ 1.15903492e-01, -1.03330383e+00, -1.06120687e+00,\n",
       "         1.43522245e+00, -1.78018172e+00],\n",
       "       [-1.28804133e-01, -9.17148960e-01, -1.12272301e+00,\n",
       "        -2.91734214e-01, -2.22862944e-01],\n",
       "       [-1.06616695e-01,  4.44543465e-01,  1.18330503e+00,\n",
       "        -4.51355715e-01, -1.37012998e-01],\n",
       "       [-7.20001567e-02, -7.54729334e-02,  5.76151013e-01,\n",
       "        -3.56433823e-01,  5.56293785e-01],\n",
       "       [-3.74565204e-02, -8.22438069e-01, -7.59964019e-01,\n",
       "        -1.03488690e-01, -5.01370063e-01],\n",
       "       [-1.34647361e-01,  7.69777089e-01,  1.35458647e+00,\n",
       "        -5.14544146e-01, -1.68239950e-01],\n",
       "       [-1.63338971e-01,  9.02014936e-01,  1.14492752e+00,\n",
       "        -4.36034708e-01, -1.90594002e-01],\n",
       "       [-1.83703768e-01,  9.02014936e-01,  8.57706803e-01,\n",
       "        -4.29934268e-01, -2.47887862e-01],\n",
       "       [-2.14935560e-01,  1.00923481e+00,  5.16909916e-01,\n",
       "        -3.99602527e-01, -6.31799290e-01],\n",
       "       [-2.36359405e-01,  1.27907150e+00,  4.10818434e-01,\n",
       "        -3.51180971e-01, -8.87864475e-01],\n",
       "       [-2.36061804e-01,  1.44526231e+00,  5.46469499e-01,\n",
       "        -3.54767294e-01, -1.48553284e-01],\n",
       "       [-2.34703266e-01,  4.60429260e-02, -5.42605835e-01,\n",
       "        -1.79213074e-01, -3.23265276e-01],\n",
       "       [-8.55639981e-02, -7.04496206e-01, -6.62271946e-01,\n",
       "        -1.18290199e-01, -1.23051708e+00],\n",
       "       [-1.71254156e-01, -7.88485109e-01, -1.03960033e+00,\n",
       "        -1.43484960e-01,  2.77144918e-01],\n",
       "       [-1.57401164e-01, -3.50670615e-01, -4.25137313e-01,\n",
       "        -3.69101183e-01, -1.16765061e-01],\n",
       "       [-1.62904384e-01,  2.12233734e-01,  2.66160297e-01,\n",
       "        -4.23121780e-01, -3.09933752e-01],\n",
       "       [-9.77305565e-02,  3.53406570e-01,  1.12382078e+00,\n",
       "        -3.72308820e-01, -7.21529487e-01],\n",
       "       [-1.12274321e-01, -7.49171154e-01, -8.20448151e-01,\n",
       "        -5.16153381e-01,  3.29392896e-01],\n",
       "       [-1.27237820e-01, -9.31444943e-01, -1.14176872e+00,\n",
       "        -5.68519421e-01,  6.67885321e-01],\n",
       "       [-1.20273412e-01,  8.96653942e-01,  1.74388649e+00,\n",
       "        -5.73731938e-01,  1.30254353e+00],\n",
       "       [-1.64288856e-01,  1.05390976e+00,  1.32496408e+00,\n",
       "        -4.65018032e-01, -2.89960564e-01],\n",
       "       [-2.08694042e-01,  1.25047953e+00,  8.44000155e-01,\n",
       "        -4.50745286e-01, -7.26544310e-02],\n",
       "       [-2.27977459e-01,  1.51674222e+00,  7.50426571e-01,\n",
       "        -4.22979114e-01, -2.36076824e-01],\n",
       "       [-2.35848802e-01,  1.12896367e+00,  3.01064778e-01,\n",
       "        -3.66311567e-01, -1.84667161e-01],\n",
       "       [-2.55267064e-01,  2.26549436e+00,  7.42926576e-01,\n",
       "        -3.68806016e-01,  8.57217109e-02],\n",
       "       [-9.18684464e-02,  3.64128558e-01,  1.20359762e+00,\n",
       "        -3.79506977e-01,  1.53342254e+00],\n",
       "       [-2.51523059e-01,  1.86341982e+00,  5.56370869e-01,\n",
       "        -4.60050655e-01,  1.21392084e+00],\n",
       "       [-2.38815254e-01,  1.88128980e+00,  8.32228334e-01,\n",
       "        -3.50719765e-01, -5.38740339e-01],\n",
       "       [-2.07072992e-01,  1.10037171e+00,  7.23121847e-01,\n",
       "        -3.75416121e-01, -6.02804315e-01],\n",
       "       [-1.37383346e-01,  6.17882265e-01,  1.09728630e+00,\n",
       "        -3.28024584e-01, -6.84383023e-01],\n",
       "       [-1.47681407e-02,  1.01439862e-01,  1.40849475e+00,\n",
       "        -3.59826171e-01, -4.80660509e-01],\n",
       "       [-1.59578192e-01, -5.40092396e-01, -6.84612911e-01,\n",
       "        -4.69643210e-01, -2.74496271e-01],\n",
       "       [-1.46636655e-01, -5.27583410e-01, -6.11312876e-01,\n",
       "        -5.65070063e-01,  1.47701482e+00],\n",
       "       [-3.44027478e-02, -5.57962375e-01, -1.82709085e-01,\n",
       "        -1.74975703e-01,  2.57945226e-02],\n",
       "       [-2.01260837e-01,  7.71564087e-01,  4.76690949e-01,\n",
       "        -4.38414140e-01,  6.05413907e-02],\n",
       "       [-2.00278906e-01,  1.21652657e+00,  9.47639957e-01,\n",
       "        -4.20189783e-01, -4.02849146e-01],\n",
       "       [-2.44198914e-01,  1.62038810e+00,  5.29754952e-01,\n",
       "        -3.78457575e-01,  1.52335577e-01],\n",
       "       [-2.45490846e-01,  2.64076392e+00,  1.24236579e+00,\n",
       "        -4.52894685e-01,  1.48282994e+00],\n",
       "       [-1.75846631e-01,  8.28748021e-01,  8.80965657e-01,\n",
       "        -3.79179600e-01,  1.39903118e+00],\n",
       "       [-1.68337020e-01,  1.31302446e+00,  1.58655313e+00,\n",
       "        -4.38702750e-01,  1.05637694e+00],\n",
       "       [-2.31155552e-01,  3.98081519e-01, -2.24614045e-01,\n",
       "        -4.20056381e-01,  6.56046594e-01],\n",
       "       [-1.14940755e-01, -1.32656867e-01,  1.63400583e-01,\n",
       "        -3.09953582e-01,  2.55821083e-01],\n",
       "       [-1.14815584e-01,  5.55337337e-01,  1.27141392e+00,\n",
       "        -4.27287461e-01, -6.03047043e-02],\n",
       "       [-1.91601473e-01,  1.28443249e+00,  1.16243504e+00,\n",
       "        -4.80439519e-01, -2.78483505e-01],\n",
       "       [-2.12845118e-01,  4.42756467e-01,  1.31848095e-02,\n",
       "        -4.46173127e-01, -5.10284720e-01],\n",
       "       [-1.67395295e-01, -3.93558565e-01, -5.34843789e-01,\n",
       "        -4.14949046e-01,  3.53015044e-01],\n",
       "       [-2.06126272e-01,  6.46474231e-01,  2.88594486e-01,\n",
       "        -4.55578263e-01, -2.99452409e-01],\n",
       "       [-1.15352064e-01,  7.01871167e-01,  1.50037993e+00,\n",
       "        -3.30728970e-01, -5.41074783e-01],\n",
       "       [-1.77744433e-01,  9.35967897e-01,  9.81893716e-01,\n",
       "        -3.25656411e-01,  2.10409558e-01],\n",
       "       [ 8.93379947e-01, -8.56391030e-01,  1.18818324e+00,\n",
       "         5.50118219e-01, -5.76572159e-01],\n",
       "       [ 3.51772756e-01, -6.91987220e-01,  7.97620153e-01,\n",
       "         1.37936256e-01, -1.98369386e-01],\n",
       "       [-6.25798552e-02,  4.83857420e-01,  1.74487799e+00,\n",
       "        -3.87046336e-01,  1.40840708e+00],\n",
       "       [-4.60732086e-02, -4.07854549e-01,  7.99030213e-02,\n",
       "        -7.90867880e-02, -2.82234637e-01],\n",
       "       [ 1.54989199e-01, -9.65397904e-01, -7.89678643e-01,\n",
       "         1.23676908e-01, -3.24549512e-01],\n",
       "       [-1.49596844e-01,  2.58695680e-01,  4.55354133e-01,\n",
       "        -4.40460352e-01,  7.02688939e-02],\n",
       "       [-1.21725088e-01, -4.09641547e-01, -3.17386129e-01,\n",
       "        -3.52197022e-01, -6.56691312e-01],\n",
       "       [-2.14182512e-01, -8.92130989e-01, -1.24946577e+00,\n",
       "        -2.87574946e-01, -1.07706814e+00],\n",
       "       [-1.91315998e-01,  1.19309841e-01, -1.02846981e-01,\n",
       "        -4.46026613e-01, -7.98960117e-02],\n",
       "       [-2.10901999e-01,  8.69848973e-01,  4.43321541e-01,\n",
       "        -4.79903487e-01,  3.63319440e-01],\n",
       "       [-2.13408849e-01,  1.14147266e+00,  6.63873645e-01,\n",
       "        -3.54051398e-01, -3.17148087e-01],\n",
       "       [-2.26364611e-01,  1.30051547e+00,  5.95632299e-01,\n",
       "        -3.84218524e-01,  6.25736287e-01],\n",
       "       [-6.77615031e-02, -1.80905811e-01,  4.04484309e-01,\n",
       "        -3.53029708e-03,  9.79785219e-02],\n",
       "       [-8.23556199e-02,  2.14020732e-01,  1.02841924e+00,\n",
       "        -2.63769648e-01,  8.29175465e-01],\n",
       "       [-2.44123378e-01,  2.89809163e+00,  1.46607217e+00,\n",
       "        -5.18772823e-01,  2.34377927e+00],\n",
       "       [-2.58999443e-01,  2.83912069e+00,  1.01755792e+00,\n",
       "        -4.53384397e-01,  1.06430788e+00],\n",
       "       [-2.32269598e-01, -9.13574964e-01, -1.30175669e+00,\n",
       "         1.45682113e-02,  1.48795597e-01],\n",
       "       [ 6.30112933e-01, -1.14052370e+00, -1.27690592e+00,\n",
       "         2.08495827e+00, -1.40999939e+00],\n",
       "       [-1.86946337e-01, -9.29657945e-01, -1.23896810e+00,\n",
       "        -3.12008061e-01, -4.81861084e-01],\n",
       "       [-1.65658881e-01, -7.58106144e-01, -9.86471668e-01,\n",
       "        -1.54553774e-01,  3.58649516e-01],\n",
       "       [ 1.03904766e-01, -9.20722956e-01, -7.24577927e-01,\n",
       "         1.83683514e+00, -1.32975008e+00],\n",
       "       [ 5.52250590e-01, -9.99350865e-01, -4.29538885e-01,\n",
       "         1.50055287e+00, -1.09964453e+00],\n",
       "       [-1.92646839e-03, -3.91771567e-01,  3.48314493e-01,\n",
       "        -8.41948357e-02,  1.60956605e-01],\n",
       "       [ 7.46333035e-02, -4.07854549e-01,  7.09344144e-01,\n",
       "         4.38449922e-02, -6.43808079e-01],\n",
       "       [-1.19754737e-01,  4.58839449e-01,  1.06132238e+00,\n",
       "        -3.19927387e-01,  1.41188228e+00],\n",
       "       [-2.33932279e-01,  1.92775175e+00,  9.70756274e-01,\n",
       "        -4.20940883e-01,  3.25821858e-02],\n",
       "       [-1.90573048e-01,  6.00012285e-01,  4.30101477e-01,\n",
       "        -4.18747586e-01, -1.37078668e-01],\n",
       "       [-1.45252825e-04, -1.09763575e+00, -1.32737912e+00,\n",
       "         2.76629157e-01,  3.42403438e-03],\n",
       "       [-1.86907271e-01, -1.10299674e+00, -1.43303787e+00,\n",
       "         9.39104886e-01, -1.79823936e+00],\n",
       "       [-1.02848917e-01, -5.02565439e-01, -3.76262855e-01,\n",
       "         5.08683458e-01, -7.72735920e-01],\n",
       "       [ 5.06115960e-01, -7.61680140e-01,  8.99035507e-01,\n",
       "         4.92283262e-01,  7.02592876e-01],\n",
       "       [ 9.67431408e-01, -9.42166931e-01,  5.80923349e-01,\n",
       "         8.33555290e-01, -4.29440083e-01],\n",
       "       [-1.81265391e-01,  4.28460484e-01,  3.43596869e-01,\n",
       "        -3.70027586e-01,  1.01234942e-01],\n",
       "       [-1.98709068e-01,  7.76925081e-01,  5.15996292e-01,\n",
       "        -3.66222490e-01, -6.57780759e-01],\n",
       "       [-1.27406981e-01,  2.67630670e-01,  6.85054567e-01,\n",
       "        -4.28186500e-01, -1.65673624e-01],\n",
       "       [-8.61668364e-02, -3.97329747e-02,  5.34783655e-01,\n",
       "        -4.31475091e-01, -6.11429933e-01],\n",
       "       [-9.64588913e-02, -1.89840801e-01,  1.95148517e-01,\n",
       "        -4.45062583e-01, -1.08541923e+00],\n",
       "       [-4.42754092e-02, -1.12622772e+00, -1.41062415e+00,\n",
       "        -4.63027689e-01,  1.23613130e-01],\n",
       "       [ 1.32977153e-01, -9.70758898e-01, -8.38819700e-01,\n",
       "         1.90361517e+00, -1.03981707e+00],\n",
       "       [ 1.04395717e+00, -1.02436884e+00, -7.62002257e-02,\n",
       "         1.27491968e+00, -1.12691882e+00],\n",
       "       [ 6.54650875e-01, -1.04223881e+00, -5.99567914e-01,\n",
       "         1.38631460e+00, -1.03981707e+00],\n",
       "       [-2.25800843e-01,  1.28800649e+00,  5.94400063e-01,\n",
       "        -4.62603539e-01, -3.99849929e-01],\n",
       "       [-2.02439179e-01,  1.47206728e+00,  1.17182539e+00,\n",
       "        -4.36691314e-01, -2.22518452e-01],\n",
       "       [ 2.57865738e-01, -5.13287427e-01,  1.22851945e+00,\n",
       "        -1.33627311e-01, -3.45351020e-01],\n",
       "       [-1.36145140e-01,  5.98225287e-01,  1.08357524e+00,\n",
       "        -4.97651958e-01,  1.63555063e-01],\n",
       "       [-9.19515229e-02,  5.14039198e-02,  6.50966792e-01,\n",
       "        -4.95699099e-01, -7.10047690e-01],\n",
       "       [-7.86455626e-02, -2.00759975e-02,  6.29251111e-01,\n",
       "        -5.48496130e-01,  7.29276877e-01],\n",
       "       [-1.92117412e-01,  8.91292948e-01,  7.27413426e-01,\n",
       "        -4.84784923e-01, -5.94446486e-01],\n",
       "       [-1.66492930e-01,  5.07088393e-01,  6.03424757e-01,\n",
       "        -4.37405215e-01, -6.57845467e-01],\n",
       "       [ 3.62297907e-01, -6.66969249e-01,  9.53473429e-01,\n",
       "        -2.44353812e-02, -1.04619601e-01],\n",
       "       [-1.01151392e-01,  9.10949925e-01,  2.03721452e+00,\n",
       "        -5.59677396e-01,  4.71338199e-01],\n",
       "       [-9.32376557e-02,  3.49832575e-01,  1.16418598e+00,\n",
       "        -5.18776243e-01,  2.97000609e-01],\n",
       "       [-1.22118928e-01,  5.98225287e-01,  1.25248146e+00,\n",
       "        -5.03344780e-01,  9.64525563e-02],\n",
       "       [-6.64541084e-02, -7.36662168e-01, -6.63409252e-01,\n",
       "        -3.57894975e-01, -6.54586677e-01],\n",
       "       [-1.53743753e-01, -2.82764694e-01, -3.13310273e-01,\n",
       "        -5.44664239e-01,  2.03995557e-01],\n",
       "       [-4.91986334e-02, -9.29657945e-01, -1.00844244e+00,\n",
       "        -3.65662800e-01,  4.83831926e-01],\n",
       "       [ 2.64298072e-01, -1.10478374e+00, -1.21616727e+00,\n",
       "         1.96334398e+00, -2.15036405e+00],\n",
       "       [-1.00730215e-01, -1.11014474e+00, -1.40237566e+00,\n",
       "        -5.89047102e-01,  6.81030496e-01],\n",
       "       [-2.16257188e-01, -8.58178028e-01, -1.22220225e+00,\n",
       "        -4.12106269e-01,  1.59721214e+00],\n",
       "       [-1.03322808e-01, -5.13287427e-01, -3.96519635e-01,\n",
       "        -2.68806576e-01, -2.25615472e-01],\n",
       "       [-9.98540750e-02, -1.10120975e+00, -1.38669709e+00,\n",
       "         4.74055057e-01, -1.46288260e+00],\n",
       "       [-3.03441267e-01, -1.16196768e+00, -1.51038961e+00,\n",
       "         7.23542851e-01,  2.55821083e-01],\n",
       "       [-2.55647182e-01, -1.12265372e+00, -1.48006163e+00,\n",
       "         3.24142267e-01,  1.67485337e+00],\n",
       "       [-1.61229950e-01, -1.09227476e+00, -1.40639410e+00,\n",
       "         5.19373872e-01,  1.57368353e-01],\n",
       "       [-3.04704552e-01, -1.06368279e+00, -1.47900505e+00,\n",
       "        -1.74097330e-01,  2.29769979e+00],\n",
       "       [-3.14206544e-02, -1.14588470e+00, -1.44901615e+00,\n",
       "        -9.50304813e-02,  2.27004843e+00],\n",
       "       [-3.31821303e-01, -1.17268966e+00, -1.51460700e+00,\n",
       "         1.67642577e+00,  1.18127690e+00]])"
      ]
     },
     "execution_count": 58,
     "metadata": {
      "tags": []
     },
     "output_type": "execute_result"
    }
   ],
   "source": [
    "X = df_grid.values[:,1:-1] #we are taking only the 5 statistics\n",
    "cluster_dataset = StandardScaler().fit_transform(X) #creating standard scalar from unscaled data a \n",
    "cluster_dataset"
   ]
  },
  {
   "cell_type": "code",
   "execution_count": 59,
   "metadata": {
    "colab": {
     "base_uri": "https://localhost:8080/",
     "height": 136
    },
    "colab_type": "code",
    "id": "erjKAHSBA5qd",
    "outputId": "43c6865a-03f2-4411-d7fc-e1d09149bd37"
   },
   "outputs": [
    {
     "data": {
      "text/plain": [
       "array([0, 0, 0, 2, 0, 0, 0, 0, 0, 0, 0, 1, 0, 0, 0, 0, 1, 1, 0, 0, 0, 0,\n",
       "       0, 1, 1, 1, 1, 1, 0, 0, 0, 1, 1, 0, 1, 1, 1, 1, 1, 1, 0, 0, 0, 0,\n",
       "       1, 1, 0, 0, 1, 1, 1, 1, 1, 1, 1, 1, 1, 1, 1, 1, 0, 0, 0, 1, 1, 1,\n",
       "       1, 1, 1, 1, 1, 1, 1, 1, 0, 1, 1, 1, 1, 1, 1, 0, 0, 1, 0, 0, 1, 1,\n",
       "       1, 1, 1, 1, 1, 1, 0, 0, 0, 0, 0, 0, 1, 1, 1, 1, 1, 0, 0, 0, 1, 0,\n",
       "       1, 1, 1, 1, 1, 0, 0, 0, 0, 1, 1, 1, 1, 1, 1, 1, 1, 1, 1, 1, 1, 0,\n",
       "       0, 0, 0, 0, 0, 0, 0, 0, 0, 0, 0, 0, 0], dtype=int32)"
      ]
     },
     "execution_count": 59,
     "metadata": {
      "tags": []
     },
     "output_type": "execute_result"
    }
   ],
   "source": [
    "k_means = KMeans(init = \"k-means++\", n_clusters = 3, n_init = 12)\n",
    "# fit the X value to the model\n",
    "k_means.fit(cluster_dataset)\n",
    "labels = k_means.labels_\n",
    "labels"
   ]
  },
  {
   "cell_type": "code",
   "execution_count": 0,
   "metadata": {
    "colab": {},
    "colab_type": "code",
    "id": "rYg7jSJWA-Eu"
   },
   "outputs": [],
   "source": [
    "new_lab = []\n",
    "for label in labels:\n",
    "    new_lab.append(\"Class \"+str(label))"
   ]
  },
  {
   "cell_type": "code",
   "execution_count": 61,
   "metadata": {
    "colab": {
     "base_uri": "https://localhost:8080/",
     "height": 442
    },
    "colab_type": "code",
    "id": "WLL32IPwBAyr",
    "outputId": "89fad6cb-5714-4ba8-8858-216971464bb8"
   },
   "outputs": [
    {
     "data": {
      "text/plain": [
       "array(['Class 0', 'Class 0', 'Class 0', 'Class 2', 'Class 0', 'Class 0',\n",
       "       'Class 0', 'Class 0', 'Class 0', 'Class 0', 'Class 0', 'Class 1',\n",
       "       'Class 0', 'Class 0', 'Class 0', 'Class 0', 'Class 1', 'Class 1',\n",
       "       'Class 0', 'Class 0', 'Class 0', 'Class 0', 'Class 0', 'Class 1',\n",
       "       'Class 1', 'Class 1', 'Class 1', 'Class 1', 'Class 0', 'Class 0',\n",
       "       'Class 0', 'Class 1', 'Class 1', 'Class 0', 'Class 1', 'Class 1',\n",
       "       'Class 1', 'Class 1', 'Class 1', 'Class 1', 'Class 0', 'Class 0',\n",
       "       'Class 0', 'Class 0', 'Class 1', 'Class 1', 'Class 0', 'Class 0',\n",
       "       'Class 1', 'Class 1', 'Class 1', 'Class 1', 'Class 1', 'Class 1',\n",
       "       'Class 1', 'Class 1', 'Class 1', 'Class 1', 'Class 1', 'Class 1',\n",
       "       'Class 0', 'Class 0', 'Class 0', 'Class 1', 'Class 1', 'Class 1',\n",
       "       'Class 1', 'Class 1', 'Class 1', 'Class 1', 'Class 1', 'Class 1',\n",
       "       'Class 1', 'Class 1', 'Class 0', 'Class 1', 'Class 1', 'Class 1',\n",
       "       'Class 1', 'Class 1', 'Class 1', 'Class 0', 'Class 0', 'Class 1',\n",
       "       'Class 0', 'Class 0', 'Class 1', 'Class 1', 'Class 1', 'Class 1',\n",
       "       'Class 1', 'Class 1', 'Class 1', 'Class 1', 'Class 0', 'Class 0',\n",
       "       'Class 0', 'Class 0', 'Class 0', 'Class 0', 'Class 1', 'Class 1',\n",
       "       'Class 1', 'Class 1', 'Class 1', 'Class 0', 'Class 0', 'Class 0',\n",
       "       'Class 1', 'Class 0', 'Class 1', 'Class 1', 'Class 1', 'Class 1',\n",
       "       'Class 1', 'Class 0', 'Class 0', 'Class 0', 'Class 0', 'Class 1',\n",
       "       'Class 1', 'Class 1', 'Class 1', 'Class 1', 'Class 1', 'Class 1',\n",
       "       'Class 1', 'Class 1', 'Class 1', 'Class 1', 'Class 1', 'Class 0',\n",
       "       'Class 0', 'Class 0', 'Class 0', 'Class 0', 'Class 0', 'Class 0',\n",
       "       'Class 0', 'Class 0', 'Class 0', 'Class 0', 'Class 0', 'Class 0',\n",
       "       'Class 0'], dtype='<U7')"
      ]
     },
     "execution_count": 61,
     "metadata": {
      "tags": []
     },
     "output_type": "execute_result"
    }
   ],
   "source": [
    "new_lab = np.asarray(new_lab)\n",
    "new_lab"
   ]
  },
  {
   "cell_type": "code",
   "execution_count": 62,
   "metadata": {
    "colab": {
     "base_uri": "https://localhost:8080/",
     "height": 204
    },
    "colab_type": "code",
    "id": "UH8ZQVjpBCPF",
    "outputId": "af4608e4-93ad-43ee-ca40-ca39068b92c6"
   },
   "outputs": [
    {
     "data": {
      "text/html": [
       "<div>\n",
       "<style scoped>\n",
       "    .dataframe tbody tr th:only-of-type {\n",
       "        vertical-align: middle;\n",
       "    }\n",
       "\n",
       "    .dataframe tbody tr th {\n",
       "        vertical-align: top;\n",
       "    }\n",
       "\n",
       "    .dataframe thead th {\n",
       "        text-align: right;\n",
       "    }\n",
       "</style>\n",
       "<table border=\"1\" class=\"dataframe\">\n",
       "  <thead>\n",
       "    <tr style=\"text-align: right;\">\n",
       "      <th></th>\n",
       "      <th>id</th>\n",
       "      <th>AvgSize</th>\n",
       "      <th>BD</th>\n",
       "      <th>BCR</th>\n",
       "      <th>ProxMean</th>\n",
       "      <th>ContRatio</th>\n",
       "      <th>geometry</th>\n",
       "      <th>Labels</th>\n",
       "    </tr>\n",
       "  </thead>\n",
       "  <tbody>\n",
       "    <tr>\n",
       "      <th>0</th>\n",
       "      <td>3922</td>\n",
       "      <td>40.357167</td>\n",
       "      <td>0.000012</td>\n",
       "      <td>0.000484</td>\n",
       "      <td>2.761683</td>\n",
       "      <td>0.500000</td>\n",
       "      <td>POLYGON ((5294439.034285 1683576.202855, 52954...</td>\n",
       "      <td>Class 0</td>\n",
       "    </tr>\n",
       "    <tr>\n",
       "      <th>1</th>\n",
       "      <td>3923</td>\n",
       "      <td>2570.114800</td>\n",
       "      <td>0.000013</td>\n",
       "      <td>0.033411</td>\n",
       "      <td>32.097878</td>\n",
       "      <td>0.153846</td>\n",
       "      <td>POLYGON ((5294439.034285 1682576.202855, 52954...</td>\n",
       "      <td>Class 0</td>\n",
       "    </tr>\n",
       "    <tr>\n",
       "      <th>3</th>\n",
       "      <td>4020</td>\n",
       "      <td>148.553032</td>\n",
       "      <td>0.000011</td>\n",
       "      <td>0.001634</td>\n",
       "      <td>51.955178</td>\n",
       "      <td>0.181818</td>\n",
       "      <td>POLYGON ((5295439.034285 1682576.202855, 52964...</td>\n",
       "      <td>Class 0</td>\n",
       "    </tr>\n",
       "    <tr>\n",
       "      <th>4</th>\n",
       "      <td>4021</td>\n",
       "      <td>9993.058286</td>\n",
       "      <td>0.000010</td>\n",
       "      <td>0.099931</td>\n",
       "      <td>20.197038</td>\n",
       "      <td>0.300000</td>\n",
       "      <td>POLYGON ((5295439.034285 1681576.202855, 52964...</td>\n",
       "      <td>Class 2</td>\n",
       "    </tr>\n",
       "    <tr>\n",
       "      <th>7</th>\n",
       "      <td>4115</td>\n",
       "      <td>149.531578</td>\n",
       "      <td>0.000027</td>\n",
       "      <td>0.004037</td>\n",
       "      <td>33.231388</td>\n",
       "      <td>0.111111</td>\n",
       "      <td>POLYGON ((5296439.034285 1684576.202855, 52974...</td>\n",
       "      <td>Class 0</td>\n",
       "    </tr>\n",
       "  </tbody>\n",
       "</table>\n",
       "</div>"
      ],
      "text/plain": [
       "     id  ...   Labels\n",
       "0  3922  ...  Class 0\n",
       "1  3923  ...  Class 0\n",
       "3  4020  ...  Class 0\n",
       "4  4021  ...  Class 2\n",
       "7  4115  ...  Class 0\n",
       "\n",
       "[5 rows x 8 columns]"
      ]
     },
     "execution_count": 62,
     "metadata": {
      "tags": []
     },
     "output_type": "execute_result"
    }
   ],
   "source": [
    "df_grid['Labels'] = new_lab\n",
    "df_grid.head()"
   ]
  },
  {
   "cell_type": "code",
   "execution_count": 0,
   "metadata": {
    "colab": {},
    "colab_type": "code",
    "id": "J4RO6EZmBK5K"
   },
   "outputs": [],
   "source": [
    "df_grid['Labels'] = df_grid['Labels'].astype(object)"
   ]
  },
  {
   "cell_type": "code",
   "execution_count": 77,
   "metadata": {
    "colab": {
     "base_uri": "https://localhost:8080/",
     "height": 554
    },
    "colab_type": "code",
    "id": "T7phaDpIBh5U",
    "outputId": "3db3edee-8f95-4ac4-9619-59c22d4856ee"
   },
   "outputs": [
    {
     "data": {
      "image/png": "[encoded data removed]",
      "text/plain": [
       "<Figure size 864x864 with 1 Axes>"
      ]
     },
     "metadata": {
      "tags": []
     },
     "output_type": "display_data"
    }
   ],
   "source": [
    "df_grid.plot(figsize= (12,12), column='Labels', legend=True , cmap = 'Accent')\n",
    "plt.savefig('GRIDclassification.png')"
   ]
  },
  {
   "cell_type": "markdown",
   "metadata": {
    "colab_type": "text",
    "id": "1NXdNLBbf3t3"
   },
   "source": [
    "# Interpretation of Classes"
   ]
  },
  {
   "cell_type": "code",
   "execution_count": 0,
   "metadata": {
    "colab": {},
    "colab_type": "code",
    "id": "7aKY9JCCBmYj"
   },
   "outputs": [],
   "source": [
    "GRID_cluster0 = df_grid[df_grid.Labels==\"Class 0\"]\n",
    "GRID_cluster1 = df_grid[df_grid.Labels==\"Class 1\"]\n",
    "GRID_cluster2 = df_grid[df_grid.Labels==\"Class 2\"]"
   ]
  },
  {
   "cell_type": "markdown",
   "metadata": {
    "colab_type": "text",
    "id": "8w46vhb2gKnm"
   },
   "source": [
    "# BCR"
   ]
  },
  {
   "cell_type": "code",
   "execution_count": 66,
   "metadata": {
    "colab": {
     "base_uri": "https://localhost:8080/",
     "height": 408
    },
    "colab_type": "code",
    "id": "tGyupeP0gI-L",
    "outputId": "0b5aed80-fe4e-412f-86f7-9bcf45234796"
   },
   "outputs": [
    {
     "name": "stdout",
     "output_type": "stream",
     "text": [
      "For Class 0\n",
      "min    0.000029\n",
      "25%    0.007570\n",
      "50%    0.030715\n",
      "75%    0.059931\n",
      "max    0.147493\n",
      "Name: BCR, dtype: float64\n",
      "----------------------------\n",
      "For Class 1\n",
      "min    0.090809\n",
      "25%    0.143440\n",
      "50%    0.161237\n",
      "75%    0.186438\n",
      "max    0.249969\n",
      "Name: BCR, dtype: float64\n",
      "----------------------------\n",
      "For Class 2\n",
      "min    0.099931\n",
      "25%    0.099931\n",
      "50%    0.099931\n",
      "75%    0.099931\n",
      "max    0.099931\n",
      "Name: BCR, dtype: float64\n"
     ]
    }
   ],
   "source": [
    "data0 = GRID_cluster0.describe()[\"BCR\"]\n",
    "data0 = data0.drop(labels=['count','mean','std'])\n",
    "print(\"For Class 0\")\n",
    "print(data0)\n",
    "print(\"----------------------------\")\n",
    "data1 = GRID_cluster1.describe()[\"BCR\"]\n",
    "data1 = data1.drop(labels=['count','mean','std'])\n",
    "print(\"For Class 1\")\n",
    "print(data1)\n",
    "print(\"----------------------------\")\n",
    "data2 = GRID_cluster2.describe()[\"BCR\"]\n",
    "data2 = data2.drop(labels=['count','mean','std'])\n",
    "print(\"For Class 2\")\n",
    "print(data2)"
   ]
  },
  {
   "cell_type": "code",
   "execution_count": 67,
   "metadata": {
    "colab": {
     "base_uri": "https://localhost:8080/",
     "height": 603
    },
    "colab_type": "code",
    "id": "FlWcDo0jgaua",
    "outputId": "3f4662fe-6f6f-4726-8be1-aa5fc7f9ce70"
   },
   "outputs": [
    {
     "data": {
      "image/png": "[encoded data removed]",
      "text/plain": [
       "<Figure size 648x648 with 1 Axes>"
      ]
     },
     "metadata": {
      "tags": []
     },
     "output_type": "display_data"
    }
   ],
   "source": [
    "data = [data0,data1,data2]\n",
    "# Create a figure instance\n",
    "fig = plt.figure(1, figsize=(9, 9))\n",
    "\n",
    "# Create an axes instance\n",
    "ax = fig.add_subplot(111)\n",
    "\n",
    "# Create the boxplot\n",
    "bp = ax.boxplot(data,patch_artist=True)\n",
    "\n",
    "#formatting options in matplotlib\n",
    "for box in bp['boxes']:\n",
    "    # change outline color\n",
    "    box.set( color='#7570b3', linewidth=2)\n",
    "    # change fill color\n",
    "    box.set( facecolor = '#1b9e77' )\n",
    "    \n",
    "for whisker in bp['whiskers']:\n",
    "    whisker.set(color='#7570b3', linewidth=2)\n",
    "\n",
    "for cap in bp['caps']:\n",
    "    cap.set(color='#7570b3', linewidth=2)\n",
    "    \n",
    "for median in bp['medians']:\n",
    "    median.set(color='#b2df8a', linewidth=5)\n",
    "\n",
    "for flier in bp['fliers']:\n",
    "    flier.set(marker='o', color='#e7298a', alpha=0.5)\n",
    "\n",
    "    \n",
    "ax.set_title('BCR Boxplots for Grid')\n",
    "ax.set_xticklabels(['Class0', 'Class1', 'Class2'], rotation=45, fontsize=20)\n",
    "ax.set_ylim(0,0.3)\n",
    "\n",
    "# Save the figure\n",
    "fig.savefig('BCRforGRID.png', bbox_inches='tight')"
   ]
  },
  {
   "cell_type": "markdown",
   "metadata": {
    "colab_type": "text",
    "id": "rPL9NWmxg0HE"
   },
   "source": [
    "#Building Density"
   ]
  },
  {
   "cell_type": "code",
   "execution_count": 68,
   "metadata": {
    "colab": {
     "base_uri": "https://localhost:8080/",
     "height": 408
    },
    "colab_type": "code",
    "id": "lnrwEUI9g0kB",
    "outputId": "f8d6d671-072c-4696-90f7-906ce7ccfd00"
   },
   "outputs": [
    {
     "name": "stdout",
     "output_type": "stream",
     "text": [
      "For Class 0\n",
      "min    0.000002\n",
      "25%    0.000032\n",
      "50%    0.000131\n",
      "75%    0.000246\n",
      "max    0.000684\n",
      "Name: BD, dtype: float64\n",
      "----------------------------\n",
      "For Class 1\n",
      "min    0.000179\n",
      "25%    0.000806\n",
      "50%    0.001051\n",
      "75%    0.001348\n",
      "max    0.002280\n",
      "Name: BD, dtype: float64\n",
      "----------------------------\n",
      "For Class 2\n",
      "min    0.00001\n",
      "25%    0.00001\n",
      "50%    0.00001\n",
      "75%    0.00001\n",
      "max    0.00001\n",
      "Name: BD, dtype: float64\n"
     ]
    }
   ],
   "source": [
    "data0 = GRID_cluster0.describe()[\"BD\"]\n",
    "data0 = data0.drop(labels=['count','mean','std'])\n",
    "print(\"For Class 0\")\n",
    "print(data0)\n",
    "print(\"----------------------------\")\n",
    "data1 = GRID_cluster1.describe()[\"BD\"]\n",
    "data1 = data1.drop(labels=['count','mean','std'])\n",
    "print(\"For Class 1\")\n",
    "print(data1)\n",
    "print(\"----------------------------\")\n",
    "data2 = GRID_cluster2.describe()[\"BD\"]\n",
    "data2 = data2.drop(labels=['count','mean','std'])\n",
    "print(\"For Class 2\")\n",
    "print(data2)"
   ]
  },
  {
   "cell_type": "code",
   "execution_count": 69,
   "metadata": {
    "colab": {
     "base_uri": "https://localhost:8080/",
     "height": 603
    },
    "colab_type": "code",
    "id": "hBoF3_WZgqfD",
    "outputId": "2eb93132-866b-4f99-eaa5-1e295810217a"
   },
   "outputs": [
    {
     "data": {
      "image/png": "[encoded data removed]",
      "text/plain": [
       "<Figure size 648x648 with 1 Axes>"
      ]
     },
     "metadata": {
      "tags": []
     },
     "output_type": "display_data"
    }
   ],
   "source": [
    "data = [data0,data1,data2]\n",
    "# Create a figure instance\n",
    "fig = plt.figure(1, figsize=(9, 9))\n",
    "\n",
    "# Create an axes instance\n",
    "ax = fig.add_subplot(111)\n",
    "\n",
    "# Create the boxplot\n",
    "bp = ax.boxplot(data,patch_artist=True)\n",
    "\n",
    "#formatting options in matplotlib\n",
    "for box in bp['boxes']:\n",
    "    # change outline color\n",
    "    box.set( color='#7570b3', linewidth=2)\n",
    "    # change fill color\n",
    "    box.set( facecolor = '#1b9e77' )\n",
    "    \n",
    "for whisker in bp['whiskers']:\n",
    "    whisker.set(color='#7570b3', linewidth=2)\n",
    "\n",
    "for cap in bp['caps']:\n",
    "    cap.set(color='#7570b3', linewidth=2)\n",
    "    \n",
    "for median in bp['medians']:\n",
    "    median.set(color='#b2df8a', linewidth=5)\n",
    "\n",
    "for flier in bp['fliers']:\n",
    "    flier.set(marker='o', color='#e7298a', alpha=0.5)\n",
    "\n",
    "    \n",
    "ax.set_title('Building Density Boxplots for Grid')\n",
    "ax.set_xticklabels(['Class0', 'Class1', 'Class2'], rotation=45, fontsize=20)\n",
    "ax.set_ylim(0,0.0025)\n",
    "\n",
    "# Save the figure\n",
    "fig.savefig('BuildingDensityforGRID.png', bbox_inches='tight')\n"
   ]
  },
  {
   "cell_type": "markdown",
   "metadata": {
    "colab_type": "text",
    "id": "Dn-hHppEg1SG"
   },
   "source": [
    "# Mean Proximity"
   ]
  },
  {
   "cell_type": "code",
   "execution_count": 70,
   "metadata": {
    "colab": {
     "base_uri": "https://localhost:8080/",
     "height": 408
    },
    "colab_type": "code",
    "id": "IR_KAflpg1gn",
    "outputId": "876fd4c6-7568-455a-8cf4-1a3b45b7981b"
   },
   "outputs": [
    {
     "name": "stdout",
     "output_type": "stream",
     "text": [
      "For Class 0\n",
      "min     0.721162\n",
      "25%     2.711607\n",
      "50%     4.079828\n",
      "75%    11.149901\n",
      "max    51.955178\n",
      "Name: ProxMean, dtype: float64\n",
      "----------------------------\n",
      "For Class 1\n",
      "min    1.275840\n",
      "25%    2.121742\n",
      "50%    2.306189\n",
      "75%    2.754244\n",
      "max    9.161199\n",
      "Name: ProxMean, dtype: float64\n",
      "----------------------------\n",
      "For Class 2\n",
      "min    20.197038\n",
      "25%    20.197038\n",
      "50%    20.197038\n",
      "75%    20.197038\n",
      "max    20.197038\n",
      "Name: ProxMean, dtype: float64\n"
     ]
    }
   ],
   "source": [
    "data0 = GRID_cluster0.describe()[\"ProxMean\"]\n",
    "data0 = data0.drop(labels=['count','mean','std'])\n",
    "print(\"For Class 0\")\n",
    "print(data0)\n",
    "print(\"----------------------------\")\n",
    "data1 = GRID_cluster1.describe()[\"ProxMean\"]\n",
    "data1 = data1.drop(labels=['count','mean','std'])\n",
    "print(\"For Class 1\")\n",
    "print(data1)\n",
    "print(\"----------------------------\")\n",
    "data2 = GRID_cluster2.describe()[\"ProxMean\"]\n",
    "data2 = data2.drop(labels=['count','mean','std'])\n",
    "print(\"For Class 2\")\n",
    "print(data2)"
   ]
  },
  {
   "cell_type": "code",
   "execution_count": 71,
   "metadata": {
    "colab": {
     "base_uri": "https://localhost:8080/",
     "height": 603
    },
    "colab_type": "code",
    "id": "u6mhmytVg1of",
    "outputId": "b75938d9-aeb8-4b6f-b34a-9fd123cf2e91"
   },
   "outputs": [
    {
     "data": {
      "image/png": "[encoded data removed]",
      "text/plain": [
       "<Figure size 648x648 with 1 Axes>"
      ]
     },
     "metadata": {
      "tags": []
     },
     "output_type": "display_data"
    }
   ],
   "source": [
    "data = [data0,data1,data2]\n",
    "# Create a figure instance\n",
    "fig = plt.figure(1, figsize=(9, 9))\n",
    "\n",
    "# Create an axes instance\n",
    "ax = fig.add_subplot(111)\n",
    "\n",
    "# Create the boxplot\n",
    "bp = ax.boxplot(data,patch_artist=True)\n",
    "\n",
    "#formatting options in matplotlib\n",
    "for box in bp['boxes']:\n",
    "    # change outline color\n",
    "    box.set( color='#7570b3', linewidth=2)\n",
    "    # change fill color\n",
    "    box.set( facecolor = '#1b9e77' )\n",
    "    \n",
    "for whisker in bp['whiskers']:\n",
    "    whisker.set(color='#7570b3', linewidth=2)\n",
    "\n",
    "for cap in bp['caps']:\n",
    "    cap.set(color='#7570b3', linewidth=2)\n",
    "    \n",
    "for median in bp['medians']:\n",
    "    median.set(color='#b2df8a', linewidth=5)\n",
    "\n",
    "for flier in bp['fliers']:\n",
    "    flier.set(marker='o', color='#e7298a', alpha=0.5)\n",
    "\n",
    "    \n",
    "ax.set_title('Mean Proximity Boxplots for Grid')\n",
    "ax.set_xticklabels(['Class0', 'Class1', 'Class2'], rotation=45, fontsize=20)\n",
    "ax.set_ylim(0,55)\n",
    "\n",
    "# Save the figure\n",
    "fig.savefig('MeanProximityforGRID.png', bbox_inches='tight')"
   ]
  },
  {
   "cell_type": "markdown",
   "metadata": {
    "colab_type": "text",
    "id": "PvPxqhgUg3Au"
   },
   "source": [
    "# Average Size"
   ]
  },
  {
   "cell_type": "code",
   "execution_count": 72,
   "metadata": {
    "colab": {
     "base_uri": "https://localhost:8080/",
     "height": 408
    },
    "colab_type": "code",
    "id": "FjfQRojvg3Zf",
    "outputId": "39c1ea05-28c1-4433-e7f7-0c0273031986"
   },
   "outputs": [
    {
     "name": "stdout",
     "output_type": "stream",
     "text": [
      "For Class 0\n",
      "min      14.571717\n",
      "25%     117.558573\n",
      "50%     175.199387\n",
      "75%     268.369156\n",
      "max    2570.114800\n",
      "Name: AvgSize, dtype: float64\n",
      "----------------------------\n",
      "For Class 1\n",
      "min      79.313675\n",
      "25%     119.528937\n",
      "50%     156.681202\n",
      "75%     211.682681\n",
      "max    1062.706135\n",
      "Name: AvgSize, dtype: float64\n",
      "----------------------------\n",
      "For Class 2\n",
      "min    9993.058286\n",
      "25%    9993.058286\n",
      "50%    9993.058286\n",
      "75%    9993.058286\n",
      "max    9993.058286\n",
      "Name: AvgSize, dtype: float64\n"
     ]
    }
   ],
   "source": [
    "data0 = GRID_cluster0.describe()[\"AvgSize\"]\n",
    "data0 = data0.drop(labels=['count','mean','std'])\n",
    "print(\"For Class 0\")\n",
    "print(data0)\n",
    "print(\"----------------------------\")\n",
    "data1 = GRID_cluster1.describe()[\"AvgSize\"]\n",
    "data1 = data1.drop(labels=['count','mean','std'])\n",
    "print(\"For Class 1\")\n",
    "print(data1)\n",
    "print(\"----------------------------\")\n",
    "data2 = GRID_cluster2.describe()[\"AvgSize\"]\n",
    "data2 = data2.drop(labels=['count','mean','std'])\n",
    "print(\"For Class 2\")\n",
    "print(data2)"
   ]
  },
  {
   "cell_type": "code",
   "execution_count": 73,
   "metadata": {
    "colab": {
     "base_uri": "https://localhost:8080/",
     "height": 603
    },
    "colab_type": "code",
    "id": "ADRK5rPhg3fR",
    "outputId": "250e3591-cba9-4c9e-95bd-c2ec2ed8a377"
   },
   "outputs": [
    {
     "data": {
      "image/png": "[encoded data removed]",
      "text/plain": [
       "<Figure size 648x648 with 1 Axes>"
      ]
     },
     "metadata": {
      "tags": []
     },
     "output_type": "display_data"
    }
   ],
   "source": [
    "data = [data0,data1,data2]\n",
    "# Create a figure instance\n",
    "fig = plt.figure(1, figsize=(9, 9))\n",
    "\n",
    "# Create an axes instance\n",
    "ax = fig.add_subplot(111)\n",
    "\n",
    "# Create the boxplot\n",
    "bp = ax.boxplot(data,patch_artist=True)\n",
    "\n",
    "#formatting options in matplotlib\n",
    "for box in bp['boxes']:\n",
    "    # change outline color\n",
    "    box.set( color='#7570b3', linewidth=2)\n",
    "    # change fill color\n",
    "    box.set( facecolor = '#1b9e77' )\n",
    "    \n",
    "for whisker in bp['whiskers']:\n",
    "    whisker.set(color='#7570b3', linewidth=2)\n",
    "\n",
    "for cap in bp['caps']:\n",
    "    cap.set(color='#7570b3', linewidth=2)\n",
    "    \n",
    "for median in bp['medians']:\n",
    "    median.set(color='#b2df8a', linewidth=5)\n",
    "\n",
    "for flier in bp['fliers']:\n",
    "    flier.set(marker='o', color='#e7298a', alpha=0.5)\n",
    "\n",
    "    \n",
    "ax.set_title('Average Size Boxplots for GRID')\n",
    "ax.set_xticklabels(['Class0', 'Class1', 'Class2'], rotation=45, fontsize=20)\n",
    "ax.set_ylim(10,11000)\n",
    "\n",
    "# Save the figure\n",
    "fig.savefig('AvgsizeforGRID.png', bbox_inches='tight')"
   ]
  },
  {
   "cell_type": "markdown",
   "metadata": {
    "colab_type": "text",
    "id": "6jKj6Jm_g35u"
   },
   "source": [
    "# Contiguity Ratio"
   ]
  },
  {
   "cell_type": "code",
   "execution_count": 74,
   "metadata": {
    "colab": {
     "base_uri": "https://localhost:8080/",
     "height": 408
    },
    "colab_type": "code",
    "id": "6FRbpspTg4Oe",
    "outputId": "49f9217c-f99d-4992-c61d-053c8c18aeb9"
   },
   "outputs": [
    {
     "name": "stdout",
     "output_type": "stream",
     "text": [
      "For Class 0\n",
      "min    0.050000\n",
      "25%    0.200000\n",
      "50%    0.310345\n",
      "75%    0.388889\n",
      "max    1.000000\n",
      "Name: ContRatio, dtype: float64\n",
      "----------------------------\n",
      "For Class 1\n",
      "min    0.193841\n",
      "25%    0.280779\n",
      "50%    0.321940\n",
      "75%    0.371933\n",
      "max    0.657018\n",
      "Name: ContRatio, dtype: float64\n",
      "----------------------------\n",
      "For Class 2\n",
      "min    0.3\n",
      "25%    0.3\n",
      "50%    0.3\n",
      "75%    0.3\n",
      "max    0.3\n",
      "Name: ContRatio, dtype: float64\n"
     ]
    }
   ],
   "source": [
    "data0 = GRID_cluster0.describe()[\"ContRatio\"]\n",
    "data0 = data0.drop(labels=['count','mean','std'])\n",
    "print(\"For Class 0\")\n",
    "print(data0)\n",
    "print(\"----------------------------\")\n",
    "data1 = GRID_cluster1.describe()[\"ContRatio\"]\n",
    "data1 = data1.drop(labels=['count','mean','std'])\n",
    "print(\"For Class 1\")\n",
    "print(data1)\n",
    "print(\"----------------------------\")\n",
    "data2 = GRID_cluster2.describe()[\"ContRatio\"]\n",
    "data2 = data2.drop(labels=['count','mean','std'])\n",
    "print(\"For Class 2\")\n",
    "print(data2)"
   ]
  },
  {
   "cell_type": "code",
   "execution_count": 75,
   "metadata": {
    "colab": {
     "base_uri": "https://localhost:8080/",
     "height": 603
    },
    "colab_type": "code",
    "id": "VmaFsrBMg4ZH",
    "outputId": "737c887d-299f-4b68-9853-c20b592d3a4a"
   },
   "outputs": [
    {
     "data": {
      "image/png": "[encoded data removed]",
      "text/plain": [
       "<Figure size 648x648 with 1 Axes>"
      ]
     },
     "metadata": {
      "tags": []
     },
     "output_type": "display_data"
    }
   ],
   "source": [
    "data = [data0,data1,data2]\n",
    "# Create a figure instance\n",
    "fig = plt.figure(1, figsize=(9, 9))\n",
    "\n",
    "# Create an axes instance\n",
    "ax = fig.add_subplot(111)\n",
    "\n",
    "# Create the boxplot\n",
    "bp = ax.boxplot(data,patch_artist=True)\n",
    "\n",
    "#formatting options in matplotlib\n",
    "for box in bp['boxes']:\n",
    "    # change outline color\n",
    "    box.set( color='#7570b3', linewidth=2)\n",
    "    # change fill color\n",
    "    box.set( facecolor = '#1b9e77' )\n",
    "    \n",
    "for whisker in bp['whiskers']:\n",
    "    whisker.set(color='#7570b3', linewidth=2)\n",
    "\n",
    "for cap in bp['caps']:\n",
    "    cap.set(color='#7570b3', linewidth=2)\n",
    "    \n",
    "for median in bp['medians']:\n",
    "    median.set(color='#b2df8a', linewidth=5)\n",
    "\n",
    "for flier in bp['fliers']:\n",
    "    flier.set(marker='o', color='#e7298a', alpha=0.5)\n",
    "\n",
    "    \n",
    "ax.set_title('Contiguity Ratio Boxplots for GRIDS')\n",
    "ax.set_xticklabels(['Class0', 'Class1', 'Class2'], rotation=45, fontsize=20)\n",
    "ax.set_ylim(0,1)\n",
    "\n",
    "# Save the figure\n",
    "fig.savefig('ContiguityRatioforGRID.png', bbox_inches='tight')"
   ]
  },
  {
   "cell_type": "markdown",
   "metadata": {
    "colab_type": "text",
    "id": "8VesIwUO1WuZ"
   },
   "source": [
    "## Cluster 0\n",
    "- BCR : Low\n",
    "- BD : Medium\n",
    "- Mean Proximity : Medium\n",
    "- Average Size : Medium\n",
    "- Contiguity Ratio : Medium"
   ]
  },
  {
   "cell_type": "markdown",
   "metadata": {
    "colab_type": "text",
    "id": "XPh7Q5vp1WDg"
   },
   "source": [
    "## Cluster 1\n",
    "- BCR : High\n",
    "- BD : High\n",
    "- Mean Proximity : Low\n",
    "- Average Size : Low\n",
    "- Contiguity Ratio : High"
   ]
  },
  {
   "cell_type": "markdown",
   "metadata": {
    "colab_type": "text",
    "id": "Y98Ahzlg1VXG"
   },
   "source": [
    "## Cluster 2\n",
    "- BCR : Medium\n",
    "- BD : Low\n",
    "- Mean Proximity : High\n",
    "- Average Size : High\n",
    "- Contiguity Ratio : Low"
   ]
  },
  {
   "cell_type": "code",
   "execution_count": 79,
   "metadata": {
    "colab": {
     "base_uri": "https://localhost:8080/",
     "height": 88
    },
    "colab_type": "code",
    "id": "-l-FFAVB1baD",
    "outputId": "8fd9f0e1-1014-465f-edfe-3e7f204698d1"
   },
   "outputs": [
    {
     "name": "stderr",
     "output_type": "stream",
     "text": [
      "/usr/local/lib/python3.6/dist-packages/geopy/geocoders/osm.py:143: UserWarning: Using Nominatim with the default \"geopy/1.17.0\" `user_agent` is strongly discouraged, as it violates Nominatim's ToS https://operations.osmfoundation.org/policies/nominatim/ and may possibly cause 403 and 429 HTTP errors. Please specify a custom `user_agent` with `Nominatim(user_agent=\"my-application\")` or by overriding the default `user_agent`: `geopy.geocoders.options.default_user_agent = \"my-application\"`. In geopy 2.0 this will become an exception.\n",
      "  UserWarning\n"
     ]
    },
    {
     "name": "stdout",
     "output_type": "stream",
     "text": [
      "The geograpical coordinate of Regina are 50.44876, -104.61731.\n"
     ]
    }
   ],
   "source": [
    "# !pip install geocoder\n",
    "import geocoder\n",
    "from geopy.geocoders import Nominatim\n",
    "address = 'Regina, Saskatchewan'\n",
    "\n",
    "geolocator = Nominatim()\n",
    "location = geolocator.geocode(address)\n",
    "latitude = location.latitude\n",
    "longitude = location.longitude\n",
    "print('The geograpical coordinate of Regina are {}, {}.'.format(latitude, longitude))"
   ]
  },
  {
   "cell_type": "code",
   "execution_count": 0,
   "metadata": {
    "colab": {},
    "colab_type": "code",
    "id": "0TS07OlhtOmB"
   },
   "outputs": [],
   "source": []
  }
 ],
 "metadata": {
  "accelerator": "GPU",
  "colab": {
   "collapsed_sections": [
    "C26sVSLUSDAl",
    "qvSDHyYNY27f",
    "c9cM-NRENtAF",
    "meHmlKRXP8kw",
    "w-P3UrjGQeU9",
    "3mb87GTdRDJF"
   ],
   "name": "Final Output Saskachewan.ipynb",
   "provenance": [],
   "toc_visible": true,
   "version": "0.3.2"
  },
  "kernelspec": {
   "display_name": "Python 3",
   "language": "python",
   "name": "python3"
  },
  "language_info": {
   "codemirror_mode": {
    "name": "ipython",
    "version": 3
   },
   "file_extension": ".py",
   "mimetype": "text/x-python",
   "name": "python",
   "nbconvert_exporter": "python",
   "pygments_lexer": "ipython3",
   "version": "3.7.3"
  }
 },
 "nbformat": 4,
 "nbformat_minor": 1
}
