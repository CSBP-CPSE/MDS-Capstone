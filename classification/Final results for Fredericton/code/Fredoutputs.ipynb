{
  "nbformat": 4,
  "nbformat_minor": 0,
  "metadata": {
    "colab": {
      "name": "Fredoutputs.ipynb",
      "version": "0.3.2",
      "provenance": [],
      "collapsed_sections": [
        "QVfI0GsHQd8h",
        "v1omZUozSRgb",
        "JLoRfUU1S0NA",
        "oZv-vwGkWbYZ",
        "8COP4atEqhgV",
        "mohCWDex-4pP"
      ],
      "toc_visible": true
    },
    "kernelspec": {
      "name": "python3",
      "display_name": "Python 3"
    },
    "accelerator": "GPU"
  },
  "cells": [
    {
      "cell_type": "code",
      "metadata": {
        "id": "Tl2QAyPOvsf7",
        "colab_type": "code",
        "colab": {}
      },
      "source": [
        "# !unzip FredOutputs.zip"
      ],
      "execution_count": 0,
      "outputs": []
    },
    {
      "cell_type": "code",
      "metadata": {
        "id": "son6zG8aN9wq",
        "colab_type": "code",
        "colab": {}
      },
      "source": [
        "\n",
        "# !pip install descartes\n",
        "# !pip install geopandas"
      ],
      "execution_count": 0,
      "outputs": []
    },
    {
      "cell_type": "code",
      "metadata": {
        "id": "kZiM_cjUODF9",
        "colab_type": "code",
        "outputId": "c1ebc800-26ee-4a8e-fafb-b6410fe9f774",
        "colab": {
          "base_uri": "https://localhost:8080/",
          "height": 34
        }
      },
      "source": [
        "import geopandas as gpd\n",
        "from shapely.geometry import Point\n",
        "import random # library for random number generation\n",
        "import numpy as np # library for vectorized computation\n",
        "import pandas as pd # library to process data as dataframes\n",
        "\n",
        "import matplotlib.pyplot as plt # plotting library\n",
        "# backend for rendering plots within the browser\n",
        "%matplotlib inline \n",
        "\n",
        "from sklearn.cluster import KMeans \n",
        "from sklearn.datasets.samples_generator import make_blobs\n",
        "from sklearn.preprocessing import StandardScaler #for standardization\n",
        "print('Libraries imported.')\n"
      ],
      "execution_count": 0,
      "outputs": [
        {
          "output_type": "stream",
          "text": [
            "Libraries imported.\n"
          ],
          "name": "stdout"
        }
      ]
    },
    {
      "cell_type": "code",
      "metadata": {
        "id": "Ac_jEs2iOKmB",
        "colab_type": "code",
        "colab": {}
      },
      "source": [
        "ctstats = gpd.read_file('FinalOutputs/CT_Stats.shp')\n",
        "dbstats = gpd.read_file('FinalOutputs/DB_Stats.shp')\n",
        "gridstats = gpd.read_file('FinalOutputs/GRID_Stats.shp')"
      ],
      "execution_count": 0,
      "outputs": []
    },
    {
      "cell_type": "markdown",
      "metadata": {
        "id": "AMSYh9WpSZEw",
        "colab_type": "text"
      },
      "source": [
        "#1. Census Tract"
      ]
    },
    {
      "cell_type": "code",
      "metadata": {
        "id": "RTiyD26cOsYQ",
        "colab_type": "code",
        "outputId": "d40454ce-860d-4fe0-bb2e-bcd2d8c03867",
        "colab": {
          "base_uri": "https://localhost:8080/",
          "height": 564
        }
      },
      "source": [
        "ctstats.head()"
      ],
      "execution_count": 0,
      "outputs": [
        {
          "output_type": "execute_result",
          "data": {
            "text/html": [
              "<div>\n",
              "<style scoped>\n",
              "    .dataframe tbody tr th:only-of-type {\n",
              "        vertical-align: middle;\n",
              "    }\n",
              "\n",
              "    .dataframe tbody tr th {\n",
              "        vertical-align: top;\n",
              "    }\n",
              "\n",
              "    .dataframe thead th {\n",
              "        text-align: right;\n",
              "    }\n",
              "</style>\n",
              "<table border=\"1\" class=\"dataframe\">\n",
              "  <thead>\n",
              "    <tr style=\"text-align: right;\">\n",
              "      <th></th>\n",
              "      <th>CTUID</th>\n",
              "      <th>PRNAME</th>\n",
              "      <th>CMANAME</th>\n",
              "      <th>CMATYPE</th>\n",
              "      <th>area</th>\n",
              "      <th>AvgSize</th>\n",
              "      <th>BldgCount</th>\n",
              "      <th>BD</th>\n",
              "      <th>BldgArea</th>\n",
              "      <th>BCR</th>\n",
              "      <th>ProxMean</th>\n",
              "      <th>ContCount</th>\n",
              "      <th>ContRatio</th>\n",
              "      <th>geometry</th>\n",
              "    </tr>\n",
              "  </thead>\n",
              "  <tbody>\n",
              "    <tr>\n",
              "      <th>0</th>\n",
              "      <td>3200018.00</td>\n",
              "      <td>New Brunswick / Nouveau-Brunswick</td>\n",
              "      <td>Fredericton</td>\n",
              "      <td>K</td>\n",
              "      <td>7.735331e+08</td>\n",
              "      <td>118.494001</td>\n",
              "      <td>129</td>\n",
              "      <td>1.700000e-07</td>\n",
              "      <td>15285.726128</td>\n",
              "      <td>1.976000e-05</td>\n",
              "      <td>25.350592</td>\n",
              "      <td>4.0</td>\n",
              "      <td>0.031008</td>\n",
              "      <td>POLYGON ((8138931.71143 1497922.59143, 8138472...</td>\n",
              "    </tr>\n",
              "    <tr>\n",
              "      <th>1</th>\n",
              "      <td>3200019.00</td>\n",
              "      <td>New Brunswick / Nouveau-Brunswick</td>\n",
              "      <td>Fredericton</td>\n",
              "      <td>K</td>\n",
              "      <td>9.535850e+08</td>\n",
              "      <td>35.301770</td>\n",
              "      <td>1</td>\n",
              "      <td>0.000000e+00</td>\n",
              "      <td>35.301770</td>\n",
              "      <td>4.000000e-08</td>\n",
              "      <td>15.831832</td>\n",
              "      <td>NaN</td>\n",
              "      <td>NaN</td>\n",
              "      <td>POLYGON ((8159361.934285 1538203.065715, 81591...</td>\n",
              "    </tr>\n",
              "    <tr>\n",
              "      <th>2</th>\n",
              "      <td>3200020.00</td>\n",
              "      <td>New Brunswick / Nouveau-Brunswick</td>\n",
              "      <td>Fredericton</td>\n",
              "      <td>K</td>\n",
              "      <td>1.702733e+08</td>\n",
              "      <td>473.016172</td>\n",
              "      <td>8</td>\n",
              "      <td>5.000000e-08</td>\n",
              "      <td>3784.129374</td>\n",
              "      <td>2.222000e-05</td>\n",
              "      <td>36.395330</td>\n",
              "      <td>NaN</td>\n",
              "      <td>NaN</td>\n",
              "      <td>POLYGON ((8136053.75143 1473282.38, 8136522.43...</td>\n",
              "    </tr>\n",
              "    <tr>\n",
              "      <th>3</th>\n",
              "      <td>3200021.00</td>\n",
              "      <td>New Brunswick / Nouveau-Brunswick</td>\n",
              "      <td>Fredericton</td>\n",
              "      <td>K</td>\n",
              "      <td>2.190729e+07</td>\n",
              "      <td>150.348683</td>\n",
              "      <td>1083</td>\n",
              "      <td>4.944000e-05</td>\n",
              "      <td>162827.623879</td>\n",
              "      <td>7.432580e-03</td>\n",
              "      <td>10.572638</td>\n",
              "      <td>43.0</td>\n",
              "      <td>0.039705</td>\n",
              "      <td>POLYGON ((8132383.78857 1467081.822855, 813210...</td>\n",
              "    </tr>\n",
              "    <tr>\n",
              "      <th>4</th>\n",
              "      <td>3200008.00</td>\n",
              "      <td>New Brunswick / Nouveau-Brunswick</td>\n",
              "      <td>Fredericton</td>\n",
              "      <td>K</td>\n",
              "      <td>2.352070e+07</td>\n",
              "      <td>181.387583</td>\n",
              "      <td>2932</td>\n",
              "      <td>1.246600e-04</td>\n",
              "      <td>531828.393199</td>\n",
              "      <td>2.261108e-02</td>\n",
              "      <td>9.543879</td>\n",
              "      <td>215.0</td>\n",
              "      <td>0.073329</td>\n",
              "      <td>POLYGON ((8126666.14857 1475869.73143, 8126683...</td>\n",
              "    </tr>\n",
              "  </tbody>\n",
              "</table>\n",
              "</div>"
            ],
            "text/plain": [
              "        CTUID  ...                                           geometry\n",
              "0  3200018.00  ...  POLYGON ((8138931.71143 1497922.59143, 8138472...\n",
              "1  3200019.00  ...  POLYGON ((8159361.934285 1538203.065715, 81591...\n",
              "2  3200020.00  ...  POLYGON ((8136053.75143 1473282.38, 8136522.43...\n",
              "3  3200021.00  ...  POLYGON ((8132383.78857 1467081.822855, 813210...\n",
              "4  3200008.00  ...  POLYGON ((8126666.14857 1475869.73143, 8126683...\n",
              "\n",
              "[5 rows x 14 columns]"
            ]
          },
          "metadata": {
            "tags": []
          },
          "execution_count": 85
        }
      ]
    },
    {
      "cell_type": "code",
      "metadata": {
        "id": "-gNu0C7oOvme",
        "colab_type": "code",
        "outputId": "3103c007-4560-4954-9346-742fcce1fe17",
        "colab": {
          "base_uri": "https://localhost:8080/",
          "height": 204
        }
      },
      "source": [
        "df_ct = ctstats.drop(['PRNAME','CMANAME','CMATYPE','area', 'BldgArea', 'BldgCount', 'ContCount'], axis=1)\n",
        "df_ct = df_ct.dropna(axis='rows')\n",
        "df_ct.head()"
      ],
      "execution_count": 0,
      "outputs": [
        {
          "output_type": "execute_result",
          "data": {
            "text/html": [
              "<div>\n",
              "<style scoped>\n",
              "    .dataframe tbody tr th:only-of-type {\n",
              "        vertical-align: middle;\n",
              "    }\n",
              "\n",
              "    .dataframe tbody tr th {\n",
              "        vertical-align: top;\n",
              "    }\n",
              "\n",
              "    .dataframe thead th {\n",
              "        text-align: right;\n",
              "    }\n",
              "</style>\n",
              "<table border=\"1\" class=\"dataframe\">\n",
              "  <thead>\n",
              "    <tr style=\"text-align: right;\">\n",
              "      <th></th>\n",
              "      <th>CTUID</th>\n",
              "      <th>AvgSize</th>\n",
              "      <th>BD</th>\n",
              "      <th>BCR</th>\n",
              "      <th>ProxMean</th>\n",
              "      <th>ContRatio</th>\n",
              "      <th>geometry</th>\n",
              "    </tr>\n",
              "  </thead>\n",
              "  <tbody>\n",
              "    <tr>\n",
              "      <th>0</th>\n",
              "      <td>3200018.00</td>\n",
              "      <td>118.494001</td>\n",
              "      <td>1.700000e-07</td>\n",
              "      <td>0.000020</td>\n",
              "      <td>25.350592</td>\n",
              "      <td>0.031008</td>\n",
              "      <td>POLYGON ((8138931.71143 1497922.59143, 8138472...</td>\n",
              "    </tr>\n",
              "    <tr>\n",
              "      <th>3</th>\n",
              "      <td>3200021.00</td>\n",
              "      <td>150.348683</td>\n",
              "      <td>4.944000e-05</td>\n",
              "      <td>0.007433</td>\n",
              "      <td>10.572638</td>\n",
              "      <td>0.039705</td>\n",
              "      <td>POLYGON ((8132383.78857 1467081.822855, 813210...</td>\n",
              "    </tr>\n",
              "    <tr>\n",
              "      <th>4</th>\n",
              "      <td>3200008.00</td>\n",
              "      <td>181.387583</td>\n",
              "      <td>1.246600e-04</td>\n",
              "      <td>0.022611</td>\n",
              "      <td>9.543879</td>\n",
              "      <td>0.073329</td>\n",
              "      <td>POLYGON ((8126666.14857 1475869.73143, 8126683...</td>\n",
              "    </tr>\n",
              "    <tr>\n",
              "      <th>5</th>\n",
              "      <td>3200004.00</td>\n",
              "      <td>232.138687</td>\n",
              "      <td>3.890500e-04</td>\n",
              "      <td>0.090314</td>\n",
              "      <td>6.566033</td>\n",
              "      <td>0.064110</td>\n",
              "      <td>POLYGON ((8128060.222855 1475731.374285, 81280...</td>\n",
              "    </tr>\n",
              "    <tr>\n",
              "      <th>6</th>\n",
              "      <td>3200023.00</td>\n",
              "      <td>128.080469</td>\n",
              "      <td>1.240000e-06</td>\n",
              "      <td>0.000159</td>\n",
              "      <td>11.033159</td>\n",
              "      <td>0.090686</td>\n",
              "      <td>POLYGON ((8126328.474285 1476725.734285, 81263...</td>\n",
              "    </tr>\n",
              "  </tbody>\n",
              "</table>\n",
              "</div>"
            ],
            "text/plain": [
              "        CTUID  ...                                           geometry\n",
              "0  3200018.00  ...  POLYGON ((8138931.71143 1497922.59143, 8138472...\n",
              "3  3200021.00  ...  POLYGON ((8132383.78857 1467081.822855, 813210...\n",
              "4  3200008.00  ...  POLYGON ((8126666.14857 1475869.73143, 8126683...\n",
              "5  3200004.00  ...  POLYGON ((8128060.222855 1475731.374285, 81280...\n",
              "6  3200023.00  ...  POLYGON ((8126328.474285 1476725.734285, 81263...\n",
              "\n",
              "[5 rows x 7 columns]"
            ]
          },
          "metadata": {
            "tags": []
          },
          "execution_count": 86
        }
      ]
    },
    {
      "cell_type": "markdown",
      "metadata": {
        "id": "F4DQpM7WPBxs",
        "colab_type": "text"
      },
      "source": [
        "## Classification Task on the Census Tract data"
      ]
    },
    {
      "cell_type": "markdown",
      "metadata": {
        "id": "Hz7F9YIxPJve",
        "colab_type": "text"
      },
      "source": [
        "### Creating Standardized/normalized data for scale invariance as below:\n",
        "\n",
        "### For every given variable x we standardize it as: $\\frac{(x-\\mu)}{\\sigma}$ , where $\\mu$ is the mean and $\\sigma$ is standard deviation"
      ]
    },
    {
      "cell_type": "code",
      "metadata": {
        "id": "RS72TX1VO8ds",
        "colab_type": "code",
        "outputId": "f55f5693-7615-46be-dd0b-984d7d2843f0",
        "colab": {
          "base_uri": "https://localhost:8080/",
          "height": 357
        }
      },
      "source": [
        "from sklearn.preprocessing import StandardScaler #for standardization\n",
        "\n",
        "X = df_ct.values[:,1:-1] #we are taking only the 5 statistics\n",
        "cluster_dataset = StandardScaler().fit_transform(X) #creating standard scalar from unscaled data a \n",
        "cluster_dataset"
      ],
      "execution_count": 0,
      "outputs": [
        {
          "output_type": "execute_result",
          "data": {
            "text/plain": [
              "array([[-0.59855061, -1.1593903 , -1.03150346,  3.25100994, -1.04486285],\n",
              "       [-0.33824713, -0.89963862, -0.86172365,  0.29187906, -0.8917724 ],\n",
              "       [-0.0846099 , -0.50307842, -0.5140823 ,  0.08588082, -0.29987972],\n",
              "       [ 0.33010744,  0.89078693,  1.03655344, -0.51040173, -0.46216657],\n",
              "       [-0.5202139 , -1.15374925, -1.028313  ,  0.38409358,  0.00566641],\n",
              "       [-0.50818414, -1.15733422, -1.03030515,  2.33190359, -0.76256343],\n",
              "       [-0.02439587,  1.46026888,  1.11699089, -0.80505563,  0.78313595],\n",
              "       [-0.03445153,  1.93501291,  1.48970796, -0.79815457,  0.93204618],\n",
              "       [ 3.99220529, -0.06576562,  2.20282703, -0.76380628,  3.10878394],\n",
              "       [ 1.07234118,  0.6403667 ,  1.49454748, -0.54340501,  1.99925442],\n",
              "       [ 0.23466836, -0.81929327, -0.70535639,  0.08784958,  0.09820734],\n",
              "       [-0.01854994, -0.33289811, -0.35089756, -0.28337753, -0.32616983],\n",
              "       [-0.54077365, -0.12259784, -0.46589027, -0.32853836, -0.68821006],\n",
              "       [-0.12420837, -0.77832979, -0.73901314,  0.02995912, -0.76144915],\n",
              "       [-0.33476179,  2.17357113,  1.15179122, -0.58093491, -0.84891123],\n",
              "       [-0.30958888,  0.72450789,  0.22783752, -0.50061982, -0.24262041],\n",
              "       [-0.43024115,  0.64943455,  0.06158371, -0.51283043, -0.09781857],\n",
              "       [-0.56759839, -0.58105137, -0.72424539, -0.11087316, -0.28709808],\n",
              "       [-0.58151404, -0.3481342 , -0.60651502, -0.30777652, -0.20825116],\n",
              "       [-0.61343297, -0.55268799, -0.72399391, -0.41680175, -0.00532077]])"
            ]
          },
          "metadata": {
            "tags": []
          },
          "execution_count": 87
        }
      ]
    },
    {
      "cell_type": "code",
      "metadata": {
        "id": "HrzyphQ8POeA",
        "colab_type": "code",
        "outputId": "8310aad5-a6d1-4857-8c6f-3b68f5870f76",
        "colab": {
          "base_uri": "https://localhost:8080/",
          "height": 51
        }
      },
      "source": [
        "k_means = KMeans(init = \"k-means++\", n_clusters = 3, n_init = 12)\n",
        "# fit the X value to the model\n",
        "k_means.fit(cluster_dataset)\n",
        "labels = k_means.labels_\n",
        "labels"
      ],
      "execution_count": 0,
      "outputs": [
        {
          "output_type": "execute_result",
          "data": {
            "text/plain": [
              "array([0, 0, 0, 1, 0, 0, 1, 1, 2, 1, 0, 0, 0, 0, 1, 1, 1, 0, 0, 0],\n",
              "      dtype=int32)"
            ]
          },
          "metadata": {
            "tags": []
          },
          "execution_count": 88
        }
      ]
    },
    {
      "cell_type": "code",
      "metadata": {
        "id": "P21jpctAPb6c",
        "colab_type": "code",
        "colab": {}
      },
      "source": [
        "new_lab = []\n",
        "for label in labels:\n",
        "    new_lab.append(\"Class \"+str(label))"
      ],
      "execution_count": 0,
      "outputs": []
    },
    {
      "cell_type": "code",
      "metadata": {
        "id": "DuO-UeJhP-E-",
        "colab_type": "code",
        "outputId": "385e09af-d09b-4166-b8b7-49cf5588e0dd",
        "colab": {
          "base_uri": "https://localhost:8080/",
          "height": 85
        }
      },
      "source": [
        "new_lab = np.asarray(new_lab)\n",
        "new_lab"
      ],
      "execution_count": 0,
      "outputs": [
        {
          "output_type": "execute_result",
          "data": {
            "text/plain": [
              "array(['Class 0', 'Class 0', 'Class 0', 'Class 1', 'Class 0', 'Class 0',\n",
              "       'Class 1', 'Class 1', 'Class 2', 'Class 1', 'Class 0', 'Class 0',\n",
              "       'Class 0', 'Class 0', 'Class 1', 'Class 1', 'Class 1', 'Class 0',\n",
              "       'Class 0', 'Class 0'], dtype='<U7')"
            ]
          },
          "metadata": {
            "tags": []
          },
          "execution_count": 90
        }
      ]
    },
    {
      "cell_type": "code",
      "metadata": {
        "id": "ZpfaqJ5vQBTd",
        "colab_type": "code",
        "outputId": "9f3c9246-f178-415d-a7fb-f132a4be54bb",
        "colab": {
          "base_uri": "https://localhost:8080/",
          "height": 289
        }
      },
      "source": [
        "df_ct['Labels'] = new_lab\n",
        "df_ct.head()"
      ],
      "execution_count": 0,
      "outputs": [
        {
          "output_type": "execute_result",
          "data": {
            "text/html": [
              "<div>\n",
              "<style scoped>\n",
              "    .dataframe tbody tr th:only-of-type {\n",
              "        vertical-align: middle;\n",
              "    }\n",
              "\n",
              "    .dataframe tbody tr th {\n",
              "        vertical-align: top;\n",
              "    }\n",
              "\n",
              "    .dataframe thead th {\n",
              "        text-align: right;\n",
              "    }\n",
              "</style>\n",
              "<table border=\"1\" class=\"dataframe\">\n",
              "  <thead>\n",
              "    <tr style=\"text-align: right;\">\n",
              "      <th></th>\n",
              "      <th>CTUID</th>\n",
              "      <th>AvgSize</th>\n",
              "      <th>BD</th>\n",
              "      <th>BCR</th>\n",
              "      <th>ProxMean</th>\n",
              "      <th>ContRatio</th>\n",
              "      <th>geometry</th>\n",
              "      <th>Labels</th>\n",
              "    </tr>\n",
              "  </thead>\n",
              "  <tbody>\n",
              "    <tr>\n",
              "      <th>0</th>\n",
              "      <td>3200018.00</td>\n",
              "      <td>118.494001</td>\n",
              "      <td>1.700000e-07</td>\n",
              "      <td>0.000020</td>\n",
              "      <td>25.350592</td>\n",
              "      <td>0.031008</td>\n",
              "      <td>POLYGON ((8138931.71143 1497922.59143, 8138472...</td>\n",
              "      <td>Class 0</td>\n",
              "    </tr>\n",
              "    <tr>\n",
              "      <th>3</th>\n",
              "      <td>3200021.00</td>\n",
              "      <td>150.348683</td>\n",
              "      <td>4.944000e-05</td>\n",
              "      <td>0.007433</td>\n",
              "      <td>10.572638</td>\n",
              "      <td>0.039705</td>\n",
              "      <td>POLYGON ((8132383.78857 1467081.822855, 813210...</td>\n",
              "      <td>Class 0</td>\n",
              "    </tr>\n",
              "    <tr>\n",
              "      <th>4</th>\n",
              "      <td>3200008.00</td>\n",
              "      <td>181.387583</td>\n",
              "      <td>1.246600e-04</td>\n",
              "      <td>0.022611</td>\n",
              "      <td>9.543879</td>\n",
              "      <td>0.073329</td>\n",
              "      <td>POLYGON ((8126666.14857 1475869.73143, 8126683...</td>\n",
              "      <td>Class 0</td>\n",
              "    </tr>\n",
              "    <tr>\n",
              "      <th>5</th>\n",
              "      <td>3200004.00</td>\n",
              "      <td>232.138687</td>\n",
              "      <td>3.890500e-04</td>\n",
              "      <td>0.090314</td>\n",
              "      <td>6.566033</td>\n",
              "      <td>0.064110</td>\n",
              "      <td>POLYGON ((8128060.222855 1475731.374285, 81280...</td>\n",
              "      <td>Class 1</td>\n",
              "    </tr>\n",
              "    <tr>\n",
              "      <th>6</th>\n",
              "      <td>3200023.00</td>\n",
              "      <td>128.080469</td>\n",
              "      <td>1.240000e-06</td>\n",
              "      <td>0.000159</td>\n",
              "      <td>11.033159</td>\n",
              "      <td>0.090686</td>\n",
              "      <td>POLYGON ((8126328.474285 1476725.734285, 81263...</td>\n",
              "      <td>Class 0</td>\n",
              "    </tr>\n",
              "  </tbody>\n",
              "</table>\n",
              "</div>"
            ],
            "text/plain": [
              "        CTUID  ...   Labels\n",
              "0  3200018.00  ...  Class 0\n",
              "3  3200021.00  ...  Class 0\n",
              "4  3200008.00  ...  Class 0\n",
              "5  3200004.00  ...  Class 1\n",
              "6  3200023.00  ...  Class 0\n",
              "\n",
              "[5 rows x 8 columns]"
            ]
          },
          "metadata": {
            "tags": []
          },
          "execution_count": 91
        }
      ]
    },
    {
      "cell_type": "code",
      "metadata": {
        "id": "RoRLOXoXQD5L",
        "colab_type": "code",
        "colab": {}
      },
      "source": [
        "df_ct['Labels'] = df_ct['Labels'].astype(object)"
      ],
      "execution_count": 0,
      "outputs": []
    },
    {
      "cell_type": "code",
      "metadata": {
        "id": "DsDliuzaQFx8",
        "colab_type": "code",
        "outputId": "96d32f33-3999-4c7a-bd89-065cce0e4f1c",
        "colab": {
          "base_uri": "https://localhost:8080/",
          "height": 595
        }
      },
      "source": [
        "df_ct.plot(figsize= (15,10), column='Labels', legend=True, cmap = 'Accent')\n",
        "plt.savefig('CTclassification.png')"
      ],
      "execution_count": 0,
      "outputs": [
        {
          "output_type": "display_data",
          "data": {
            "image/png": "[encoded data removed]",
            "text/plain": [
              "<Figure size 1080x720 with 1 Axes>"
            ]
          },
          "metadata": {
            "tags": []
          }
        }
      ]
    },
    {
      "cell_type": "markdown",
      "metadata": {
        "id": "QVfI0GsHQd8h",
        "colab_type": "text"
      },
      "source": [
        "# Interpretation of Classes"
      ]
    },
    {
      "cell_type": "code",
      "metadata": {
        "id": "zOPjT7KHQHKj",
        "colab_type": "code",
        "colab": {}
      },
      "source": [
        "CT_cluster0 = df_ct[df_ct.Labels==\"Class 0\"]\n",
        "CT_cluster1 = df_ct[df_ct.Labels==\"Class 1\"]\n",
        "CT_cluster2 = df_ct[df_ct.Labels==\"Class 2\"]"
      ],
      "execution_count": 0,
      "outputs": []
    },
    {
      "cell_type": "markdown",
      "metadata": {
        "id": "QWpCXWKDQoAZ",
        "colab_type": "text"
      },
      "source": [
        "# BCR"
      ]
    },
    {
      "cell_type": "code",
      "metadata": {
        "id": "2kkO8IxfQlYR",
        "colab_type": "code",
        "outputId": "88b7314f-93b1-4e94-918c-41331f2282a2",
        "colab": {
          "base_uri": "https://localhost:8080/",
          "height": 408
        }
      },
      "source": [
        "data0 = CT_cluster0.describe()[\"BCR\"]\n",
        "data0 = data0.drop(labels=['count','mean','std'])\n",
        "print(\"For Class 0\")\n",
        "print(data0)\n",
        "print(\"----------------------------\")\n",
        "data1 = CT_cluster1.describe()[\"BCR\"]\n",
        "data1 = data1.drop(labels=['count','mean','std'])\n",
        "print(\"For Class 1\")\n",
        "print(data1)\n",
        "print(\"----------------------------\")\n",
        "data2 = CT_cluster2.describe()[\"BCR\"]\n",
        "data2 = data2.drop(labels=['count','mean','std'])\n",
        "print(\"For Class 2\")\n",
        "print(data2)"
      ],
      "execution_count": 0,
      "outputs": [
        {
          "output_type": "stream",
          "text": [
            "For Class 0\n",
            "min    0.000020\n",
            "25%    0.005614\n",
            "50%    0.013441\n",
            "75%    0.019584\n",
            "max    0.029736\n",
            "Name: BCR, dtype: float64\n",
            "----------------------------\n",
            "For Class 1\n",
            "min    0.047745\n",
            "25%    0.072659\n",
            "50%    0.093826\n",
            "75%    0.102722\n",
            "max    0.110311\n",
            "Name: BCR, dtype: float64\n",
            "----------------------------\n",
            "For Class 2\n",
            "min    0.141235\n",
            "25%    0.141235\n",
            "50%    0.141235\n",
            "75%    0.141235\n",
            "max    0.141235\n",
            "Name: BCR, dtype: float64\n"
          ],
          "name": "stdout"
        }
      ]
    },
    {
      "cell_type": "code",
      "metadata": {
        "id": "EnaodD_OQuS7",
        "colab_type": "code",
        "outputId": "3fb6858b-e881-453c-e5d5-3ac6192e3b82",
        "colab": {
          "base_uri": "https://localhost:8080/",
          "height": 603
        }
      },
      "source": [
        "data = [data0,data1,data2]\n",
        "# Create a figure instance\n",
        "fig = plt.figure(1, figsize=(9, 9))\n",
        "\n",
        "# Create an axes instance\n",
        "ax = fig.add_subplot(111)\n",
        "\n",
        "# Create the boxplot\n",
        "bp = ax.boxplot(data,patch_artist=True)\n",
        "\n",
        "#formatting options in matplotlib\n",
        "for box in bp['boxes']:\n",
        "    # change outline color\n",
        "    box.set( color='#7570b3', linewidth=2)\n",
        "    # change fill color\n",
        "    box.set( facecolor = '#1b9e77' )\n",
        "    \n",
        "for whisker in bp['whiskers']:\n",
        "    whisker.set(color='#7570b3', linewidth=2)\n",
        "\n",
        "for cap in bp['caps']:\n",
        "    cap.set(color='#7570b3', linewidth=2)\n",
        "    \n",
        "for median in bp['medians']:\n",
        "    median.set(color='#b2df8a', linewidth=5)\n",
        "\n",
        "for flier in bp['fliers']:\n",
        "    flier.set(marker='o', color='#e7298a', alpha=0.5)\n",
        "\n",
        "    \n",
        "ax.set_title('BCR Boxplots')\n",
        "ax.set_xticklabels(['Class0', 'Class1', 'Class2'], rotation=45, fontsize=20)\n",
        "ax.set_ylim(0,0.15)\n",
        "\n",
        "# Save the figure\n",
        "fig.savefig('BCRforCT.png', bbox_inches='tight')\n"
      ],
      "execution_count": 0,
      "outputs": [
        {
          "output_type": "display_data",
          "data": {
            "image/png": "[encoded data removed]",
            "text/plain": [
              "<Figure size 648x648 with 1 Axes>"
            ]
          },
          "metadata": {
            "tags": []
          }
        }
      ]
    },
    {
      "cell_type": "markdown",
      "metadata": {
        "id": "keyLc4l0RG9_",
        "colab_type": "text"
      },
      "source": [
        "# BD"
      ]
    },
    {
      "cell_type": "code",
      "metadata": {
        "id": "oEvdvbCaRBLr",
        "colab_type": "code",
        "outputId": "c02a6e02-eb9a-45f0-b564-24085c8590ae",
        "colab": {
          "base_uri": "https://localhost:8080/",
          "height": 408
        }
      },
      "source": [
        "data0 = CT_cluster0.describe()[\"BD\"]\n",
        "data0 = data0.drop(labels=['count','mean','std'])\n",
        "print(\"For Class 0\")\n",
        "print(data0)\n",
        "print(\"----------------------------\")\n",
        "data1 = CT_cluster1.describe()[\"BD\"]\n",
        "data1 = data1.drop(labels=['count','mean','std'])\n",
        "print(\"For Class 1\")\n",
        "print(data1)\n",
        "print(\"----------------------------\")\n",
        "data2 = CT_cluster2.describe()[\"BD\"]\n",
        "data2 = data2.drop(labels=['count','mean','std'])\n",
        "print(\"For Class 2\")\n",
        "print(data2)"
      ],
      "execution_count": 0,
      "outputs": [
        {
          "output_type": "stream",
          "text": [
            "For Class 0\n",
            "min    1.700000e-07\n",
            "25%    3.739000e-05\n",
            "50%    9.116000e-05\n",
            "75%    1.320075e-04\n",
            "max    1.968300e-04\n",
            "Name: BD, dtype: float64\n",
            "----------------------------\n",
            "For Class 1\n",
            "min    0.000342\n",
            "25%    0.000350\n",
            "50%    0.000389\n",
            "75%    0.000542\n",
            "max    0.000632\n",
            "Name: BD, dtype: float64\n",
            "----------------------------\n",
            "For Class 2\n",
            "min    0.000208\n",
            "25%    0.000208\n",
            "50%    0.000208\n",
            "75%    0.000208\n",
            "max    0.000208\n",
            "Name: BD, dtype: float64\n"
          ],
          "name": "stdout"
        }
      ]
    },
    {
      "cell_type": "code",
      "metadata": {
        "id": "oD9JgtOcRKHv",
        "colab_type": "code",
        "outputId": "fcf42c60-b15f-4a42-eb42-e252c75b9c26",
        "colab": {
          "base_uri": "https://localhost:8080/",
          "height": 603
        }
      },
      "source": [
        "data = [data0,data1,data2]\n",
        "# Create a figure instance\n",
        "fig = plt.figure(1, figsize=(9, 9))\n",
        "\n",
        "# Create an axes instance\n",
        "ax = fig.add_subplot(111)\n",
        "\n",
        "# Create the boxplot\n",
        "bp = ax.boxplot(data,patch_artist=True)\n",
        "\n",
        "#formatting options in matplotlib\n",
        "for box in bp['boxes']:\n",
        "    # change outline color\n",
        "    box.set( color='#7570b3', linewidth=2)\n",
        "    # change fill color\n",
        "    box.set( facecolor = '#1b9e77' )\n",
        "    \n",
        "for whisker in bp['whiskers']:\n",
        "    whisker.set(color='#7570b3', linewidth=2)\n",
        "\n",
        "for cap in bp['caps']:\n",
        "    cap.set(color='#7570b3', linewidth=2)\n",
        "    \n",
        "for median in bp['medians']:\n",
        "    median.set(color='#b2df8a', linewidth=5)\n",
        "\n",
        "for flier in bp['fliers']:\n",
        "    flier.set(marker='o', color='#e7298a', alpha=0.5)\n",
        "\n",
        "    \n",
        "ax.set_title('Building Density Boxplots')\n",
        "ax.set_xticklabels(['Class0', 'Class1', 'Class2'], rotation=45, fontsize=20)\n",
        "ax.set_ylim(0,0.0007)\n",
        "\n",
        "# Save the figure\n",
        "fig.savefig('BuildingDensityforCT.png', bbox_inches='tight')\n"
      ],
      "execution_count": 0,
      "outputs": [
        {
          "output_type": "display_data",
          "data": {
            "image/png": "[encoded data removed]",
            "text/plain": [
              "<Figure size 648x648 with 1 Axes>"
            ]
          },
          "metadata": {
            "tags": []
          }
        }
      ]
    },
    {
      "cell_type": "markdown",
      "metadata": {
        "id": "zNUBcwD2RZVY",
        "colab_type": "text"
      },
      "source": [
        "# Mean Proximity"
      ]
    },
    {
      "cell_type": "code",
      "metadata": {
        "id": "5tCB63uqRMu6",
        "colab_type": "code",
        "outputId": "46da53e3-f629-4f44-9c00-93f79e14b04e",
        "colab": {
          "base_uri": "https://localhost:8080/",
          "height": 408
        }
      },
      "source": [
        "data0 = CT_cluster0.describe()[\"ProxMean\"]\n",
        "data0 = data0.drop(labels=['count','mean','std'])\n",
        "print(\"For Class 0\")\n",
        "print(data0)\n",
        "print(\"----------------------------\")\n",
        "data1 = CT_cluster1.describe()[\"ProxMean\"]\n",
        "data1 = data1.drop(labels=['count','mean','std'])\n",
        "print(\"For Class 1\")\n",
        "print(data1)\n",
        "print(\"----------------------------\")\n",
        "data2 = CT_cluster2.describe()[\"ProxMean\"]\n",
        "data2 = data2.drop(labels=['count','mean','std'])\n",
        "print(\"For Class 2\")\n",
        "print(data2)"
      ],
      "execution_count": 0,
      "outputs": [
        {
          "output_type": "stream",
          "text": [
            "For Class 0\n",
            "min     7.033473\n",
            "25%     7.669334\n",
            "50%     9.404242\n",
            "75%    10.687768\n",
            "max    25.350592\n",
            "Name: ProxMean, dtype: float64\n",
            "----------------------------\n",
            "For Class 1\n",
            "min    5.094526\n",
            "25%    5.671390\n",
            "50%    6.401214\n",
            "75%    6.559969\n",
            "max    6.614884\n",
            "Name: ProxMean, dtype: float64\n",
            "----------------------------\n",
            "For Class 2\n",
            "min    5.300526\n",
            "25%    5.300526\n",
            "50%    5.300526\n",
            "75%    5.300526\n",
            "max    5.300526\n",
            "Name: ProxMean, dtype: float64\n"
          ],
          "name": "stdout"
        }
      ]
    },
    {
      "cell_type": "code",
      "metadata": {
        "id": "XINJ-m-jRo-N",
        "colab_type": "code",
        "outputId": "6dc316b2-0b15-4800-99b8-3b41c0ae5897",
        "colab": {
          "base_uri": "https://localhost:8080/",
          "height": 603
        }
      },
      "source": [
        "data = [data0,data1,data2]\n",
        "# Create a figure instance\n",
        "fig = plt.figure(1, figsize=(9, 9))\n",
        "\n",
        "# Create an axes instance\n",
        "ax = fig.add_subplot(111)\n",
        "\n",
        "# Create the boxplot\n",
        "bp = ax.boxplot(data,patch_artist=True)\n",
        "\n",
        "#formatting options in matplotlib\n",
        "for box in bp['boxes']:\n",
        "    # change outline color\n",
        "    box.set( color='#7570b3', linewidth=2)\n",
        "    # change fill color\n",
        "    box.set( facecolor = '#1b9e77' )\n",
        "    \n",
        "for whisker in bp['whiskers']:\n",
        "    whisker.set(color='#7570b3', linewidth=2)\n",
        "\n",
        "for cap in bp['caps']:\n",
        "    cap.set(color='#7570b3', linewidth=2)\n",
        "    \n",
        "for median in bp['medians']:\n",
        "    median.set(color='#b2df8a', linewidth=5)\n",
        "\n",
        "for flier in bp['fliers']:\n",
        "    flier.set(marker='o', color='#e7298a', alpha=0.5)\n",
        "\n",
        "    \n",
        "ax.set_title('Mean Proximity Boxplots')\n",
        "ax.set_xticklabels(['Class0', 'Class1', 'Class2'], rotation=45, fontsize=20)\n",
        "ax.set_ylim(0,30)\n",
        "\n",
        "# Save the figure\n",
        "fig.savefig('MeanProximityforCT.png', bbox_inches='tight')"
      ],
      "execution_count": 0,
      "outputs": [
        {
          "output_type": "display_data",
          "data": {
            "image/png": "[encoded data removed]",
            "text/plain": [
              "<Figure size 648x648 with 1 Axes>"
            ]
          },
          "metadata": {
            "tags": []
          }
        }
      ]
    },
    {
      "cell_type": "markdown",
      "metadata": {
        "id": "OsV6lrbXR5iE",
        "colab_type": "text"
      },
      "source": [
        "# Average Size"
      ]
    },
    {
      "cell_type": "code",
      "metadata": {
        "id": "BPKmu7M9RxSq",
        "colab_type": "code",
        "outputId": "19be251d-bdb4-4929-b0a1-163ab483b984",
        "colab": {
          "base_uri": "https://localhost:8080/",
          "height": 408
        }
      },
      "source": [
        "data0 = CT_cluster0.describe()[\"AvgSize\"]\n",
        "data0 = data0.drop(labels=['count','mean','std'])\n",
        "print(\"For Class 0\")\n",
        "print(data0)\n",
        "print(\"----------------------------\")\n",
        "data1 = CT_cluster1.describe()[\"AvgSize\"]\n",
        "data1 = data1.drop(labels=['count','mean','std'])\n",
        "print(\"For Class 1\")\n",
        "print(data1)\n",
        "print(\"----------------------------\")\n",
        "data2 = CT_cluster2.describe()[\"AvgSize\"]\n",
        "data2 = data2.drop(labels=['count','mean','std'])\n",
        "print(\"For Class 2\")\n",
        "print(data2)"
      ],
      "execution_count": 0,
      "outputs": [
        {
          "output_type": "stream",
          "text": [
            "For Class 0\n",
            "min    116.672769\n",
            "25%    121.856052\n",
            "50%    128.816541\n",
            "75%    177.753180\n",
            "max    220.459314\n",
            "Name: AvgSize, dtype: float64\n",
            "----------------------------\n",
            "For Class 1\n",
            "min    139.090899\n",
            "25%    152.315472\n",
            "50%    187.525722\n",
            "75%    210.447485\n",
            "max    322.969667\n",
            "Name: AvgSize, dtype: float64\n",
            "----------------------------\n",
            "For Class 2\n",
            "min    680.288535\n",
            "25%    680.288535\n",
            "50%    680.288535\n",
            "75%    680.288535\n",
            "max    680.288535\n",
            "Name: AvgSize, dtype: float64\n"
          ],
          "name": "stdout"
        }
      ]
    },
    {
      "cell_type": "code",
      "metadata": {
        "id": "Nv-tnxFfR8gP",
        "colab_type": "code",
        "outputId": "ada24f17-5503-4d69-91d6-b7b5567d27c1",
        "colab": {
          "base_uri": "https://localhost:8080/",
          "height": 603
        }
      },
      "source": [
        "data = [data0,data1,data2]\n",
        "# Create a figure instance\n",
        "fig = plt.figure(1, figsize=(9, 9))\n",
        "\n",
        "# Create an axes instance\n",
        "ax = fig.add_subplot(111)\n",
        "\n",
        "# Create the boxplot\n",
        "bp = ax.boxplot(data,patch_artist=True)\n",
        "\n",
        "#formatting options in matplotlib\n",
        "for box in bp['boxes']:\n",
        "    # change outline color\n",
        "    box.set( color='#7570b3', linewidth=2)\n",
        "    # change fill color\n",
        "    box.set( facecolor = '#1b9e77' )\n",
        "    \n",
        "for whisker in bp['whiskers']:\n",
        "    whisker.set(color='#7570b3', linewidth=2)\n",
        "\n",
        "for cap in bp['caps']:\n",
        "    cap.set(color='#7570b3', linewidth=2)\n",
        "    \n",
        "for median in bp['medians']:\n",
        "    median.set(color='#b2df8a', linewidth=5)\n",
        "\n",
        "for flier in bp['fliers']:\n",
        "    flier.set(marker='o', color='#e7298a', alpha=0.5)\n",
        "\n",
        "    \n",
        "ax.set_title('Average Size Boxplots')\n",
        "ax.set_xticklabels(['Class0', 'Class1', 'Class2'], rotation=45, fontsize=20)\n",
        "ax.set_ylim(100,700)\n",
        "\n",
        "# Save the figure\n",
        "fig.savefig('AvgsizeforCT.png', bbox_inches='tight')\n"
      ],
      "execution_count": 0,
      "outputs": [
        {
          "output_type": "display_data",
          "data": {
            "image/png": "[encoded data removed]",
            "text/plain": [
              "<Figure size 648x648 with 1 Axes>"
            ]
          },
          "metadata": {
            "tags": []
          }
        }
      ]
    },
    {
      "cell_type": "markdown",
      "metadata": {
        "id": "oOBKEwW-SHWe",
        "colab_type": "text"
      },
      "source": [
        "# Contiguity Ratio"
      ]
    },
    {
      "cell_type": "code",
      "metadata": {
        "id": "pjqqZvMZSE2j",
        "colab_type": "code",
        "outputId": "9974ef29-038b-476c-9e5e-1b745c057213",
        "colab": {
          "base_uri": "https://localhost:8080/",
          "height": 408
        }
      },
      "source": [
        "data0 = CT_cluster0.describe()[\"ContRatio\"]\n",
        "data0 = data0.drop(labels=['count','mean','std'])\n",
        "print(\"For Class 0\")\n",
        "print(data0)\n",
        "print(\"----------------------------\")\n",
        "data1 = CT_cluster1.describe()[\"ContRatio\"]\n",
        "data1 = data1.drop(labels=['count','mean','std'])\n",
        "print(\"For Class 1\")\n",
        "print(data1)\n",
        "print(\"----------------------------\")\n",
        "data2 = CT_cluster2.describe()[\"ContRatio\"]\n",
        "data2 = data2.drop(labels=['count','mean','std'])\n",
        "print(\"For Class 2\")\n",
        "print(data2)"
      ],
      "execution_count": 0,
      "outputs": [
        {
          "output_type": "stream",
          "text": [
            "For Class 0\n",
            "min    0.031008\n",
            "25%    0.047092\n",
            "50%    0.072582\n",
            "75%    0.081416\n",
            "max    0.095943\n",
            "Name: ContRatio, dtype: float64\n",
            "----------------------------\n",
            "For Class 1\n",
            "min    0.042139\n",
            "25%    0.070346\n",
            "50%    0.084807\n",
            "75%    0.139082\n",
            "max    0.203938\n",
            "Name: ContRatio, dtype: float64\n",
            "----------------------------\n",
            "For Class 2\n",
            "min    0.266968\n",
            "25%    0.266968\n",
            "50%    0.266968\n",
            "75%    0.266968\n",
            "max    0.266968\n",
            "Name: ContRatio, dtype: float64\n"
          ],
          "name": "stdout"
        }
      ]
    },
    {
      "cell_type": "code",
      "metadata": {
        "id": "FVAtCHY4SMBs",
        "colab_type": "code",
        "outputId": "b6a45797-1ea0-49e1-bba6-07de7c928b28",
        "colab": {
          "base_uri": "https://localhost:8080/",
          "height": 603
        }
      },
      "source": [
        "data = [data0,data1,data2]\n",
        "# Create a figure instance\n",
        "fig = plt.figure(1, figsize=(9, 9))\n",
        "\n",
        "# Create an axes instance\n",
        "ax = fig.add_subplot(111)\n",
        "\n",
        "# Create the boxplot\n",
        "bp = ax.boxplot(data,patch_artist=True)\n",
        "\n",
        "#formatting options in matplotlib\n",
        "for box in bp['boxes']:\n",
        "    # change outline color\n",
        "    box.set( color='#7570b3', linewidth=2)\n",
        "    # change fill color\n",
        "    box.set( facecolor = '#1b9e77' )\n",
        "    \n",
        "for whisker in bp['whiskers']:\n",
        "    whisker.set(color='#7570b3', linewidth=2)\n",
        "\n",
        "for cap in bp['caps']:\n",
        "    cap.set(color='#7570b3', linewidth=2)\n",
        "    \n",
        "for median in bp['medians']:\n",
        "    median.set(color='#b2df8a', linewidth=5)\n",
        "\n",
        "for flier in bp['fliers']:\n",
        "    flier.set(marker='o', color='#e7298a', alpha=0.5)\n",
        "\n",
        "    \n",
        "ax.set_title('Contiguity Ratio Boxplots')\n",
        "ax.set_xticklabels(['Class0', 'Class1', 'Class2'], rotation=45, fontsize=20)\n",
        "ax.set_ylim(0,1)\n",
        "\n",
        "# Save the figure\n",
        "fig.savefig('ContiguityRatioforCT.png', bbox_inches='tight')\n"
      ],
      "execution_count": 0,
      "outputs": [
        {
          "output_type": "display_data",
          "data": {
            "image/png": "[encoded data removed]",
            "text/plain": [
              "<Figure size 648x648 with 1 Axes>"
            ]
          },
          "metadata": {
            "tags": []
          }
        }
      ]
    },
    {
      "cell_type": "markdown",
      "metadata": {
        "id": "5HhCvN7dFS1P",
        "colab_type": "text"
      },
      "source": [
        "## Deatiled Analysis of Census Tract classification"
      ]
    },
    {
      "cell_type": "markdown",
      "metadata": {
        "id": "A5Saz50sFggm",
        "colab_type": "text"
      },
      "source": [
        "## Cluster 0\n",
        "- BCR : Low\n",
        "- BD : Low\n",
        "- Mean Proximity : High\n",
        "- Average Size : Low\n",
        "- Contiguity Ratio : Low"
      ]
    },
    {
      "cell_type": "markdown",
      "metadata": {
        "id": "U1xPQ4ykXoZI",
        "colab_type": "text"
      },
      "source": [
        "##Cluster 1\n",
        "- BCR : Medium\n",
        "- BD    : High\n",
        "- Mean Proximity : Medium\n",
        "- Average Size : Medium\n",
        "- Contiguity Ratio : Medium"
      ]
    },
    {
      "cell_type": "markdown",
      "metadata": {
        "id": "vordnt6pa6ZT",
        "colab_type": "text"
      },
      "source": [
        "## Cluster 2\n",
        "- BCR : High\n",
        "- BD : Medium\n",
        "- Mean Proximity : Low\n",
        "- Average Size : High\n",
        "- Contiguity Ratio : High"
      ]
    },
    {
      "cell_type": "code",
      "metadata": {
        "id": "9EW5i1GLFdTR",
        "colab_type": "code",
        "colab": {}
      },
      "source": [
        ""
      ],
      "execution_count": 0,
      "outputs": []
    },
    {
      "cell_type": "code",
      "metadata": {
        "id": "v8BMYUhSFcxW",
        "colab_type": "code",
        "colab": {}
      },
      "source": [
        ""
      ],
      "execution_count": 0,
      "outputs": []
    },
    {
      "cell_type": "code",
      "metadata": {
        "id": "lLMzQg4jFcMa",
        "colab_type": "code",
        "colab": {}
      },
      "source": [
        ""
      ],
      "execution_count": 0,
      "outputs": []
    },
    {
      "cell_type": "markdown",
      "metadata": {
        "id": "v1omZUozSRgb",
        "colab_type": "text"
      },
      "source": [
        "# 2. Dissemination Block"
      ]
    },
    {
      "cell_type": "code",
      "metadata": {
        "id": "r-nd64xLSOE1",
        "colab_type": "code",
        "outputId": "2dabb5c2-3925-4c1f-bfa6-2b4b3c63d034",
        "colab": {
          "base_uri": "https://localhost:8080/",
          "height": 564
        }
      },
      "source": [
        "dbstats.head()"
      ],
      "execution_count": 0,
      "outputs": [
        {
          "output_type": "execute_result",
          "data": {
            "text/html": [
              "<div>\n",
              "<style scoped>\n",
              "    .dataframe tbody tr th:only-of-type {\n",
              "        vertical-align: middle;\n",
              "    }\n",
              "\n",
              "    .dataframe tbody tr th {\n",
              "        vertical-align: top;\n",
              "    }\n",
              "\n",
              "    .dataframe thead th {\n",
              "        text-align: right;\n",
              "    }\n",
              "</style>\n",
              "<table border=\"1\" class=\"dataframe\">\n",
              "  <thead>\n",
              "    <tr style=\"text-align: right;\">\n",
              "      <th></th>\n",
              "      <th>DBUID</th>\n",
              "      <th>PRNAME</th>\n",
              "      <th>CMANAME</th>\n",
              "      <th>CMATYPE</th>\n",
              "      <th>area</th>\n",
              "      <th>AvgSize</th>\n",
              "      <th>BldgCount</th>\n",
              "      <th>BD</th>\n",
              "      <th>BldgArea</th>\n",
              "      <th>BCR</th>\n",
              "      <th>ProxMean</th>\n",
              "      <th>ContCount</th>\n",
              "      <th>ContRatio</th>\n",
              "      <th>geometry</th>\n",
              "    </tr>\n",
              "  </thead>\n",
              "  <tbody>\n",
              "    <tr>\n",
              "      <th>0</th>\n",
              "      <td>13030048021</td>\n",
              "      <td>New Brunswick / Nouveau-Brunswick</td>\n",
              "      <td>Fredericton</td>\n",
              "      <td>K</td>\n",
              "      <td>1.270082e+06</td>\n",
              "      <td>35.301770</td>\n",
              "      <td>1</td>\n",
              "      <td>7.900000e-07</td>\n",
              "      <td>35.301770</td>\n",
              "      <td>0.000028</td>\n",
              "      <td>15.831832</td>\n",
              "      <td>NaN</td>\n",
              "      <td>NaN</td>\n",
              "      <td>POLYGON ((8137512.38857 1473207.954285, 813727...</td>\n",
              "    </tr>\n",
              "    <tr>\n",
              "      <th>1</th>\n",
              "      <td>13100169002</td>\n",
              "      <td>New Brunswick / Nouveau-Brunswick</td>\n",
              "      <td>Fredericton</td>\n",
              "      <td>K</td>\n",
              "      <td>5.118546e+06</td>\n",
              "      <td>94.382806</td>\n",
              "      <td>379</td>\n",
              "      <td>7.404000e-05</td>\n",
              "      <td>35771.083582</td>\n",
              "      <td>0.006989</td>\n",
              "      <td>9.000438</td>\n",
              "      <td>29.0</td>\n",
              "      <td>0.076517</td>\n",
              "      <td>POLYGON ((8131473.282855 1481092.42, 8131473.8...</td>\n",
              "    </tr>\n",
              "    <tr>\n",
              "      <th>2</th>\n",
              "      <td>13100169003</td>\n",
              "      <td>New Brunswick / Nouveau-Brunswick</td>\n",
              "      <td>Fredericton</td>\n",
              "      <td>K</td>\n",
              "      <td>1.571628e+04</td>\n",
              "      <td>121.442266</td>\n",
              "      <td>20</td>\n",
              "      <td>1.272570e-03</td>\n",
              "      <td>2428.845315</td>\n",
              "      <td>0.154543</td>\n",
              "      <td>3.308095</td>\n",
              "      <td>2.0</td>\n",
              "      <td>0.100000</td>\n",
              "      <td>POLYGON ((8131278.14857 1481200.117145, 813128...</td>\n",
              "    </tr>\n",
              "    <tr>\n",
              "      <th>3</th>\n",
              "      <td>13100169004</td>\n",
              "      <td>New Brunswick / Nouveau-Brunswick</td>\n",
              "      <td>Fredericton</td>\n",
              "      <td>K</td>\n",
              "      <td>2.625598e+04</td>\n",
              "      <td>92.463317</td>\n",
              "      <td>39</td>\n",
              "      <td>1.485380e-03</td>\n",
              "      <td>3606.069374</td>\n",
              "      <td>0.137343</td>\n",
              "      <td>5.486691</td>\n",
              "      <td>2.0</td>\n",
              "      <td>0.051282</td>\n",
              "      <td>POLYGON ((8131146.74857 1480994.94, 8131149.04...</td>\n",
              "    </tr>\n",
              "    <tr>\n",
              "      <th>4</th>\n",
              "      <td>13100169005</td>\n",
              "      <td>New Brunswick / Nouveau-Brunswick</td>\n",
              "      <td>Fredericton</td>\n",
              "      <td>K</td>\n",
              "      <td>3.512295e+04</td>\n",
              "      <td>93.529626</td>\n",
              "      <td>23</td>\n",
              "      <td>6.548400e-04</td>\n",
              "      <td>2151.181409</td>\n",
              "      <td>0.061247</td>\n",
              "      <td>5.138314</td>\n",
              "      <td>4.0</td>\n",
              "      <td>0.173913</td>\n",
              "      <td>POLYGON ((8131473.282855 1481092.42, 8131480.5...</td>\n",
              "    </tr>\n",
              "  </tbody>\n",
              "</table>\n",
              "</div>"
            ],
            "text/plain": [
              "         DBUID  ...                                           geometry\n",
              "0  13030048021  ...  POLYGON ((8137512.38857 1473207.954285, 813727...\n",
              "1  13100169002  ...  POLYGON ((8131473.282855 1481092.42, 8131473.8...\n",
              "2  13100169003  ...  POLYGON ((8131278.14857 1481200.117145, 813128...\n",
              "3  13100169004  ...  POLYGON ((8131146.74857 1480994.94, 8131149.04...\n",
              "4  13100169005  ...  POLYGON ((8131473.282855 1481092.42, 8131480.5...\n",
              "\n",
              "[5 rows x 14 columns]"
            ]
          },
          "metadata": {
            "tags": []
          },
          "execution_count": 105
        }
      ]
    },
    {
      "cell_type": "code",
      "metadata": {
        "id": "z4VHUeRhShOW",
        "colab_type": "code",
        "outputId": "f5c69d37-e572-483d-8d55-73f5ed74c865",
        "colab": {
          "base_uri": "https://localhost:8080/",
          "height": 204
        }
      },
      "source": [
        "df_db = dbstats.drop(['PRNAME','CMANAME','CMATYPE','area', 'BldgArea', 'BldgCount', 'ContCount'], axis=1)\n",
        "df_db = df_db.dropna(axis='rows')\n",
        "df_db.head()"
      ],
      "execution_count": 0,
      "outputs": [
        {
          "output_type": "execute_result",
          "data": {
            "text/html": [
              "<div>\n",
              "<style scoped>\n",
              "    .dataframe tbody tr th:only-of-type {\n",
              "        vertical-align: middle;\n",
              "    }\n",
              "\n",
              "    .dataframe tbody tr th {\n",
              "        vertical-align: top;\n",
              "    }\n",
              "\n",
              "    .dataframe thead th {\n",
              "        text-align: right;\n",
              "    }\n",
              "</style>\n",
              "<table border=\"1\" class=\"dataframe\">\n",
              "  <thead>\n",
              "    <tr style=\"text-align: right;\">\n",
              "      <th></th>\n",
              "      <th>DBUID</th>\n",
              "      <th>AvgSize</th>\n",
              "      <th>BD</th>\n",
              "      <th>BCR</th>\n",
              "      <th>ProxMean</th>\n",
              "      <th>ContRatio</th>\n",
              "      <th>geometry</th>\n",
              "    </tr>\n",
              "  </thead>\n",
              "  <tbody>\n",
              "    <tr>\n",
              "      <th>1</th>\n",
              "      <td>13100169002</td>\n",
              "      <td>94.382806</td>\n",
              "      <td>0.000074</td>\n",
              "      <td>0.006989</td>\n",
              "      <td>9.000438</td>\n",
              "      <td>0.076517</td>\n",
              "      <td>POLYGON ((8131473.282855 1481092.42, 8131473.8...</td>\n",
              "    </tr>\n",
              "    <tr>\n",
              "      <th>2</th>\n",
              "      <td>13100169003</td>\n",
              "      <td>121.442266</td>\n",
              "      <td>0.001273</td>\n",
              "      <td>0.154543</td>\n",
              "      <td>3.308095</td>\n",
              "      <td>0.100000</td>\n",
              "      <td>POLYGON ((8131278.14857 1481200.117145, 813128...</td>\n",
              "    </tr>\n",
              "    <tr>\n",
              "      <th>3</th>\n",
              "      <td>13100169004</td>\n",
              "      <td>92.463317</td>\n",
              "      <td>0.001485</td>\n",
              "      <td>0.137343</td>\n",
              "      <td>5.486691</td>\n",
              "      <td>0.051282</td>\n",
              "      <td>POLYGON ((8131146.74857 1480994.94, 8131149.04...</td>\n",
              "    </tr>\n",
              "    <tr>\n",
              "      <th>4</th>\n",
              "      <td>13100169005</td>\n",
              "      <td>93.529626</td>\n",
              "      <td>0.000655</td>\n",
              "      <td>0.061247</td>\n",
              "      <td>5.138314</td>\n",
              "      <td>0.173913</td>\n",
              "      <td>POLYGON ((8131473.282855 1481092.42, 8131480.5...</td>\n",
              "    </tr>\n",
              "    <tr>\n",
              "      <th>6</th>\n",
              "      <td>13100170003</td>\n",
              "      <td>78.459693</td>\n",
              "      <td>0.001581</td>\n",
              "      <td>0.124043</td>\n",
              "      <td>3.903380</td>\n",
              "      <td>0.080000</td>\n",
              "      <td>POLYGON ((8132052.342855 1479440.30857, 813204...</td>\n",
              "    </tr>\n",
              "  </tbody>\n",
              "</table>\n",
              "</div>"
            ],
            "text/plain": [
              "         DBUID  ...                                           geometry\n",
              "1  13100169002  ...  POLYGON ((8131473.282855 1481092.42, 8131473.8...\n",
              "2  13100169003  ...  POLYGON ((8131278.14857 1481200.117145, 813128...\n",
              "3  13100169004  ...  POLYGON ((8131146.74857 1480994.94, 8131149.04...\n",
              "4  13100169005  ...  POLYGON ((8131473.282855 1481092.42, 8131480.5...\n",
              "6  13100170003  ...  POLYGON ((8132052.342855 1479440.30857, 813204...\n",
              "\n",
              "[5 rows x 7 columns]"
            ]
          },
          "metadata": {
            "tags": []
          },
          "execution_count": 106
        }
      ]
    },
    {
      "cell_type": "markdown",
      "metadata": {
        "id": "JLoRfUU1S0NA",
        "colab_type": "text"
      },
      "source": [
        "## Classification Task on the Dissemination Block data"
      ]
    },
    {
      "cell_type": "code",
      "metadata": {
        "id": "23dePTtjSoin",
        "colab_type": "code",
        "outputId": "279da58f-c4fb-45c4-e9b7-968513ec7ed5",
        "colab": {
          "base_uri": "https://localhost:8080/",
          "height": 136
        }
      },
      "source": [
        "X = df_db.values[:,1:-1] #we are taking only the 5 statistics\n",
        "cluster_dataset = StandardScaler().fit_transform(X) #creating standard scalar from unscaled data a \n",
        "cluster_dataset"
      ],
      "execution_count": 0,
      "outputs": [
        {
          "output_type": "execute_result",
          "data": {
            "text/plain": [
              "array([[-0.25676964, -1.30051514, -1.36231792,  0.26686341, -0.50575756],\n",
              "       [-0.20779868,  0.79255152,  0.49347729, -0.5651409 , -0.34231602],\n",
              "       [-0.26024344,  1.16419472,  0.27714716, -0.24671292, -0.68139483],\n",
              "       ...,\n",
              "       [-0.29963364,  1.71438591,  0.15067125, -0.52856619,  0.12168657],\n",
              "       [-0.10340962, -0.41970278, -0.14714146,  0.04606157, -0.43309914],\n",
              "       [-0.21111882,  0.24384474, -0.00853089, -0.21608468, -0.53213527]])"
            ]
          },
          "metadata": {
            "tags": []
          },
          "execution_count": 107
        }
      ]
    },
    {
      "cell_type": "code",
      "metadata": {
        "id": "9BhfltwGS6N3",
        "colab_type": "code",
        "outputId": "530df736-e151-4dcf-e90d-56f938a336f0",
        "colab": {
          "base_uri": "https://localhost:8080/",
          "height": 323
        }
      },
      "source": [
        "k_means = KMeans(init = \"k-means++\", n_clusters = 3, n_init = 12)\n",
        "# fit the X value to the model\n",
        "k_means.fit(cluster_dataset)\n",
        "labels = k_means.labels_\n",
        "labels"
      ],
      "execution_count": 0,
      "outputs": [
        {
          "output_type": "execute_result",
          "data": {
            "text/plain": [
              "array([2, 1, 1, 2, 1, 1, 2, 2, 1, 1, 1, 2, 2, 2, 2, 2, 1, 2, 1, 1, 2, 1,\n",
              "       2, 2, 2, 2, 2, 2, 2, 2, 2, 2, 2, 1, 2, 2, 2, 2, 2, 2, 2, 2, 1, 1,\n",
              "       2, 2, 2, 2, 2, 2, 1, 1, 1, 1, 2, 2, 2, 2, 2, 2, 2, 2, 2, 1, 1, 2,\n",
              "       1, 1, 2, 1, 2, 1, 2, 1, 1, 1, 2, 2, 2, 1, 2, 1, 1, 2, 2, 2, 1, 2,\n",
              "       1, 1, 1, 1, 1, 0, 2, 0, 2, 1, 1, 2, 2, 2, 1, 1, 1, 2, 1, 1, 1, 1,\n",
              "       1, 1, 1, 1, 1, 1, 1, 2, 1, 1, 2, 1, 2, 1, 1, 1, 1, 1, 1, 1, 1, 1,\n",
              "       1, 1, 1, 1, 1, 1, 1, 1, 0, 1, 1, 1, 0, 1, 1, 1, 1, 1, 1, 1, 1, 1,\n",
              "       1, 1, 1, 1, 1, 1, 1, 2, 1, 2, 2, 2, 1, 1, 2, 2, 2, 1, 1, 2, 1, 1,\n",
              "       2, 2, 1, 1, 1, 1, 1, 1, 1, 1, 1, 1, 1, 1, 1, 1, 1, 2, 2, 2, 1, 1,\n",
              "       1, 2, 1, 1, 1, 2, 1, 2, 2, 1, 0, 0, 1, 2, 1, 1, 1, 1, 1, 2, 2, 2,\n",
              "       2, 2, 1, 1, 0, 2, 2, 2, 2, 0, 2, 1, 1, 2, 2, 2, 1, 2, 1, 1, 0, 0,\n",
              "       2, 1, 1, 1, 2, 1, 1, 1, 1, 1, 2, 2, 2, 1, 1, 1, 1, 1, 1, 2, 0, 0,\n",
              "       1, 0, 0, 0, 0, 0, 2, 1, 1, 0, 1, 1, 1, 1, 1, 1, 1, 1, 1, 1, 1, 1,\n",
              "       1, 1, 1, 1, 2, 2, 1, 2, 1, 2, 2, 1, 0, 0, 1, 1, 0, 1, 1, 1, 2, 1,\n",
              "       1, 1, 2, 2, 1, 1, 1, 2, 1, 1, 2, 1, 1, 1, 1, 2, 2, 2, 2, 2, 2, 2,\n",
              "       2, 1, 1, 2, 2, 2, 1, 2, 1, 2, 2, 2, 0, 2, 2, 1, 2, 1, 2, 2, 1, 2,\n",
              "       1, 1, 2, 2, 1, 2, 1, 1, 1, 1, 1, 1, 2, 0, 2, 2, 2, 1, 1, 1, 1, 1,\n",
              "       2, 1], dtype=int32)"
            ]
          },
          "metadata": {
            "tags": []
          },
          "execution_count": 108
        }
      ]
    },
    {
      "cell_type": "code",
      "metadata": {
        "id": "qiO_2-L5S8yb",
        "colab_type": "code",
        "colab": {}
      },
      "source": [
        "new_lab = []\n",
        "for label in labels:\n",
        "    new_lab.append(\"Class \"+str(label))"
      ],
      "execution_count": 0,
      "outputs": []
    },
    {
      "cell_type": "code",
      "metadata": {
        "id": "BzXlctDhTVfN",
        "colab_type": "code",
        "outputId": "a491b949-f315-4e75-8e77-0708fa1c02a9",
        "colab": {
          "base_uri": "https://localhost:8080/",
          "height": 1000
        }
      },
      "source": [
        "new_lab = np.asarray(new_lab)\n",
        "new_lab\n"
      ],
      "execution_count": 0,
      "outputs": [
        {
          "output_type": "execute_result",
          "data": {
            "text/plain": [
              "array(['Class 2', 'Class 1', 'Class 1', 'Class 2', 'Class 1', 'Class 1',\n",
              "       'Class 2', 'Class 2', 'Class 1', 'Class 1', 'Class 1', 'Class 2',\n",
              "       'Class 2', 'Class 2', 'Class 2', 'Class 2', 'Class 1', 'Class 2',\n",
              "       'Class 1', 'Class 1', 'Class 2', 'Class 1', 'Class 2', 'Class 2',\n",
              "       'Class 2', 'Class 2', 'Class 2', 'Class 2', 'Class 2', 'Class 2',\n",
              "       'Class 2', 'Class 2', 'Class 2', 'Class 1', 'Class 2', 'Class 2',\n",
              "       'Class 2', 'Class 2', 'Class 2', 'Class 2', 'Class 2', 'Class 2',\n",
              "       'Class 1', 'Class 1', 'Class 2', 'Class 2', 'Class 2', 'Class 2',\n",
              "       'Class 2', 'Class 2', 'Class 1', 'Class 1', 'Class 1', 'Class 1',\n",
              "       'Class 2', 'Class 2', 'Class 2', 'Class 2', 'Class 2', 'Class 2',\n",
              "       'Class 2', 'Class 2', 'Class 2', 'Class 1', 'Class 1', 'Class 2',\n",
              "       'Class 1', 'Class 1', 'Class 2', 'Class 1', 'Class 2', 'Class 1',\n",
              "       'Class 2', 'Class 1', 'Class 1', 'Class 1', 'Class 2', 'Class 2',\n",
              "       'Class 2', 'Class 1', 'Class 2', 'Class 1', 'Class 1', 'Class 2',\n",
              "       'Class 2', 'Class 2', 'Class 1', 'Class 2', 'Class 1', 'Class 1',\n",
              "       'Class 1', 'Class 1', 'Class 1', 'Class 0', 'Class 2', 'Class 0',\n",
              "       'Class 2', 'Class 1', 'Class 1', 'Class 2', 'Class 2', 'Class 2',\n",
              "       'Class 1', 'Class 1', 'Class 1', 'Class 2', 'Class 1', 'Class 1',\n",
              "       'Class 1', 'Class 1', 'Class 1', 'Class 1', 'Class 1', 'Class 1',\n",
              "       'Class 1', 'Class 1', 'Class 1', 'Class 2', 'Class 1', 'Class 1',\n",
              "       'Class 2', 'Class 1', 'Class 2', 'Class 1', 'Class 1', 'Class 1',\n",
              "       'Class 1', 'Class 1', 'Class 1', 'Class 1', 'Class 1', 'Class 1',\n",
              "       'Class 1', 'Class 1', 'Class 1', 'Class 1', 'Class 1', 'Class 1',\n",
              "       'Class 1', 'Class 1', 'Class 0', 'Class 1', 'Class 1', 'Class 1',\n",
              "       'Class 0', 'Class 1', 'Class 1', 'Class 1', 'Class 1', 'Class 1',\n",
              "       'Class 1', 'Class 1', 'Class 1', 'Class 1', 'Class 1', 'Class 1',\n",
              "       'Class 1', 'Class 1', 'Class 1', 'Class 1', 'Class 1', 'Class 2',\n",
              "       'Class 1', 'Class 2', 'Class 2', 'Class 2', 'Class 1', 'Class 1',\n",
              "       'Class 2', 'Class 2', 'Class 2', 'Class 1', 'Class 1', 'Class 2',\n",
              "       'Class 1', 'Class 1', 'Class 2', 'Class 2', 'Class 1', 'Class 1',\n",
              "       'Class 1', 'Class 1', 'Class 1', 'Class 1', 'Class 1', 'Class 1',\n",
              "       'Class 1', 'Class 1', 'Class 1', 'Class 1', 'Class 1', 'Class 1',\n",
              "       'Class 1', 'Class 2', 'Class 2', 'Class 2', 'Class 1', 'Class 1',\n",
              "       'Class 1', 'Class 2', 'Class 1', 'Class 1', 'Class 1', 'Class 2',\n",
              "       'Class 1', 'Class 2', 'Class 2', 'Class 1', 'Class 0', 'Class 0',\n",
              "       'Class 1', 'Class 2', 'Class 1', 'Class 1', 'Class 1', 'Class 1',\n",
              "       'Class 1', 'Class 2', 'Class 2', 'Class 2', 'Class 2', 'Class 2',\n",
              "       'Class 1', 'Class 1', 'Class 0', 'Class 2', 'Class 2', 'Class 2',\n",
              "       'Class 2', 'Class 0', 'Class 2', 'Class 1', 'Class 1', 'Class 2',\n",
              "       'Class 2', 'Class 2', 'Class 1', 'Class 2', 'Class 1', 'Class 1',\n",
              "       'Class 0', 'Class 0', 'Class 2', 'Class 1', 'Class 1', 'Class 1',\n",
              "       'Class 2', 'Class 1', 'Class 1', 'Class 1', 'Class 1', 'Class 1',\n",
              "       'Class 2', 'Class 2', 'Class 2', 'Class 1', 'Class 1', 'Class 1',\n",
              "       'Class 1', 'Class 1', 'Class 1', 'Class 2', 'Class 0', 'Class 0',\n",
              "       'Class 1', 'Class 0', 'Class 0', 'Class 0', 'Class 0', 'Class 0',\n",
              "       'Class 2', 'Class 1', 'Class 1', 'Class 0', 'Class 1', 'Class 1',\n",
              "       'Class 1', 'Class 1', 'Class 1', 'Class 1', 'Class 1', 'Class 1',\n",
              "       'Class 1', 'Class 1', 'Class 1', 'Class 1', 'Class 1', 'Class 1',\n",
              "       'Class 1', 'Class 1', 'Class 2', 'Class 2', 'Class 1', 'Class 2',\n",
              "       'Class 1', 'Class 2', 'Class 2', 'Class 1', 'Class 0', 'Class 0',\n",
              "       'Class 1', 'Class 1', 'Class 0', 'Class 1', 'Class 1', 'Class 1',\n",
              "       'Class 2', 'Class 1', 'Class 1', 'Class 1', 'Class 2', 'Class 2',\n",
              "       'Class 1', 'Class 1', 'Class 1', 'Class 2', 'Class 1', 'Class 1',\n",
              "       'Class 2', 'Class 1', 'Class 1', 'Class 1', 'Class 1', 'Class 2',\n",
              "       'Class 2', 'Class 2', 'Class 2', 'Class 2', 'Class 2', 'Class 2',\n",
              "       'Class 2', 'Class 1', 'Class 1', 'Class 2', 'Class 2', 'Class 2',\n",
              "       'Class 1', 'Class 2', 'Class 1', 'Class 2', 'Class 2', 'Class 2',\n",
              "       'Class 0', 'Class 2', 'Class 2', 'Class 1', 'Class 2', 'Class 1',\n",
              "       'Class 2', 'Class 2', 'Class 1', 'Class 2', 'Class 1', 'Class 1',\n",
              "       'Class 2', 'Class 2', 'Class 1', 'Class 2', 'Class 1', 'Class 1',\n",
              "       'Class 1', 'Class 1', 'Class 1', 'Class 1', 'Class 2', 'Class 0',\n",
              "       'Class 2', 'Class 2', 'Class 2', 'Class 1', 'Class 1', 'Class 1',\n",
              "       'Class 1', 'Class 1', 'Class 2', 'Class 1'], dtype='<U7')"
            ]
          },
          "metadata": {
            "tags": []
          },
          "execution_count": 110
        }
      ]
    },
    {
      "cell_type": "code",
      "metadata": {
        "id": "-0RIB95rTXc-",
        "colab_type": "code",
        "outputId": "01bbd335-31d1-4f1a-aea4-76636658ff17",
        "colab": {
          "base_uri": "https://localhost:8080/",
          "height": 289
        }
      },
      "source": [
        "df_db['Labels'] = new_lab\n",
        "df_db.head()"
      ],
      "execution_count": 0,
      "outputs": [
        {
          "output_type": "execute_result",
          "data": {
            "text/html": [
              "<div>\n",
              "<style scoped>\n",
              "    .dataframe tbody tr th:only-of-type {\n",
              "        vertical-align: middle;\n",
              "    }\n",
              "\n",
              "    .dataframe tbody tr th {\n",
              "        vertical-align: top;\n",
              "    }\n",
              "\n",
              "    .dataframe thead th {\n",
              "        text-align: right;\n",
              "    }\n",
              "</style>\n",
              "<table border=\"1\" class=\"dataframe\">\n",
              "  <thead>\n",
              "    <tr style=\"text-align: right;\">\n",
              "      <th></th>\n",
              "      <th>DBUID</th>\n",
              "      <th>AvgSize</th>\n",
              "      <th>BD</th>\n",
              "      <th>BCR</th>\n",
              "      <th>ProxMean</th>\n",
              "      <th>ContRatio</th>\n",
              "      <th>geometry</th>\n",
              "      <th>Labels</th>\n",
              "    </tr>\n",
              "  </thead>\n",
              "  <tbody>\n",
              "    <tr>\n",
              "      <th>1</th>\n",
              "      <td>13100169002</td>\n",
              "      <td>94.382806</td>\n",
              "      <td>0.000074</td>\n",
              "      <td>0.006989</td>\n",
              "      <td>9.000438</td>\n",
              "      <td>0.076517</td>\n",
              "      <td>POLYGON ((8131473.282855 1481092.42, 8131473.8...</td>\n",
              "      <td>Class 2</td>\n",
              "    </tr>\n",
              "    <tr>\n",
              "      <th>2</th>\n",
              "      <td>13100169003</td>\n",
              "      <td>121.442266</td>\n",
              "      <td>0.001273</td>\n",
              "      <td>0.154543</td>\n",
              "      <td>3.308095</td>\n",
              "      <td>0.100000</td>\n",
              "      <td>POLYGON ((8131278.14857 1481200.117145, 813128...</td>\n",
              "      <td>Class 1</td>\n",
              "    </tr>\n",
              "    <tr>\n",
              "      <th>3</th>\n",
              "      <td>13100169004</td>\n",
              "      <td>92.463317</td>\n",
              "      <td>0.001485</td>\n",
              "      <td>0.137343</td>\n",
              "      <td>5.486691</td>\n",
              "      <td>0.051282</td>\n",
              "      <td>POLYGON ((8131146.74857 1480994.94, 8131149.04...</td>\n",
              "      <td>Class 1</td>\n",
              "    </tr>\n",
              "    <tr>\n",
              "      <th>4</th>\n",
              "      <td>13100169005</td>\n",
              "      <td>93.529626</td>\n",
              "      <td>0.000655</td>\n",
              "      <td>0.061247</td>\n",
              "      <td>5.138314</td>\n",
              "      <td>0.173913</td>\n",
              "      <td>POLYGON ((8131473.282855 1481092.42, 8131480.5...</td>\n",
              "      <td>Class 2</td>\n",
              "    </tr>\n",
              "    <tr>\n",
              "      <th>6</th>\n",
              "      <td>13100170003</td>\n",
              "      <td>78.459693</td>\n",
              "      <td>0.001581</td>\n",
              "      <td>0.124043</td>\n",
              "      <td>3.903380</td>\n",
              "      <td>0.080000</td>\n",
              "      <td>POLYGON ((8132052.342855 1479440.30857, 813204...</td>\n",
              "      <td>Class 1</td>\n",
              "    </tr>\n",
              "  </tbody>\n",
              "</table>\n",
              "</div>"
            ],
            "text/plain": [
              "         DBUID  ...   Labels\n",
              "1  13100169002  ...  Class 2\n",
              "2  13100169003  ...  Class 1\n",
              "3  13100169004  ...  Class 1\n",
              "4  13100169005  ...  Class 2\n",
              "6  13100170003  ...  Class 1\n",
              "\n",
              "[5 rows x 8 columns]"
            ]
          },
          "metadata": {
            "tags": []
          },
          "execution_count": 111
        }
      ]
    },
    {
      "cell_type": "code",
      "metadata": {
        "id": "YItbf5GtTZ_b",
        "colab_type": "code",
        "colab": {}
      },
      "source": [
        "df_db['Labels'] = df_db['Labels'].astype(object)"
      ],
      "execution_count": 0,
      "outputs": []
    },
    {
      "cell_type": "code",
      "metadata": {
        "id": "malSz8jETc3B",
        "colab_type": "code",
        "outputId": "a23aa563-47bb-4f6d-f2fc-816dc683f450",
        "colab": {
          "base_uri": "https://localhost:8080/",
          "height": 595
        }
      },
      "source": [
        "df_db.plot(figsize= (10,10), column='Labels', legend=True, cmap = 'Accent')\n",
        "plt.savefig('DBclassification.png')"
      ],
      "execution_count": 0,
      "outputs": [
        {
          "output_type": "display_data",
          "data": {
            "image/png": "[encoded data removed]",
            "text/plain": [
              "<Figure size 720x720 with 1 Axes>"
            ]
          },
          "metadata": {
            "tags": []
          }
        }
      ]
    },
    {
      "cell_type": "markdown",
      "metadata": {
        "id": "oZv-vwGkWbYZ",
        "colab_type": "text"
      },
      "source": [
        "# Interpretation of Classes"
      ]
    },
    {
      "cell_type": "code",
      "metadata": {
        "id": "MBch7dpWTe3s",
        "colab_type": "code",
        "colab": {}
      },
      "source": [
        "DB_cluster0 = df_db[df_db.Labels==\"Class 0\"]\n",
        "DB_cluster1 = df_db[df_db.Labels==\"Class 1\"]\n",
        "DB_cluster2 = df_db[df_db.Labels==\"Class 2\"]"
      ],
      "execution_count": 0,
      "outputs": []
    },
    {
      "cell_type": "markdown",
      "metadata": {
        "id": "Ge0uvZ6nWmPY",
        "colab_type": "text"
      },
      "source": [
        "# BCR"
      ]
    },
    {
      "cell_type": "code",
      "metadata": {
        "id": "IeZBZoeRWgJy",
        "colab_type": "code",
        "outputId": "28a32c6f-2fe4-408e-8c90-c21b7f95b4bb",
        "colab": {
          "base_uri": "https://localhost:8080/",
          "height": 408
        }
      },
      "source": [
        "data0 = DB_cluster0.describe()[\"BCR\"]\n",
        "data0 = data0.drop(labels=['count','mean','std'])\n",
        "print(\"For Class 0\")\n",
        "print(data0)\n",
        "print(\"----------------------------\")\n",
        "data1 = DB_cluster1.describe()[\"BCR\"]\n",
        "data1 = data1.drop(labels=['count','mean','std'])\n",
        "print(\"For Class 1\")\n",
        "print(data1)\n",
        "print(\"----------------------------\")\n",
        "data2 = DB_cluster2.describe()[\"BCR\"]\n",
        "data2 = data2.drop(labels=['count','mean','std'])\n",
        "print(\"For Class 2\")\n",
        "print(data2)"
      ],
      "execution_count": 0,
      "outputs": [
        {
          "output_type": "stream",
          "text": [
            "For Class 0\n",
            "min    0.001579\n",
            "25%    0.126783\n",
            "50%    0.220529\n",
            "75%    0.330972\n",
            "max    0.608565\n",
            "Name: BCR, dtype: float64\n",
            "----------------------------\n",
            "For Class 1\n",
            "min    0.081386\n",
            "25%    0.118238\n",
            "50%    0.134459\n",
            "75%    0.166983\n",
            "max    0.287868\n",
            "Name: BCR, dtype: float64\n",
            "----------------------------\n",
            "For Class 2\n",
            "min    0.000052\n",
            "25%    0.015611\n",
            "50%    0.049528\n",
            "75%    0.078019\n",
            "max    0.175069\n",
            "Name: BCR, dtype: float64\n"
          ],
          "name": "stdout"
        }
      ]
    },
    {
      "cell_type": "code",
      "metadata": {
        "id": "Sq-D7mSlWqN6",
        "colab_type": "code",
        "outputId": "d58b64b6-3bb4-4616-cdcb-eb13eb93f9ab",
        "colab": {
          "base_uri": "https://localhost:8080/",
          "height": 603
        }
      },
      "source": [
        "data = [data0,data1,data2]\n",
        "# Create a figure instance\n",
        "fig = plt.figure(1, figsize=(9, 9))\n",
        "\n",
        "# Create an axes instance\n",
        "ax = fig.add_subplot(111)\n",
        "\n",
        "# Create the boxplot\n",
        "bp = ax.boxplot(data,patch_artist=True)\n",
        "\n",
        "#formatting options in matplotlib\n",
        "for box in bp['boxes']:\n",
        "    # change outline color\n",
        "    box.set( color='#7570b3', linewidth=2)\n",
        "    # change fill color\n",
        "    box.set( facecolor = '#1b9e77' )\n",
        "    \n",
        "for whisker in bp['whiskers']:\n",
        "    whisker.set(color='#7570b3', linewidth=2)\n",
        "\n",
        "for cap in bp['caps']:\n",
        "    cap.set(color='#7570b3', linewidth=2)\n",
        "    \n",
        "for median in bp['medians']:\n",
        "    median.set(color='#b2df8a', linewidth=5)\n",
        "\n",
        "for flier in bp['fliers']:\n",
        "    flier.set(marker='o', color='#e7298a', alpha=0.5)\n",
        "\n",
        "    \n",
        "ax.set_title('BCR for Dissemination Block Boxplots')\n",
        "ax.set_xticklabels(['Class0', 'Class1', 'Class2'], rotation=45, fontsize=20)\n",
        "ax.set_ylim(0,0.7)\n",
        "\n",
        "# Save the figure\n",
        "fig.savefig('BCRforDB.png', bbox_inches='tight')"
      ],
      "execution_count": 0,
      "outputs": [
        {
          "output_type": "display_data",
          "data": {
            "image/png": "[encoded data removed]",
            "text/plain": [
              "<Figure size 648x648 with 1 Axes>"
            ]
          },
          "metadata": {
            "tags": []
          }
        }
      ]
    },
    {
      "cell_type": "markdown",
      "metadata": {
        "id": "EYTODtyHW0Lb",
        "colab_type": "text"
      },
      "source": [
        "# Building Density"
      ]
    },
    {
      "cell_type": "code",
      "metadata": {
        "id": "UGZLic-0WuhH",
        "colab_type": "code",
        "outputId": "2105f659-b7ef-4c7c-b61f-fbf41bbcedb2",
        "colab": {
          "base_uri": "https://localhost:8080/",
          "height": 408
        }
      },
      "source": [
        "data0 = DB_cluster0.describe()[\"BD\"]\n",
        "data0 = data0.drop(labels=['count','mean','std'])\n",
        "print(\"For Class 0\")\n",
        "print(data0)\n",
        "print(\"----------------------------\")\n",
        "data1 = DB_cluster1.describe()[\"BD\"]\n",
        "data1 = data1.drop(labels=['count','mean','std'])\n",
        "print(\"For Class 1\")\n",
        "print(data1)\n",
        "print(\"----------------------------\")\n",
        "data2 = DB_cluster2.describe()[\"BD\"]\n",
        "data2 = data2.drop(labels=['count','mean','std'])\n",
        "print(\"For Class 2\")\n",
        "print(data2)"
      ],
      "execution_count": 0,
      "outputs": [
        {
          "output_type": "stream",
          "text": [
            "For Class 0\n",
            "min    0.000021\n",
            "25%    0.000152\n",
            "50%    0.000225\n",
            "75%    0.000365\n",
            "max    0.000518\n",
            "Name: BD, dtype: float64\n",
            "----------------------------\n",
            "For Class 1\n",
            "min    0.000411\n",
            "25%    0.000983\n",
            "50%    0.001208\n",
            "75%    0.001392\n",
            "max    0.003485\n",
            "Name: BD, dtype: float64\n",
            "----------------------------\n",
            "For Class 2\n",
            "min    4.500000e-07\n",
            "25%    8.612750e-05\n",
            "50%    2.489800e-04\n",
            "75%    5.280800e-04\n",
            "max    8.110400e-04\n",
            "Name: BD, dtype: float64\n"
          ],
          "name": "stdout"
        }
      ]
    },
    {
      "cell_type": "code",
      "metadata": {
        "id": "vd7lA3yDW_Nb",
        "colab_type": "code",
        "outputId": "44f00575-8bb9-4f0f-f184-f172ab3d51da",
        "colab": {
          "base_uri": "https://localhost:8080/",
          "height": 603
        }
      },
      "source": [
        "data = [data0,data1,data2]\n",
        "# Create a figure instance\n",
        "fig = plt.figure(1, figsize=(9, 9))\n",
        "\n",
        "# Create an axes instance\n",
        "ax = fig.add_subplot(111)\n",
        "\n",
        "# Create the boxplot\n",
        "bp = ax.boxplot(data,patch_artist=True)\n",
        "\n",
        "#formatting options in matplotlib\n",
        "for box in bp['boxes']:\n",
        "    # change outline color\n",
        "    box.set( color='#7570b3', linewidth=2)\n",
        "    # change fill color\n",
        "    box.set( facecolor = '#1b9e77' )\n",
        "    \n",
        "for whisker in bp['whiskers']:\n",
        "    whisker.set(color='#7570b3', linewidth=2)\n",
        "\n",
        "for cap in bp['caps']:\n",
        "    cap.set(color='#7570b3', linewidth=2)\n",
        "    \n",
        "for median in bp['medians']:\n",
        "    median.set(color='#b2df8a', linewidth=5)\n",
        "\n",
        "for flier in bp['fliers']:\n",
        "    flier.set(marker='o', color='#e7298a', alpha=0.5)\n",
        "\n",
        "    \n",
        "ax.set_title('Building Density Boxplots')\n",
        "ax.set_xticklabels(['Class0', 'Class1', 'Class2'], rotation=45, fontsize=20)\n",
        "ax.set_ylim(0,0.004)\n",
        "\n",
        "# Save the figure\n",
        "fig.savefig('BuildingDensityforDB.png', bbox_inches='tight')"
      ],
      "execution_count": 0,
      "outputs": [
        {
          "output_type": "display_data",
          "data": {
            "image/png": "[encoded data removed]",
            "text/plain": [
              "<Figure size 648x648 with 1 Axes>"
            ]
          },
          "metadata": {
            "tags": []
          }
        }
      ]
    },
    {
      "cell_type": "markdown",
      "metadata": {
        "id": "CjkQRfpDXMPp",
        "colab_type": "text"
      },
      "source": [
        "# Mean Proximity\n"
      ]
    },
    {
      "cell_type": "code",
      "metadata": {
        "id": "HNpHYUZmXNT3",
        "colab_type": "code",
        "outputId": "19af6465-e2c9-4e4b-b865-a13fbb822940",
        "colab": {
          "base_uri": "https://localhost:8080/",
          "height": 408
        }
      },
      "source": [
        "data0 = DB_cluster0.describe()[\"ProxMean\"]\n",
        "data0 = data0.drop(labels=['count','mean','std'])\n",
        "print(\"For Class 0\")\n",
        "print(data0)\n",
        "print(\"----------------------------\")\n",
        "data1 = DB_cluster1.describe()[\"ProxMean\"]\n",
        "data1 = data1.drop(labels=['count','mean','std'])\n",
        "print(\"For Class 1\")\n",
        "print(data1)\n",
        "print(\"----------------------------\")\n",
        "data2 = DB_cluster2.describe()[\"ProxMean\"]\n",
        "data2 = data2.drop(labels=['count','mean','std'])\n",
        "print(\"For Class 2\")\n",
        "print(data2)"
      ],
      "execution_count": 0,
      "outputs": [
        {
          "output_type": "stream",
          "text": [
            "For Class 0\n",
            "min     0.000000\n",
            "25%     1.545368\n",
            "50%     2.374903\n",
            "75%     5.858576\n",
            "max    10.773764\n",
            "Name: ProxMean, dtype: float64\n",
            "----------------------------\n",
            "For Class 1\n",
            "min    2.067293\n",
            "25%    3.982275\n",
            "50%    4.939585\n",
            "75%    5.619707\n",
            "max    9.121256\n",
            "Name: ProxMean, dtype: float64\n",
            "----------------------------\n",
            "For Class 2\n",
            "min     4.029900\n",
            "25%     6.826812\n",
            "50%     8.591701\n",
            "75%    12.232542\n",
            "max    99.031307\n",
            "Name: ProxMean, dtype: float64\n"
          ],
          "name": "stdout"
        }
      ]
    },
    {
      "cell_type": "code",
      "metadata": {
        "id": "a1-HTHytXHuX",
        "colab_type": "code",
        "outputId": "3ba6d16e-75cd-4666-b023-1c4ff4e1a3db",
        "colab": {
          "base_uri": "https://localhost:8080/",
          "height": 603
        }
      },
      "source": [
        "data = [data0,data1,data2]\n",
        "# Create a figure instance\n",
        "fig = plt.figure(1, figsize=(9, 9))\n",
        "\n",
        "# Create an axes instance\n",
        "ax = fig.add_subplot(111)\n",
        "\n",
        "# Create the boxplot\n",
        "bp = ax.boxplot(data,patch_artist=True)\n",
        "\n",
        "#formatting options in matplotlib\n",
        "for box in bp['boxes']:\n",
        "    # change outline color\n",
        "    box.set( color='#7570b3', linewidth=2)\n",
        "    # change fill color\n",
        "    box.set( facecolor = '#1b9e77' )\n",
        "    \n",
        "for whisker in bp['whiskers']:\n",
        "    whisker.set(color='#7570b3', linewidth=2)\n",
        "\n",
        "for cap in bp['caps']:\n",
        "    cap.set(color='#7570b3', linewidth=2)\n",
        "    \n",
        "for median in bp['medians']:\n",
        "    median.set(color='#b2df8a', linewidth=5)\n",
        "\n",
        "for flier in bp['fliers']:\n",
        "    flier.set(marker='o', color='#e7298a', alpha=0.5)\n",
        "\n",
        "    \n",
        "ax.set_title('Mean Proximity Boxplots for Dissemination Block')\n",
        "ax.set_xticklabels(['Class0', 'Class1', 'Class2'], rotation=45, fontsize=20)\n",
        "ax.set_ylim(0,100)\n",
        "\n",
        "# Save the figure\n",
        "fig.savefig('MeanProximityforDB.png', bbox_inches='tight')"
      ],
      "execution_count": 0,
      "outputs": [
        {
          "output_type": "display_data",
          "data": {
            "image/png": "[encoded data removed]",
            "text/plain": [
              "<Figure size 648x648 with 1 Axes>"
            ]
          },
          "metadata": {
            "tags": []
          }
        }
      ]
    },
    {
      "cell_type": "markdown",
      "metadata": {
        "id": "XMQS0VsfXQ07",
        "colab_type": "text"
      },
      "source": [
        "# Average Size"
      ]
    },
    {
      "cell_type": "code",
      "metadata": {
        "id": "7BfqXB2_XOxr",
        "colab_type": "code",
        "outputId": "206a227b-5fcd-4275-a5c0-0db28faafa47",
        "colab": {
          "base_uri": "https://localhost:8080/",
          "height": 408
        }
      },
      "source": [
        "data0 = DB_cluster0.describe()[\"AvgSize\"]\n",
        "data0 = data0.drop(labels=['count','mean','std'])\n",
        "print(\"For Class 0\")\n",
        "print(data0)\n",
        "print(\"----------------------------\")\n",
        "data1 = DB_cluster1.describe()[\"AvgSize\"]\n",
        "data1 = data1.drop(labels=['count','mean','std'])\n",
        "print(\"For Class 1\")\n",
        "print(data1)\n",
        "print(\"----------------------------\")\n",
        "data2 = DB_cluster2.describe()[\"AvgSize\"]\n",
        "data2 = data2.drop(labels=['count','mean','std'])\n",
        "print(\"For Class 2\")\n",
        "print(data2)"
      ],
      "execution_count": 0,
      "outputs": [
        {
          "output_type": "stream",
          "text": [
            "For Class 0\n",
            "min      76.910168\n",
            "25%     538.851281\n",
            "50%     763.879949\n",
            "75%    1260.783068\n",
            "max    9242.018220\n",
            "Name: AvgSize, dtype: float64\n",
            "----------------------------\n",
            "For Class 1\n",
            "min     55.305510\n",
            "25%     95.582048\n",
            "50%    115.783655\n",
            "75%    145.661920\n",
            "max    456.290154\n",
            "Name: AvgSize, dtype: float64\n",
            "----------------------------\n",
            "For Class 2\n",
            "min      58.129164\n",
            "25%     114.667514\n",
            "50%     144.081508\n",
            "75%     217.821552\n",
            "max    1051.643073\n",
            "Name: AvgSize, dtype: float64\n"
          ],
          "name": "stdout"
        }
      ]
    },
    {
      "cell_type": "code",
      "metadata": {
        "id": "GByeidEDpyTs",
        "colab_type": "code",
        "outputId": "54bab10b-2a20-417e-d5de-2626fd0bd1c2",
        "colab": {
          "base_uri": "https://localhost:8080/",
          "height": 603
        }
      },
      "source": [
        "data = [data0,data1,data2]\n",
        "# Create a figure instance\n",
        "fig = plt.figure(1, figsize=(9, 9))\n",
        "\n",
        "# Create an axes instance\n",
        "ax = fig.add_subplot(111)\n",
        "\n",
        "# Create the boxplot\n",
        "bp = ax.boxplot(data,patch_artist=True)\n",
        "\n",
        "#formatting options in matplotlib\n",
        "for box in bp['boxes']:\n",
        "    # change outline color\n",
        "    box.set( color='#7570b3', linewidth=2)\n",
        "    # change fill color\n",
        "    box.set( facecolor = '#1b9e77' )\n",
        "    \n",
        "for whisker in bp['whiskers']:\n",
        "    whisker.set(color='#7570b3', linewidth=2)\n",
        "\n",
        "for cap in bp['caps']:\n",
        "    cap.set(color='#7570b3', linewidth=2)\n",
        "    \n",
        "for median in bp['medians']:\n",
        "    median.set(color='#b2df8a', linewidth=5)\n",
        "\n",
        "for flier in bp['fliers']:\n",
        "    flier.set(marker='o', color='#e7298a', alpha=0.5)\n",
        "\n",
        "    \n",
        "ax.set_title('Average Size Boxplots for Dissemination Block')\n",
        "ax.set_xticklabels(['Class0', 'Class1', 'Class2'], rotation=45, fontsize=20)\n",
        "ax.set_ylim(50,10000)\n",
        "\n",
        "# Save the figure\n",
        "fig.savefig('AvgsizeforDB.png', bbox_inches='tight')"
      ],
      "execution_count": 0,
      "outputs": [
        {
          "output_type": "display_data",
          "data": {
            "image/png": "[encoded data removed]",
            "text/plain": [
              "<Figure size 648x648 with 1 Axes>"
            ]
          },
          "metadata": {
            "tags": []
          }
        }
      ]
    },
    {
      "cell_type": "markdown",
      "metadata": {
        "id": "LJdD_3p5XOSo",
        "colab_type": "text"
      },
      "source": [
        "# Contiguity Ratio"
      ]
    },
    {
      "cell_type": "code",
      "metadata": {
        "id": "jhxZVOt3XPJx",
        "colab_type": "code",
        "outputId": "05e98672-d865-4e0a-cbf5-adb14f31a131",
        "colab": {
          "base_uri": "https://localhost:8080/",
          "height": 408
        }
      },
      "source": [
        "data0 = DB_cluster0.describe()[\"ContRatio\"]\n",
        "data0 = data0.drop(labels=['count','mean','std'])\n",
        "print(\"For Class 0\")\n",
        "print(data0)\n",
        "print(\"----------------------------\")\n",
        "data1 = DB_cluster1.describe()[\"ContRatio\"]\n",
        "data1 = data1.drop(labels=['count','mean','std'])\n",
        "print(\"For Class 1\")\n",
        "print(data1)\n",
        "print(\"----------------------------\")\n",
        "data2 = DB_cluster2.describe()[\"ContRatio\"]\n",
        "data2 = data2.drop(labels=['count','mean','std'])\n",
        "print(\"For Class 2\")\n",
        "print(data2)"
      ],
      "execution_count": 0,
      "outputs": [
        {
          "output_type": "stream",
          "text": [
            "For Class 0\n",
            "min    0.272727\n",
            "25%    0.461538\n",
            "50%    0.562500\n",
            "75%    0.638889\n",
            "max    1.000000\n",
            "Name: ContRatio, dtype: float64\n",
            "----------------------------\n",
            "For Class 1\n",
            "min    0.026667\n",
            "25%    0.058824\n",
            "50%    0.105263\n",
            "75%    0.173913\n",
            "max    0.428571\n",
            "Name: ContRatio, dtype: float64\n",
            "----------------------------\n",
            "For Class 2\n",
            "min    0.010050\n",
            "25%    0.055428\n",
            "50%    0.081969\n",
            "75%    0.137360\n",
            "max    0.500000\n",
            "Name: ContRatio, dtype: float64\n"
          ],
          "name": "stdout"
        }
      ]
    },
    {
      "cell_type": "code",
      "metadata": {
        "id": "ho06_lkAXSu2",
        "colab_type": "code",
        "outputId": "02e71c9a-e298-4136-974e-e9963926abaf",
        "colab": {
          "base_uri": "https://localhost:8080/",
          "height": 603
        }
      },
      "source": [
        "data = [data0,data1,data2]\n",
        "# Create a figure instance\n",
        "fig = plt.figure(1, figsize=(9, 9))\n",
        "\n",
        "# Create an axes instance\n",
        "ax = fig.add_subplot(111)\n",
        "\n",
        "# Create the boxplot\n",
        "bp = ax.boxplot(data,patch_artist=True)\n",
        "\n",
        "#formatting options in matplotlib\n",
        "for box in bp['boxes']:\n",
        "    # change outline color\n",
        "    box.set( color='#7570b3', linewidth=2)\n",
        "    # change fill color\n",
        "    box.set( facecolor = '#1b9e77' )\n",
        "    \n",
        "for whisker in bp['whiskers']:\n",
        "    whisker.set(color='#7570b3', linewidth=2)\n",
        "\n",
        "for cap in bp['caps']:\n",
        "    cap.set(color='#7570b3', linewidth=2)\n",
        "    \n",
        "for median in bp['medians']:\n",
        "    median.set(color='#b2df8a', linewidth=5)\n",
        "\n",
        "for flier in bp['fliers']:\n",
        "    flier.set(marker='o', color='#e7298a', alpha=0.5)\n",
        "\n",
        "    \n",
        "ax.set_title('Contiguity Ratio Boxplots for Dissemination Block')\n",
        "ax.set_xticklabels(['Class0', 'Class1', 'Class2'], rotation=45, fontsize=20)\n",
        "ax.set_ylim(0,1)\n",
        "\n",
        "# Save the figure\n",
        "fig.savefig('ContiguityRatioforDB.png', bbox_inches='tight')"
      ],
      "execution_count": 0,
      "outputs": [
        {
          "output_type": "display_data",
          "data": {
            "image/png": "[encoded data removed]",
            "text/plain": [
              "<Figure size 648x648 with 1 Axes>"
            ]
          },
          "metadata": {
            "tags": []
          }
        }
      ]
    },
    {
      "cell_type": "markdown",
      "metadata": {
        "id": "udnbYyM6bsq0",
        "colab_type": "text"
      },
      "source": [
        "## Cluster 0\n",
        "- BCR : High\n",
        "- BD : Low\n",
        "- Mean Proximity : Low\n",
        "- Average Size : High\n",
        "- Contiguity Ratio : High\n",
        "\n"
      ]
    },
    {
      "cell_type": "markdown",
      "metadata": {
        "id": "BvUB8tR4braa",
        "colab_type": "text"
      },
      "source": [
        "## Cluster 1\n",
        "- BCR : Medium\n",
        "- BD    : High\n",
        "- Mean Proximity : Medium\n",
        "- Average Size : Low\n",
        "- Contiguity Ratio : Medium"
      ]
    },
    {
      "cell_type": "markdown",
      "metadata": {
        "id": "tVf5g-4sbsJR",
        "colab_type": "text"
      },
      "source": [
        "## Cluster 2\n",
        "- BCR : Low\n",
        "- BD : Medium\n",
        "- Mean Proximity : High\n",
        "- Average Size : Medium\n",
        "- Contiguity Ratio : Low"
      ]
    },
    {
      "cell_type": "code",
      "metadata": {
        "id": "qjlv8Cf1qiFk",
        "colab_type": "code",
        "colab": {}
      },
      "source": [
        ""
      ],
      "execution_count": 0,
      "outputs": []
    },
    {
      "cell_type": "markdown",
      "metadata": {
        "id": "8COP4atEqhgV",
        "colab_type": "text"
      },
      "source": [
        "#3. 1 km2 Grid"
      ]
    },
    {
      "cell_type": "code",
      "metadata": {
        "id": "mqqe-68bXSX5",
        "colab_type": "code",
        "outputId": "5238fb56-e938-480f-a19e-6bedf689124d",
        "colab": {
          "base_uri": "https://localhost:8080/",
          "height": 544
        }
      },
      "source": [
        "gridstats.head()"
      ],
      "execution_count": 0,
      "outputs": [
        {
          "output_type": "execute_result",
          "data": {
            "text/html": [
              "<div>\n",
              "<style scoped>\n",
              "    .dataframe tbody tr th:only-of-type {\n",
              "        vertical-align: middle;\n",
              "    }\n",
              "\n",
              "    .dataframe tbody tr th {\n",
              "        vertical-align: top;\n",
              "    }\n",
              "\n",
              "    .dataframe thead th {\n",
              "        text-align: right;\n",
              "    }\n",
              "</style>\n",
              "<table border=\"1\" class=\"dataframe\">\n",
              "  <thead>\n",
              "    <tr style=\"text-align: right;\">\n",
              "      <th></th>\n",
              "      <th>id</th>\n",
              "      <th>area</th>\n",
              "      <th>AvgSize</th>\n",
              "      <th>BldgCount</th>\n",
              "      <th>BD</th>\n",
              "      <th>BldgArea</th>\n",
              "      <th>BCR</th>\n",
              "      <th>ProxMean</th>\n",
              "      <th>ContCount</th>\n",
              "      <th>ContRatio</th>\n",
              "      <th>geometry</th>\n",
              "    </tr>\n",
              "  </thead>\n",
              "  <tbody>\n",
              "    <tr>\n",
              "      <th>0</th>\n",
              "      <td>6173</td>\n",
              "      <td>1000000.0</td>\n",
              "      <td>134.579555</td>\n",
              "      <td>1</td>\n",
              "      <td>0.000001</td>\n",
              "      <td>134.579555</td>\n",
              "      <td>0.000135</td>\n",
              "      <td>89.914361</td>\n",
              "      <td>NaN</td>\n",
              "      <td>NaN</td>\n",
              "      <td>POLYGON ((8116757 1477130.3, 8117757 1477130.3...</td>\n",
              "    </tr>\n",
              "    <tr>\n",
              "      <th>1</th>\n",
              "      <td>6174</td>\n",
              "      <td>1000000.0</td>\n",
              "      <td>100.259455</td>\n",
              "      <td>28</td>\n",
              "      <td>0.000028</td>\n",
              "      <td>2807.264751</td>\n",
              "      <td>0.002807</td>\n",
              "      <td>21.719138</td>\n",
              "      <td>2.0</td>\n",
              "      <td>0.071429</td>\n",
              "      <td>POLYGON ((8116757 1476130.3, 8117757 1476130.3...</td>\n",
              "    </tr>\n",
              "    <tr>\n",
              "      <th>2</th>\n",
              "      <td>6302</td>\n",
              "      <td>1000000.0</td>\n",
              "      <td>134.594242</td>\n",
              "      <td>63</td>\n",
              "      <td>0.000063</td>\n",
              "      <td>8479.437271</td>\n",
              "      <td>0.008479</td>\n",
              "      <td>23.402028</td>\n",
              "      <td>NaN</td>\n",
              "      <td>NaN</td>\n",
              "      <td>POLYGON ((8117757 1478130.3, 8118757 1478130.3...</td>\n",
              "    </tr>\n",
              "    <tr>\n",
              "      <th>3</th>\n",
              "      <td>6303</td>\n",
              "      <td>1000000.0</td>\n",
              "      <td>128.774280</td>\n",
              "      <td>176</td>\n",
              "      <td>0.000176</td>\n",
              "      <td>22664.273216</td>\n",
              "      <td>0.022664</td>\n",
              "      <td>15.191105</td>\n",
              "      <td>11.0</td>\n",
              "      <td>0.062500</td>\n",
              "      <td>POLYGON ((8117757 1477130.3, 8118757 1477130.3...</td>\n",
              "    </tr>\n",
              "    <tr>\n",
              "      <th>4</th>\n",
              "      <td>6304</td>\n",
              "      <td>1000000.0</td>\n",
              "      <td>118.499905</td>\n",
              "      <td>90</td>\n",
              "      <td>0.000090</td>\n",
              "      <td>10664.991418</td>\n",
              "      <td>0.010665</td>\n",
              "      <td>12.712510</td>\n",
              "      <td>2.0</td>\n",
              "      <td>0.022222</td>\n",
              "      <td>POLYGON ((8117757 1476130.3, 8118757 1476130.3...</td>\n",
              "    </tr>\n",
              "  </tbody>\n",
              "</table>\n",
              "</div>"
            ],
            "text/plain": [
              "     id  ...                                           geometry\n",
              "0  6173  ...  POLYGON ((8116757 1477130.3, 8117757 1477130.3...\n",
              "1  6174  ...  POLYGON ((8116757 1476130.3, 8117757 1476130.3...\n",
              "2  6302  ...  POLYGON ((8117757 1478130.3, 8118757 1478130.3...\n",
              "3  6303  ...  POLYGON ((8117757 1477130.3, 8118757 1477130.3...\n",
              "4  6304  ...  POLYGON ((8117757 1476130.3, 8118757 1476130.3...\n",
              "\n",
              "[5 rows x 11 columns]"
            ]
          },
          "metadata": {
            "tags": []
          },
          "execution_count": 125
        }
      ]
    },
    {
      "cell_type": "code",
      "metadata": {
        "id": "GbOWhCFruZXb",
        "colab_type": "code",
        "colab": {}
      },
      "source": [
        "df_grid = gridstats.drop(['area', 'BldgArea', 'BldgCount', 'ContCount'], axis=1)"
      ],
      "execution_count": 0,
      "outputs": []
    },
    {
      "cell_type": "code",
      "metadata": {
        "id": "CKBzDrDmucpw",
        "colab_type": "code",
        "outputId": "1b23fb3a-8403-4b0d-8b7c-25c79f40b8c4",
        "colab": {
          "base_uri": "https://localhost:8080/",
          "height": 204
        }
      },
      "source": [
        "df_grid = df_grid.dropna(axis='rows')\n",
        "df_grid.head()"
      ],
      "execution_count": 0,
      "outputs": [
        {
          "output_type": "execute_result",
          "data": {
            "text/html": [
              "<div>\n",
              "<style scoped>\n",
              "    .dataframe tbody tr th:only-of-type {\n",
              "        vertical-align: middle;\n",
              "    }\n",
              "\n",
              "    .dataframe tbody tr th {\n",
              "        vertical-align: top;\n",
              "    }\n",
              "\n",
              "    .dataframe thead th {\n",
              "        text-align: right;\n",
              "    }\n",
              "</style>\n",
              "<table border=\"1\" class=\"dataframe\">\n",
              "  <thead>\n",
              "    <tr style=\"text-align: right;\">\n",
              "      <th></th>\n",
              "      <th>id</th>\n",
              "      <th>AvgSize</th>\n",
              "      <th>BD</th>\n",
              "      <th>BCR</th>\n",
              "      <th>ProxMean</th>\n",
              "      <th>ContRatio</th>\n",
              "      <th>geometry</th>\n",
              "    </tr>\n",
              "  </thead>\n",
              "  <tbody>\n",
              "    <tr>\n",
              "      <th>1</th>\n",
              "      <td>6174</td>\n",
              "      <td>100.259455</td>\n",
              "      <td>0.000028</td>\n",
              "      <td>0.002807</td>\n",
              "      <td>21.719138</td>\n",
              "      <td>0.071429</td>\n",
              "      <td>POLYGON ((8116757 1476130.3, 8117757 1476130.3...</td>\n",
              "    </tr>\n",
              "    <tr>\n",
              "      <th>3</th>\n",
              "      <td>6303</td>\n",
              "      <td>128.774280</td>\n",
              "      <td>0.000176</td>\n",
              "      <td>0.022664</td>\n",
              "      <td>15.191105</td>\n",
              "      <td>0.062500</td>\n",
              "      <td>POLYGON ((8117757 1477130.3, 8118757 1477130.3...</td>\n",
              "    </tr>\n",
              "    <tr>\n",
              "      <th>4</th>\n",
              "      <td>6304</td>\n",
              "      <td>118.499905</td>\n",
              "      <td>0.000090</td>\n",
              "      <td>0.010665</td>\n",
              "      <td>12.712510</td>\n",
              "      <td>0.022222</td>\n",
              "      <td>POLYGON ((8117757 1476130.3, 8118757 1476130.3...</td>\n",
              "    </tr>\n",
              "    <tr>\n",
              "      <th>11</th>\n",
              "      <td>6436</td>\n",
              "      <td>119.111630</td>\n",
              "      <td>0.000058</td>\n",
              "      <td>0.006908</td>\n",
              "      <td>18.305036</td>\n",
              "      <td>0.086207</td>\n",
              "      <td>POLYGON ((8118757 1474130.3, 8119757 1474130.3...</td>\n",
              "    </tr>\n",
              "    <tr>\n",
              "      <th>12</th>\n",
              "      <td>6437</td>\n",
              "      <td>148.310204</td>\n",
              "      <td>0.000104</td>\n",
              "      <td>0.015424</td>\n",
              "      <td>14.591931</td>\n",
              "      <td>0.019231</td>\n",
              "      <td>POLYGON ((8118757 1473130.3, 8119757 1473130.3...</td>\n",
              "    </tr>\n",
              "  </tbody>\n",
              "</table>\n",
              "</div>"
            ],
            "text/plain": [
              "      id  ...                                           geometry\n",
              "1   6174  ...  POLYGON ((8116757 1476130.3, 8117757 1476130.3...\n",
              "3   6303  ...  POLYGON ((8117757 1477130.3, 8118757 1477130.3...\n",
              "4   6304  ...  POLYGON ((8117757 1476130.3, 8118757 1476130.3...\n",
              "11  6436  ...  POLYGON ((8118757 1474130.3, 8119757 1474130.3...\n",
              "12  6437  ...  POLYGON ((8118757 1473130.3, 8119757 1473130.3...\n",
              "\n",
              "[5 rows x 7 columns]"
            ]
          },
          "metadata": {
            "tags": []
          },
          "execution_count": 127
        }
      ]
    },
    {
      "cell_type": "code",
      "metadata": {
        "id": "Im2FgvWJufdc",
        "colab_type": "code",
        "outputId": "023c60ec-fa42-499e-fee0-ce91f6c168a9",
        "colab": {
          "base_uri": "https://localhost:8080/",
          "height": 1000
        }
      },
      "source": [
        "X = df_grid.values[:,1:-1] #we are taking only the 5 statistics\n",
        "cluster_dataset = StandardScaler().fit_transform(X) #creating standard scalar from unscaled data a \n",
        "cluster_dataset"
      ],
      "execution_count": 0,
      "outputs": [
        {
          "output_type": "execute_result",
          "data": {
            "text/plain": [
              "array([[-0.31872529, -0.86969723, -0.93096842,  1.29772911, -0.34381475],\n",
              "       [-0.25289235, -0.17621535, -0.3544052 ,  0.51785392, -0.42935892],\n",
              "       [-0.27661308, -0.57918455, -0.70281332,  0.22174715, -0.81525827],\n",
              "       [-0.27520077, -0.72912658, -0.81188671,  0.88986146, -0.20222432],\n",
              "       [-0.20778924, -0.51358491, -0.56462434,  0.44627325, -0.8439192 ],\n",
              "       [-0.2938191 , -0.52764198, -0.68682072,  0.54670163, -0.07955944],\n",
              "       [-0.27066664, -0.26524343, -0.46054278, -0.18200049, -0.41791668],\n",
              "       [-0.08067169, -0.84626879, -0.81761459,  1.63805068, -0.44750466],\n",
              "       [-0.19768833, -0.65884125, -0.68884596,  0.17029763,  0.28429051],\n",
              "       [-0.35163712, -0.90718274, -0.96253551,  0.15307667, -0.07007334],\n",
              "       [-0.34933404, -0.85095448, -0.93164234,  0.20187453,  0.76825968],\n",
              "       [-0.30519759, -0.57449886, -0.73208659,  0.00924203, -0.60702765],\n",
              "       [-0.28961929, -0.26524343, -0.49796493, -0.11757653, -0.90611795],\n",
              "       [-0.39057149, -0.95872531, -0.99441154, -0.59349774,  1.10093149],\n",
              "       [-0.25516502, -0.75255502, -0.81582424,  1.36311059, -0.30507773],\n",
              "       [-0.26157837, -0.69164107, -0.77291143,  0.76301746, -0.5926705 ],\n",
              "       [-0.24807863, -0.68695538, -0.75790634,  0.5196809 , -0.17017279],\n",
              "       [-0.28079251, -0.94466824, -0.97182115, -0.12863104, -0.22975585],\n",
              "       [-0.16831977, -0.26524343, -0.25845742, -0.27989619, -0.11279096],\n",
              "       [-0.36480382, -0.83221172, -0.92854162,  0.10761368,  0.03638164],\n",
              "       [-0.21156056,  0.4469812 ,  0.30351098, -0.16584337, -0.65609255],\n",
              "       [ 0.1254682 , -0.78066915, -0.61309604,  0.28693198, -0.21276835],\n",
              "       [-0.26982058, -0.04970177, -0.29666876, -0.26000111, -0.65059385],\n",
              "       [-0.20905572, -0.62604143, -0.66924973,  0.66044193, -0.7886445 ],\n",
              "       [-0.24620497, -0.70569814, -0.77162021, -0.05912752, -0.41985404],\n",
              "       [-0.23021613, -0.64478419, -0.70663675,  0.13313189, -0.52390775],\n",
              "       [-0.24422361, -0.61198437, -0.69308867, -0.46222861, -0.1047033 ],\n",
              "       [-0.26240418,  0.56412341,  0.19641116, -0.53966309, -0.76999892],\n",
              "       [-0.04409794, -0.50421354, -0.33779297, -0.47594863, -0.39546401],\n",
              "       [-0.20416659,  0.21738247,  0.11900387, -0.17338654, -0.51227101],\n",
              "       [-0.3663262 ,  0.74686526, -0.14993369, -0.601031  , -0.05209296],\n",
              "       [-0.27902061,  0.1236687 , -0.19396989, -0.46517117, -0.03015269],\n",
              "       [ 0.28297546, -0.85564016, -0.68764853,  1.12705605,  0.51714608],\n",
              "       [-0.22565092,  0.83589334,  0.58753174, -0.68394727, -0.41713832],\n",
              "       [-0.2586943 ,  1.63714605,  1.05152917, -0.50870633, -0.68781479],\n",
              "       [-0.31038631,  2.37748481,  1.16204534, -0.62498468, -0.43018949],\n",
              "       [-0.17116277,  0.02058356,  0.0267117 , -0.24959518, -0.6326245 ],\n",
              "       [-0.2775413 ,  1.79645945,  1.03466956, -0.72900682,  0.56063238],\n",
              "       [ 0.74840425, -0.59324162,  0.4083948 ,  0.17609338, -0.14716146],\n",
              "       [-0.32994037, -0.34021444, -0.62190055, -0.31622149, -0.89226821],\n",
              "       [-0.15481181, -0.73849796, -0.73401543,  0.66087009, -0.34381475],\n",
              "       [ 0.20352263,  0.09086889,  1.19616757, -0.35682927, -0.86368843],\n",
              "       [-0.29563216,  3.01473843,  1.73124045, -0.54584758, -0.43564747],\n",
              "       [-0.22047216, -0.36364289, -0.44851559, -0.45830655,  0.66258747],\n",
              "       [-0.20154626,  0.96240692,  0.82475733, -0.59820396, -0.02205429],\n",
              "       [ 0.63643822, -0.54638473,  0.43512366,  0.36130456,  0.05833111],\n",
              "       [-0.33058414, -0.98683944, -1.0041934 , -0.07354116,  5.35913102],\n",
              "       [-0.10404284,  0.38606725,  0.64839649, -0.49435696, -0.8339598 ],\n",
              "       [-0.26502518,  2.90696759,  1.9786361 , -0.62499448, -0.62609   ],\n",
              "       [-0.14223777, -0.11061571, -0.03764488, -0.5168454 ,  0.43418713],\n",
              "       [-0.04273175,  1.39817594,  2.25518015, -0.74376452,  0.78697252],\n",
              "       [-0.1415107 ,  2.25565691,  2.55971758, -0.60939502, -0.51810332],\n",
              "       [-0.1829057 ,  2.68205455,  2.61824843, -0.67084154, -0.4796406 ],\n",
              "       [ 2.17999218, -0.61198437,  1.83743204,  0.16893214,  0.24159608],\n",
              "       [ 1.0988642 , -0.94935393, -0.78434542,  1.46094871,  0.71382245],\n",
              "       [-0.19377376, -0.11998709, -0.16975727, -0.39569357, -0.7733558 ],\n",
              "       [-0.25944701, -0.21838655, -0.40182319, -0.27378099, -0.68394255],\n",
              "       [-0.01174341, -0.19964379,  0.1455109 , -0.11175139, -0.52390775],\n",
              "       [-0.23986824,  0.91086435,  0.57988605, -0.35384861, -0.44110028],\n",
              "       [-0.1255288 ,  0.27829642,  0.44557247, -0.3982223 ,  0.23525358],\n",
              "       [ 0.28782985,  1.28571942,  4.13077827, -0.81792361,  0.83697549],\n",
              "       [-0.13011618,  2.48056995,  2.91290499, -0.6348241 ,  0.04211277],\n",
              "       [ 0.04205926,  1.14514877,  2.39894429, -0.57197004,  0.26881613],\n",
              "       [ 1.20959386, -0.60261299,  0.86874475, -0.21773431,  3.36779653],\n",
              "       [ 3.34403854, -0.86969723,  0.35884674,  1.20826409,  2.39359924],\n",
              "       [-0.20742912,  0.14241146,  0.03936258, -0.12838386, -0.59624017],\n",
              "       [-0.22747612,  0.02995494, -0.11956403, -0.0733346 , -0.63622032],\n",
              "       [ 0.48193071, -0.81815466, -0.50623692,  0.2390055 , -0.29117213],\n",
              "       [-0.30651721, -0.50421354, -0.68762704, -0.41321105, -0.66662297],\n",
              "       [-0.26882189,  2.43839876,  1.5849412 , -0.65088064, -0.03613541],\n",
              "       [-0.12913373, -0.57449886, -0.53058776, -0.15945411, -0.29117213],\n",
              "       [-0.15576656,  0.3673245 ,  0.4360049 , -0.58735076,  0.38272489],\n",
              "       [-0.12190836,  0.49383808,  0.70577607, -0.4956497 ,  0.47354788],\n",
              "       [-0.28399564,  2.55554097,  1.52856684, -0.66891265, -0.32127346],\n",
              "       [ 9.11926094, -0.98683944, -0.64765497,  0.91224573,  5.35913102],\n",
              "       [-0.10930192, -0.6822697 , -0.63542424, -0.05881894, -0.74637565],\n",
              "       [-0.16130463, -0.29804325, -0.27884226, -0.28126849, -0.51718432],\n",
              "       [-0.33313703, -0.70101245, -0.8377683 , -0.04164791, -0.72876357],\n",
              "       [-0.34800603, -0.93529687, -0.97687918, -0.68177121,  1.0248922 ],\n",
              "       [-0.27134355, -0.6400985 , -0.74243986, -0.56753536, -0.28160076],\n",
              "       [-0.3080391 ,  0.02526925, -0.34551387, -0.43838268, -0.15319573],\n",
              "       [-0.30656414,  0.21269678, -0.21888953, -0.53748762, -0.6582474 ],\n",
              "       [-0.2966267 ,  1.81051652,  0.90093988, -0.60277269, -0.3575018 ],\n",
              "       [-0.26015122, -0.07313021, -0.29022138, -0.63190938, -0.3507274 ],\n",
              "       [-0.30883853,  1.52468953,  0.62362812, -0.56483508, -0.60155827],\n",
              "       [-0.26492745, -0.54169904, -0.66088482, -0.25470592, -0.63710905],\n",
              "       [-0.05663039, -0.45735665, -0.29242664, -0.48458002,  1.03669142],\n",
              "       [-0.16472492,  1.53874659,  1.61508118, -0.58969634, -0.72765879],\n",
              "       [-0.10665216, -0.32615738, -0.20921105, -0.26821879, -0.29629018],\n",
              "       [-0.34489788, -0.25587205, -0.6019495 , -0.22258521, -0.18456271],\n",
              "       [-0.35507575,  0.3673245 , -0.2959269 , -0.25401649, -0.56880762],\n",
              "       [-0.29433544,  0.16115421, -0.21445287, -0.27792143, -0.68047252],\n",
              "       [-0.25488157,  0.90617866,  0.4991353 , -0.45618951,  0.07823132],\n",
              "       [-0.30123745, -0.25118637, -0.51151214, -0.25711363, -0.36947799],\n",
              "       [-0.3355827 , -0.79472622, -0.89371875, -0.49438755,  0.49607364],\n",
              "       [-0.2928792 , -0.50421354, -0.66944601, -0.08076644, -0.4858504 ],\n",
              "       [-0.18176733, -0.47609941, -0.49352013, -0.23431159,  0.4260829 ],\n",
              "       [-0.0561189 , -0.73381227, -0.65829367, -0.30306415,  0.31652638],\n",
              "       [-0.17469803, -0.04970177, -0.0538178 , -0.4505217 , -0.74498747],\n",
              "       [ 0.04688654,  0.41418138,  1.25530934, -0.36657073,  0.24083161],\n",
              "       [-0.36985729, -0.93061118, -0.97845872,  7.42494767,  0.24929159],\n",
              "       [-0.16163463, -0.79472622, -0.79746174,  0.12934041, -0.15717288],\n",
              "       [-0.3055933 , -0.83689741, -0.90481011,  0.19028135, -0.4806854 ],\n",
              "       [-0.28087106, -0.51358491, -0.66021236, -0.48510447,  0.63007289],\n",
              "       [ 0.20280625, -0.81346897, -0.63367281,  0.9509251 ,  1.84611642],\n",
              "       [ 1.16037948, -0.69164107,  0.40738523, -0.18382449,  1.58481779],\n",
              "       [ 1.20300325, -0.93061118, -0.68174179,  3.25543257,  0.24929159],\n",
              "       [-0.22378794, -0.40112839, -0.48702774, -0.26579376, -0.57906124],\n",
              "       [-0.30397816, -0.94466824, -0.97532054,  3.68176362,  1.36706898],\n",
              "       [-0.01325999, -0.97278237, -0.97196255, -0.54972734,  0.56865661],\n",
              "       [-0.25409248,  1.59497485,  1.05059712, -0.60947148, -0.49205013],\n",
              "       [-0.24999332,  0.21269678, -0.03462023, -0.11672952,  0.08159423]])"
            ]
          },
          "metadata": {
            "tags": []
          },
          "execution_count": 128
        }
      ]
    },
    {
      "cell_type": "code",
      "metadata": {
        "id": "HUiGFFil-IEe",
        "colab_type": "code",
        "outputId": "004b2654-32bd-4ef2-b63a-64cbb5a1223d",
        "colab": {
          "base_uri": "https://localhost:8080/",
          "height": 119
        }
      },
      "source": [
        "k_means = KMeans(init = \"k-means++\", n_clusters = 3, n_init = 12)\n",
        "# fit the X value to the model\n",
        "k_means.fit(cluster_dataset)\n",
        "labels = k_means.labels_\n",
        "labels"
      ],
      "execution_count": 0,
      "outputs": [
        {
          "output_type": "execute_result",
          "data": {
            "text/plain": [
              "array([2, 2, 2, 2, 2, 2, 2, 2, 2, 2, 2, 2, 2, 2, 2, 2, 2, 2, 2, 2, 2, 2,\n",
              "       2, 2, 2, 2, 2, 2, 2, 2, 2, 2, 2, 0, 0, 0, 2, 0, 2, 2, 2, 0, 0, 2,\n",
              "       0, 2, 1, 2, 0, 2, 0, 0, 0, 0, 1, 2, 2, 2, 0, 2, 0, 0, 0, 1, 1, 2,\n",
              "       2, 2, 2, 0, 2, 2, 0, 0, 1, 2, 2, 2, 2, 2, 2, 2, 0, 2, 0, 2, 2, 0,\n",
              "       2, 2, 2, 2, 0, 2, 2, 2, 2, 2, 2, 0, 1, 2, 2, 2, 1, 2, 1, 2, 1, 2,\n",
              "       0, 2], dtype=int32)"
            ]
          },
          "metadata": {
            "tags": []
          },
          "execution_count": 129
        }
      ]
    },
    {
      "cell_type": "code",
      "metadata": {
        "id": "cVU0B5ym-LEG",
        "colab_type": "code",
        "colab": {}
      },
      "source": [
        "new_lab = []\n",
        "for label in labels:\n",
        "    new_lab.append(\"Class \"+str(label))"
      ],
      "execution_count": 0,
      "outputs": []
    },
    {
      "cell_type": "code",
      "metadata": {
        "id": "uRSnNMOp-Nv_",
        "colab_type": "code",
        "outputId": "8bc1fc96-7722-4118-c5f5-8da52a87749b",
        "colab": {
          "base_uri": "https://localhost:8080/",
          "height": 340
        }
      },
      "source": [
        "new_lab = np.asarray(new_lab)\n",
        "new_lab"
      ],
      "execution_count": 0,
      "outputs": [
        {
          "output_type": "execute_result",
          "data": {
            "text/plain": [
              "array(['Class 2', 'Class 2', 'Class 2', 'Class 2', 'Class 2', 'Class 2',\n",
              "       'Class 2', 'Class 2', 'Class 2', 'Class 2', 'Class 2', 'Class 2',\n",
              "       'Class 2', 'Class 2', 'Class 2', 'Class 2', 'Class 2', 'Class 2',\n",
              "       'Class 2', 'Class 2', 'Class 2', 'Class 2', 'Class 2', 'Class 2',\n",
              "       'Class 2', 'Class 2', 'Class 2', 'Class 2', 'Class 2', 'Class 2',\n",
              "       'Class 2', 'Class 2', 'Class 2', 'Class 0', 'Class 0', 'Class 0',\n",
              "       'Class 2', 'Class 0', 'Class 2', 'Class 2', 'Class 2', 'Class 0',\n",
              "       'Class 0', 'Class 2', 'Class 0', 'Class 2', 'Class 1', 'Class 2',\n",
              "       'Class 0', 'Class 2', 'Class 0', 'Class 0', 'Class 0', 'Class 0',\n",
              "       'Class 1', 'Class 2', 'Class 2', 'Class 2', 'Class 0', 'Class 2',\n",
              "       'Class 0', 'Class 0', 'Class 0', 'Class 1', 'Class 1', 'Class 2',\n",
              "       'Class 2', 'Class 2', 'Class 2', 'Class 0', 'Class 2', 'Class 2',\n",
              "       'Class 0', 'Class 0', 'Class 1', 'Class 2', 'Class 2', 'Class 2',\n",
              "       'Class 2', 'Class 2', 'Class 2', 'Class 2', 'Class 0', 'Class 2',\n",
              "       'Class 0', 'Class 2', 'Class 2', 'Class 0', 'Class 2', 'Class 2',\n",
              "       'Class 2', 'Class 2', 'Class 0', 'Class 2', 'Class 2', 'Class 2',\n",
              "       'Class 2', 'Class 2', 'Class 2', 'Class 0', 'Class 1', 'Class 2',\n",
              "       'Class 2', 'Class 2', 'Class 1', 'Class 2', 'Class 1', 'Class 2',\n",
              "       'Class 1', 'Class 2', 'Class 0', 'Class 2'], dtype='<U7')"
            ]
          },
          "metadata": {
            "tags": []
          },
          "execution_count": 131
        }
      ]
    },
    {
      "cell_type": "code",
      "metadata": {
        "id": "7D4uEKRC-s4H",
        "colab_type": "code",
        "outputId": "df057075-1d0a-44ec-ac17-5beb5d88fe07",
        "colab": {
          "base_uri": "https://localhost:8080/",
          "height": 204
        }
      },
      "source": [
        "df_grid['Labels'] = new_lab\n",
        "df_grid.head()"
      ],
      "execution_count": 0,
      "outputs": [
        {
          "output_type": "execute_result",
          "data": {
            "text/html": [
              "<div>\n",
              "<style scoped>\n",
              "    .dataframe tbody tr th:only-of-type {\n",
              "        vertical-align: middle;\n",
              "    }\n",
              "\n",
              "    .dataframe tbody tr th {\n",
              "        vertical-align: top;\n",
              "    }\n",
              "\n",
              "    .dataframe thead th {\n",
              "        text-align: right;\n",
              "    }\n",
              "</style>\n",
              "<table border=\"1\" class=\"dataframe\">\n",
              "  <thead>\n",
              "    <tr style=\"text-align: right;\">\n",
              "      <th></th>\n",
              "      <th>id</th>\n",
              "      <th>AvgSize</th>\n",
              "      <th>BD</th>\n",
              "      <th>BCR</th>\n",
              "      <th>ProxMean</th>\n",
              "      <th>ContRatio</th>\n",
              "      <th>geometry</th>\n",
              "      <th>Labels</th>\n",
              "    </tr>\n",
              "  </thead>\n",
              "  <tbody>\n",
              "    <tr>\n",
              "      <th>1</th>\n",
              "      <td>6174</td>\n",
              "      <td>100.259455</td>\n",
              "      <td>0.000028</td>\n",
              "      <td>0.002807</td>\n",
              "      <td>21.719138</td>\n",
              "      <td>0.071429</td>\n",
              "      <td>POLYGON ((8116757 1476130.3, 8117757 1476130.3...</td>\n",
              "      <td>Class 2</td>\n",
              "    </tr>\n",
              "    <tr>\n",
              "      <th>3</th>\n",
              "      <td>6303</td>\n",
              "      <td>128.774280</td>\n",
              "      <td>0.000176</td>\n",
              "      <td>0.022664</td>\n",
              "      <td>15.191105</td>\n",
              "      <td>0.062500</td>\n",
              "      <td>POLYGON ((8117757 1477130.3, 8118757 1477130.3...</td>\n",
              "      <td>Class 2</td>\n",
              "    </tr>\n",
              "    <tr>\n",
              "      <th>4</th>\n",
              "      <td>6304</td>\n",
              "      <td>118.499905</td>\n",
              "      <td>0.000090</td>\n",
              "      <td>0.010665</td>\n",
              "      <td>12.712510</td>\n",
              "      <td>0.022222</td>\n",
              "      <td>POLYGON ((8117757 1476130.3, 8118757 1476130.3...</td>\n",
              "      <td>Class 2</td>\n",
              "    </tr>\n",
              "    <tr>\n",
              "      <th>11</th>\n",
              "      <td>6436</td>\n",
              "      <td>119.111630</td>\n",
              "      <td>0.000058</td>\n",
              "      <td>0.006908</td>\n",
              "      <td>18.305036</td>\n",
              "      <td>0.086207</td>\n",
              "      <td>POLYGON ((8118757 1474130.3, 8119757 1474130.3...</td>\n",
              "      <td>Class 2</td>\n",
              "    </tr>\n",
              "    <tr>\n",
              "      <th>12</th>\n",
              "      <td>6437</td>\n",
              "      <td>148.310204</td>\n",
              "      <td>0.000104</td>\n",
              "      <td>0.015424</td>\n",
              "      <td>14.591931</td>\n",
              "      <td>0.019231</td>\n",
              "      <td>POLYGON ((8118757 1473130.3, 8119757 1473130.3...</td>\n",
              "      <td>Class 2</td>\n",
              "    </tr>\n",
              "  </tbody>\n",
              "</table>\n",
              "</div>"
            ],
            "text/plain": [
              "      id  ...   Labels\n",
              "1   6174  ...  Class 2\n",
              "3   6303  ...  Class 2\n",
              "4   6304  ...  Class 2\n",
              "11  6436  ...  Class 2\n",
              "12  6437  ...  Class 2\n",
              "\n",
              "[5 rows x 8 columns]"
            ]
          },
          "metadata": {
            "tags": []
          },
          "execution_count": 132
        }
      ]
    },
    {
      "cell_type": "code",
      "metadata": {
        "id": "MhzuA3uM-xmj",
        "colab_type": "code",
        "colab": {}
      },
      "source": [
        "df_grid['Labels'] = df_grid['Labels'].astype(object)"
      ],
      "execution_count": 0,
      "outputs": []
    },
    {
      "cell_type": "code",
      "metadata": {
        "id": "veL2v4rI-0GL",
        "colab_type": "code",
        "outputId": "7848267d-2a68-4650-9faa-75e09fea477a",
        "colab": {
          "base_uri": "https://localhost:8080/",
          "height": 498
        }
      },
      "source": [
        "df_grid.plot(figsize= (10,10), column='Labels', legend=True , cmap = 'Accent')\n",
        "plt.savefig('GRIDclassification.png')"
      ],
      "execution_count": 149,
      "outputs": [
        {
          "output_type": "display_data",
          "data": {
            "image/png": "[encoded data removed]",
            "text/plain": [
              "<Figure size 720x720 with 1 Axes>"
            ]
          },
          "metadata": {
            "tags": []
          }
        }
      ]
    },
    {
      "cell_type": "markdown",
      "metadata": {
        "id": "mohCWDex-4pP",
        "colab_type": "text"
      },
      "source": [
        "# Interpretation of Classes"
      ]
    },
    {
      "cell_type": "code",
      "metadata": {
        "id": "bjFlyxnH-1bN",
        "colab_type": "code",
        "colab": {}
      },
      "source": [
        "GRID_cluster0 = df_grid[df_grid.Labels==\"Class 0\"]\n",
        "GRID_cluster1 = df_grid[df_grid.Labels==\"Class 1\"]\n",
        "GRID_cluster2 = df_grid[df_grid.Labels==\"Class 2\"]"
      ],
      "execution_count": 0,
      "outputs": []
    },
    {
      "cell_type": "markdown",
      "metadata": {
        "id": "RSxDW65j--pb",
        "colab_type": "text"
      },
      "source": [
        "# BCR"
      ]
    },
    {
      "cell_type": "code",
      "metadata": {
        "id": "FP_IYcNm_FYu",
        "colab_type": "code",
        "outputId": "4d51c7e7-4f04-41e1-c86c-58a33ab4663f",
        "colab": {
          "base_uri": "https://localhost:8080/",
          "height": 408
        }
      },
      "source": [
        "data0 = GRID_cluster0.describe()[\"BCR\"]\n",
        "data0 = data0.drop(labels=['count','mean','std'])\n",
        "print(\"For Class 0\")\n",
        "print(data0)\n",
        "print(\"----------------------------\")\n",
        "data1 = GRID_cluster1.describe()[\"BCR\"]\n",
        "data1 = data1.drop(labels=['count','mean','std'])\n",
        "print(\"For Class 1\")\n",
        "print(data1)\n",
        "print(\"----------------------------\")\n",
        "data2 = GRID_cluster2.describe()[\"BCR\"]\n",
        "data2 = data2.drop(labels=['count','mean','std'])\n",
        "print(\"For Class 2\")\n",
        "print(data2)"
      ],
      "execution_count": 151,
      "outputs": [
        {
          "output_type": "stream",
          "text": [
            "For Class 0\n",
            "min    0.052060\n",
            "25%    0.065899\n",
            "50%    0.078103\n",
            "75%    0.103015\n",
            "max    0.177135\n",
            "Name: BCR, dtype: float64\n",
            "----------------------------\n",
            "For Class 1\n",
            "min    0.000285\n",
            "25%    0.001280\n",
            "50%    0.011391\n",
            "75%    0.013046\n",
            "max    0.064790\n",
            "Name: BCR, dtype: float64\n",
            "----------------------------\n",
            "For Class 2\n",
            "min    0.000622\n",
            "25%    0.009607\n",
            "50%    0.016925\n",
            "75%    0.027620\n",
            "max    0.057201\n",
            "Name: BCR, dtype: float64\n"
          ],
          "name": "stdout"
        }
      ]
    },
    {
      "cell_type": "code",
      "metadata": {
        "id": "nHdW_emv_E5U",
        "colab_type": "code",
        "outputId": "429193bd-2144-4fac-8761-fdc246e6dacb",
        "colab": {
          "base_uri": "https://localhost:8080/",
          "height": 603
        }
      },
      "source": [
        "data = [data0,data1,data2]\n",
        "# Create a figure instance\n",
        "fig = plt.figure(1, figsize=(9, 9))\n",
        "\n",
        "# Create an axes instance\n",
        "ax = fig.add_subplot(111)\n",
        "\n",
        "# Create the boxplot\n",
        "bp = ax.boxplot(data,patch_artist=True)\n",
        "\n",
        "#formatting options in matplotlib\n",
        "for box in bp['boxes']:\n",
        "    # change outline color\n",
        "    box.set( color='#7570b3', linewidth=2)\n",
        "    # change fill color\n",
        "    box.set( facecolor = '#1b9e77' )\n",
        "    \n",
        "for whisker in bp['whiskers']:\n",
        "    whisker.set(color='#7570b3', linewidth=2)\n",
        "\n",
        "for cap in bp['caps']:\n",
        "    cap.set(color='#7570b3', linewidth=2)\n",
        "    \n",
        "for median in bp['medians']:\n",
        "    median.set(color='#b2df8a', linewidth=5)\n",
        "\n",
        "for flier in bp['fliers']:\n",
        "    flier.set(marker='o', color='#e7298a', alpha=0.5)\n",
        "\n",
        "    \n",
        "ax.set_title('BCR Boxplots for Grid')\n",
        "ax.set_xticklabels(['Class0', 'Class1', 'Class2'], rotation=45, fontsize=20)\n",
        "ax.set_ylim(0,0.2)\n",
        "\n",
        "# Save the figure\n",
        "fig.savefig('BCRforGRID.png', bbox_inches='tight')"
      ],
      "execution_count": 152,
      "outputs": [
        {
          "output_type": "display_data",
          "data": {
            "image/png": "[encoded data removed]",
            "text/plain": [
              "<Figure size 648x648 with 1 Axes>"
            ]
          },
          "metadata": {
            "tags": []
          }
        }
      ]
    },
    {
      "cell_type": "markdown",
      "metadata": {
        "id": "LoB-4rW-_EN0",
        "colab_type": "text"
      },
      "source": [
        "# Building Density"
      ]
    },
    {
      "cell_type": "code",
      "metadata": {
        "id": "ulve6yPS_DxE",
        "colab_type": "code",
        "outputId": "2ffdbf88-d790-499e-f99c-fcd1dd364bd1",
        "colab": {
          "base_uri": "https://localhost:8080/",
          "height": 408
        }
      },
      "source": [
        "data0 = GRID_cluster0.describe()[\"BD\"]\n",
        "data0 = data0.drop(labels=['count','mean','std'])\n",
        "print(\"For Class 0\")\n",
        "print(data0)\n",
        "print(\"----------------------------\")\n",
        "data1 = GRID_cluster1.describe()[\"BD\"]\n",
        "data1 = data1.drop(labels=['count','mean','std'])\n",
        "print(\"For Class 1\")\n",
        "print(data1)\n",
        "print(\"----------------------------\")\n",
        "data2 = GRID_cluster2.describe()[\"BD\"]\n",
        "data2 = data2.drop(labels=['count','mean','std'])\n",
        "print(\"For Class 2\")\n",
        "print(data2)"
      ],
      "execution_count": 153,
      "outputs": [
        {
          "output_type": "stream",
          "text": [
            "For Class 0\n",
            "min    0.000083\n",
            "25%    0.000408\n",
            "50%    0.000542\n",
            "75%    0.000721\n",
            "max    0.000857\n",
            "Name: BD, dtype: float64\n",
            "----------------------------\n",
            "For Class 1\n",
            "min    0.000003\n",
            "25%    0.000011\n",
            "50%    0.000015\n",
            "75%    0.000028\n",
            "max    0.000085\n",
            "Name: BD, dtype: float64\n",
            "----------------------------\n",
            "For Class 2\n",
            "min    0.000006\n",
            "25%    0.000063\n",
            "50%    0.000105\n",
            "75%    0.000189\n",
            "max    0.000373\n",
            "Name: BD, dtype: float64\n"
          ],
          "name": "stdout"
        }
      ]
    },
    {
      "cell_type": "code",
      "metadata": {
        "id": "OwEx2jRR_DUD",
        "colab_type": "code",
        "outputId": "563b1b2f-0985-4302-d75c-980a5251c077",
        "colab": {
          "base_uri": "https://localhost:8080/",
          "height": 603
        }
      },
      "source": [
        "data = [data0,data1,data2]\n",
        "# Create a figure instance\n",
        "fig = plt.figure(1, figsize=(9, 9))\n",
        "\n",
        "# Create an axes instance\n",
        "ax = fig.add_subplot(111)\n",
        "\n",
        "# Create the boxplot\n",
        "bp = ax.boxplot(data,patch_artist=True)\n",
        "\n",
        "#formatting options in matplotlib\n",
        "for box in bp['boxes']:\n",
        "    # change outline color\n",
        "    box.set( color='#7570b3', linewidth=2)\n",
        "    # change fill color\n",
        "    box.set( facecolor = '#1b9e77' )\n",
        "    \n",
        "for whisker in bp['whiskers']:\n",
        "    whisker.set(color='#7570b3', linewidth=2)\n",
        "\n",
        "for cap in bp['caps']:\n",
        "    cap.set(color='#7570b3', linewidth=2)\n",
        "    \n",
        "for median in bp['medians']:\n",
        "    median.set(color='#b2df8a', linewidth=5)\n",
        "\n",
        "for flier in bp['fliers']:\n",
        "    flier.set(marker='o', color='#e7298a', alpha=0.5)\n",
        "\n",
        "    \n",
        "ax.set_title('Building Density Boxplots for Grid')\n",
        "ax.set_xticklabels(['Class0', 'Class1', 'Class2'], rotation=45, fontsize=20)\n",
        "ax.set_ylim(0,0.001)\n",
        "\n",
        "# Save the figure\n",
        "fig.savefig('BuildingDensityforGRID.png', bbox_inches='tight')\n"
      ],
      "execution_count": 154,
      "outputs": [
        {
          "output_type": "display_data",
          "data": {
            "image/png": "[encoded data removed]",
            "text/plain": [
              "<Figure size 648x648 with 1 Axes>"
            ]
          },
          "metadata": {
            "tags": []
          }
        }
      ]
    },
    {
      "cell_type": "markdown",
      "metadata": {
        "id": "5TyUkBLX_CpA",
        "colab_type": "text"
      },
      "source": [
        "# Mean Proximity"
      ]
    },
    {
      "cell_type": "code",
      "metadata": {
        "id": "iBWJUyWf_CL3",
        "colab_type": "code",
        "outputId": "f2bcf952-3384-47cc-e232-344a73dc242d",
        "colab": {
          "base_uri": "https://localhost:8080/",
          "height": 408
        }
      },
      "source": [
        "data0 = GRID_cluster0.describe()[\"ProxMean\"]\n",
        "data0 = data0.drop(labels=['count','mean','std'])\n",
        "print(\"For Class 0\")\n",
        "print(data0)\n",
        "print(\"----------------------------\")\n",
        "data1 = GRID_cluster1.describe()[\"ProxMean\"]\n",
        "data1 = data1.drop(labels=['count','mean','std'])\n",
        "print(\"For Class 1\")\n",
        "print(data1)\n",
        "print(\"----------------------------\")\n",
        "data2 = GRID_cluster2.describe()[\"ProxMean\"]\n",
        "data2 = data2.drop(labels=['count','mean','std'])\n",
        "print(\"For Class 2\")\n",
        "print(data2)"
      ],
      "execution_count": 155,
      "outputs": [
        {
          "output_type": "stream",
          "text": [
            "For Class 0\n",
            "min     4.009829\n",
            "25%     5.408081\n",
            "50%     5.810774\n",
            "75%     6.598167\n",
            "max    12.270416\n",
            "Name: ProxMean, dtype: float64\n",
            "----------------------------\n",
            "For Class 1\n",
            "min     9.033781\n",
            "25%    18.492406\n",
            "50%    20.970261\n",
            "75%    38.106315\n",
            "max    73.007710\n",
            "Name: ProxMean, dtype: float64\n",
            "----------------------------\n",
            "For Class 2\n",
            "min     5.149508\n",
            "25%     7.239495\n",
            "50%     9.325261\n",
            "75%    12.245808\n",
            "max    24.567838\n",
            "Name: ProxMean, dtype: float64\n"
          ],
          "name": "stdout"
        }
      ]
    },
    {
      "cell_type": "code",
      "metadata": {
        "id": "JvwfZ7kr_Bwl",
        "colab_type": "code",
        "outputId": "aaf9a16d-f8bb-4a38-b41f-324392c88909",
        "colab": {
          "base_uri": "https://localhost:8080/",
          "height": 603
        }
      },
      "source": [
        "data = [data0,data1,data2]\n",
        "# Create a figure instance\n",
        "fig = plt.figure(1, figsize=(9, 9))\n",
        "\n",
        "# Create an axes instance\n",
        "ax = fig.add_subplot(111)\n",
        "\n",
        "# Create the boxplot\n",
        "bp = ax.boxplot(data,patch_artist=True)\n",
        "\n",
        "#formatting options in matplotlib\n",
        "for box in bp['boxes']:\n",
        "    # change outline color\n",
        "    box.set( color='#7570b3', linewidth=2)\n",
        "    # change fill color\n",
        "    box.set( facecolor = '#1b9e77' )\n",
        "    \n",
        "for whisker in bp['whiskers']:\n",
        "    whisker.set(color='#7570b3', linewidth=2)\n",
        "\n",
        "for cap in bp['caps']:\n",
        "    cap.set(color='#7570b3', linewidth=2)\n",
        "    \n",
        "for median in bp['medians']:\n",
        "    median.set(color='#b2df8a', linewidth=5)\n",
        "\n",
        "for flier in bp['fliers']:\n",
        "    flier.set(marker='o', color='#e7298a', alpha=0.5)\n",
        "\n",
        "    \n",
        "ax.set_title('Mean Proximity Boxplots for Grid')\n",
        "ax.set_xticklabels(['Class0', 'Class1', 'Class2'], rotation=45, fontsize=20)\n",
        "ax.set_ylim(0,75)\n",
        "\n",
        "# Save the figure\n",
        "fig.savefig('MeanProximityforGRID.png', bbox_inches='tight')"
      ],
      "execution_count": 156,
      "outputs": [
        {
          "output_type": "display_data",
          "data": {
            "image/png": "[encoded data removed]",
            "text/plain": [
              "<Figure size 648x648 with 1 Axes>"
            ]
          },
          "metadata": {
            "tags": []
          }
        }
      ]
    },
    {
      "cell_type": "markdown",
      "metadata": {
        "id": "fvEh25N0_BIV",
        "colab_type": "text"
      },
      "source": [
        "#Average Size"
      ]
    },
    {
      "cell_type": "code",
      "metadata": {
        "id": "xui22Y16_Apf",
        "colab_type": "code",
        "outputId": "c609f79a-c6ba-4940-d46b-777c4f131d8c",
        "colab": {
          "base_uri": "https://localhost:8080/",
          "height": 408
        }
      },
      "source": [
        "data0 = GRID_cluster0.describe()[\"AvgSize\"]\n",
        "data0 = data0.drop(labels=['count','mean','std'])\n",
        "print(\"For Class 0\")\n",
        "print(data0)\n",
        "print(\"----------------------------\")\n",
        "data1 = GRID_cluster1.describe()[\"AvgSize\"]\n",
        "data1 = data1.drop(labels=['count','mean','std'])\n",
        "print(\"For Class 1\")\n",
        "print(data1)\n",
        "print(\"----------------------------\")\n",
        "data2 = GRID_cluster2.describe()[\"AvgSize\"]\n",
        "data2 = data2.drop(labels=['count','mean','std'])\n",
        "print(\"For Class 2\")\n",
        "print(data2)"
      ],
      "execution_count": 157,
      "outputs": [
        {
          "output_type": "stream",
          "text": [
            "For Class 0\n",
            "min     103.871397\n",
            "25%     121.874574\n",
            "50%     140.573612\n",
            "75%     185.508574\n",
            "max    1182.551832\n",
            "Name: AvgSize, dtype: float64\n",
            "----------------------------\n",
            "For Class 1\n",
            "min      78.112184\n",
            "25%     106.647014\n",
            "50%     714.272974\n",
            "75%     762.234325\n",
            "max    4188.220849\n",
            "Name: AvgSize, dtype: float64\n",
            "----------------------------\n",
            "For Class 2\n",
            "min     69.140052\n",
            "25%    111.149080\n",
            "50%    131.265070\n",
            "75%    170.243575\n",
            "max    740.917648\n",
            "Name: AvgSize, dtype: float64\n"
          ],
          "name": "stdout"
        }
      ]
    },
    {
      "cell_type": "code",
      "metadata": {
        "id": "UTEaf9ZID7rV",
        "colab_type": "code",
        "outputId": "f8c61fcd-4965-4acb-a694-ea262eee4619",
        "colab": {
          "base_uri": "https://localhost:8080/",
          "height": 603
        }
      },
      "source": [
        "data = [data0,data1,data2]\n",
        "# Create a figure instance\n",
        "fig = plt.figure(1, figsize=(9, 9))\n",
        "\n",
        "# Create an axes instance\n",
        "ax = fig.add_subplot(111)\n",
        "\n",
        "# Create the boxplot\n",
        "bp = ax.boxplot(data,patch_artist=True)\n",
        "\n",
        "#formatting options in matplotlib\n",
        "for box in bp['boxes']:\n",
        "    # change outline color\n",
        "    box.set( color='#7570b3', linewidth=2)\n",
        "    # change fill color\n",
        "    box.set( facecolor = '#1b9e77' )\n",
        "    \n",
        "for whisker in bp['whiskers']:\n",
        "    whisker.set(color='#7570b3', linewidth=2)\n",
        "\n",
        "for cap in bp['caps']:\n",
        "    cap.set(color='#7570b3', linewidth=2)\n",
        "    \n",
        "for median in bp['medians']:\n",
        "    median.set(color='#b2df8a', linewidth=5)\n",
        "\n",
        "for flier in bp['fliers']:\n",
        "    flier.set(marker='o', color='#e7298a', alpha=0.5)\n",
        "\n",
        "    \n",
        "ax.set_title('Average Size Boxplots for GRID')\n",
        "ax.set_xticklabels(['Class0', 'Class1', 'Class2'], rotation=45, fontsize=20)\n",
        "ax.set_ylim(10,5000)\n",
        "\n",
        "# Save the figure\n",
        "fig.savefig('AvgsizeforGRID.png', bbox_inches='tight')"
      ],
      "execution_count": 158,
      "outputs": [
        {
          "output_type": "display_data",
          "data": {
            "image/png": "[encoded data removed]",
            "text/plain": [
              "<Figure size 648x648 with 1 Axes>"
            ]
          },
          "metadata": {
            "tags": []
          }
        }
      ]
    },
    {
      "cell_type": "markdown",
      "metadata": {
        "id": "1ib_iIuOEADU",
        "colab_type": "text"
      },
      "source": [
        "# Contiguity Ratio"
      ]
    },
    {
      "cell_type": "code",
      "metadata": {
        "id": "ltEFiWl-D9kR",
        "colab_type": "code",
        "outputId": "d61b1cbf-402d-4010-8e9d-5191424b59ed",
        "colab": {
          "base_uri": "https://localhost:8080/",
          "height": 408
        }
      },
      "source": [
        "data0 = GRID_cluster0.describe()[\"ContRatio\"]\n",
        "data0 = data0.drop(labels=['count','mean','std'])\n",
        "print(\"For Class 0\")\n",
        "print(data0)\n",
        "print(\"----------------------------\")\n",
        "data1 = GRID_cluster1.describe()[\"ContRatio\"]\n",
        "data1 = data1.drop(labels=['count','mean','std'])\n",
        "print(\"For Class 1\")\n",
        "print(data1)\n",
        "print(\"----------------------------\")\n",
        "data2 = GRID_cluster2.describe()[\"ContRatio\"]\n",
        "data2 = data2.drop(labels=['count','mean','std'])\n",
        "print(\"For Class 2\")\n",
        "print(data2)"
      ],
      "execution_count": 159,
      "outputs": [
        {
          "output_type": "stream",
          "text": [
            "For Class 0\n",
            "min    0.017167\n",
            "25%    0.055957\n",
            "50%    0.070000\n",
            "75%    0.132450\n",
            "max    0.194672\n",
            "Name: ContRatio, dtype: float64\n",
            "----------------------------\n",
            "For Class 1\n",
            "min    0.133333\n",
            "25%    0.181818\n",
            "50%    0.300000\n",
            "75%    0.458824\n",
            "max    0.666667\n",
            "Name: ContRatio, dtype: float64\n",
            "----------------------------\n",
            "For Class 2\n",
            "min    0.012739\n",
            "25%    0.041952\n",
            "50%    0.071429\n",
            "75%    0.103594\n",
            "max    0.272727\n",
            "Name: ContRatio, dtype: float64\n"
          ],
          "name": "stdout"
        }
      ]
    },
    {
      "cell_type": "code",
      "metadata": {
        "id": "aguub0FeEEEZ",
        "colab_type": "code",
        "outputId": "07665910-388c-49eb-8222-f6837b44e92c",
        "colab": {
          "base_uri": "https://localhost:8080/",
          "height": 603
        }
      },
      "source": [
        "data = [data0,data1,data2]\n",
        "# Create a figure instance\n",
        "fig = plt.figure(1, figsize=(9, 9))\n",
        "\n",
        "# Create an axes instance\n",
        "ax = fig.add_subplot(111)\n",
        "\n",
        "# Create the boxplot\n",
        "bp = ax.boxplot(data,patch_artist=True)\n",
        "\n",
        "#formatting options in matplotlib\n",
        "for box in bp['boxes']:\n",
        "    # change outline color\n",
        "    box.set( color='#7570b3', linewidth=2)\n",
        "    # change fill color\n",
        "    box.set( facecolor = '#1b9e77' )\n",
        "    \n",
        "for whisker in bp['whiskers']:\n",
        "    whisker.set(color='#7570b3', linewidth=2)\n",
        "\n",
        "for cap in bp['caps']:\n",
        "    cap.set(color='#7570b3', linewidth=2)\n",
        "    \n",
        "for median in bp['medians']:\n",
        "    median.set(color='#b2df8a', linewidth=5)\n",
        "\n",
        "for flier in bp['fliers']:\n",
        "    flier.set(marker='o', color='#e7298a', alpha=0.5)\n",
        "\n",
        "    \n",
        "ax.set_title('Contiguity Ratio Boxplots for GRIDS')\n",
        "ax.set_xticklabels(['Class0', 'Class1', 'Class2'], rotation=45, fontsize=20)\n",
        "ax.set_ylim(0,0.8)\n",
        "\n",
        "# Save the figure\n",
        "fig.savefig('ContiguityRatioforGRID.png', bbox_inches='tight')"
      ],
      "execution_count": 160,
      "outputs": [
        {
          "output_type": "display_data",
          "data": {
            "image/png": "[encoded data removed]",
            "text/plain": [
              "<Figure size 648x648 with 1 Axes>"
            ]
          },
          "metadata": {
            "tags": []
          }
        }
      ]
    },
    {
      "cell_type": "markdown",
      "metadata": {
        "id": "rL3F67QMe4aH",
        "colab_type": "text"
      },
      "source": [
        "## Cluster 0 \n",
        "- BCR : Medium\n",
        "- BD : Medium\n",
        "- Mean Proximity : Medium\n",
        "- Average Size : Low\n",
        "- Contiguity Ratio : Medium"
      ]
    },
    {
      "cell_type": "markdown",
      "metadata": {
        "id": "bt377rY1e36Q",
        "colab_type": "text"
      },
      "source": [
        "## Cluster 1\n",
        "- BCR : Low\n",
        "- BD : Low\n",
        "- Mean Proximity : High\n",
        "- Average Size : High\n",
        "- Contiguity Ratio : High\n",
        "\n"
      ]
    },
    {
      "cell_type": "markdown",
      "metadata": {
        "id": "jZVffQhUe3Xs",
        "colab_type": "text"
      },
      "source": [
        "## Cluster 2\n",
        "- BCR : High\n",
        "- BD : High\n",
        "- Mean Proximity : Low\n",
        "- Average Size : Medium\n",
        "- Contiguity Ratio : Low"
      ]
    },
    {
      "cell_type": "code",
      "metadata": {
        "id": "JIpK4aTlEF03",
        "colab_type": "code",
        "colab": {}
      },
      "source": [
        "# !pip install geocoder\n",
        "# import geocoder"
      ],
      "execution_count": 0,
      "outputs": []
    },
    {
      "cell_type": "code",
      "metadata": {
        "id": "nxfE6092XsgR",
        "colab_type": "code",
        "colab": {}
      },
      "source": [
        "# from geopy.geocoders import Nominatim"
      ],
      "execution_count": 0,
      "outputs": []
    },
    {
      "cell_type": "code",
      "metadata": {
        "id": "k5t2HU6nYJfr",
        "colab_type": "code",
        "colab": {}
      },
      "source": [
        "# address = 'Fredericton, New Brunswick'\n",
        "\n",
        "# geolocator = Nominatim()\n",
        "# location = geolocator.geocode(address)\n",
        "# latitude = location.latitude\n",
        "# longitude = location.longitude\n",
        "# print('The geograpical coordinate of Fredericton are {}, {}.'.format(latitude, longitude))"
      ],
      "execution_count": 0,
      "outputs": []
    },
    {
      "cell_type": "code",
      "metadata": {
        "id": "x368fZdvYzBh",
        "colab_type": "code",
        "colab": {}
      },
      "source": [
        ""
      ],
      "execution_count": 0,
      "outputs": []
    }
  ]
}