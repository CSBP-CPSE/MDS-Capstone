{
 "cells": [
  {
   "cell_type": "code",
   "execution_count": 1,
   "metadata": {
    "colab": {},
    "colab_type": "code",
    "id": "GvVgcl_zjZMK"
   },
   "outputs": [],
   "source": [
    "# !pip install descartes\n",
    "# !pip install geopandas\n",
    "# !pip install pandas_bokeh"
   ]
  },
  {
   "cell_type": "code",
   "execution_count": 2,
   "metadata": {
    "colab": {},
    "colab_type": "code",
    "id": "ujrfSsbPjlV4"
   },
   "outputs": [],
   "source": [
    "#!unzip FinalOutputs.zip"
   ]
  },
  {
   "cell_type": "code",
   "execution_count": 3,
   "metadata": {
    "colab": {
     "base_uri": "https://localhost:8080/",
     "height": 34
    },
    "colab_type": "code",
    "id": "CLhRbtEkjw2P",
    "outputId": "a91e3163-d2e4-41b9-9398-0091b53db5d4"
   },
   "outputs": [
    {
     "name": "stdout",
     "output_type": "stream",
     "text": [
      "Libraries imported.\n"
     ]
    }
   ],
   "source": [
    "import geopandas as gpd\n",
    "from shapely.geometry import Point\n",
    "import random # library for random number generation\n",
    "import numpy as np # library for vectorized computation\n",
    "import pandas as pd # library to process data as dataframes\n",
    "\n",
    "import pandas_bokeh # library for visualization dashboard\n",
    "import matplotlib.pyplot as plt # plotting library\n",
    "# backend for rendering plots within the browser\n",
    "%matplotlib inline \n",
    "\n",
    "from sklearn.cluster import KMeans \n",
    "from sklearn.datasets.samples_generator import make_blobs\n",
    "from bokeh.models.widgets import Panel, Tabs\n",
    "from bokeh.io import output_file, show\n",
    "from bokeh.plotting import figure\n",
    "from bokeh.layouts import layout\n",
    "\n",
    "print('Libraries imported.')\n"
   ]
  },
  {
   "cell_type": "code",
   "execution_count": 4,
   "metadata": {},
   "outputs": [],
   "source": [
    "# Save final output to a web-based file\n",
    "pandas_bokeh.output_file(\"Classification Visualization.html\")"
   ]
  },
  {
   "cell_type": "code",
   "execution_count": 5,
   "metadata": {},
   "outputs": [
    {
     "ename": "DriverError",
     "evalue": "/Users/lirui/Desktop/FeginaOutputs/GRID_Stats.shp: No such file or directory",
     "output_type": "error",
     "traceback": [
      "\u001b[0;31m---------------------------------------------------------------------------\u001b[0m",
      "\u001b[0;31mCPLE_OpenFailedError\u001b[0m                      Traceback (most recent call last)",
      "\u001b[0;32mfiona/_shim.pyx\u001b[0m in \u001b[0;36mfiona._shim.gdal_open_vector\u001b[0;34m()\u001b[0m\n",
      "\u001b[0;32mfiona/_err.pyx\u001b[0m in \u001b[0;36mfiona._err.exc_wrap_pointer\u001b[0;34m()\u001b[0m\n",
      "\u001b[0;31mCPLE_OpenFailedError\u001b[0m: /Users/lirui/Desktop/FeginaOutputs/GRID_Stats.shp: No such file or directory",
      "\nDuring handling of the above exception, another exception occurred:\n",
      "\u001b[0;31mDriverError\u001b[0m                               Traceback (most recent call last)",
      "\u001b[0;32m<ipython-input-5-1d5fb370bf1b>\u001b[0m in \u001b[0;36m<module>\u001b[0;34m\u001b[0m\n\u001b[1;32m      2\u001b[0m \u001b[0mctstats\u001b[0m \u001b[0;34m=\u001b[0m \u001b[0mgpd\u001b[0m\u001b[0;34m.\u001b[0m\u001b[0mread_file\u001b[0m\u001b[0;34m(\u001b[0m\u001b[0;34m'/Users/lirui/Desktop/ReginaOutputs/CT_Stats.shp'\u001b[0m\u001b[0;34m)\u001b[0m\u001b[0;34m\u001b[0m\u001b[0;34m\u001b[0m\u001b[0m\n\u001b[1;32m      3\u001b[0m \u001b[0mdbstats\u001b[0m \u001b[0;34m=\u001b[0m \u001b[0mgpd\u001b[0m\u001b[0;34m.\u001b[0m\u001b[0mread_file\u001b[0m\u001b[0;34m(\u001b[0m\u001b[0;34m'/Users/lirui/Desktop/ReginaOutputs/DB_Stats.shp'\u001b[0m\u001b[0;34m)\u001b[0m\u001b[0;34m\u001b[0m\u001b[0;34m\u001b[0m\u001b[0m\n\u001b[0;32m----> 4\u001b[0;31m \u001b[0mgridstats\u001b[0m \u001b[0;34m=\u001b[0m \u001b[0mgpd\u001b[0m\u001b[0;34m.\u001b[0m\u001b[0mread_file\u001b[0m\u001b[0;34m(\u001b[0m\u001b[0;34m'/Users/lirui/Desktop/FeginaOutputs/GRID_Stats.shp'\u001b[0m\u001b[0;34m)\u001b[0m\u001b[0;34m\u001b[0m\u001b[0;34m\u001b[0m\u001b[0m\n\u001b[0m",
      "\u001b[0;32m~/anaconda3/lib/python3.6/site-packages/geopandas/io/file.py\u001b[0m in \u001b[0;36mread_file\u001b[0;34m(filename, bbox, **kwargs)\u001b[0m\n\u001b[1;32m     75\u001b[0m \u001b[0;34m\u001b[0m\u001b[0m\n\u001b[1;32m     76\u001b[0m     \u001b[0;32mwith\u001b[0m \u001b[0mfiona_env\u001b[0m\u001b[0;34m(\u001b[0m\u001b[0;34m)\u001b[0m\u001b[0;34m:\u001b[0m\u001b[0;34m\u001b[0m\u001b[0;34m\u001b[0m\u001b[0m\n\u001b[0;32m---> 77\u001b[0;31m         \u001b[0;32mwith\u001b[0m \u001b[0mreader\u001b[0m\u001b[0;34m(\u001b[0m\u001b[0mpath_or_bytes\u001b[0m\u001b[0;34m,\u001b[0m \u001b[0;34m**\u001b[0m\u001b[0mkwargs\u001b[0m\u001b[0;34m)\u001b[0m \u001b[0;32mas\u001b[0m \u001b[0mfeatures\u001b[0m\u001b[0;34m:\u001b[0m\u001b[0;34m\u001b[0m\u001b[0;34m\u001b[0m\u001b[0m\n\u001b[0m\u001b[1;32m     78\u001b[0m \u001b[0;34m\u001b[0m\u001b[0m\n\u001b[1;32m     79\u001b[0m             \u001b[0;31m# In a future Fiona release the crs attribute of features will\u001b[0m\u001b[0;34m\u001b[0m\u001b[0;34m\u001b[0m\u001b[0;34m\u001b[0m\u001b[0m\n",
      "\u001b[0;32m~/anaconda3/lib/python3.6/site-packages/fiona/env.py\u001b[0m in \u001b[0;36mwrapper\u001b[0;34m(*args, **kwargs)\u001b[0m\n\u001b[1;32m    395\u001b[0m     \u001b[0;32mdef\u001b[0m \u001b[0mwrapper\u001b[0m\u001b[0;34m(\u001b[0m\u001b[0;34m*\u001b[0m\u001b[0margs\u001b[0m\u001b[0;34m,\u001b[0m \u001b[0;34m**\u001b[0m\u001b[0mkwargs\u001b[0m\u001b[0;34m)\u001b[0m\u001b[0;34m:\u001b[0m\u001b[0;34m\u001b[0m\u001b[0;34m\u001b[0m\u001b[0m\n\u001b[1;32m    396\u001b[0m         \u001b[0;32mif\u001b[0m \u001b[0mlocal\u001b[0m\u001b[0;34m.\u001b[0m\u001b[0m_env\u001b[0m\u001b[0;34m:\u001b[0m\u001b[0;34m\u001b[0m\u001b[0;34m\u001b[0m\u001b[0m\n\u001b[0;32m--> 397\u001b[0;31m             \u001b[0;32mreturn\u001b[0m \u001b[0mf\u001b[0m\u001b[0;34m(\u001b[0m\u001b[0;34m*\u001b[0m\u001b[0margs\u001b[0m\u001b[0;34m,\u001b[0m \u001b[0;34m**\u001b[0m\u001b[0mkwargs\u001b[0m\u001b[0;34m)\u001b[0m\u001b[0;34m\u001b[0m\u001b[0;34m\u001b[0m\u001b[0m\n\u001b[0m\u001b[1;32m    398\u001b[0m         \u001b[0;32melse\u001b[0m\u001b[0;34m:\u001b[0m\u001b[0;34m\u001b[0m\u001b[0;34m\u001b[0m\u001b[0m\n\u001b[1;32m    399\u001b[0m             \u001b[0;32mif\u001b[0m \u001b[0misinstance\u001b[0m\u001b[0;34m(\u001b[0m\u001b[0margs\u001b[0m\u001b[0;34m[\u001b[0m\u001b[0;36m0\u001b[0m\u001b[0;34m]\u001b[0m\u001b[0;34m,\u001b[0m \u001b[0mstr\u001b[0m\u001b[0;34m)\u001b[0m\u001b[0;34m:\u001b[0m\u001b[0;34m\u001b[0m\u001b[0;34m\u001b[0m\u001b[0m\n",
      "\u001b[0;32m~/anaconda3/lib/python3.6/site-packages/fiona/__init__.py\u001b[0m in \u001b[0;36mopen\u001b[0;34m(fp, mode, driver, schema, crs, encoding, layer, vfs, enabled_drivers, crs_wkt, **kwargs)\u001b[0m\n\u001b[1;32m    251\u001b[0m         \u001b[0;32mif\u001b[0m \u001b[0mmode\u001b[0m \u001b[0;32min\u001b[0m \u001b[0;34m(\u001b[0m\u001b[0;34m'a'\u001b[0m\u001b[0;34m,\u001b[0m \u001b[0;34m'r'\u001b[0m\u001b[0;34m)\u001b[0m\u001b[0;34m:\u001b[0m\u001b[0;34m\u001b[0m\u001b[0;34m\u001b[0m\u001b[0m\n\u001b[1;32m    252\u001b[0m             c = Collection(path, mode, driver=driver, encoding=encoding,\n\u001b[0;32m--> 253\u001b[0;31m                            layer=layer, enabled_drivers=enabled_drivers, **kwargs)\n\u001b[0m\u001b[1;32m    254\u001b[0m         \u001b[0;32melif\u001b[0m \u001b[0mmode\u001b[0m \u001b[0;34m==\u001b[0m \u001b[0;34m'w'\u001b[0m\u001b[0;34m:\u001b[0m\u001b[0;34m\u001b[0m\u001b[0;34m\u001b[0m\u001b[0m\n\u001b[1;32m    255\u001b[0m             \u001b[0;32mif\u001b[0m \u001b[0mschema\u001b[0m\u001b[0;34m:\u001b[0m\u001b[0;34m\u001b[0m\u001b[0;34m\u001b[0m\u001b[0m\n",
      "\u001b[0;32m~/anaconda3/lib/python3.6/site-packages/fiona/collection.py\u001b[0m in \u001b[0;36m__init__\u001b[0;34m(self, path, mode, driver, schema, crs, encoding, layer, vsi, archive, enabled_drivers, crs_wkt, ignore_fields, ignore_geometry, **kwargs)\u001b[0m\n\u001b[1;32m    157\u001b[0m             \u001b[0;32mif\u001b[0m \u001b[0mself\u001b[0m\u001b[0;34m.\u001b[0m\u001b[0mmode\u001b[0m \u001b[0;34m==\u001b[0m \u001b[0;34m'r'\u001b[0m\u001b[0;34m:\u001b[0m\u001b[0;34m\u001b[0m\u001b[0;34m\u001b[0m\u001b[0m\n\u001b[1;32m    158\u001b[0m                 \u001b[0mself\u001b[0m\u001b[0;34m.\u001b[0m\u001b[0msession\u001b[0m \u001b[0;34m=\u001b[0m \u001b[0mSession\u001b[0m\u001b[0;34m(\u001b[0m\u001b[0;34m)\u001b[0m\u001b[0;34m\u001b[0m\u001b[0;34m\u001b[0m\u001b[0m\n\u001b[0;32m--> 159\u001b[0;31m                 \u001b[0mself\u001b[0m\u001b[0;34m.\u001b[0m\u001b[0msession\u001b[0m\u001b[0;34m.\u001b[0m\u001b[0mstart\u001b[0m\u001b[0;34m(\u001b[0m\u001b[0mself\u001b[0m\u001b[0;34m,\u001b[0m \u001b[0;34m**\u001b[0m\u001b[0mkwargs\u001b[0m\u001b[0;34m)\u001b[0m\u001b[0;34m\u001b[0m\u001b[0;34m\u001b[0m\u001b[0m\n\u001b[0m\u001b[1;32m    160\u001b[0m             \u001b[0;32melif\u001b[0m \u001b[0mself\u001b[0m\u001b[0;34m.\u001b[0m\u001b[0mmode\u001b[0m \u001b[0;32min\u001b[0m \u001b[0;34m(\u001b[0m\u001b[0;34m'a'\u001b[0m\u001b[0;34m,\u001b[0m \u001b[0;34m'w'\u001b[0m\u001b[0;34m)\u001b[0m\u001b[0;34m:\u001b[0m\u001b[0;34m\u001b[0m\u001b[0;34m\u001b[0m\u001b[0m\n\u001b[1;32m    161\u001b[0m                 \u001b[0mself\u001b[0m\u001b[0;34m.\u001b[0m\u001b[0msession\u001b[0m \u001b[0;34m=\u001b[0m \u001b[0mWritingSession\u001b[0m\u001b[0;34m(\u001b[0m\u001b[0;34m)\u001b[0m\u001b[0;34m\u001b[0m\u001b[0;34m\u001b[0m\u001b[0m\n",
      "\u001b[0;32mfiona/ogrext.pyx\u001b[0m in \u001b[0;36mfiona.ogrext.Session.start\u001b[0;34m()\u001b[0m\n",
      "\u001b[0;32mfiona/_shim.pyx\u001b[0m in \u001b[0;36mfiona._shim.gdal_open_vector\u001b[0;34m()\u001b[0m\n",
      "\u001b[0;31mDriverError\u001b[0m: /Users/lirui/Desktop/FeginaOutputs/GRID_Stats.shp: No such file or directory"
     ]
    }
   ],
   "source": [
    "# Read files from local machine\n",
    "ctstats = gpd.read_file('/Users/lirui/Desktop/ReginaOutputs/CT_Stats.shp')\n",
    "dbstats = gpd.read_file('/Users/lirui/Desktop/ReginaOutputs/DB_Stats.shp')\n",
    "gridstats = gpd.read_file('/Users/lirui/Desktop/ReginaOutputs/GRID_Stats.shp')"
   ]
  },
  {
   "cell_type": "markdown",
   "metadata": {
    "colab_type": "text",
    "id": "ZUIfVgQpYP8_"
   },
   "source": [
    "# 1. Census Tract"
   ]
  },
  {
   "cell_type": "code",
   "execution_count": null,
   "metadata": {
    "colab": {
     "base_uri": "https://localhost:8080/",
     "height": 479
    },
    "colab_type": "code",
    "id": "fFWPTZW-kUmz",
    "outputId": "c0e1e66c-e5d8-4ebc-f684-1b4e39c22f02"
   },
   "outputs": [],
   "source": [
    "ctstats.head()"
   ]
  },
  {
   "cell_type": "markdown",
   "metadata": {
    "colab_type": "text",
    "id": "mfScBcY9YWK4"
   },
   "source": [
    "### We need only the 5 statistics, the Census Tract ID and the geometry of the CT polygons"
   ]
  },
  {
   "cell_type": "code",
   "execution_count": null,
   "metadata": {
    "colab": {
     "base_uri": "https://localhost:8080/",
     "height": 204
    },
    "colab_type": "code",
    "id": "KrA6CgTWXjsX",
    "outputId": "52aa2b42-da9a-435b-b621-dfd6edad3b2e"
   },
   "outputs": [],
   "source": [
    "df_ct = ctstats.drop(['PRNAME','CMANAME','CMATYPE','area', 'BldgArea', 'BldgCount', 'ContCount'], axis=1)\n",
    "df_ct = df_ct.dropna(axis='rows')\n",
    "df_ct.head()"
   ]
  },
  {
   "cell_type": "markdown",
   "metadata": {
    "colab_type": "text",
    "id": "Nb_hjdQSYU4x"
   },
   "source": [
    "## 1.1 Classification Task on the Census Tract data"
   ]
  },
  {
   "cell_type": "markdown",
   "metadata": {
    "colab_type": "text",
    "id": "pyMEKJ0RZWWK"
   },
   "source": [
    "### Creating Standardized/normalized data for scale invariance as below:\n",
    "\n",
    "### For every given variable x we standardize it as: $\\frac{(x-\\mu)}{\\sigma}$ , where $\\mu$ is the mean and $\\sigma$ is standard deviation"
   ]
  },
  {
   "cell_type": "code",
   "execution_count": null,
   "metadata": {
    "colab": {
     "base_uri": "https://localhost:8080/",
     "height": 1683
    },
    "colab_type": "code",
    "id": "F9ozGyPoYlMU",
    "outputId": "251cd0fd-062a-407e-a0ad-1b32aa67e15f"
   },
   "outputs": [],
   "source": [
    "from sklearn.preprocessing import StandardScaler #for standardization\n",
    "\n",
    "X = df_ct.values[:,1:-1] #we are taking only the 5 statistics\n",
    "cluster_dataset = StandardScaler().fit_transform(X) #creating standard scalar from unscaled data a "
   ]
  },
  {
   "cell_type": "markdown",
   "metadata": {
    "colab_type": "text",
    "id": "klyfj1tlizgP"
   },
   "source": [
    "### k-means clustering on Census Tract"
   ]
  },
  {
   "cell_type": "code",
   "execution_count": null,
   "metadata": {},
   "outputs": [],
   "source": [
    "k_means = KMeans(init = \"k-means++\", n_clusters = 3, n_init = 12)\n",
    "# fit the X value to the model\n",
    "k_means.fit(cluster_dataset)\n",
    "labels = k_means.labels_"
   ]
  },
  {
   "cell_type": "code",
   "execution_count": null,
   "metadata": {
    "colab": {},
    "colab_type": "code",
    "id": "ZONwiQ0kYlYS"
   },
   "outputs": [],
   "source": [
    "new_lab = []\n",
    "for label in labels:\n",
    "    new_lab.append(\"Class \"+str(label))"
   ]
  },
  {
   "cell_type": "code",
   "execution_count": null,
   "metadata": {
    "colab": {
     "base_uri": "https://localhost:8080/",
     "height": 187
    },
    "colab_type": "code",
    "id": "H_XFHZ0hjCpW",
    "outputId": "5b470b69-ee53-4d94-963d-f1344c6fd947"
   },
   "outputs": [],
   "source": [
    "new_lab = np.asarray(new_lab)"
   ]
  },
  {
   "cell_type": "code",
   "execution_count": null,
   "metadata": {
    "colab": {
     "base_uri": "https://localhost:8080/",
     "height": 289
    },
    "colab_type": "code",
    "id": "1MPKGn4VjCzO",
    "outputId": "630a2e08-44a4-4c1a-fc72-ecdf20e060c1"
   },
   "outputs": [],
   "source": [
    "df_ct['Labels'] = new_lab\n",
    "df_ct['LabelNum']=labels\n",
    "df_ct.head()"
   ]
  },
  {
   "cell_type": "code",
   "execution_count": null,
   "metadata": {
    "colab": {},
    "colab_type": "code",
    "id": "HlVSz0nUjC3N"
   },
   "outputs": [],
   "source": [
    "df_ct['Labels'] = df_ct['Labels'].astype(object)"
   ]
  },
  {
   "cell_type": "markdown",
   "metadata": {
    "colab_type": "text",
    "id": "C26sVSLUSDAl"
   },
   "source": [
    "### Interpretation of Classes"
   ]
  },
  {
   "cell_type": "code",
   "execution_count": null,
   "metadata": {
    "colab": {},
    "colab_type": "code",
    "id": "xqGyY25ZW7pp"
   },
   "outputs": [],
   "source": [
    "CT_cluster0 = df_ct[df_ct.Labels==\"Class 0\"]"
   ]
  },
  {
   "cell_type": "code",
   "execution_count": null,
   "metadata": {
    "colab": {},
    "colab_type": "code",
    "id": "hpXiKt9hXGrm"
   },
   "outputs": [],
   "source": [
    "CT_cluster1 = df_ct[df_ct.Labels==\"Class 1\"]"
   ]
  },
  {
   "cell_type": "code",
   "execution_count": null,
   "metadata": {
    "colab": {},
    "colab_type": "code",
    "id": "1hi1B0GcXG1L"
   },
   "outputs": [],
   "source": [
    "CT_cluster2 = df_ct[df_ct.Labels==\"Class 2\"]"
   ]
  },
  {
   "cell_type": "markdown",
   "metadata": {},
   "source": [
    "## 1.2 Visualization for classifications"
   ]
  },
  {
   "cell_type": "markdown",
   "metadata": {
    "colab_type": "text",
    "id": "qvSDHyYNY27f"
   },
   "source": [
    "### BCR visualization"
   ]
  },
  {
   "cell_type": "code",
   "execution_count": null,
   "metadata": {},
   "outputs": [],
   "source": [
    "ct_bcr = {\n",
    "    'Class':['Class 1', 'Class 2', 'Class 3'],\n",
    "    'Buliding Coverage Ratio': [CT_cluster0.median()[\"BCR\"], CT_cluster1.median()[\"BCR\"],CT_cluster2.median()[\"BCR\"]]\n",
    "  \n",
    "}\n",
    "df_ct_bcr = pd.DataFrame(ct_bcr).set_index(\"Class\")\n",
    "\n",
    "ct_bcr_bar = df_ct_bcr.plot_bokeh.bar(\n",
    "    show_figure=False,\n",
    "    figsize=(300, 200),  \n",
    "    ylabel=\"value\", \n",
    "    title=\"5 statistics for 3 classes\",\n",
    "    color=\"blue\",\n",
    "    alpha=0.6)"
   ]
  },
  {
   "cell_type": "markdown",
   "metadata": {
    "colab_type": "text",
    "id": "c9cM-NRENtAF"
   },
   "source": [
    "### BD visualization"
   ]
  },
  {
   "cell_type": "code",
   "execution_count": null,
   "metadata": {
    "colab": {
     "base_uri": "https://localhost:8080/",
     "height": 408
    },
    "colab_type": "code",
    "id": "KQvXcQEFYdjl",
    "outputId": "a43dc0eb-dbb2-4f5e-f712-f4b534fc93c7",
    "scrolled": true
   },
   "outputs": [],
   "source": [
    "ct_bd = {\n",
    "    'Class':['Class 1', 'Class 2', 'Class 3'],\n",
    "    'Buliding Density': [CT_cluster0.median()[\"BD\"], CT_cluster1.median()[\"BD\"],CT_cluster2.median()[\"BD\"]]\n",
    "  \n",
    "}\n",
    "df_ct_bd = pd.DataFrame(ct_bd).set_index(\"Class\")\n",
    "\n",
    "ct_bd_bar = df_ct_bd.plot_bokeh.bar(\n",
    "    show_figure=False,\n",
    "    figsize=(300, 200),\n",
    "    ylabel=\"value\", \n",
    "    title=\"5 statistics for 3 classes\",\n",
    "    color=\"purple\",\n",
    "    alpha=0.6)"
   ]
  },
  {
   "cell_type": "markdown",
   "metadata": {},
   "source": [
    "### Proximity visualization"
   ]
  },
  {
   "cell_type": "code",
   "execution_count": null,
   "metadata": {},
   "outputs": [],
   "source": [
    "ct_p = {\n",
    "    'Class':['Class 1', 'Class 2', 'Class 3'],\n",
    "    'Proximity': [CT_cluster0.median()[\"ProxMean\"], CT_cluster1.median()[\"ProxMean\"],CT_cluster2.median()[\"ProxMean\"]]\n",
    "  \n",
    "}\n",
    "df_ct_p = pd.DataFrame(ct_p).set_index(\"Class\")\n",
    "\n",
    "ct_p_bar = df_ct_p.plot_bokeh.bar(\n",
    "    figsize=(300, 200),\n",
    "    show_figure=False, \n",
    "    ylabel=\"value\", \n",
    "    title=\"5 statistics for 3 classes\",\n",
    "    color=\"Green\",\n",
    "    alpha=0.6)"
   ]
  },
  {
   "cell_type": "markdown",
   "metadata": {},
   "source": [
    "### Size visualization"
   ]
  },
  {
   "cell_type": "code",
   "execution_count": null,
   "metadata": {},
   "outputs": [],
   "source": [
    "ct_s = {\n",
    "    'Class':['Class 1', 'Class 2', 'Class 3'],\n",
    "    'Average Size': [CT_cluster0.median()[\"AvgSize\"], CT_cluster1.median()[\"AvgSize\"],CT_cluster2.median()[\"AvgSize\"]]\n",
    "  \n",
    "}\n",
    "df_ct_s = pd.DataFrame(ct_s).set_index(\"Class\")\n",
    "\n",
    "ct_s_bar = df_ct_s.plot_bokeh.bar(\n",
    "    show_figure=False,\n",
    "    figsize=(300, 200), \n",
    "    ylabel=\"value\", \n",
    "    title=\"5 statistics for 3 classes\",\n",
    "    color=\"Red\",\n",
    "    alpha=0.6)"
   ]
  },
  {
   "cell_type": "markdown",
   "metadata": {
    "colab_type": "text",
    "id": "3mb87GTdRDJF"
   },
   "source": [
    "### Contiguity Ratio visualization"
   ]
  },
  {
   "cell_type": "code",
   "execution_count": null,
   "metadata": {},
   "outputs": [],
   "source": [
    "ct_c = {\n",
    "    'Class':['Class 1', 'Class 2', 'Class 3'],\n",
    "    \"Contiguity Ratio\": [CT_cluster0.median()[\"ContRatio\"], CT_cluster1.median()[\"ContRatio\"],CT_cluster2.median()[\"ContRatio\"]]\n",
    "  \n",
    "}\n",
    "df_ct_c = pd.DataFrame(ct_c).set_index(\"Class\")\n",
    "\n",
    "ct_c_bar = df_ct_c.plot_bokeh.bar(\n",
    "    figsize=(300, 200),\n",
    "    show_figure=False, \n",
    "    ylabel=\"value\", \n",
    "    title=\"5 statistics for 3 classes\",\n",
    "    color=\"Grey\",\n",
    "    alpha=0.6)"
   ]
  },
  {
   "cell_type": "markdown",
   "metadata": {},
   "source": [
    "### Integrated visualization for census tract"
   ]
  },
  {
   "cell_type": "code",
   "execution_count": null,
   "metadata": {
    "scrolled": true
   },
   "outputs": [],
   "source": [
    "Rct_class=df_ct.plot_bokeh(\n",
    "    show_figure=False,\n",
    "    figsize=(900, 600),\n",
    "    category=\"LabelNum\",\n",
    "    show_colorbar=True,\n",
    "    colormap=\"Viridis\",\n",
    "    hovertool_columns=['CTUID','Labels'],\n",
    "    legend=\"Census Tract\",\n",
    "    toolbar_location=\"above\",\n",
    "    title=\"Classification for Census Tract\")"
   ]
  },
  {
   "cell_type": "code",
   "execution_count": null,
   "metadata": {},
   "outputs": [],
   "source": [
    "ct = layout([[Rct_class],\n",
    "                        [ct_bcr_bar, ct_bd_bar],\n",
    "                        [ct_p_bar, ct_s_bar,ct_c_bar]],sizing_mode='fixed')"
   ]
  },
  {
   "cell_type": "markdown",
   "metadata": {
    "colab_type": "text",
    "id": "VpEyv0BSmcLj"
   },
   "source": [
    "# 2. Dissemination Block"
   ]
  },
  {
   "cell_type": "code",
   "execution_count": null,
   "metadata": {
    "colab": {
     "base_uri": "https://localhost:8080/",
     "height": 204
    },
    "colab_type": "code",
    "id": "esqqZyJCmp6w",
    "outputId": "e5f3c766-a52c-4f0f-c587-8a6404b5e2c7"
   },
   "outputs": [],
   "source": [
    "df_db = dbstats.drop(['PRNAME','CMANAME','CMATYPE','area', 'BldgArea', 'BldgCount', 'ContCount'], axis=1)"
   ]
  },
  {
   "cell_type": "code",
   "execution_count": null,
   "metadata": {
    "colab": {},
    "colab_type": "code",
    "id": "3Id3Oi8jnWHv"
   },
   "outputs": [],
   "source": [
    "df_db = df_db.dropna(axis='rows')"
   ]
  },
  {
   "cell_type": "code",
   "execution_count": null,
   "metadata": {
    "colab": {
     "base_uri": "https://localhost:8080/",
     "height": 204
    },
    "colab_type": "code",
    "id": "M-sxwaOYmqJW",
    "outputId": "bd625f2f-fa91-481a-c837-a21a54291765"
   },
   "outputs": [],
   "source": [
    "df_db.head()"
   ]
  },
  {
   "cell_type": "markdown",
   "metadata": {
    "colab_type": "text",
    "id": "M0_QeD9c8wT1"
   },
   "source": [
    "## 2.1 Classification Task on the Dissemination Block data"
   ]
  },
  {
   "cell_type": "code",
   "execution_count": null,
   "metadata": {
    "colab": {
     "base_uri": "https://localhost:8080/",
     "height": 136
    },
    "colab_type": "code",
    "id": "icakwg-XmqP0",
    "outputId": "38bedefd-41a3-4860-9ccc-2d7410332e78"
   },
   "outputs": [],
   "source": [
    "X = df_db.values[:,1:-1] #we are taking only the 5 statistics\n",
    "cluster_dataset = StandardScaler().fit_transform(X) #creating standard scalar from unscaled data a \n",
    "cluster_dataset"
   ]
  },
  {
   "cell_type": "code",
   "execution_count": null,
   "metadata": {
    "colab": {
     "base_uri": "https://localhost:8080/",
     "height": 34
    },
    "colab_type": "code",
    "id": "NaI5hvvMmqV4",
    "outputId": "f3497215-01e3-41f6-f05c-3d69c6b1c4f1"
   },
   "outputs": [],
   "source": [
    "k_means = KMeans(init = \"k-means++\", n_clusters = 3, n_init = 12)\n",
    "# fit the X value to the model\n",
    "k_means.fit(cluster_dataset)\n",
    "labels = k_means.labels_"
   ]
  },
  {
   "cell_type": "code",
   "execution_count": null,
   "metadata": {
    "colab": {},
    "colab_type": "code",
    "id": "mGY2gIAXmqb_"
   },
   "outputs": [],
   "source": [
    "new_lab = []\n",
    "for label in labels:\n",
    "    new_lab.append(\"Class \"+str(label))"
   ]
  },
  {
   "cell_type": "code",
   "execution_count": null,
   "metadata": {
    "colab": {
     "base_uri": "https://localhost:8080/",
     "height": 51
    },
    "colab_type": "code",
    "id": "E5FKcwTsmqaA",
    "outputId": "4fdaa547-0f59-4237-fd12-a89bca6fa82b"
   },
   "outputs": [],
   "source": [
    "new_lab = np.asarray(new_lab)"
   ]
  },
  {
   "cell_type": "code",
   "execution_count": null,
   "metadata": {
    "colab": {
     "base_uri": "https://localhost:8080/",
     "height": 289
    },
    "colab_type": "code",
    "id": "TsQi7shGmqTp",
    "outputId": "cd37c427-ea0e-465f-b906-9500005202a6"
   },
   "outputs": [],
   "source": [
    "df_db['Labels'] = new_lab\n",
    "df_db['LabelNum']=labels\n",
    "df_db.head()"
   ]
  },
  {
   "cell_type": "code",
   "execution_count": null,
   "metadata": {
    "colab": {},
    "colab_type": "code",
    "id": "VeMTPjXOmqMz"
   },
   "outputs": [],
   "source": [
    "df_db['Labels'] = df_db['Labels'].astype(object)"
   ]
  },
  {
   "cell_type": "markdown",
   "metadata": {
    "colab_type": "text",
    "id": "sg8mt7Q5Sexg"
   },
   "source": [
    "### Interpretation of Classes"
   ]
  },
  {
   "cell_type": "code",
   "execution_count": null,
   "metadata": {
    "colab": {},
    "colab_type": "code",
    "id": "NCm2JYd4mqEB"
   },
   "outputs": [],
   "source": [
    "DB_cluster0 = df_db[df_db.Labels==\"Class 0\"]\n",
    "DB_cluster1 = df_db[df_db.Labels==\"Class 1\"]\n",
    "DB_cluster2 = df_db[df_db.Labels==\"Class 2\"]"
   ]
  },
  {
   "cell_type": "markdown",
   "metadata": {},
   "source": [
    "## 2.2 Visualization for classification"
   ]
  },
  {
   "cell_type": "markdown",
   "metadata": {
    "colab_type": "text",
    "id": "qvSDHyYNY27f"
   },
   "source": [
    "### BCR visualization"
   ]
  },
  {
   "cell_type": "code",
   "execution_count": null,
   "metadata": {},
   "outputs": [],
   "source": [
    "db_bcr = {\n",
    "    'Class':['Class 1', 'Class 2', 'Class 3'],\n",
    "    'Buliding Coverage Ratio': [DB_cluster0.median()[\"BCR\"], DB_cluster1.median()[\"BCR\"],DB_cluster2.median()[\"BCR\"]]\n",
    "  \n",
    "}\n",
    "df_db_bcr = pd.DataFrame(db_bcr).set_index(\"Class\")\n",
    "\n",
    "db_bcr_bar = df_db_bcr.plot_bokeh.bar(\n",
    "    show_figure=False, \n",
    "    figsize=(300,200),\n",
    "    ylabel=\"value\", \n",
    "    title=\"5 statistics for 3 classes\",\n",
    "    color=\"blue\",\n",
    "    alpha=0.6)"
   ]
  },
  {
   "cell_type": "markdown",
   "metadata": {
    "colab_type": "text",
    "id": "c9cM-NRENtAF"
   },
   "source": [
    "### BD visualization"
   ]
  },
  {
   "cell_type": "code",
   "execution_count": null,
   "metadata": {
    "colab": {
     "base_uri": "https://localhost:8080/",
     "height": 408
    },
    "colab_type": "code",
    "id": "KQvXcQEFYdjl",
    "outputId": "a43dc0eb-dbb2-4f5e-f712-f4b534fc93c7",
    "scrolled": true
   },
   "outputs": [],
   "source": [
    "db_bd = {\n",
    "    'Class':['Class 1', 'Class 2', 'Class 3'],\n",
    "    'Buliding Density': [DB_cluster0.median()[\"BD\"], DB_cluster1.median()[\"BD\"],DB_cluster2.median()[\"BD\"]]\n",
    "  \n",
    "}\n",
    "df_db_bd = pd.DataFrame(db_bd).set_index(\"Class\")\n",
    "\n",
    "db_bd_bar = df_db_bd.plot_bokeh.bar(\n",
    "    show_figure=False,  \n",
    "    figsize=(300,200),\n",
    "    ylabel=\"value\", \n",
    "    title=\"5 statistics for 3 classes\",\n",
    "    color=\"purple\",\n",
    "    alpha=0.6)"
   ]
  },
  {
   "cell_type": "markdown",
   "metadata": {},
   "source": [
    "### Proximity visualization"
   ]
  },
  {
   "cell_type": "code",
   "execution_count": null,
   "metadata": {},
   "outputs": [],
   "source": [
    "db_p = {\n",
    "    'Class':['Class 1', 'Class 2', 'Class 3'],\n",
    "    'Proximity': [DB_cluster0.median()[\"ProxMean\"], DB_cluster1.median()[\"ProxMean\"],DB_cluster2.median()[\"ProxMean\"]]\n",
    "  \n",
    "}\n",
    "df_db_p = pd.DataFrame(db_p).set_index(\"Class\")\n",
    "\n",
    "db_p_bar = df_db_p.plot_bokeh.bar(\n",
    "    show_figure=False, \n",
    "    figsize=(300,200),\n",
    "    ylabel=\"value\", \n",
    "    title=\"5 statistics for 3 classes\",\n",
    "    color=\"Green\",\n",
    "    alpha=0.6)"
   ]
  },
  {
   "cell_type": "markdown",
   "metadata": {},
   "source": [
    "### Size visualization"
   ]
  },
  {
   "cell_type": "code",
   "execution_count": null,
   "metadata": {},
   "outputs": [],
   "source": [
    "db_s = {\n",
    "    'Class':['Class 1', 'Class 2', 'Class 3'],\n",
    "    'Average Size': [DB_cluster0.median()[\"AvgSize\"], DB_cluster1.median()[\"AvgSize\"],DB_cluster2.median()[\"AvgSize\"]]\n",
    "  \n",
    "}\n",
    "df_db_s = pd.DataFrame(db_s).set_index(\"Class\")\n",
    "\n",
    "db_s_bar = df_db_s.plot_bokeh.bar(\n",
    "    show_figure=False, \n",
    "    figsize=(300,200),\n",
    "    ylabel=\"value\", \n",
    "    title=\"5 statistics for 3 classes\",\n",
    "    color=\"Red\",\n",
    "    alpha=0.6)"
   ]
  },
  {
   "cell_type": "markdown",
   "metadata": {
    "colab_type": "text",
    "id": "3mb87GTdRDJF"
   },
   "source": [
    "### Contiguity Ratio visualization"
   ]
  },
  {
   "cell_type": "code",
   "execution_count": null,
   "metadata": {},
   "outputs": [],
   "source": [
    "db_c = {\n",
    "    'Class':['Class 1', 'Class 2', 'Class 3'],\n",
    "    \"Contiguity Ratio\": [DB_cluster0.median()[\"ContRatio\"], DB_cluster1.median()[\"ContRatio\"],CT_cluster2.median()[\"ContRatio\"]]\n",
    "  \n",
    "}\n",
    "df_db_c = pd.DataFrame(db_c).set_index(\"Class\")\n",
    "\n",
    "db_c_bar = df_db_c.plot_bokeh.bar(\n",
    "    show_figure=False, \n",
    "    figsize=(300,200),\n",
    "    ylabel=\"value\", \n",
    "    title=\"5 statistics for 3 classes\",\n",
    "    color=\"Grey\",\n",
    "    alpha=0.6)"
   ]
  },
  {
   "cell_type": "markdown",
   "metadata": {},
   "source": [
    "### Integrated visualization for Dessimination Blocks"
   ]
  },
  {
   "cell_type": "code",
   "execution_count": null,
   "metadata": {},
   "outputs": [],
   "source": [
    "Rdb_class=df_db.plot_bokeh(\n",
    "    show_figure=False,\n",
    "    figsize=(900, 600),\n",
    "    category=\"LabelNum\",\n",
    "    show_colorbar=True,\n",
    "    colormap=\"Viridis\",\n",
    "    hovertool_columns=['DBUID','Labels'],\n",
    "    legend=\"Dessimination Block\",\n",
    "    toolbar_location=\"above\",\n",
    "    title=\"Classification for Dessimination Block\")"
   ]
  },
  {
   "cell_type": "code",
   "execution_count": null,
   "metadata": {},
   "outputs": [],
   "source": [
    "db = layout([[Rdb_class],\n",
    "                        [db_bcr_bar, db_bd_bar],\n",
    "                        [db_p_bar, db_s_bar,db_c_bar]],sizing_mode='fixed')"
   ]
  },
  {
   "cell_type": "markdown",
   "metadata": {
    "colab_type": "text",
    "id": "YFCb_a-QtD2Z"
   },
   "source": [
    "# 3. 1 km<sup>2</sup> Grid"
   ]
  },
  {
   "cell_type": "code",
   "execution_count": null,
   "metadata": {
    "colab": {
     "base_uri": "https://localhost:8080/",
     "height": 204
    },
    "colab_type": "code",
    "id": "mmZEiy74Y2yL",
    "outputId": "7940a049-f462-48b3-c292-0deb1036d2a9"
   },
   "outputs": [],
   "source": [
    "df_grid = gridstats.drop(['area', 'BldgArea', 'BldgCount', 'ContCount'], axis=1)"
   ]
  },
  {
   "cell_type": "code",
   "execution_count": null,
   "metadata": {
    "colab": {},
    "colab_type": "code",
    "id": "T3kjswkxsDOo"
   },
   "outputs": [],
   "source": [
    "df_grid = df_grid.dropna(axis='rows')"
   ]
  },
  {
   "cell_type": "code",
   "execution_count": null,
   "metadata": {
    "colab": {
     "base_uri": "https://localhost:8080/",
     "height": 204
    },
    "colab_type": "code",
    "id": "ndHJ6YS9ssnV",
    "outputId": "c6dcb031-3936-43bf-fd80-bc100451361c"
   },
   "outputs": [],
   "source": [
    "df_grid.head()"
   ]
  },
  {
   "cell_type": "markdown",
   "metadata": {
    "colab_type": "text",
    "id": "M0_QeD9c8wT1"
   },
   "source": [
    "## 3.1 Classification Task on the Grid 1km^2 data"
   ]
  },
  {
   "cell_type": "code",
   "execution_count": null,
   "metadata": {
    "colab": {
     "base_uri": "https://localhost:8080/",
     "height": 4947
    },
    "colab_type": "code",
    "id": "Ec1kSLKtsvPz",
    "outputId": "434a4580-6aaa-4135-cdee-2a3bbe2b151f"
   },
   "outputs": [],
   "source": [
    "X = df_grid.values[:,1:-1] #we are taking only the 5 statistics\n",
    "cluster_dataset = StandardScaler().fit_transform(X) #creating standard scalar from unscaled data a "
   ]
  },
  {
   "cell_type": "code",
   "execution_count": null,
   "metadata": {
    "colab": {
     "base_uri": "https://localhost:8080/",
     "height": 136
    },
    "colab_type": "code",
    "id": "erjKAHSBA5qd",
    "outputId": "f5dd5b54-b784-4dcd-e096-0b876345b249"
   },
   "outputs": [],
   "source": [
    "k_means = KMeans(init = \"k-means++\", n_clusters = 3, n_init = 12)\n",
    "# fit the X value to the model\n",
    "k_means.fit(cluster_dataset)\n",
    "labels = k_means.labels_"
   ]
  },
  {
   "cell_type": "code",
   "execution_count": null,
   "metadata": {
    "colab": {},
    "colab_type": "code",
    "id": "rYg7jSJWA-Eu"
   },
   "outputs": [],
   "source": [
    "new_lab = []\n",
    "for label in labels:\n",
    "    new_lab.append(\"Class \"+str(label))"
   ]
  },
  {
   "cell_type": "code",
   "execution_count": null,
   "metadata": {
    "colab": {
     "base_uri": "https://localhost:8080/",
     "height": 527
    },
    "colab_type": "code",
    "id": "WLL32IPwBAyr",
    "outputId": "46443932-be0e-4526-e4fb-1d0a5733b809"
   },
   "outputs": [],
   "source": [
    "new_lab = np.asarray(new_lab)"
   ]
  },
  {
   "cell_type": "code",
   "execution_count": null,
   "metadata": {
    "colab": {
     "base_uri": "https://localhost:8080/",
     "height": 204
    },
    "colab_type": "code",
    "id": "UH8ZQVjpBCPF",
    "outputId": "bc7563f2-a558-4b92-8c1c-ad7481900963"
   },
   "outputs": [],
   "source": [
    "df_grid['Labels'] = new_lab\n",
    "df_grid['LabelNum']= labels\n",
    "df_grid.head()"
   ]
  },
  {
   "cell_type": "code",
   "execution_count": null,
   "metadata": {
    "colab": {},
    "colab_type": "code",
    "id": "J4RO6EZmBK5K"
   },
   "outputs": [],
   "source": [
    "df_grid['Labels'] = df_grid['Labels'].astype(object)"
   ]
  },
  {
   "cell_type": "markdown",
   "metadata": {
    "colab_type": "text",
    "id": "1NXdNLBbf3t3"
   },
   "source": [
    "## Interpretation of Classes"
   ]
  },
  {
   "cell_type": "code",
   "execution_count": null,
   "metadata": {
    "colab": {},
    "colab_type": "code",
    "id": "7aKY9JCCBmYj"
   },
   "outputs": [],
   "source": [
    "GRID_cluster0 = df_grid[df_grid.Labels==\"Class 0\"]\n",
    "GRID_cluster1 = df_grid[df_grid.Labels==\"Class 1\"]\n",
    "GRID_cluster2 = df_grid[df_grid.Labels==\"Class 2\"]"
   ]
  },
  {
   "cell_type": "markdown",
   "metadata": {},
   "source": [
    "## 3.2 Visualization for classification"
   ]
  },
  {
   "cell_type": "markdown",
   "metadata": {
    "colab_type": "text",
    "id": "qvSDHyYNY27f"
   },
   "source": [
    "### BCR visualization"
   ]
  },
  {
   "cell_type": "code",
   "execution_count": null,
   "metadata": {},
   "outputs": [],
   "source": [
    "gd_bcr = {\n",
    "    'Class':['Class 1', 'Class 2', 'Class 3'],\n",
    "    'Buliding Coverage Ratio': [GRID_cluster0.median()[\"BCR\"], GRID_cluster1.median()[\"BCR\"],GRID_cluster2.median()[\"BCR\"]]\n",
    "  \n",
    "}\n",
    "df_gd_bcr = pd.DataFrame(gd_bcr).set_index(\"Class\")\n",
    "\n",
    "gd_bcr_bar = df_gd_bcr.plot_bokeh.bar(\n",
    "    show_figure=False,   \n",
    "    figsize=(300,200),\n",
    "    ylabel=\"value\", \n",
    "    title=\"5 statistics for 3 classes\",\n",
    "    color=\"blue\",\n",
    "    alpha=0.6)"
   ]
  },
  {
   "cell_type": "markdown",
   "metadata": {
    "colab_type": "text",
    "id": "c9cM-NRENtAF"
   },
   "source": [
    "### BD visualization"
   ]
  },
  {
   "cell_type": "code",
   "execution_count": null,
   "metadata": {
    "colab": {
     "base_uri": "https://localhost:8080/",
     "height": 408
    },
    "colab_type": "code",
    "id": "KQvXcQEFYdjl",
    "outputId": "a43dc0eb-dbb2-4f5e-f712-f4b534fc93c7",
    "scrolled": true
   },
   "outputs": [],
   "source": [
    "gd_bd = {\n",
    "    'Class':['Class 1', 'Class 2', 'Class 3'],\n",
    "    'Buliding Density': [GRID_cluster0.median()[\"BD\"], GRID_cluster1.median()[\"BD\"],GRID_cluster2.median()[\"BD\"]]\n",
    "  \n",
    "}\n",
    "df_gd_bd = pd.DataFrame(gd_bd).set_index(\"Class\")\n",
    "\n",
    "gd_bd_bar = df_gd_bd .plot_bokeh.bar(\n",
    "    figsize=(300,200),\n",
    "    show_figure=False,  \n",
    "    ylabel=\"value\", \n",
    "    title=\"5 statistics for 3 classes\",\n",
    "    color=\"purple\",\n",
    "    alpha=0.6)"
   ]
  },
  {
   "cell_type": "markdown",
   "metadata": {},
   "source": [
    "### Proximity visualization"
   ]
  },
  {
   "cell_type": "code",
   "execution_count": null,
   "metadata": {},
   "outputs": [],
   "source": [
    "gd_p = {\n",
    "    'Class':['Class 1', 'Class 2', 'Class 3'],\n",
    "    'Proximity': [GRID_cluster0.median()[\"ProxMean\"], GRID_cluster1.median()[\"ProxMean\"],GRID_cluster2.median()[\"ProxMean\"]]\n",
    "  \n",
    "}\n",
    "df_gd_p = pd.DataFrame(gd_p).set_index(\"Class\")\n",
    "\n",
    "gd_p_bar = df_gd_p.plot_bokeh.bar(\n",
    "    figsize=(300,200),\n",
    "    show_figure=False, \n",
    "    ylabel=\"value\", \n",
    "    title=\"5 statistics for 3 classes\",\n",
    "    color=\"Green\",\n",
    "    alpha=0.6)"
   ]
  },
  {
   "cell_type": "markdown",
   "metadata": {},
   "source": [
    "### Size visualization"
   ]
  },
  {
   "cell_type": "code",
   "execution_count": null,
   "metadata": {},
   "outputs": [],
   "source": [
    "gd_s = {\n",
    "    'Class':['Class 1', 'Class 2', 'Class 3'],\n",
    "    'Average Size': [GRID_cluster0.median()[\"AvgSize\"], GRID_cluster1.median()[\"AvgSize\"],GRID_cluster2.median()[\"AvgSize\"]]\n",
    "  \n",
    "}\n",
    "df_gd_s = pd.DataFrame(gd_s).set_index(\"Class\")\n",
    "\n",
    "gd_s_bar = df_gd_s.plot_bokeh.bar(\n",
    "    show_figure=False, \n",
    "    figsize=(300,200),\n",
    "    ylabel=\"value\", \n",
    "    title=\"5 statistics for 3 classes\",\n",
    "    color=\"Red\",\n",
    "    alpha=0.6)"
   ]
  },
  {
   "cell_type": "markdown",
   "metadata": {
    "colab_type": "text",
    "id": "3mb87GTdRDJF"
   },
   "source": [
    "### Contiguity Ratio"
   ]
  },
  {
   "cell_type": "code",
   "execution_count": null,
   "metadata": {},
   "outputs": [],
   "source": [
    "gd_c = {\n",
    "    'Class':['Class 1', 'Class 2', 'Class 3'],\n",
    "    \"Contiguity Ratio\": [GRID_cluster0.median()[\"ContRatio\"], GRID_cluster1.median()[\"ContRatio\"],GRID_cluster2.median()[\"ContRatio\"]]\n",
    "  \n",
    "}\n",
    "df_gd_c = pd.DataFrame(gd_c).set_index(\"Class\")\n",
    "\n",
    "gd_c_bar = df_gd_c.plot_bokeh.bar(\n",
    "    figsize=(300,200),\n",
    "    show_figure=False, \n",
    "    ylabel=\"value\", \n",
    "    title=\"5 statistics for 3 classes\",\n",
    "    color=\"Grey\",\n",
    "    alpha=0.6)"
   ]
  },
  {
   "cell_type": "markdown",
   "metadata": {},
   "source": [
    "### Integrated visualization for Grid 1km^2"
   ]
  },
  {
   "cell_type": "code",
   "execution_count": null,
   "metadata": {},
   "outputs": [],
   "source": [
    "Rgd_class=df_grid.plot_bokeh(\n",
    "    show_figure=False,\n",
    "    figsize=(900, 600),\n",
    "    category=\"LabelNum\",\n",
    "    show_colorbar=True,\n",
    "    colormap=\"Viridis\",\n",
    "    hovertool_columns=['id','Labels'],\n",
    "    legend=\"1km^2 Grid\",\n",
    "    toolbar_location=\"above\",\n",
    "    title=\"Classification for 1km^2 Grid\")"
   ]
  },
  {
   "cell_type": "code",
   "execution_count": null,
   "metadata": {
    "scrolled": true
   },
   "outputs": [],
   "source": [
    "gd=layout([[Rgd_class],\n",
    "                        [gd_bcr_bar, gd_bd_bar],\n",
    "                        [gd_p_bar, gd_s_bar,gd_c_bar]], sizing_mode='fixed')"
   ]
  },
  {
   "cell_type": "markdown",
   "metadata": {},
   "source": [
    "# 3. Integrated visualization for 3 Geographic Units"
   ]
  },
  {
   "cell_type": "code",
   "execution_count": null,
   "metadata": {},
   "outputs": [],
   "source": [
    "tab1 = Panel(child=ct,title=\"Census Tract\")\n",
    "tab2 = Panel(child=db,title=\"Dissimination Classification\")\n",
    "tab3 = Panel(child=gd,title=\"Grid 1km^2 Classification\")\n",
    "tabs = Tabs(tabs=[ tab1 ,tab2, tab3])"
   ]
  },
  {
   "cell_type": "code",
   "execution_count": null,
   "metadata": {},
   "outputs": [],
   "source": [
    "p1 = layout([[Rdb_class],\n",
    "                        [db_bcr_bar, db_bd_bar],\n",
    "                        [db_p_bar, db_s_bar,db_c_bar]],sizing_mode='fixed')\n",
    "\n"
   ]
  },
  {
   "cell_type": "code",
   "execution_count": null,
   "metadata": {},
   "outputs": [],
   "source": [
    "show(tabs)"
   ]
  },
  {
   "cell_type": "code",
   "execution_count": null,
   "metadata": {},
   "outputs": [],
   "source": []
  }
 ],
 "metadata": {
  "accelerator": "GPU",
  "colab": {
   "collapsed_sections": [
    "C26sVSLUSDAl",
    "qvSDHyYNY27f",
    "c9cM-NRENtAF",
    "meHmlKRXP8kw",
    "w-P3UrjGQeU9",
    "3mb87GTdRDJF"
   ],
   "name": "Final Output Saskachewan.ipynb",
   "provenance": [],
   "toc_visible": true,
   "version": "0.3.2"
  },
  "kernelspec": {
   "display_name": "Python 3",
   "language": "python",
   "name": "python3"
  },
  "language_info": {
   "codemirror_mode": {
    "name": "ipython",
    "version": 3
   },
   "file_extension": ".py",
   "mimetype": "text/x-python",
   "name": "python",
   "nbconvert_exporter": "python",
   "pygments_lexer": "ipython3",
   "version": "3.6.8"
  }
 },
 "nbformat": 4,
 "nbformat_minor": 1
}
