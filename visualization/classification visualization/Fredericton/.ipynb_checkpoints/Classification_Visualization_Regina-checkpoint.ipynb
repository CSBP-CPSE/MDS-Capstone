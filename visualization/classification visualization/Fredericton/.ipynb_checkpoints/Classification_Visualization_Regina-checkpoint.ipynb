{
 "cells": [
  {
   "cell_type": "code",
   "execution_count": 1,
   "metadata": {
    "colab": {},
    "colab_type": "code",
    "id": "GvVgcl_zjZMK"
   },
   "outputs": [],
   "source": [
    "# !pip install descartes\n",
    "# !pip install geopandas\n",
    "# !pip install pandas_bokeh"
   ]
  },
  {
   "cell_type": "code",
   "execution_count": 2,
   "metadata": {
    "colab": {},
    "colab_type": "code",
    "id": "ujrfSsbPjlV4"
   },
   "outputs": [],
   "source": [
    "#!unzip FinalOutputs.zip"
   ]
  },
  {
   "cell_type": "code",
   "execution_count": 1,
   "metadata": {
    "colab": {
     "base_uri": "https://localhost:8080/",
     "height": 34
    },
    "colab_type": "code",
    "id": "CLhRbtEkjw2P",
    "outputId": "a91e3163-d2e4-41b9-9398-0091b53db5d4"
   },
   "outputs": [
    {
     "name": "stdout",
     "output_type": "stream",
     "text": [
      "Libraries imported.\n"
     ]
    }
   ],
   "source": [
    "import geopandas as gpd\n",
    "from shapely.geometry import Point\n",
    "import random # library for random number generation\n",
    "import numpy as np # library for vectorized computation\n",
    "import pandas as pd # library to process data as dataframes\n",
    "\n",
    "import pandas_bokeh # library for visualization dashboard\n",
    "import matplotlib.pyplot as plt # plotting library\n",
    "# backend for rendering plots within the browser\n",
    "%matplotlib inline \n",
    "\n",
    "from sklearn.cluster import KMeans \n",
    "from sklearn.datasets.samples_generator import make_blobs\n",
    "from bokeh.models.widgets import Panel, Tabs\n",
    "from bokeh.io import output_file, show\n",
    "from bokeh.plotting import figure\n",
    "from bokeh.layouts import layout\n",
    "\n",
    "print('Libraries imported.')\n"
   ]
  },
  {
   "cell_type": "code",
   "execution_count": 2,
   "metadata": {},
   "outputs": [],
   "source": [
    "pandas_bokeh.output_file(\"Classification Visualization.html\")"
   ]
  },
  {
   "cell_type": "code",
   "execution_count": 3,
   "metadata": {},
   "outputs": [],
   "source": [
    "# Read files from local machine\n",
    "ctstats = gpd.read_file('/Users/lirui/Desktop/FredOutputs/CT_Stats.shp')\n",
    "dbstats = gpd.read_file('/Users/lirui/Desktop/FredOutputs/DB_Stats.shp')\n",
    "gridstats = gpd.read_file('/Users/lirui/Desktop/FredOutputs/GRID_Stats.shp')"
   ]
  },
  {
   "cell_type": "markdown",
   "metadata": {
    "colab_type": "text",
    "id": "ZUIfVgQpYP8_"
   },
   "source": [
    "# 1. Census Tract"
   ]
  },
  {
   "cell_type": "code",
   "execution_count": 4,
   "metadata": {
    "colab": {
     "base_uri": "https://localhost:8080/",
     "height": 479
    },
    "colab_type": "code",
    "id": "fFWPTZW-kUmz",
    "outputId": "c0e1e66c-e5d8-4ebc-f684-1b4e39c22f02"
   },
   "outputs": [
    {
     "data": {
      "text/html": [
       "<div>\n",
       "<style scoped>\n",
       "    .dataframe tbody tr th:only-of-type {\n",
       "        vertical-align: middle;\n",
       "    }\n",
       "\n",
       "    .dataframe tbody tr th {\n",
       "        vertical-align: top;\n",
       "    }\n",
       "\n",
       "    .dataframe thead th {\n",
       "        text-align: right;\n",
       "    }\n",
       "</style>\n",
       "<table border=\"1\" class=\"dataframe\">\n",
       "  <thead>\n",
       "    <tr style=\"text-align: right;\">\n",
       "      <th></th>\n",
       "      <th>CTUID</th>\n",
       "      <th>PRNAME</th>\n",
       "      <th>CMANAME</th>\n",
       "      <th>CMATYPE</th>\n",
       "      <th>area</th>\n",
       "      <th>AvgSize</th>\n",
       "      <th>BldgCount</th>\n",
       "      <th>BD</th>\n",
       "      <th>BldgArea</th>\n",
       "      <th>BCR</th>\n",
       "      <th>ProxMean</th>\n",
       "      <th>ContCount</th>\n",
       "      <th>ContRatio</th>\n",
       "      <th>geometry</th>\n",
       "    </tr>\n",
       "  </thead>\n",
       "  <tbody>\n",
       "    <tr>\n",
       "      <th>0</th>\n",
       "      <td>3200018.00</td>\n",
       "      <td>New Brunswick / Nouveau-Brunswick</td>\n",
       "      <td>Fredericton</td>\n",
       "      <td>K</td>\n",
       "      <td>7.735331e+08</td>\n",
       "      <td>118.494001</td>\n",
       "      <td>129</td>\n",
       "      <td>1.700000e-07</td>\n",
       "      <td>15285.726128</td>\n",
       "      <td>1.976000e-05</td>\n",
       "      <td>25.350592</td>\n",
       "      <td>4.0</td>\n",
       "      <td>0.031008</td>\n",
       "      <td>POLYGON ((8138931.71143 1497922.59143, 8138472...</td>\n",
       "    </tr>\n",
       "    <tr>\n",
       "      <th>1</th>\n",
       "      <td>3200019.00</td>\n",
       "      <td>New Brunswick / Nouveau-Brunswick</td>\n",
       "      <td>Fredericton</td>\n",
       "      <td>K</td>\n",
       "      <td>9.535850e+08</td>\n",
       "      <td>35.301770</td>\n",
       "      <td>1</td>\n",
       "      <td>0.000000e+00</td>\n",
       "      <td>35.301770</td>\n",
       "      <td>4.000000e-08</td>\n",
       "      <td>15.831832</td>\n",
       "      <td>NaN</td>\n",
       "      <td>NaN</td>\n",
       "      <td>POLYGON ((8159361.934285 1538203.065715, 81591...</td>\n",
       "    </tr>\n",
       "    <tr>\n",
       "      <th>2</th>\n",
       "      <td>3200020.00</td>\n",
       "      <td>New Brunswick / Nouveau-Brunswick</td>\n",
       "      <td>Fredericton</td>\n",
       "      <td>K</td>\n",
       "      <td>1.702733e+08</td>\n",
       "      <td>473.016172</td>\n",
       "      <td>8</td>\n",
       "      <td>5.000000e-08</td>\n",
       "      <td>3784.129374</td>\n",
       "      <td>2.222000e-05</td>\n",
       "      <td>36.395330</td>\n",
       "      <td>NaN</td>\n",
       "      <td>NaN</td>\n",
       "      <td>POLYGON ((8136053.75143 1473282.38, 8136522.43...</td>\n",
       "    </tr>\n",
       "    <tr>\n",
       "      <th>3</th>\n",
       "      <td>3200021.00</td>\n",
       "      <td>New Brunswick / Nouveau-Brunswick</td>\n",
       "      <td>Fredericton</td>\n",
       "      <td>K</td>\n",
       "      <td>2.190729e+07</td>\n",
       "      <td>150.348683</td>\n",
       "      <td>1083</td>\n",
       "      <td>4.944000e-05</td>\n",
       "      <td>162827.623879</td>\n",
       "      <td>7.432580e-03</td>\n",
       "      <td>10.572638</td>\n",
       "      <td>43.0</td>\n",
       "      <td>0.039705</td>\n",
       "      <td>POLYGON ((8132383.78857 1467081.822855, 813210...</td>\n",
       "    </tr>\n",
       "    <tr>\n",
       "      <th>4</th>\n",
       "      <td>3200008.00</td>\n",
       "      <td>New Brunswick / Nouveau-Brunswick</td>\n",
       "      <td>Fredericton</td>\n",
       "      <td>K</td>\n",
       "      <td>2.352070e+07</td>\n",
       "      <td>181.387583</td>\n",
       "      <td>2932</td>\n",
       "      <td>1.246600e-04</td>\n",
       "      <td>531828.393199</td>\n",
       "      <td>2.261108e-02</td>\n",
       "      <td>9.543879</td>\n",
       "      <td>215.0</td>\n",
       "      <td>0.073329</td>\n",
       "      <td>POLYGON ((8126666.14857 1475869.73143, 8126683...</td>\n",
       "    </tr>\n",
       "  </tbody>\n",
       "</table>\n",
       "</div>"
      ],
      "text/plain": [
       "        CTUID                             PRNAME      CMANAME CMATYPE  \\\n",
       "0  3200018.00  New Brunswick / Nouveau-Brunswick  Fredericton       K   \n",
       "1  3200019.00  New Brunswick / Nouveau-Brunswick  Fredericton       K   \n",
       "2  3200020.00  New Brunswick / Nouveau-Brunswick  Fredericton       K   \n",
       "3  3200021.00  New Brunswick / Nouveau-Brunswick  Fredericton       K   \n",
       "4  3200008.00  New Brunswick / Nouveau-Brunswick  Fredericton       K   \n",
       "\n",
       "           area     AvgSize  BldgCount            BD       BldgArea  \\\n",
       "0  7.735331e+08  118.494001        129  1.700000e-07   15285.726128   \n",
       "1  9.535850e+08   35.301770          1  0.000000e+00      35.301770   \n",
       "2  1.702733e+08  473.016172          8  5.000000e-08    3784.129374   \n",
       "3  2.190729e+07  150.348683       1083  4.944000e-05  162827.623879   \n",
       "4  2.352070e+07  181.387583       2932  1.246600e-04  531828.393199   \n",
       "\n",
       "            BCR   ProxMean  ContCount  ContRatio  \\\n",
       "0  1.976000e-05  25.350592        4.0   0.031008   \n",
       "1  4.000000e-08  15.831832        NaN        NaN   \n",
       "2  2.222000e-05  36.395330        NaN        NaN   \n",
       "3  7.432580e-03  10.572638       43.0   0.039705   \n",
       "4  2.261108e-02   9.543879      215.0   0.073329   \n",
       "\n",
       "                                            geometry  \n",
       "0  POLYGON ((8138931.71143 1497922.59143, 8138472...  \n",
       "1  POLYGON ((8159361.934285 1538203.065715, 81591...  \n",
       "2  POLYGON ((8136053.75143 1473282.38, 8136522.43...  \n",
       "3  POLYGON ((8132383.78857 1467081.822855, 813210...  \n",
       "4  POLYGON ((8126666.14857 1475869.73143, 8126683...  "
      ]
     },
     "execution_count": 4,
     "metadata": {},
     "output_type": "execute_result"
    }
   ],
   "source": [
    "ctstats.head()"
   ]
  },
  {
   "cell_type": "markdown",
   "metadata": {
    "colab_type": "text",
    "id": "mfScBcY9YWK4"
   },
   "source": [
    "### We need only the 5 statistics, the Census Tract ID and the geometry of the CT polygons"
   ]
  },
  {
   "cell_type": "code",
   "execution_count": 5,
   "metadata": {
    "colab": {
     "base_uri": "https://localhost:8080/",
     "height": 204
    },
    "colab_type": "code",
    "id": "KrA6CgTWXjsX",
    "outputId": "52aa2b42-da9a-435b-b621-dfd6edad3b2e"
   },
   "outputs": [
    {
     "data": {
      "text/html": [
       "<div>\n",
       "<style scoped>\n",
       "    .dataframe tbody tr th:only-of-type {\n",
       "        vertical-align: middle;\n",
       "    }\n",
       "\n",
       "    .dataframe tbody tr th {\n",
       "        vertical-align: top;\n",
       "    }\n",
       "\n",
       "    .dataframe thead th {\n",
       "        text-align: right;\n",
       "    }\n",
       "</style>\n",
       "<table border=\"1\" class=\"dataframe\">\n",
       "  <thead>\n",
       "    <tr style=\"text-align: right;\">\n",
       "      <th></th>\n",
       "      <th>CTUID</th>\n",
       "      <th>AvgSize</th>\n",
       "      <th>BD</th>\n",
       "      <th>BCR</th>\n",
       "      <th>ProxMean</th>\n",
       "      <th>ContRatio</th>\n",
       "      <th>geometry</th>\n",
       "    </tr>\n",
       "  </thead>\n",
       "  <tbody>\n",
       "    <tr>\n",
       "      <th>0</th>\n",
       "      <td>3200018.00</td>\n",
       "      <td>118.494001</td>\n",
       "      <td>1.700000e-07</td>\n",
       "      <td>0.000020</td>\n",
       "      <td>25.350592</td>\n",
       "      <td>0.031008</td>\n",
       "      <td>POLYGON ((8138931.71143 1497922.59143, 8138472...</td>\n",
       "    </tr>\n",
       "    <tr>\n",
       "      <th>3</th>\n",
       "      <td>3200021.00</td>\n",
       "      <td>150.348683</td>\n",
       "      <td>4.944000e-05</td>\n",
       "      <td>0.007433</td>\n",
       "      <td>10.572638</td>\n",
       "      <td>0.039705</td>\n",
       "      <td>POLYGON ((8132383.78857 1467081.822855, 813210...</td>\n",
       "    </tr>\n",
       "    <tr>\n",
       "      <th>4</th>\n",
       "      <td>3200008.00</td>\n",
       "      <td>181.387583</td>\n",
       "      <td>1.246600e-04</td>\n",
       "      <td>0.022611</td>\n",
       "      <td>9.543879</td>\n",
       "      <td>0.073329</td>\n",
       "      <td>POLYGON ((8126666.14857 1475869.73143, 8126683...</td>\n",
       "    </tr>\n",
       "    <tr>\n",
       "      <th>5</th>\n",
       "      <td>3200004.00</td>\n",
       "      <td>232.138687</td>\n",
       "      <td>3.890500e-04</td>\n",
       "      <td>0.090314</td>\n",
       "      <td>6.566033</td>\n",
       "      <td>0.064110</td>\n",
       "      <td>POLYGON ((8128060.222855 1475731.374285, 81280...</td>\n",
       "    </tr>\n",
       "    <tr>\n",
       "      <th>6</th>\n",
       "      <td>3200023.00</td>\n",
       "      <td>128.080469</td>\n",
       "      <td>1.240000e-06</td>\n",
       "      <td>0.000159</td>\n",
       "      <td>11.033159</td>\n",
       "      <td>0.090686</td>\n",
       "      <td>POLYGON ((8126328.474285 1476725.734285, 81263...</td>\n",
       "    </tr>\n",
       "  </tbody>\n",
       "</table>\n",
       "</div>"
      ],
      "text/plain": [
       "        CTUID     AvgSize            BD       BCR   ProxMean  ContRatio  \\\n",
       "0  3200018.00  118.494001  1.700000e-07  0.000020  25.350592   0.031008   \n",
       "3  3200021.00  150.348683  4.944000e-05  0.007433  10.572638   0.039705   \n",
       "4  3200008.00  181.387583  1.246600e-04  0.022611   9.543879   0.073329   \n",
       "5  3200004.00  232.138687  3.890500e-04  0.090314   6.566033   0.064110   \n",
       "6  3200023.00  128.080469  1.240000e-06  0.000159  11.033159   0.090686   \n",
       "\n",
       "                                            geometry  \n",
       "0  POLYGON ((8138931.71143 1497922.59143, 8138472...  \n",
       "3  POLYGON ((8132383.78857 1467081.822855, 813210...  \n",
       "4  POLYGON ((8126666.14857 1475869.73143, 8126683...  \n",
       "5  POLYGON ((8128060.222855 1475731.374285, 81280...  \n",
       "6  POLYGON ((8126328.474285 1476725.734285, 81263...  "
      ]
     },
     "execution_count": 5,
     "metadata": {},
     "output_type": "execute_result"
    }
   ],
   "source": [
    "df_ct = ctstats.drop(['PRNAME','CMANAME','CMATYPE','area', 'BldgArea', 'BldgCount', 'ContCount'], axis=1)\n",
    "df_ct = df_ct.dropna(axis='rows')\n",
    "df_ct.head()"
   ]
  },
  {
   "cell_type": "markdown",
   "metadata": {
    "colab_type": "text",
    "id": "Nb_hjdQSYU4x"
   },
   "source": [
    "## 1.1 Classification Task on the Census Tract data"
   ]
  },
  {
   "cell_type": "markdown",
   "metadata": {
    "colab_type": "text",
    "id": "pyMEKJ0RZWWK"
   },
   "source": [
    "### Creating Standardized/normalized data for scale invariance as below:\n",
    "\n",
    "### For every given variable x we standardize it as: $\\frac{(x-\\mu)}{\\sigma}$ , where $\\mu$ is the mean and $\\sigma$ is standard deviation"
   ]
  },
  {
   "cell_type": "code",
   "execution_count": 6,
   "metadata": {
    "colab": {
     "base_uri": "https://localhost:8080/",
     "height": 1683
    },
    "colab_type": "code",
    "id": "F9ozGyPoYlMU",
    "outputId": "251cd0fd-062a-407e-a0ad-1b32aa67e15f"
   },
   "outputs": [
    {
     "name": "stderr",
     "output_type": "stream",
     "text": [
      "/Users/lirui/anaconda3/lib/python3.6/site-packages/sklearn/utils/validation.py:595: DataConversionWarning: Data with input dtype object was converted to float64 by StandardScaler.\n",
      "  warnings.warn(msg, DataConversionWarning)\n",
      "/Users/lirui/anaconda3/lib/python3.6/site-packages/sklearn/utils/validation.py:595: DataConversionWarning: Data with input dtype object was converted to float64 by StandardScaler.\n",
      "  warnings.warn(msg, DataConversionWarning)\n"
     ]
    }
   ],
   "source": [
    "from sklearn.preprocessing import StandardScaler #for standardization\n",
    "\n",
    "X = df_ct.values[:,1:-1] #we are taking only the 5 statistics\n",
    "cluster_dataset = StandardScaler().fit_transform(X) #creating standard scalar from unscaled data a "
   ]
  },
  {
   "cell_type": "markdown",
   "metadata": {
    "colab_type": "text",
    "id": "klyfj1tlizgP"
   },
   "source": [
    "### k-means clustering on Census Tract"
   ]
  },
  {
   "cell_type": "code",
   "execution_count": 7,
   "metadata": {},
   "outputs": [],
   "source": [
    "k_means = KMeans(init = \"k-means++\", n_clusters = 3, n_init = 12)\n",
    "# fit the X value to the model\n",
    "k_means.fit(cluster_dataset)\n",
    "labels = k_means.labels_"
   ]
  },
  {
   "cell_type": "code",
   "execution_count": 8,
   "metadata": {
    "colab": {},
    "colab_type": "code",
    "id": "ZONwiQ0kYlYS"
   },
   "outputs": [],
   "source": [
    "new_lab = []\n",
    "for label in labels:\n",
    "    new_lab.append(\"Class \"+str(label))"
   ]
  },
  {
   "cell_type": "code",
   "execution_count": 9,
   "metadata": {
    "colab": {
     "base_uri": "https://localhost:8080/",
     "height": 187
    },
    "colab_type": "code",
    "id": "H_XFHZ0hjCpW",
    "outputId": "5b470b69-ee53-4d94-963d-f1344c6fd947"
   },
   "outputs": [],
   "source": [
    "new_lab = np.asarray(new_lab)"
   ]
  },
  {
   "cell_type": "code",
   "execution_count": 10,
   "metadata": {
    "colab": {
     "base_uri": "https://localhost:8080/",
     "height": 289
    },
    "colab_type": "code",
    "id": "1MPKGn4VjCzO",
    "outputId": "630a2e08-44a4-4c1a-fc72-ecdf20e060c1"
   },
   "outputs": [
    {
     "data": {
      "text/html": [
       "<div>\n",
       "<style scoped>\n",
       "    .dataframe tbody tr th:only-of-type {\n",
       "        vertical-align: middle;\n",
       "    }\n",
       "\n",
       "    .dataframe tbody tr th {\n",
       "        vertical-align: top;\n",
       "    }\n",
       "\n",
       "    .dataframe thead th {\n",
       "        text-align: right;\n",
       "    }\n",
       "</style>\n",
       "<table border=\"1\" class=\"dataframe\">\n",
       "  <thead>\n",
       "    <tr style=\"text-align: right;\">\n",
       "      <th></th>\n",
       "      <th>CTUID</th>\n",
       "      <th>AvgSize</th>\n",
       "      <th>BD</th>\n",
       "      <th>BCR</th>\n",
       "      <th>ProxMean</th>\n",
       "      <th>ContRatio</th>\n",
       "      <th>geometry</th>\n",
       "      <th>Labels</th>\n",
       "      <th>LabelNum</th>\n",
       "    </tr>\n",
       "  </thead>\n",
       "  <tbody>\n",
       "    <tr>\n",
       "      <th>0</th>\n",
       "      <td>3200018.00</td>\n",
       "      <td>118.494001</td>\n",
       "      <td>1.700000e-07</td>\n",
       "      <td>0.000020</td>\n",
       "      <td>25.350592</td>\n",
       "      <td>0.031008</td>\n",
       "      <td>POLYGON ((8138931.71143 1497922.59143, 8138472...</td>\n",
       "      <td>Class 0</td>\n",
       "      <td>0</td>\n",
       "    </tr>\n",
       "    <tr>\n",
       "      <th>3</th>\n",
       "      <td>3200021.00</td>\n",
       "      <td>150.348683</td>\n",
       "      <td>4.944000e-05</td>\n",
       "      <td>0.007433</td>\n",
       "      <td>10.572638</td>\n",
       "      <td>0.039705</td>\n",
       "      <td>POLYGON ((8132383.78857 1467081.822855, 813210...</td>\n",
       "      <td>Class 0</td>\n",
       "      <td>0</td>\n",
       "    </tr>\n",
       "    <tr>\n",
       "      <th>4</th>\n",
       "      <td>3200008.00</td>\n",
       "      <td>181.387583</td>\n",
       "      <td>1.246600e-04</td>\n",
       "      <td>0.022611</td>\n",
       "      <td>9.543879</td>\n",
       "      <td>0.073329</td>\n",
       "      <td>POLYGON ((8126666.14857 1475869.73143, 8126683...</td>\n",
       "      <td>Class 0</td>\n",
       "      <td>0</td>\n",
       "    </tr>\n",
       "    <tr>\n",
       "      <th>5</th>\n",
       "      <td>3200004.00</td>\n",
       "      <td>232.138687</td>\n",
       "      <td>3.890500e-04</td>\n",
       "      <td>0.090314</td>\n",
       "      <td>6.566033</td>\n",
       "      <td>0.064110</td>\n",
       "      <td>POLYGON ((8128060.222855 1475731.374285, 81280...</td>\n",
       "      <td>Class 1</td>\n",
       "      <td>1</td>\n",
       "    </tr>\n",
       "    <tr>\n",
       "      <th>6</th>\n",
       "      <td>3200023.00</td>\n",
       "      <td>128.080469</td>\n",
       "      <td>1.240000e-06</td>\n",
       "      <td>0.000159</td>\n",
       "      <td>11.033159</td>\n",
       "      <td>0.090686</td>\n",
       "      <td>POLYGON ((8126328.474285 1476725.734285, 81263...</td>\n",
       "      <td>Class 0</td>\n",
       "      <td>0</td>\n",
       "    </tr>\n",
       "  </tbody>\n",
       "</table>\n",
       "</div>"
      ],
      "text/plain": [
       "        CTUID     AvgSize            BD       BCR   ProxMean  ContRatio  \\\n",
       "0  3200018.00  118.494001  1.700000e-07  0.000020  25.350592   0.031008   \n",
       "3  3200021.00  150.348683  4.944000e-05  0.007433  10.572638   0.039705   \n",
       "4  3200008.00  181.387583  1.246600e-04  0.022611   9.543879   0.073329   \n",
       "5  3200004.00  232.138687  3.890500e-04  0.090314   6.566033   0.064110   \n",
       "6  3200023.00  128.080469  1.240000e-06  0.000159  11.033159   0.090686   \n",
       "\n",
       "                                            geometry   Labels  LabelNum  \n",
       "0  POLYGON ((8138931.71143 1497922.59143, 8138472...  Class 0         0  \n",
       "3  POLYGON ((8132383.78857 1467081.822855, 813210...  Class 0         0  \n",
       "4  POLYGON ((8126666.14857 1475869.73143, 8126683...  Class 0         0  \n",
       "5  POLYGON ((8128060.222855 1475731.374285, 81280...  Class 1         1  \n",
       "6  POLYGON ((8126328.474285 1476725.734285, 81263...  Class 0         0  "
      ]
     },
     "execution_count": 10,
     "metadata": {},
     "output_type": "execute_result"
    }
   ],
   "source": [
    "df_ct['Labels'] = new_lab\n",
    "df_ct['LabelNum']=labels\n",
    "df_ct.head()"
   ]
  },
  {
   "cell_type": "code",
   "execution_count": 11,
   "metadata": {
    "colab": {},
    "colab_type": "code",
    "id": "HlVSz0nUjC3N"
   },
   "outputs": [],
   "source": [
    "df_ct['Labels'] = df_ct['Labels'].astype(object)"
   ]
  },
  {
   "cell_type": "markdown",
   "metadata": {
    "colab_type": "text",
    "id": "C26sVSLUSDAl"
   },
   "source": [
    "### Interpretation of Classes"
   ]
  },
  {
   "cell_type": "code",
   "execution_count": 12,
   "metadata": {
    "colab": {},
    "colab_type": "code",
    "id": "xqGyY25ZW7pp"
   },
   "outputs": [],
   "source": [
    "CT_cluster0 = df_ct[df_ct.Labels==\"Class 0\"]"
   ]
  },
  {
   "cell_type": "code",
   "execution_count": 13,
   "metadata": {
    "colab": {},
    "colab_type": "code",
    "id": "hpXiKt9hXGrm"
   },
   "outputs": [],
   "source": [
    "CT_cluster1 = df_ct[df_ct.Labels==\"Class 1\"]"
   ]
  },
  {
   "cell_type": "code",
   "execution_count": 14,
   "metadata": {
    "colab": {},
    "colab_type": "code",
    "id": "1hi1B0GcXG1L"
   },
   "outputs": [],
   "source": [
    "CT_cluster2 = df_ct[df_ct.Labels==\"Class 2\"]"
   ]
  },
  {
   "cell_type": "markdown",
   "metadata": {},
   "source": [
    "## 1.2 Visualization for classifications"
   ]
  },
  {
   "cell_type": "markdown",
   "metadata": {
    "colab_type": "text",
    "id": "qvSDHyYNY27f"
   },
   "source": [
    "### BCR visualization"
   ]
  },
  {
   "cell_type": "code",
   "execution_count": 15,
   "metadata": {},
   "outputs": [],
   "source": [
    "ct_bcr = {\n",
    "    'Class':['Class 1', 'Class 2', 'Class 3'],\n",
    "    'Buliding Coverage Ratio': [CT_cluster0.median()[\"BCR\"], CT_cluster1.median()[\"BCR\"],CT_cluster2.median()[\"BCR\"]]\n",
    "  \n",
    "}\n",
    "df_ct_bcr = pd.DataFrame(ct_bcr).set_index(\"Class\")\n",
    "\n",
    "ct_bcr_bar = df_ct_bcr.plot_bokeh.bar(\n",
    "    show_figure=False,\n",
    "    figsize=(300, 200),  \n",
    "    ylabel=\"value\", \n",
    "    title=\"Building Coverage Ratio\",\n",
    "    color=\"blue\",\n",
    "    alpha=0.6)"
   ]
  },
  {
   "cell_type": "markdown",
   "metadata": {
    "colab_type": "text",
    "id": "c9cM-NRENtAF"
   },
   "source": [
    "### BD visualization"
   ]
  },
  {
   "cell_type": "code",
   "execution_count": 16,
   "metadata": {
    "colab": {
     "base_uri": "https://localhost:8080/",
     "height": 408
    },
    "colab_type": "code",
    "id": "KQvXcQEFYdjl",
    "outputId": "a43dc0eb-dbb2-4f5e-f712-f4b534fc93c7",
    "scrolled": true
   },
   "outputs": [],
   "source": [
    "ct_bd = {\n",
    "    'Class':['Class 1', 'Class 2', 'Class 3'],\n",
    "    'Buliding Density': [CT_cluster0.median()[\"BD\"], CT_cluster1.median()[\"BD\"],CT_cluster2.median()[\"BD\"]]\n",
    "  \n",
    "}\n",
    "df_ct_bd = pd.DataFrame(ct_bd).set_index(\"Class\")\n",
    "\n",
    "ct_bd_bar = df_ct_bd.plot_bokeh.bar(\n",
    "    show_figure=False,\n",
    "    figsize=(300, 200),\n",
    "    ylabel=\"value\", \n",
    "    title=\"Building Density\",\n",
    "    color=\"purple\",\n",
    "    alpha=0.6)"
   ]
  },
  {
   "cell_type": "markdown",
   "metadata": {},
   "source": [
    "### Proximity visualization"
   ]
  },
  {
   "cell_type": "code",
   "execution_count": 17,
   "metadata": {},
   "outputs": [],
   "source": [
    "ct_p = {\n",
    "    'Class':['Class 1', 'Class 2', 'Class 3'],\n",
    "    'Proximity': [CT_cluster0.median()[\"ProxMean\"], CT_cluster1.median()[\"ProxMean\"],CT_cluster2.median()[\"ProxMean\"]]\n",
    "  \n",
    "}\n",
    "df_ct_p = pd.DataFrame(ct_p).set_index(\"Class\")\n",
    "\n",
    "ct_p_bar = df_ct_p.plot_bokeh.bar(\n",
    "    figsize=(300, 200),\n",
    "    show_figure=False, \n",
    "    ylabel=\"value\", \n",
    "    title=\"Proximity\",\n",
    "    color=\"Green\",\n",
    "    alpha=0.6)"
   ]
  },
  {
   "cell_type": "markdown",
   "metadata": {},
   "source": [
    "### Size visualization"
   ]
  },
  {
   "cell_type": "code",
   "execution_count": 18,
   "metadata": {},
   "outputs": [],
   "source": [
    "ct_s = {\n",
    "    'Class':['Class 1', 'Class 2', 'Class 3'],\n",
    "    'Average Size': [CT_cluster0.median()[\"AvgSize\"], CT_cluster1.median()[\"AvgSize\"],CT_cluster2.median()[\"AvgSize\"]]\n",
    "  \n",
    "}\n",
    "df_ct_s = pd.DataFrame(ct_s).set_index(\"Class\")\n",
    "\n",
    "ct_s_bar = df_ct_s.plot_bokeh.bar(\n",
    "    show_figure=False,\n",
    "    figsize=(300, 200), \n",
    "    ylabel=\"value\", \n",
    "    title=\"Average Size\",\n",
    "    color=\"Red\",\n",
    "    alpha=0.6)"
   ]
  },
  {
   "cell_type": "markdown",
   "metadata": {
    "colab_type": "text",
    "id": "3mb87GTdRDJF"
   },
   "source": [
    "### Contiguity Ratio visualization"
   ]
  },
  {
   "cell_type": "code",
   "execution_count": 19,
   "metadata": {},
   "outputs": [],
   "source": [
    "ct_c = {\n",
    "    'Class':['Class 1', 'Class 2', 'Class 3'],\n",
    "    \"Contiguity Ratio\": [CT_cluster0.median()[\"ContRatio\"], CT_cluster1.median()[\"ContRatio\"],CT_cluster2.median()[\"ContRatio\"]]\n",
    "  \n",
    "}\n",
    "df_ct_c = pd.DataFrame(ct_c).set_index(\"Class\")\n",
    "\n",
    "ct_c_bar = df_ct_c.plot_bokeh.bar(\n",
    "    figsize=(300, 200),\n",
    "    show_figure=False, \n",
    "    ylabel=\"value\", \n",
    "    title=\"Contiguity Ratio\",\n",
    "    color=\"Grey\",\n",
    "    alpha=0.6)"
   ]
  },
  {
   "cell_type": "markdown",
   "metadata": {},
   "source": [
    "### Integrated visualization for census tract"
   ]
  },
  {
   "cell_type": "code",
   "execution_count": 20,
   "metadata": {
    "scrolled": true
   },
   "outputs": [],
   "source": [
    "Rct_class=df_ct.plot_bokeh(\n",
    "    figsize=(900, 600),\n",
    "    show_figure=False,\n",
    "    category=\"LabelNum\",\n",
    "    show_colorbar=True,\n",
    "    colormap=\"Viridis\",\n",
    "    hovertool_columns=['CTUID','Labels'],\n",
    "    legend=\"Census Tract\",\n",
    "    toolbar_location=\"above\",\n",
    "    title=\"Classification for Census Tract\")"
   ]
  },
  {
   "cell_type": "code",
   "execution_count": 21,
   "metadata": {},
   "outputs": [],
   "source": [
    "ct = layout([[Rct_class],\n",
    "                        [ct_bcr_bar, ct_bd_bar],\n",
    "                        [ct_p_bar, ct_s_bar,ct_c_bar]],sizing_mode='fixed')"
   ]
  },
  {
   "cell_type": "markdown",
   "metadata": {
    "colab_type": "text",
    "id": "VpEyv0BSmcLj"
   },
   "source": [
    "# 2. Dissemination Block"
   ]
  },
  {
   "cell_type": "code",
   "execution_count": 22,
   "metadata": {
    "colab": {
     "base_uri": "https://localhost:8080/",
     "height": 204
    },
    "colab_type": "code",
    "id": "esqqZyJCmp6w",
    "outputId": "e5f3c766-a52c-4f0f-c587-8a6404b5e2c7"
   },
   "outputs": [],
   "source": [
    "df_db = dbstats.drop(['PRNAME','CMANAME','CMATYPE','area', 'BldgArea', 'BldgCount', 'ContCount'], axis=1)"
   ]
  },
  {
   "cell_type": "code",
   "execution_count": 23,
   "metadata": {
    "colab": {},
    "colab_type": "code",
    "id": "3Id3Oi8jnWHv"
   },
   "outputs": [],
   "source": [
    "df_db = df_db.dropna(axis='rows')"
   ]
  },
  {
   "cell_type": "code",
   "execution_count": 24,
   "metadata": {
    "colab": {
     "base_uri": "https://localhost:8080/",
     "height": 204
    },
    "colab_type": "code",
    "id": "M-sxwaOYmqJW",
    "outputId": "bd625f2f-fa91-481a-c837-a21a54291765"
   },
   "outputs": [
    {
     "data": {
      "text/html": [
       "<div>\n",
       "<style scoped>\n",
       "    .dataframe tbody tr th:only-of-type {\n",
       "        vertical-align: middle;\n",
       "    }\n",
       "\n",
       "    .dataframe tbody tr th {\n",
       "        vertical-align: top;\n",
       "    }\n",
       "\n",
       "    .dataframe thead th {\n",
       "        text-align: right;\n",
       "    }\n",
       "</style>\n",
       "<table border=\"1\" class=\"dataframe\">\n",
       "  <thead>\n",
       "    <tr style=\"text-align: right;\">\n",
       "      <th></th>\n",
       "      <th>DBUID</th>\n",
       "      <th>AvgSize</th>\n",
       "      <th>BD</th>\n",
       "      <th>BCR</th>\n",
       "      <th>ProxMean</th>\n",
       "      <th>ContRatio</th>\n",
       "      <th>geometry</th>\n",
       "    </tr>\n",
       "  </thead>\n",
       "  <tbody>\n",
       "    <tr>\n",
       "      <th>1</th>\n",
       "      <td>13100169002</td>\n",
       "      <td>94.382806</td>\n",
       "      <td>0.000074</td>\n",
       "      <td>0.006989</td>\n",
       "      <td>9.000438</td>\n",
       "      <td>0.076517</td>\n",
       "      <td>POLYGON ((8131473.282855 1481092.42, 8131473.8...</td>\n",
       "    </tr>\n",
       "    <tr>\n",
       "      <th>2</th>\n",
       "      <td>13100169003</td>\n",
       "      <td>121.442266</td>\n",
       "      <td>0.001273</td>\n",
       "      <td>0.154543</td>\n",
       "      <td>3.308095</td>\n",
       "      <td>0.100000</td>\n",
       "      <td>POLYGON ((8131278.14857 1481200.117145, 813128...</td>\n",
       "    </tr>\n",
       "    <tr>\n",
       "      <th>3</th>\n",
       "      <td>13100169004</td>\n",
       "      <td>92.463317</td>\n",
       "      <td>0.001485</td>\n",
       "      <td>0.137343</td>\n",
       "      <td>5.486691</td>\n",
       "      <td>0.051282</td>\n",
       "      <td>POLYGON ((8131146.74857 1480994.94, 8131149.04...</td>\n",
       "    </tr>\n",
       "    <tr>\n",
       "      <th>4</th>\n",
       "      <td>13100169005</td>\n",
       "      <td>93.529626</td>\n",
       "      <td>0.000655</td>\n",
       "      <td>0.061247</td>\n",
       "      <td>5.138314</td>\n",
       "      <td>0.173913</td>\n",
       "      <td>POLYGON ((8131473.282855 1481092.42, 8131480.5...</td>\n",
       "    </tr>\n",
       "    <tr>\n",
       "      <th>6</th>\n",
       "      <td>13100170003</td>\n",
       "      <td>78.459693</td>\n",
       "      <td>0.001581</td>\n",
       "      <td>0.124043</td>\n",
       "      <td>3.903380</td>\n",
       "      <td>0.080000</td>\n",
       "      <td>POLYGON ((8132052.342855 1479440.30857, 813204...</td>\n",
       "    </tr>\n",
       "  </tbody>\n",
       "</table>\n",
       "</div>"
      ],
      "text/plain": [
       "         DBUID     AvgSize        BD       BCR  ProxMean  ContRatio  \\\n",
       "1  13100169002   94.382806  0.000074  0.006989  9.000438   0.076517   \n",
       "2  13100169003  121.442266  0.001273  0.154543  3.308095   0.100000   \n",
       "3  13100169004   92.463317  0.001485  0.137343  5.486691   0.051282   \n",
       "4  13100169005   93.529626  0.000655  0.061247  5.138314   0.173913   \n",
       "6  13100170003   78.459693  0.001581  0.124043  3.903380   0.080000   \n",
       "\n",
       "                                            geometry  \n",
       "1  POLYGON ((8131473.282855 1481092.42, 8131473.8...  \n",
       "2  POLYGON ((8131278.14857 1481200.117145, 813128...  \n",
       "3  POLYGON ((8131146.74857 1480994.94, 8131149.04...  \n",
       "4  POLYGON ((8131473.282855 1481092.42, 8131480.5...  \n",
       "6  POLYGON ((8132052.342855 1479440.30857, 813204...  "
      ]
     },
     "execution_count": 24,
     "metadata": {},
     "output_type": "execute_result"
    }
   ],
   "source": [
    "df_db.head()"
   ]
  },
  {
   "cell_type": "markdown",
   "metadata": {
    "colab_type": "text",
    "id": "M0_QeD9c8wT1"
   },
   "source": [
    "## 2.1 Classification Task on the Dissemination Block data"
   ]
  },
  {
   "cell_type": "code",
   "execution_count": 25,
   "metadata": {
    "colab": {
     "base_uri": "https://localhost:8080/",
     "height": 136
    },
    "colab_type": "code",
    "id": "icakwg-XmqP0",
    "outputId": "38bedefd-41a3-4860-9ccc-2d7410332e78"
   },
   "outputs": [
    {
     "name": "stderr",
     "output_type": "stream",
     "text": [
      "/Users/lirui/anaconda3/lib/python3.6/site-packages/sklearn/utils/validation.py:595: DataConversionWarning: Data with input dtype object was converted to float64 by StandardScaler.\n",
      "  warnings.warn(msg, DataConversionWarning)\n",
      "/Users/lirui/anaconda3/lib/python3.6/site-packages/sklearn/utils/validation.py:595: DataConversionWarning: Data with input dtype object was converted to float64 by StandardScaler.\n",
      "  warnings.warn(msg, DataConversionWarning)\n"
     ]
    },
    {
     "data": {
      "text/plain": [
       "array([[-0.25676964, -1.30051514, -1.36231792,  0.26686341, -0.50575756],\n",
       "       [-0.20779868,  0.79255152,  0.49347729, -0.5651409 , -0.34231602],\n",
       "       [-0.26024344,  1.16419472,  0.27714716, -0.24671292, -0.68139483],\n",
       "       ...,\n",
       "       [-0.29963364,  1.71438591,  0.15067125, -0.52856619,  0.12168657],\n",
       "       [-0.10340962, -0.41970278, -0.14714146,  0.04606157, -0.43309914],\n",
       "       [-0.21111882,  0.24384474, -0.00853089, -0.21608468, -0.53213527]])"
      ]
     },
     "execution_count": 25,
     "metadata": {},
     "output_type": "execute_result"
    }
   ],
   "source": [
    "X = df_db.values[:,1:-1] #we are taking only the 5 statistics\n",
    "cluster_dataset = StandardScaler().fit_transform(X) #creating standard scalar from unscaled data a \n",
    "cluster_dataset"
   ]
  },
  {
   "cell_type": "code",
   "execution_count": 26,
   "metadata": {
    "colab": {
     "base_uri": "https://localhost:8080/",
     "height": 34
    },
    "colab_type": "code",
    "id": "NaI5hvvMmqV4",
    "outputId": "f3497215-01e3-41f6-f05c-3d69c6b1c4f1"
   },
   "outputs": [],
   "source": [
    "k_means = KMeans(init = \"k-means++\", n_clusters = 3, n_init = 12)\n",
    "# fit the X value to the model\n",
    "k_means.fit(cluster_dataset)\n",
    "labels = k_means.labels_"
   ]
  },
  {
   "cell_type": "code",
   "execution_count": 27,
   "metadata": {
    "colab": {},
    "colab_type": "code",
    "id": "mGY2gIAXmqb_"
   },
   "outputs": [],
   "source": [
    "new_lab = []\n",
    "for label in labels:\n",
    "    new_lab.append(\"Class \"+str(label))"
   ]
  },
  {
   "cell_type": "code",
   "execution_count": 28,
   "metadata": {
    "colab": {
     "base_uri": "https://localhost:8080/",
     "height": 51
    },
    "colab_type": "code",
    "id": "E5FKcwTsmqaA",
    "outputId": "4fdaa547-0f59-4237-fd12-a89bca6fa82b"
   },
   "outputs": [],
   "source": [
    "new_lab = np.asarray(new_lab)"
   ]
  },
  {
   "cell_type": "code",
   "execution_count": 29,
   "metadata": {
    "colab": {
     "base_uri": "https://localhost:8080/",
     "height": 289
    },
    "colab_type": "code",
    "id": "TsQi7shGmqTp",
    "outputId": "cd37c427-ea0e-465f-b906-9500005202a6"
   },
   "outputs": [
    {
     "data": {
      "text/html": [
       "<div>\n",
       "<style scoped>\n",
       "    .dataframe tbody tr th:only-of-type {\n",
       "        vertical-align: middle;\n",
       "    }\n",
       "\n",
       "    .dataframe tbody tr th {\n",
       "        vertical-align: top;\n",
       "    }\n",
       "\n",
       "    .dataframe thead th {\n",
       "        text-align: right;\n",
       "    }\n",
       "</style>\n",
       "<table border=\"1\" class=\"dataframe\">\n",
       "  <thead>\n",
       "    <tr style=\"text-align: right;\">\n",
       "      <th></th>\n",
       "      <th>DBUID</th>\n",
       "      <th>AvgSize</th>\n",
       "      <th>BD</th>\n",
       "      <th>BCR</th>\n",
       "      <th>ProxMean</th>\n",
       "      <th>ContRatio</th>\n",
       "      <th>geometry</th>\n",
       "      <th>Labels</th>\n",
       "      <th>LabelNum</th>\n",
       "    </tr>\n",
       "  </thead>\n",
       "  <tbody>\n",
       "    <tr>\n",
       "      <th>1</th>\n",
       "      <td>13100169002</td>\n",
       "      <td>94.382806</td>\n",
       "      <td>0.000074</td>\n",
       "      <td>0.006989</td>\n",
       "      <td>9.000438</td>\n",
       "      <td>0.076517</td>\n",
       "      <td>POLYGON ((8131473.282855 1481092.42, 8131473.8...</td>\n",
       "      <td>Class 1</td>\n",
       "      <td>1</td>\n",
       "    </tr>\n",
       "    <tr>\n",
       "      <th>2</th>\n",
       "      <td>13100169003</td>\n",
       "      <td>121.442266</td>\n",
       "      <td>0.001273</td>\n",
       "      <td>0.154543</td>\n",
       "      <td>3.308095</td>\n",
       "      <td>0.100000</td>\n",
       "      <td>POLYGON ((8131278.14857 1481200.117145, 813128...</td>\n",
       "      <td>Class 0</td>\n",
       "      <td>0</td>\n",
       "    </tr>\n",
       "    <tr>\n",
       "      <th>3</th>\n",
       "      <td>13100169004</td>\n",
       "      <td>92.463317</td>\n",
       "      <td>0.001485</td>\n",
       "      <td>0.137343</td>\n",
       "      <td>5.486691</td>\n",
       "      <td>0.051282</td>\n",
       "      <td>POLYGON ((8131146.74857 1480994.94, 8131149.04...</td>\n",
       "      <td>Class 0</td>\n",
       "      <td>0</td>\n",
       "    </tr>\n",
       "    <tr>\n",
       "      <th>4</th>\n",
       "      <td>13100169005</td>\n",
       "      <td>93.529626</td>\n",
       "      <td>0.000655</td>\n",
       "      <td>0.061247</td>\n",
       "      <td>5.138314</td>\n",
       "      <td>0.173913</td>\n",
       "      <td>POLYGON ((8131473.282855 1481092.42, 8131480.5...</td>\n",
       "      <td>Class 1</td>\n",
       "      <td>1</td>\n",
       "    </tr>\n",
       "    <tr>\n",
       "      <th>6</th>\n",
       "      <td>13100170003</td>\n",
       "      <td>78.459693</td>\n",
       "      <td>0.001581</td>\n",
       "      <td>0.124043</td>\n",
       "      <td>3.903380</td>\n",
       "      <td>0.080000</td>\n",
       "      <td>POLYGON ((8132052.342855 1479440.30857, 813204...</td>\n",
       "      <td>Class 0</td>\n",
       "      <td>0</td>\n",
       "    </tr>\n",
       "  </tbody>\n",
       "</table>\n",
       "</div>"
      ],
      "text/plain": [
       "         DBUID     AvgSize        BD       BCR  ProxMean  ContRatio  \\\n",
       "1  13100169002   94.382806  0.000074  0.006989  9.000438   0.076517   \n",
       "2  13100169003  121.442266  0.001273  0.154543  3.308095   0.100000   \n",
       "3  13100169004   92.463317  0.001485  0.137343  5.486691   0.051282   \n",
       "4  13100169005   93.529626  0.000655  0.061247  5.138314   0.173913   \n",
       "6  13100170003   78.459693  0.001581  0.124043  3.903380   0.080000   \n",
       "\n",
       "                                            geometry   Labels  LabelNum  \n",
       "1  POLYGON ((8131473.282855 1481092.42, 8131473.8...  Class 1         1  \n",
       "2  POLYGON ((8131278.14857 1481200.117145, 813128...  Class 0         0  \n",
       "3  POLYGON ((8131146.74857 1480994.94, 8131149.04...  Class 0         0  \n",
       "4  POLYGON ((8131473.282855 1481092.42, 8131480.5...  Class 1         1  \n",
       "6  POLYGON ((8132052.342855 1479440.30857, 813204...  Class 0         0  "
      ]
     },
     "execution_count": 29,
     "metadata": {},
     "output_type": "execute_result"
    }
   ],
   "source": [
    "df_db['Labels'] = new_lab\n",
    "df_db['LabelNum']=labels\n",
    "df_db.head()"
   ]
  },
  {
   "cell_type": "code",
   "execution_count": 30,
   "metadata": {
    "colab": {},
    "colab_type": "code",
    "id": "VeMTPjXOmqMz"
   },
   "outputs": [],
   "source": [
    "df_db['Labels'] = df_db['Labels'].astype(object)"
   ]
  },
  {
   "cell_type": "markdown",
   "metadata": {
    "colab_type": "text",
    "id": "sg8mt7Q5Sexg"
   },
   "source": [
    "### Interpretation of Classes"
   ]
  },
  {
   "cell_type": "code",
   "execution_count": 31,
   "metadata": {
    "colab": {},
    "colab_type": "code",
    "id": "NCm2JYd4mqEB"
   },
   "outputs": [],
   "source": [
    "DB_cluster0 = df_db[df_db.Labels==\"Class 0\"]\n",
    "DB_cluster1 = df_db[df_db.Labels==\"Class 1\"]\n",
    "DB_cluster2 = df_db[df_db.Labels==\"Class 2\"]"
   ]
  },
  {
   "cell_type": "markdown",
   "metadata": {},
   "source": [
    "## 2.2 Visualization for classification"
   ]
  },
  {
   "cell_type": "markdown",
   "metadata": {
    "colab_type": "text",
    "id": "qvSDHyYNY27f"
   },
   "source": [
    "### BCR visualization"
   ]
  },
  {
   "cell_type": "code",
   "execution_count": 32,
   "metadata": {},
   "outputs": [],
   "source": [
    "db_bcr = {\n",
    "    'Class':['Class 1', 'Class 2', 'Class 3'],\n",
    "    'Buliding Coverage Ratio': [DB_cluster0.median()[\"BCR\"], DB_cluster1.median()[\"BCR\"],DB_cluster2.median()[\"BCR\"]]\n",
    "  \n",
    "}\n",
    "df_db_bcr = pd.DataFrame(db_bcr).set_index(\"Class\")\n",
    "\n",
    "db_bcr_bar = df_db_bcr.plot_bokeh.bar(\n",
    "    show_figure=False, \n",
    "    figsize=(300,200),\n",
    "    ylabel=\"value\", \n",
    "    title=\"Building Coverage Ratio\",\n",
    "    color=\"blue\",\n",
    "    alpha=0.6)"
   ]
  },
  {
   "cell_type": "markdown",
   "metadata": {
    "colab_type": "text",
    "id": "c9cM-NRENtAF"
   },
   "source": [
    "### BD visualization"
   ]
  },
  {
   "cell_type": "code",
   "execution_count": 33,
   "metadata": {
    "colab": {
     "base_uri": "https://localhost:8080/",
     "height": 408
    },
    "colab_type": "code",
    "id": "KQvXcQEFYdjl",
    "outputId": "a43dc0eb-dbb2-4f5e-f712-f4b534fc93c7",
    "scrolled": true
   },
   "outputs": [],
   "source": [
    "db_bd = {\n",
    "    'Class':['Class 1', 'Class 2', 'Class 3'],\n",
    "    'Buliding Density': [DB_cluster0.median()[\"BD\"], DB_cluster1.median()[\"BD\"],DB_cluster2.median()[\"BD\"]]\n",
    "  \n",
    "}\n",
    "df_db_bd = pd.DataFrame(db_bd).set_index(\"Class\")\n",
    "\n",
    "db_bd_bar = df_db_bd.plot_bokeh.bar(\n",
    "    show_figure=False,  \n",
    "    figsize=(300,200),\n",
    "    ylabel=\"value\", \n",
    "    title=\"Building Density\",\n",
    "    color=\"purple\",\n",
    "    alpha=0.6)"
   ]
  },
  {
   "cell_type": "markdown",
   "metadata": {},
   "source": [
    "### Proximity visualization"
   ]
  },
  {
   "cell_type": "code",
   "execution_count": 34,
   "metadata": {},
   "outputs": [],
   "source": [
    "db_p = {\n",
    "    'Class':['Class 1', 'Class 2', 'Class 3'],\n",
    "    'Proximity': [DB_cluster0.median()[\"ProxMean\"], DB_cluster1.median()[\"ProxMean\"],DB_cluster2.median()[\"ProxMean\"]]\n",
    "  \n",
    "}\n",
    "df_db_p = pd.DataFrame(db_p).set_index(\"Class\")\n",
    "\n",
    "db_p_bar = df_db_p.plot_bokeh.bar(\n",
    "    show_figure=False, \n",
    "    figsize=(300,200),\n",
    "    ylabel=\"value\", \n",
    "    title=\"Proximity\",\n",
    "    color=\"Green\",\n",
    "    alpha=0.6)"
   ]
  },
  {
   "cell_type": "markdown",
   "metadata": {},
   "source": [
    "### Size visualization"
   ]
  },
  {
   "cell_type": "code",
   "execution_count": 35,
   "metadata": {},
   "outputs": [],
   "source": [
    "db_s = {\n",
    "    'Class':['Class 1', 'Class 2', 'Class 3'],\n",
    "    'Average Size': [DB_cluster0.median()[\"AvgSize\"], DB_cluster1.median()[\"AvgSize\"],DB_cluster2.median()[\"AvgSize\"]]\n",
    "  \n",
    "}\n",
    "df_db_s = pd.DataFrame(db_s).set_index(\"Class\")\n",
    "\n",
    "db_s_bar = df_db_s.plot_bokeh.bar(\n",
    "    show_figure=False, \n",
    "    figsize=(300,200),\n",
    "    ylabel=\"value\", \n",
    "    title=\"Average Size\",\n",
    "    color=\"Red\",\n",
    "    alpha=0.6)"
   ]
  },
  {
   "cell_type": "markdown",
   "metadata": {
    "colab_type": "text",
    "id": "3mb87GTdRDJF"
   },
   "source": [
    "### Contiguity Ratio visualization"
   ]
  },
  {
   "cell_type": "code",
   "execution_count": 36,
   "metadata": {},
   "outputs": [],
   "source": [
    "db_c = {\n",
    "    'Class':['Class 1', 'Class 2', 'Class 3'],\n",
    "    \"Contiguity Ratio\": [DB_cluster0.median()[\"ContRatio\"], DB_cluster1.median()[\"ContRatio\"],CT_cluster2.median()[\"ContRatio\"]]\n",
    "  \n",
    "}\n",
    "df_db_c = pd.DataFrame(db_c).set_index(\"Class\")\n",
    "\n",
    "db_c_bar = df_db_c.plot_bokeh.bar(\n",
    "    show_figure=False, \n",
    "    figsize=(300,200),\n",
    "    ylabel=\"value\", \n",
    "    title=\"Contiguity Ratio\",\n",
    "    color=\"Grey\",\n",
    "    alpha=0.6)"
   ]
  },
  {
   "cell_type": "markdown",
   "metadata": {},
   "source": [
    "### Integrated visualization for Dessimination Blocks"
   ]
  },
  {
   "cell_type": "code",
   "execution_count": 37,
   "metadata": {},
   "outputs": [],
   "source": [
    "Rdb_class=df_db.plot_bokeh(\n",
    "    show_figure=False,\n",
    "    figsize=(900, 600),\n",
    "    category=\"LabelNum\",\n",
    "    show_colorbar=True,\n",
    "    colormap=\"Viridis\",\n",
    "    hovertool_columns=['DBUID','Labels'],\n",
    "    legend=\"Dessimination Block\",\n",
    "    toolbar_location=\"above\",\n",
    "    title=\"Classification for Dessimination Block\")"
   ]
  },
  {
   "cell_type": "code",
   "execution_count": 38,
   "metadata": {},
   "outputs": [],
   "source": [
    "db = layout([[Rdb_class],\n",
    "                        [db_bcr_bar, db_bd_bar],\n",
    "                        [db_p_bar, db_s_bar,db_c_bar]],sizing_mode='fixed')"
   ]
  },
  {
   "cell_type": "markdown",
   "metadata": {
    "colab_type": "text",
    "id": "YFCb_a-QtD2Z"
   },
   "source": [
    "# 3. 1 km<sup>2</sup> Grid"
   ]
  },
  {
   "cell_type": "code",
   "execution_count": 39,
   "metadata": {
    "colab": {
     "base_uri": "https://localhost:8080/",
     "height": 204
    },
    "colab_type": "code",
    "id": "mmZEiy74Y2yL",
    "outputId": "7940a049-f462-48b3-c292-0deb1036d2a9"
   },
   "outputs": [],
   "source": [
    "df_grid = gridstats.drop(['area', 'BldgArea', 'BldgCount', 'ContCount'], axis=1)"
   ]
  },
  {
   "cell_type": "code",
   "execution_count": 40,
   "metadata": {
    "colab": {},
    "colab_type": "code",
    "id": "T3kjswkxsDOo"
   },
   "outputs": [],
   "source": [
    "df_grid = df_grid.dropna(axis='rows')"
   ]
  },
  {
   "cell_type": "code",
   "execution_count": 41,
   "metadata": {
    "colab": {
     "base_uri": "https://localhost:8080/",
     "height": 204
    },
    "colab_type": "code",
    "id": "ndHJ6YS9ssnV",
    "outputId": "c6dcb031-3936-43bf-fd80-bc100451361c"
   },
   "outputs": [
    {
     "data": {
      "text/html": [
       "<div>\n",
       "<style scoped>\n",
       "    .dataframe tbody tr th:only-of-type {\n",
       "        vertical-align: middle;\n",
       "    }\n",
       "\n",
       "    .dataframe tbody tr th {\n",
       "        vertical-align: top;\n",
       "    }\n",
       "\n",
       "    .dataframe thead th {\n",
       "        text-align: right;\n",
       "    }\n",
       "</style>\n",
       "<table border=\"1\" class=\"dataframe\">\n",
       "  <thead>\n",
       "    <tr style=\"text-align: right;\">\n",
       "      <th></th>\n",
       "      <th>id</th>\n",
       "      <th>AvgSize</th>\n",
       "      <th>BD</th>\n",
       "      <th>BCR</th>\n",
       "      <th>ProxMean</th>\n",
       "      <th>ContRatio</th>\n",
       "      <th>geometry</th>\n",
       "    </tr>\n",
       "  </thead>\n",
       "  <tbody>\n",
       "    <tr>\n",
       "      <th>1</th>\n",
       "      <td>6174</td>\n",
       "      <td>100.259455</td>\n",
       "      <td>0.000028</td>\n",
       "      <td>0.002807</td>\n",
       "      <td>21.719138</td>\n",
       "      <td>0.071429</td>\n",
       "      <td>POLYGON ((8116757 1476130.3, 8117757 1476130.3...</td>\n",
       "    </tr>\n",
       "    <tr>\n",
       "      <th>3</th>\n",
       "      <td>6303</td>\n",
       "      <td>128.774280</td>\n",
       "      <td>0.000176</td>\n",
       "      <td>0.022664</td>\n",
       "      <td>15.191105</td>\n",
       "      <td>0.062500</td>\n",
       "      <td>POLYGON ((8117757 1477130.3, 8118757 1477130.3...</td>\n",
       "    </tr>\n",
       "    <tr>\n",
       "      <th>4</th>\n",
       "      <td>6304</td>\n",
       "      <td>118.499905</td>\n",
       "      <td>0.000090</td>\n",
       "      <td>0.010665</td>\n",
       "      <td>12.712510</td>\n",
       "      <td>0.022222</td>\n",
       "      <td>POLYGON ((8117757 1476130.3, 8118757 1476130.3...</td>\n",
       "    </tr>\n",
       "    <tr>\n",
       "      <th>11</th>\n",
       "      <td>6436</td>\n",
       "      <td>119.111630</td>\n",
       "      <td>0.000058</td>\n",
       "      <td>0.006908</td>\n",
       "      <td>18.305036</td>\n",
       "      <td>0.086207</td>\n",
       "      <td>POLYGON ((8118757 1474130.3, 8119757 1474130.3...</td>\n",
       "    </tr>\n",
       "    <tr>\n",
       "      <th>12</th>\n",
       "      <td>6437</td>\n",
       "      <td>148.310204</td>\n",
       "      <td>0.000104</td>\n",
       "      <td>0.015424</td>\n",
       "      <td>14.591931</td>\n",
       "      <td>0.019231</td>\n",
       "      <td>POLYGON ((8118757 1473130.3, 8119757 1473130.3...</td>\n",
       "    </tr>\n",
       "  </tbody>\n",
       "</table>\n",
       "</div>"
      ],
      "text/plain": [
       "      id     AvgSize        BD       BCR   ProxMean  ContRatio  \\\n",
       "1   6174  100.259455  0.000028  0.002807  21.719138   0.071429   \n",
       "3   6303  128.774280  0.000176  0.022664  15.191105   0.062500   \n",
       "4   6304  118.499905  0.000090  0.010665  12.712510   0.022222   \n",
       "11  6436  119.111630  0.000058  0.006908  18.305036   0.086207   \n",
       "12  6437  148.310204  0.000104  0.015424  14.591931   0.019231   \n",
       "\n",
       "                                             geometry  \n",
       "1   POLYGON ((8116757 1476130.3, 8117757 1476130.3...  \n",
       "3   POLYGON ((8117757 1477130.3, 8118757 1477130.3...  \n",
       "4   POLYGON ((8117757 1476130.3, 8118757 1476130.3...  \n",
       "11  POLYGON ((8118757 1474130.3, 8119757 1474130.3...  \n",
       "12  POLYGON ((8118757 1473130.3, 8119757 1473130.3...  "
      ]
     },
     "execution_count": 41,
     "metadata": {},
     "output_type": "execute_result"
    }
   ],
   "source": [
    "df_grid.head()"
   ]
  },
  {
   "cell_type": "markdown",
   "metadata": {
    "colab_type": "text",
    "id": "M0_QeD9c8wT1"
   },
   "source": [
    "## 3.1 Classification Task on the Grid 1km^2 data"
   ]
  },
  {
   "cell_type": "code",
   "execution_count": 42,
   "metadata": {
    "colab": {
     "base_uri": "https://localhost:8080/",
     "height": 4947
    },
    "colab_type": "code",
    "id": "Ec1kSLKtsvPz",
    "outputId": "434a4580-6aaa-4135-cdee-2a3bbe2b151f"
   },
   "outputs": [
    {
     "name": "stderr",
     "output_type": "stream",
     "text": [
      "/Users/lirui/anaconda3/lib/python3.6/site-packages/sklearn/utils/validation.py:595: DataConversionWarning: Data with input dtype object was converted to float64 by StandardScaler.\n",
      "  warnings.warn(msg, DataConversionWarning)\n",
      "/Users/lirui/anaconda3/lib/python3.6/site-packages/sklearn/utils/validation.py:595: DataConversionWarning: Data with input dtype object was converted to float64 by StandardScaler.\n",
      "  warnings.warn(msg, DataConversionWarning)\n"
     ]
    }
   ],
   "source": [
    "X = df_grid.values[:,1:-1] #we are taking only the 5 statistics\n",
    "cluster_dataset = StandardScaler().fit_transform(X) #creating standard scalar from unscaled data a "
   ]
  },
  {
   "cell_type": "code",
   "execution_count": 43,
   "metadata": {
    "colab": {
     "base_uri": "https://localhost:8080/",
     "height": 136
    },
    "colab_type": "code",
    "id": "erjKAHSBA5qd",
    "outputId": "f5dd5b54-b784-4dcd-e096-0b876345b249"
   },
   "outputs": [],
   "source": [
    "k_means = KMeans(init = \"k-means++\", n_clusters = 3, n_init = 12)\n",
    "# fit the X value to the model\n",
    "k_means.fit(cluster_dataset)\n",
    "labels = k_means.labels_"
   ]
  },
  {
   "cell_type": "code",
   "execution_count": 44,
   "metadata": {
    "colab": {},
    "colab_type": "code",
    "id": "rYg7jSJWA-Eu"
   },
   "outputs": [],
   "source": [
    "new_lab = []\n",
    "for label in labels:\n",
    "    new_lab.append(\"Class \"+str(label))"
   ]
  },
  {
   "cell_type": "code",
   "execution_count": 45,
   "metadata": {
    "colab": {
     "base_uri": "https://localhost:8080/",
     "height": 527
    },
    "colab_type": "code",
    "id": "WLL32IPwBAyr",
    "outputId": "46443932-be0e-4526-e4fb-1d0a5733b809"
   },
   "outputs": [],
   "source": [
    "new_lab = np.asarray(new_lab)"
   ]
  },
  {
   "cell_type": "code",
   "execution_count": 46,
   "metadata": {
    "colab": {
     "base_uri": "https://localhost:8080/",
     "height": 204
    },
    "colab_type": "code",
    "id": "UH8ZQVjpBCPF",
    "outputId": "bc7563f2-a558-4b92-8c1c-ad7481900963"
   },
   "outputs": [
    {
     "data": {
      "text/html": [
       "<div>\n",
       "<style scoped>\n",
       "    .dataframe tbody tr th:only-of-type {\n",
       "        vertical-align: middle;\n",
       "    }\n",
       "\n",
       "    .dataframe tbody tr th {\n",
       "        vertical-align: top;\n",
       "    }\n",
       "\n",
       "    .dataframe thead th {\n",
       "        text-align: right;\n",
       "    }\n",
       "</style>\n",
       "<table border=\"1\" class=\"dataframe\">\n",
       "  <thead>\n",
       "    <tr style=\"text-align: right;\">\n",
       "      <th></th>\n",
       "      <th>id</th>\n",
       "      <th>AvgSize</th>\n",
       "      <th>BD</th>\n",
       "      <th>BCR</th>\n",
       "      <th>ProxMean</th>\n",
       "      <th>ContRatio</th>\n",
       "      <th>geometry</th>\n",
       "      <th>Labels</th>\n",
       "      <th>LabelNum</th>\n",
       "    </tr>\n",
       "  </thead>\n",
       "  <tbody>\n",
       "    <tr>\n",
       "      <th>1</th>\n",
       "      <td>6174</td>\n",
       "      <td>100.259455</td>\n",
       "      <td>0.000028</td>\n",
       "      <td>0.002807</td>\n",
       "      <td>21.719138</td>\n",
       "      <td>0.071429</td>\n",
       "      <td>POLYGON ((8116757 1476130.3, 8117757 1476130.3...</td>\n",
       "      <td>Class 1</td>\n",
       "      <td>1</td>\n",
       "    </tr>\n",
       "    <tr>\n",
       "      <th>3</th>\n",
       "      <td>6303</td>\n",
       "      <td>128.774280</td>\n",
       "      <td>0.000176</td>\n",
       "      <td>0.022664</td>\n",
       "      <td>15.191105</td>\n",
       "      <td>0.062500</td>\n",
       "      <td>POLYGON ((8117757 1477130.3, 8118757 1477130.3...</td>\n",
       "      <td>Class 1</td>\n",
       "      <td>1</td>\n",
       "    </tr>\n",
       "    <tr>\n",
       "      <th>4</th>\n",
       "      <td>6304</td>\n",
       "      <td>118.499905</td>\n",
       "      <td>0.000090</td>\n",
       "      <td>0.010665</td>\n",
       "      <td>12.712510</td>\n",
       "      <td>0.022222</td>\n",
       "      <td>POLYGON ((8117757 1476130.3, 8118757 1476130.3...</td>\n",
       "      <td>Class 1</td>\n",
       "      <td>1</td>\n",
       "    </tr>\n",
       "    <tr>\n",
       "      <th>11</th>\n",
       "      <td>6436</td>\n",
       "      <td>119.111630</td>\n",
       "      <td>0.000058</td>\n",
       "      <td>0.006908</td>\n",
       "      <td>18.305036</td>\n",
       "      <td>0.086207</td>\n",
       "      <td>POLYGON ((8118757 1474130.3, 8119757 1474130.3...</td>\n",
       "      <td>Class 1</td>\n",
       "      <td>1</td>\n",
       "    </tr>\n",
       "    <tr>\n",
       "      <th>12</th>\n",
       "      <td>6437</td>\n",
       "      <td>148.310204</td>\n",
       "      <td>0.000104</td>\n",
       "      <td>0.015424</td>\n",
       "      <td>14.591931</td>\n",
       "      <td>0.019231</td>\n",
       "      <td>POLYGON ((8118757 1473130.3, 8119757 1473130.3...</td>\n",
       "      <td>Class 1</td>\n",
       "      <td>1</td>\n",
       "    </tr>\n",
       "  </tbody>\n",
       "</table>\n",
       "</div>"
      ],
      "text/plain": [
       "      id     AvgSize        BD       BCR   ProxMean  ContRatio  \\\n",
       "1   6174  100.259455  0.000028  0.002807  21.719138   0.071429   \n",
       "3   6303  128.774280  0.000176  0.022664  15.191105   0.062500   \n",
       "4   6304  118.499905  0.000090  0.010665  12.712510   0.022222   \n",
       "11  6436  119.111630  0.000058  0.006908  18.305036   0.086207   \n",
       "12  6437  148.310204  0.000104  0.015424  14.591931   0.019231   \n",
       "\n",
       "                                             geometry   Labels  LabelNum  \n",
       "1   POLYGON ((8116757 1476130.3, 8117757 1476130.3...  Class 1         1  \n",
       "3   POLYGON ((8117757 1477130.3, 8118757 1477130.3...  Class 1         1  \n",
       "4   POLYGON ((8117757 1476130.3, 8118757 1476130.3...  Class 1         1  \n",
       "11  POLYGON ((8118757 1474130.3, 8119757 1474130.3...  Class 1         1  \n",
       "12  POLYGON ((8118757 1473130.3, 8119757 1473130.3...  Class 1         1  "
      ]
     },
     "execution_count": 46,
     "metadata": {},
     "output_type": "execute_result"
    }
   ],
   "source": [
    "df_grid['Labels'] = new_lab\n",
    "df_grid['LabelNum']= labels\n",
    "df_grid.head()"
   ]
  },
  {
   "cell_type": "code",
   "execution_count": 47,
   "metadata": {
    "colab": {},
    "colab_type": "code",
    "id": "J4RO6EZmBK5K"
   },
   "outputs": [],
   "source": [
    "df_grid['Labels'] = df_grid['Labels'].astype(object)"
   ]
  },
  {
   "cell_type": "markdown",
   "metadata": {
    "colab_type": "text",
    "id": "1NXdNLBbf3t3"
   },
   "source": [
    "## Interpretation of Classes"
   ]
  },
  {
   "cell_type": "code",
   "execution_count": 48,
   "metadata": {
    "colab": {},
    "colab_type": "code",
    "id": "7aKY9JCCBmYj"
   },
   "outputs": [],
   "source": [
    "GRID_cluster0 = df_grid[df_grid.Labels==\"Class 0\"]\n",
    "GRID_cluster1 = df_grid[df_grid.Labels==\"Class 1\"]\n",
    "GRID_cluster2 = df_grid[df_grid.Labels==\"Class 2\"]"
   ]
  },
  {
   "cell_type": "markdown",
   "metadata": {},
   "source": [
    "## 3.2 Visualization for classification"
   ]
  },
  {
   "cell_type": "markdown",
   "metadata": {
    "colab_type": "text",
    "id": "qvSDHyYNY27f"
   },
   "source": [
    "### BCR visualization"
   ]
  },
  {
   "cell_type": "code",
   "execution_count": 49,
   "metadata": {},
   "outputs": [],
   "source": [
    "gd_bcr = {\n",
    "    'Class':['Class 1', 'Class 2', 'Class 3'],\n",
    "    'Buliding Coverage Ratio': [GRID_cluster0.median()[\"BCR\"], GRID_cluster1.median()[\"BCR\"],GRID_cluster2.median()[\"BCR\"]]\n",
    "  \n",
    "}\n",
    "df_gd_bcr = pd.DataFrame(gd_bcr).set_index(\"Class\")\n",
    "\n",
    "gd_bcr_bar = df_gd_bcr.plot_bokeh.bar(\n",
    "    show_figure=False,   \n",
    "    figsize=(300,200),\n",
    "    ylabel=\"value\", \n",
    "    title=\"Building Coverage Ratio\",\n",
    "    color=\"blue\",\n",
    "    alpha=0.6)"
   ]
  },
  {
   "cell_type": "markdown",
   "metadata": {
    "colab_type": "text",
    "id": "c9cM-NRENtAF"
   },
   "source": [
    "### BD visualization"
   ]
  },
  {
   "cell_type": "code",
   "execution_count": 50,
   "metadata": {
    "colab": {
     "base_uri": "https://localhost:8080/",
     "height": 408
    },
    "colab_type": "code",
    "id": "KQvXcQEFYdjl",
    "outputId": "a43dc0eb-dbb2-4f5e-f712-f4b534fc93c7",
    "scrolled": true
   },
   "outputs": [],
   "source": [
    "gd_bd = {\n",
    "    'Class':['Class 1', 'Class 2', 'Class 3'],\n",
    "    'Buliding Density': [GRID_cluster0.median()[\"BD\"], GRID_cluster1.median()[\"BD\"],GRID_cluster2.median()[\"BD\"]]\n",
    "  \n",
    "}\n",
    "df_gd_bd = pd.DataFrame(gd_bd).set_index(\"Class\")\n",
    "\n",
    "gd_bd_bar = df_gd_bd .plot_bokeh.bar(\n",
    "    figsize=(300,200),\n",
    "    show_figure=False,  \n",
    "    ylabel=\"value\", \n",
    "    title=\"Building Density\",\n",
    "    color=\"purple\",\n",
    "    alpha=0.6)"
   ]
  },
  {
   "cell_type": "markdown",
   "metadata": {},
   "source": [
    "### Proximity visualization"
   ]
  },
  {
   "cell_type": "code",
   "execution_count": 51,
   "metadata": {},
   "outputs": [],
   "source": [
    "gd_p = {\n",
    "    'Class':['Class 1', 'Class 2', 'Class 3'],\n",
    "    'Proximity': [GRID_cluster0.median()[\"ProxMean\"], GRID_cluster1.median()[\"ProxMean\"],GRID_cluster2.median()[\"ProxMean\"]]\n",
    "  \n",
    "}\n",
    "df_gd_p = pd.DataFrame(gd_p).set_index(\"Class\")\n",
    "\n",
    "gd_p_bar = df_gd_p.plot_bokeh.bar(\n",
    "    figsize=(300,200),\n",
    "    show_figure=False, \n",
    "    ylabel=\"value\", \n",
    "    title=\"Proximity\",\n",
    "    color=\"Green\",\n",
    "    alpha=0.6)"
   ]
  },
  {
   "cell_type": "markdown",
   "metadata": {},
   "source": [
    "### Size visualization"
   ]
  },
  {
   "cell_type": "code",
   "execution_count": 52,
   "metadata": {},
   "outputs": [],
   "source": [
    "gd_s = {\n",
    "    'Class':['Class 1', 'Class 2', 'Class 3'],\n",
    "    'Average Size': [GRID_cluster0.median()[\"AvgSize\"], GRID_cluster1.median()[\"AvgSize\"],GRID_cluster2.median()[\"AvgSize\"]]\n",
    "  \n",
    "}\n",
    "df_gd_s = pd.DataFrame(gd_s).set_index(\"Class\")\n",
    "\n",
    "gd_s_bar = df_gd_s.plot_bokeh.bar(\n",
    "    show_figure=False, \n",
    "    figsize=(300,200),\n",
    "    ylabel=\"value\", \n",
    "    title=\"Average Size\",\n",
    "    color=\"Red\",\n",
    "    alpha=0.6)"
   ]
  },
  {
   "cell_type": "markdown",
   "metadata": {
    "colab_type": "text",
    "id": "3mb87GTdRDJF"
   },
   "source": [
    "### Contiguity Ratio"
   ]
  },
  {
   "cell_type": "code",
   "execution_count": 53,
   "metadata": {},
   "outputs": [],
   "source": [
    "gd_c = {\n",
    "    'Class':['Class 1', 'Class 2', 'Class 3'],\n",
    "    \"Contiguity Ratio\": [GRID_cluster0.median()[\"ContRatio\"], GRID_cluster1.median()[\"ContRatio\"],GRID_cluster2.median()[\"ContRatio\"]]\n",
    "  \n",
    "}\n",
    "df_gd_c = pd.DataFrame(gd_c).set_index(\"Class\")\n",
    "\n",
    "gd_c_bar = df_gd_c.plot_bokeh.bar(\n",
    "    figsize=(300,200),\n",
    "    show_figure=False, \n",
    "    ylabel=\"value\", \n",
    "    title=\"Contiguity Ratio\",\n",
    "    color=\"Grey\",\n",
    "    alpha=0.6)"
   ]
  },
  {
   "cell_type": "markdown",
   "metadata": {},
   "source": [
    "\n",
    "\n",
    "### Integrated visualization for Grid 1km^2"
   ]
  },
  {
   "cell_type": "code",
   "execution_count": 54,
   "metadata": {},
   "outputs": [],
   "source": [
    "Rgd_class=df_grid.plot_bokeh(\n",
    "    show_figure=False,\n",
    "    figsize=(900, 600),\n",
    "    category=\"LabelNum\",\n",
    "    show_colorbar=True,\n",
    "    colormap=\"Viridis\",\n",
    "    hovertool_columns=['id','Labels'],\n",
    "    legend=\"1km^2 Grid\",\n",
    "    toolbar_location=\"above\",\n",
    "    title=\"Classification for 1km^2 Grid\")"
   ]
  },
  {
   "cell_type": "code",
   "execution_count": 55,
   "metadata": {
    "scrolled": true
   },
   "outputs": [],
   "source": [
    "gd=layout([[Rgd_class],\n",
    "                        [gd_bcr_bar, gd_bd_bar],\n",
    "                        [gd_p_bar, gd_s_bar,gd_c_bar]], sizing_mode='fixed')"
   ]
  },
  {
   "cell_type": "markdown",
   "metadata": {},
   "source": [
    "# 3. Integrated visualization for 3 Geographic Units"
   ]
  },
  {
   "cell_type": "code",
   "execution_count": 56,
   "metadata": {},
   "outputs": [],
   "source": [
    "tab1 = Panel(child=ct,title=\"Census Tract\")\n",
    "tab2 = Panel(child=db,title=\"Dissimination Classification\")\n",
    "tab3 = Panel(child=gd,title=\"Grid 1km^2 Classification\")\n",
    "tabs = Tabs(tabs=[ tab1 ,tab2, tab3])"
   ]
  },
  {
   "cell_type": "code",
   "execution_count": 57,
   "metadata": {},
   "outputs": [],
   "source": [
    "p1 = layout([[Rdb_class],\n",
    "                        [db_bcr_bar, db_bd_bar],\n",
    "                        [db_p_bar, db_s_bar,db_c_bar]],sizing_mode='fixed')\n",
    "\n"
   ]
  },
  {
   "cell_type": "code",
   "execution_count": 58,
   "metadata": {},
   "outputs": [],
   "source": [
    "show(tabs)"
   ]
  },
  {
   "cell_type": "code",
   "execution_count": null,
   "metadata": {},
   "outputs": [],
   "source": []
  },
  {
   "cell_type": "code",
   "execution_count": null,
   "metadata": {},
   "outputs": [],
   "source": []
  }
 ],
 "metadata": {
  "accelerator": "GPU",
  "colab": {
   "collapsed_sections": [
    "C26sVSLUSDAl",
    "qvSDHyYNY27f",
    "c9cM-NRENtAF",
    "meHmlKRXP8kw",
    "w-P3UrjGQeU9",
    "3mb87GTdRDJF"
   ],
   "name": "Final Output Saskachewan.ipynb",
   "provenance": [],
   "toc_visible": true,
   "version": "0.3.2"
  },
  "kernelspec": {
   "display_name": "Python 3",
   "language": "python",
   "name": "python3"
  },
  "language_info": {
   "codemirror_mode": {
    "name": "ipython",
    "version": 3
   },
   "file_extension": ".py",
   "mimetype": "text/x-python",
   "name": "python",
   "nbconvert_exporter": "python",
   "pygments_lexer": "ipython3",
   "version": "3.6.8"
  }
 },
 "nbformat": 4,
 "nbformat_minor": 1
}
