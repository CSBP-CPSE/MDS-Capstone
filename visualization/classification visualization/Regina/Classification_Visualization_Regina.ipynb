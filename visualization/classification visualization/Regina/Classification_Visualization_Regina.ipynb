{
 "cells": [
  {
   "cell_type": "code",
   "execution_count": 1,
   "metadata": {
    "colab": {},
    "colab_type": "code",
    "id": "GvVgcl_zjZMK"
   },
   "outputs": [],
   "source": [
    "# !pip install descartes\n",
    "# !pip install geopandas\n",
    "# !pip install pandas_bokeh"
   ]
  },
  {
   "cell_type": "code",
   "execution_count": 2,
   "metadata": {
    "colab": {},
    "colab_type": "code",
    "id": "ujrfSsbPjlV4"
   },
   "outputs": [],
   "source": [
    "#!unzip FinalOutputs.zip"
   ]
  },
  {
   "cell_type": "code",
   "execution_count": 3,
   "metadata": {
    "colab": {
     "base_uri": "https://localhost:8080/",
     "height": 34
    },
    "colab_type": "code",
    "id": "CLhRbtEkjw2P",
    "outputId": "a91e3163-d2e4-41b9-9398-0091b53db5d4"
   },
   "outputs": [
    {
     "name": "stdout",
     "output_type": "stream",
     "text": [
      "Libraries imported.\n"
     ]
    }
   ],
   "source": [
    "import geopandas as gpd\n",
    "from shapely.geometry import Point\n",
    "import random # library for random number generation\n",
    "import numpy as np # library for vectorized computation\n",
    "import pandas as pd # library to process data as dataframes\n",
    "\n",
    "import pandas_bokeh # library for visualization dashboard\n",
    "import matplotlib.pyplot as plt # plotting library\n",
    "# backend for rendering plots within the browser\n",
    "%matplotlib inline \n",
    "\n",
    "from sklearn.cluster import KMeans \n",
    "from sklearn.datasets.samples_generator import make_blobs\n",
    "from bokeh.models.widgets import Panel, Tabs\n",
    "from bokeh.io import output_file, show\n",
    "from bokeh.plotting import figure\n",
    "from bokeh.layouts import layout\n",
    "\n",
    "print('Libraries imported.')\n"
   ]
  },
  {
   "cell_type": "code",
   "execution_count": 4,
   "metadata": {},
   "outputs": [],
   "source": [
    "pandas_bokeh.output_file(\"Classification Visualization.html\")"
   ]
  },
  {
   "cell_type": "code",
   "execution_count": 5,
   "metadata": {},
   "outputs": [],
   "source": [
    "# Read files from local machine\n",
    "ctstats = gpd.read_file('/Users/lirui/Desktop/ReginaOutputs/CT_Stats.shp')\n",
    "dbstats = gpd.read_file('/Users/lirui/Desktop/ReginaOutputs/DB_Stats.shp')\n",
    "gridstats = gpd.read_file('/Users/lirui/Desktop/ReginaOutputs/GRID_Stats.shp')"
   ]
  },
  {
   "cell_type": "markdown",
   "metadata": {
    "colab_type": "text",
    "id": "ZUIfVgQpYP8_"
   },
   "source": [
    "# 1. Census Tract"
   ]
  },
  {
   "cell_type": "code",
   "execution_count": 6,
   "metadata": {
    "colab": {
     "base_uri": "https://localhost:8080/",
     "height": 479
    },
    "colab_type": "code",
    "id": "fFWPTZW-kUmz",
    "outputId": "c0e1e66c-e5d8-4ebc-f684-1b4e39c22f02"
   },
   "outputs": [
    {
     "data": {
      "text/html": [
       "<div>\n",
       "<style scoped>\n",
       "    .dataframe tbody tr th:only-of-type {\n",
       "        vertical-align: middle;\n",
       "    }\n",
       "\n",
       "    .dataframe tbody tr th {\n",
       "        vertical-align: top;\n",
       "    }\n",
       "\n",
       "    .dataframe thead th {\n",
       "        text-align: right;\n",
       "    }\n",
       "</style>\n",
       "<table border=\"1\" class=\"dataframe\">\n",
       "  <thead>\n",
       "    <tr style=\"text-align: right;\">\n",
       "      <th></th>\n",
       "      <th>CTUID</th>\n",
       "      <th>PRNAME</th>\n",
       "      <th>CMANAME</th>\n",
       "      <th>CMATYPE</th>\n",
       "      <th>area</th>\n",
       "      <th>AvgSize</th>\n",
       "      <th>BldgCount</th>\n",
       "      <th>BD</th>\n",
       "      <th>BldgArea</th>\n",
       "      <th>BCR</th>\n",
       "      <th>ProxMean</th>\n",
       "      <th>ContCount</th>\n",
       "      <th>ContRatio</th>\n",
       "      <th>geometry</th>\n",
       "    </tr>\n",
       "  </thead>\n",
       "  <tbody>\n",
       "    <tr>\n",
       "      <th>0</th>\n",
       "      <td>7050100.12</td>\n",
       "      <td>Saskatchewan</td>\n",
       "      <td>Regina</td>\n",
       "      <td>B</td>\n",
       "      <td>9.886176e+06</td>\n",
       "      <td>207.743248</td>\n",
       "      <td>3421</td>\n",
       "      <td>3.460400e-04</td>\n",
       "      <td>710689.652329</td>\n",
       "      <td>0.071887</td>\n",
       "      <td>2.269360</td>\n",
       "      <td>1146</td>\n",
       "      <td>0.334990</td>\n",
       "      <td>POLYGON ((5313856.75143 1677717.71143, 5313403...</td>\n",
       "    </tr>\n",
       "    <tr>\n",
       "      <th>1</th>\n",
       "      <td>7050100.13</td>\n",
       "      <td>Saskatchewan</td>\n",
       "      <td>Regina</td>\n",
       "      <td>B</td>\n",
       "      <td>8.509538e+06</td>\n",
       "      <td>262.318343</td>\n",
       "      <td>2054</td>\n",
       "      <td>2.413800e-04</td>\n",
       "      <td>538801.877355</td>\n",
       "      <td>0.063317</td>\n",
       "      <td>2.242403</td>\n",
       "      <td>849</td>\n",
       "      <td>0.413340</td>\n",
       "      <td>POLYGON ((5313190.09143 1678349.31143, 5313158...</td>\n",
       "    </tr>\n",
       "    <tr>\n",
       "      <th>2</th>\n",
       "      <td>7050100.14</td>\n",
       "      <td>Saskatchewan</td>\n",
       "      <td>Regina</td>\n",
       "      <td>B</td>\n",
       "      <td>6.649859e+08</td>\n",
       "      <td>269.965845</td>\n",
       "      <td>13</td>\n",
       "      <td>2.000000e-08</td>\n",
       "      <td>3509.555987</td>\n",
       "      <td>0.000005</td>\n",
       "      <td>1.862394</td>\n",
       "      <td>6</td>\n",
       "      <td>0.461538</td>\n",
       "      <td>POLYGON ((5317260.705715 1691091.03143, 531730...</td>\n",
       "    </tr>\n",
       "    <tr>\n",
       "      <th>3</th>\n",
       "      <td>7050005.00</td>\n",
       "      <td>Saskatchewan</td>\n",
       "      <td>Regina</td>\n",
       "      <td>B</td>\n",
       "      <td>2.138134e+06</td>\n",
       "      <td>102.769961</td>\n",
       "      <td>3141</td>\n",
       "      <td>1.469040e-03</td>\n",
       "      <td>322800.447030</td>\n",
       "      <td>0.150973</td>\n",
       "      <td>2.637148</td>\n",
       "      <td>990</td>\n",
       "      <td>0.315186</td>\n",
       "      <td>POLYGON ((5303740.34 1679038.68, 5303777.06285...</td>\n",
       "    </tr>\n",
       "    <tr>\n",
       "      <th>4</th>\n",
       "      <td>7050006.00</td>\n",
       "      <td>Saskatchewan</td>\n",
       "      <td>Regina</td>\n",
       "      <td>B</td>\n",
       "      <td>1.273107e+07</td>\n",
       "      <td>277.171637</td>\n",
       "      <td>2442</td>\n",
       "      <td>1.918100e-04</td>\n",
       "      <td>676853.138049</td>\n",
       "      <td>0.053165</td>\n",
       "      <td>3.868232</td>\n",
       "      <td>762</td>\n",
       "      <td>0.312039</td>\n",
       "      <td>POLYGON ((5305754.04857 1677692.21143, 5305760...</td>\n",
       "    </tr>\n",
       "  </tbody>\n",
       "</table>\n",
       "</div>"
      ],
      "text/plain": [
       "        CTUID        PRNAME CMANAME CMATYPE          area     AvgSize  \\\n",
       "0  7050100.12  Saskatchewan  Regina       B  9.886176e+06  207.743248   \n",
       "1  7050100.13  Saskatchewan  Regina       B  8.509538e+06  262.318343   \n",
       "2  7050100.14  Saskatchewan  Regina       B  6.649859e+08  269.965845   \n",
       "3  7050005.00  Saskatchewan  Regina       B  2.138134e+06  102.769961   \n",
       "4  7050006.00  Saskatchewan  Regina       B  1.273107e+07  277.171637   \n",
       "\n",
       "   BldgCount            BD       BldgArea       BCR  ProxMean  ContCount  \\\n",
       "0       3421  3.460400e-04  710689.652329  0.071887  2.269360       1146   \n",
       "1       2054  2.413800e-04  538801.877355  0.063317  2.242403        849   \n",
       "2         13  2.000000e-08    3509.555987  0.000005  1.862394          6   \n",
       "3       3141  1.469040e-03  322800.447030  0.150973  2.637148        990   \n",
       "4       2442  1.918100e-04  676853.138049  0.053165  3.868232        762   \n",
       "\n",
       "   ContRatio                                           geometry  \n",
       "0   0.334990  POLYGON ((5313856.75143 1677717.71143, 5313403...  \n",
       "1   0.413340  POLYGON ((5313190.09143 1678349.31143, 5313158...  \n",
       "2   0.461538  POLYGON ((5317260.705715 1691091.03143, 531730...  \n",
       "3   0.315186  POLYGON ((5303740.34 1679038.68, 5303777.06285...  \n",
       "4   0.312039  POLYGON ((5305754.04857 1677692.21143, 5305760...  "
      ]
     },
     "execution_count": 6,
     "metadata": {},
     "output_type": "execute_result"
    }
   ],
   "source": [
    "ctstats.head()"
   ]
  },
  {
   "cell_type": "markdown",
   "metadata": {
    "colab_type": "text",
    "id": "mfScBcY9YWK4"
   },
   "source": [
    "### We need only the 5 statistics, the Census Tract ID and the geometry of the CT polygons"
   ]
  },
  {
   "cell_type": "code",
   "execution_count": 7,
   "metadata": {
    "colab": {
     "base_uri": "https://localhost:8080/",
     "height": 204
    },
    "colab_type": "code",
    "id": "KrA6CgTWXjsX",
    "outputId": "52aa2b42-da9a-435b-b621-dfd6edad3b2e"
   },
   "outputs": [
    {
     "data": {
      "text/html": [
       "<div>\n",
       "<style scoped>\n",
       "    .dataframe tbody tr th:only-of-type {\n",
       "        vertical-align: middle;\n",
       "    }\n",
       "\n",
       "    .dataframe tbody tr th {\n",
       "        vertical-align: top;\n",
       "    }\n",
       "\n",
       "    .dataframe thead th {\n",
       "        text-align: right;\n",
       "    }\n",
       "</style>\n",
       "<table border=\"1\" class=\"dataframe\">\n",
       "  <thead>\n",
       "    <tr style=\"text-align: right;\">\n",
       "      <th></th>\n",
       "      <th>CTUID</th>\n",
       "      <th>AvgSize</th>\n",
       "      <th>BD</th>\n",
       "      <th>BCR</th>\n",
       "      <th>ProxMean</th>\n",
       "      <th>ContRatio</th>\n",
       "      <th>geometry</th>\n",
       "    </tr>\n",
       "  </thead>\n",
       "  <tbody>\n",
       "    <tr>\n",
       "      <th>0</th>\n",
       "      <td>7050100.12</td>\n",
       "      <td>207.743248</td>\n",
       "      <td>3.460400e-04</td>\n",
       "      <td>0.071887</td>\n",
       "      <td>2.269360</td>\n",
       "      <td>0.334990</td>\n",
       "      <td>POLYGON ((5313856.75143 1677717.71143, 5313403...</td>\n",
       "    </tr>\n",
       "    <tr>\n",
       "      <th>1</th>\n",
       "      <td>7050100.13</td>\n",
       "      <td>262.318343</td>\n",
       "      <td>2.413800e-04</td>\n",
       "      <td>0.063317</td>\n",
       "      <td>2.242403</td>\n",
       "      <td>0.413340</td>\n",
       "      <td>POLYGON ((5313190.09143 1678349.31143, 5313158...</td>\n",
       "    </tr>\n",
       "    <tr>\n",
       "      <th>2</th>\n",
       "      <td>7050100.14</td>\n",
       "      <td>269.965845</td>\n",
       "      <td>2.000000e-08</td>\n",
       "      <td>0.000005</td>\n",
       "      <td>1.862394</td>\n",
       "      <td>0.461538</td>\n",
       "      <td>POLYGON ((5317260.705715 1691091.03143, 531730...</td>\n",
       "    </tr>\n",
       "    <tr>\n",
       "      <th>3</th>\n",
       "      <td>7050005.00</td>\n",
       "      <td>102.769961</td>\n",
       "      <td>1.469040e-03</td>\n",
       "      <td>0.150973</td>\n",
       "      <td>2.637148</td>\n",
       "      <td>0.315186</td>\n",
       "      <td>POLYGON ((5303740.34 1679038.68, 5303777.06285...</td>\n",
       "    </tr>\n",
       "    <tr>\n",
       "      <th>4</th>\n",
       "      <td>7050006.00</td>\n",
       "      <td>277.171637</td>\n",
       "      <td>1.918100e-04</td>\n",
       "      <td>0.053165</td>\n",
       "      <td>3.868232</td>\n",
       "      <td>0.312039</td>\n",
       "      <td>POLYGON ((5305754.04857 1677692.21143, 5305760...</td>\n",
       "    </tr>\n",
       "  </tbody>\n",
       "</table>\n",
       "</div>"
      ],
      "text/plain": [
       "        CTUID     AvgSize            BD       BCR  ProxMean  ContRatio  \\\n",
       "0  7050100.12  207.743248  3.460400e-04  0.071887  2.269360   0.334990   \n",
       "1  7050100.13  262.318343  2.413800e-04  0.063317  2.242403   0.413340   \n",
       "2  7050100.14  269.965845  2.000000e-08  0.000005  1.862394   0.461538   \n",
       "3  7050005.00  102.769961  1.469040e-03  0.150973  2.637148   0.315186   \n",
       "4  7050006.00  277.171637  1.918100e-04  0.053165  3.868232   0.312039   \n",
       "\n",
       "                                            geometry  \n",
       "0  POLYGON ((5313856.75143 1677717.71143, 5313403...  \n",
       "1  POLYGON ((5313190.09143 1678349.31143, 5313158...  \n",
       "2  POLYGON ((5317260.705715 1691091.03143, 531730...  \n",
       "3  POLYGON ((5303740.34 1679038.68, 5303777.06285...  \n",
       "4  POLYGON ((5305754.04857 1677692.21143, 5305760...  "
      ]
     },
     "execution_count": 7,
     "metadata": {},
     "output_type": "execute_result"
    }
   ],
   "source": [
    "df_ct = ctstats.drop(['PRNAME','CMANAME','CMATYPE','area', 'BldgArea', 'BldgCount', 'ContCount'], axis=1)\n",
    "df_ct = df_ct.dropna(axis='rows')\n",
    "df_ct.head()"
   ]
  },
  {
   "cell_type": "markdown",
   "metadata": {
    "colab_type": "text",
    "id": "Nb_hjdQSYU4x"
   },
   "source": [
    "## 1.1 Classification Task on the Census Tract data"
   ]
  },
  {
   "cell_type": "markdown",
   "metadata": {
    "colab_type": "text",
    "id": "pyMEKJ0RZWWK"
   },
   "source": [
    "### Creating Standardized/normalized data for scale invariance as below:\n",
    "\n",
    "### For every given variable x we standardize it as: $\\frac{(x-\\mu)}{\\sigma}$ , where $\\mu$ is the mean and $\\sigma$ is standard deviation"
   ]
  },
  {
   "cell_type": "code",
   "execution_count": 8,
   "metadata": {
    "colab": {
     "base_uri": "https://localhost:8080/",
     "height": 1683
    },
    "colab_type": "code",
    "id": "F9ozGyPoYlMU",
    "outputId": "251cd0fd-062a-407e-a0ad-1b32aa67e15f"
   },
   "outputs": [
    {
     "name": "stderr",
     "output_type": "stream",
     "text": [
      "/Users/lirui/anaconda3/lib/python3.6/site-packages/sklearn/utils/validation.py:595: DataConversionWarning: Data with input dtype object was converted to float64 by StandardScaler.\n",
      "  warnings.warn(msg, DataConversionWarning)\n",
      "/Users/lirui/anaconda3/lib/python3.6/site-packages/sklearn/utils/validation.py:595: DataConversionWarning: Data with input dtype object was converted to float64 by StandardScaler.\n",
      "  warnings.warn(msg, DataConversionWarning)\n"
     ]
    }
   ],
   "source": [
    "from sklearn.preprocessing import StandardScaler #for standardization\n",
    "\n",
    "X = df_ct.values[:,1:-1] #we are taking only the 5 statistics\n",
    "cluster_dataset = StandardScaler().fit_transform(X) #creating standard scalar from unscaled data a "
   ]
  },
  {
   "cell_type": "markdown",
   "metadata": {
    "colab_type": "text",
    "id": "klyfj1tlizgP"
   },
   "source": [
    "### k-means clustering on Census Tract"
   ]
  },
  {
   "cell_type": "code",
   "execution_count": 9,
   "metadata": {},
   "outputs": [],
   "source": [
    "k_means = KMeans(init = \"k-means++\", n_clusters = 3, n_init = 12)\n",
    "# fit the X value to the model\n",
    "k_means.fit(cluster_dataset)\n",
    "labels = k_means.labels_"
   ]
  },
  {
   "cell_type": "code",
   "execution_count": 10,
   "metadata": {
    "colab": {},
    "colab_type": "code",
    "id": "ZONwiQ0kYlYS"
   },
   "outputs": [],
   "source": [
    "new_lab = []\n",
    "for label in labels:\n",
    "    new_lab.append(\"Class \"+str(label))"
   ]
  },
  {
   "cell_type": "code",
   "execution_count": 11,
   "metadata": {
    "colab": {
     "base_uri": "https://localhost:8080/",
     "height": 187
    },
    "colab_type": "code",
    "id": "H_XFHZ0hjCpW",
    "outputId": "5b470b69-ee53-4d94-963d-f1344c6fd947"
   },
   "outputs": [],
   "source": [
    "new_lab = np.asarray(new_lab)"
   ]
  },
  {
   "cell_type": "code",
   "execution_count": 12,
   "metadata": {
    "colab": {
     "base_uri": "https://localhost:8080/",
     "height": 289
    },
    "colab_type": "code",
    "id": "1MPKGn4VjCzO",
    "outputId": "630a2e08-44a4-4c1a-fc72-ecdf20e060c1"
   },
   "outputs": [
    {
     "data": {
      "text/html": [
       "<div>\n",
       "<style scoped>\n",
       "    .dataframe tbody tr th:only-of-type {\n",
       "        vertical-align: middle;\n",
       "    }\n",
       "\n",
       "    .dataframe tbody tr th {\n",
       "        vertical-align: top;\n",
       "    }\n",
       "\n",
       "    .dataframe thead th {\n",
       "        text-align: right;\n",
       "    }\n",
       "</style>\n",
       "<table border=\"1\" class=\"dataframe\">\n",
       "  <thead>\n",
       "    <tr style=\"text-align: right;\">\n",
       "      <th></th>\n",
       "      <th>CTUID</th>\n",
       "      <th>AvgSize</th>\n",
       "      <th>BD</th>\n",
       "      <th>BCR</th>\n",
       "      <th>ProxMean</th>\n",
       "      <th>ContRatio</th>\n",
       "      <th>geometry</th>\n",
       "      <th>Labels</th>\n",
       "      <th>LabelNum</th>\n",
       "    </tr>\n",
       "  </thead>\n",
       "  <tbody>\n",
       "    <tr>\n",
       "      <th>0</th>\n",
       "      <td>7050100.12</td>\n",
       "      <td>207.743248</td>\n",
       "      <td>3.460400e-04</td>\n",
       "      <td>0.071887</td>\n",
       "      <td>2.269360</td>\n",
       "      <td>0.334990</td>\n",
       "      <td>POLYGON ((5313856.75143 1677717.71143, 5313403...</td>\n",
       "      <td>Class 1</td>\n",
       "      <td>1</td>\n",
       "    </tr>\n",
       "    <tr>\n",
       "      <th>1</th>\n",
       "      <td>7050100.13</td>\n",
       "      <td>262.318343</td>\n",
       "      <td>2.413800e-04</td>\n",
       "      <td>0.063317</td>\n",
       "      <td>2.242403</td>\n",
       "      <td>0.413340</td>\n",
       "      <td>POLYGON ((5313190.09143 1678349.31143, 5313158...</td>\n",
       "      <td>Class 1</td>\n",
       "      <td>1</td>\n",
       "    </tr>\n",
       "    <tr>\n",
       "      <th>2</th>\n",
       "      <td>7050100.14</td>\n",
       "      <td>269.965845</td>\n",
       "      <td>2.000000e-08</td>\n",
       "      <td>0.000005</td>\n",
       "      <td>1.862394</td>\n",
       "      <td>0.461538</td>\n",
       "      <td>POLYGON ((5317260.705715 1691091.03143, 531730...</td>\n",
       "      <td>Class 1</td>\n",
       "      <td>1</td>\n",
       "    </tr>\n",
       "    <tr>\n",
       "      <th>3</th>\n",
       "      <td>7050005.00</td>\n",
       "      <td>102.769961</td>\n",
       "      <td>1.469040e-03</td>\n",
       "      <td>0.150973</td>\n",
       "      <td>2.637148</td>\n",
       "      <td>0.315186</td>\n",
       "      <td>POLYGON ((5303740.34 1679038.68, 5303777.06285...</td>\n",
       "      <td>Class 0</td>\n",
       "      <td>0</td>\n",
       "    </tr>\n",
       "    <tr>\n",
       "      <th>4</th>\n",
       "      <td>7050006.00</td>\n",
       "      <td>277.171637</td>\n",
       "      <td>1.918100e-04</td>\n",
       "      <td>0.053165</td>\n",
       "      <td>3.868232</td>\n",
       "      <td>0.312039</td>\n",
       "      <td>POLYGON ((5305754.04857 1677692.21143, 5305760...</td>\n",
       "      <td>Class 1</td>\n",
       "      <td>1</td>\n",
       "    </tr>\n",
       "  </tbody>\n",
       "</table>\n",
       "</div>"
      ],
      "text/plain": [
       "        CTUID     AvgSize            BD       BCR  ProxMean  ContRatio  \\\n",
       "0  7050100.12  207.743248  3.460400e-04  0.071887  2.269360   0.334990   \n",
       "1  7050100.13  262.318343  2.413800e-04  0.063317  2.242403   0.413340   \n",
       "2  7050100.14  269.965845  2.000000e-08  0.000005  1.862394   0.461538   \n",
       "3  7050005.00  102.769961  1.469040e-03  0.150973  2.637148   0.315186   \n",
       "4  7050006.00  277.171637  1.918100e-04  0.053165  3.868232   0.312039   \n",
       "\n",
       "                                            geometry   Labels  LabelNum  \n",
       "0  POLYGON ((5313856.75143 1677717.71143, 5313403...  Class 1         1  \n",
       "1  POLYGON ((5313190.09143 1678349.31143, 5313158...  Class 1         1  \n",
       "2  POLYGON ((5317260.705715 1691091.03143, 531730...  Class 1         1  \n",
       "3  POLYGON ((5303740.34 1679038.68, 5303777.06285...  Class 0         0  \n",
       "4  POLYGON ((5305754.04857 1677692.21143, 5305760...  Class 1         1  "
      ]
     },
     "execution_count": 12,
     "metadata": {},
     "output_type": "execute_result"
    }
   ],
   "source": [
    "df_ct['Labels'] = new_lab\n",
    "df_ct['LabelNum']=labels\n",
    "df_ct.head()"
   ]
  },
  {
   "cell_type": "code",
   "execution_count": 13,
   "metadata": {
    "colab": {},
    "colab_type": "code",
    "id": "HlVSz0nUjC3N"
   },
   "outputs": [],
   "source": [
    "df_ct['Labels'] = df_ct['Labels'].astype(object)"
   ]
  },
  {
   "cell_type": "markdown",
   "metadata": {
    "colab_type": "text",
    "id": "C26sVSLUSDAl"
   },
   "source": [
    "### Interpretation of Classes"
   ]
  },
  {
   "cell_type": "code",
   "execution_count": 14,
   "metadata": {
    "colab": {},
    "colab_type": "code",
    "id": "xqGyY25ZW7pp"
   },
   "outputs": [],
   "source": [
    "CT_cluster0 = df_ct[df_ct.Labels==\"Class 0\"]"
   ]
  },
  {
   "cell_type": "code",
   "execution_count": 15,
   "metadata": {
    "colab": {},
    "colab_type": "code",
    "id": "hpXiKt9hXGrm"
   },
   "outputs": [],
   "source": [
    "CT_cluster1 = df_ct[df_ct.Labels==\"Class 1\"]"
   ]
  },
  {
   "cell_type": "code",
   "execution_count": 16,
   "metadata": {
    "colab": {},
    "colab_type": "code",
    "id": "1hi1B0GcXG1L"
   },
   "outputs": [],
   "source": [
    "CT_cluster2 = df_ct[df_ct.Labels==\"Class 2\"]"
   ]
  },
  {
   "cell_type": "markdown",
   "metadata": {},
   "source": [
    "## 1.2 Visualization for classifications"
   ]
  },
  {
   "cell_type": "markdown",
   "metadata": {
    "colab_type": "text",
    "id": "qvSDHyYNY27f"
   },
   "source": [
    "### BCR visualization"
   ]
  },
  {
   "cell_type": "code",
   "execution_count": 17,
   "metadata": {},
   "outputs": [],
   "source": [
    "ct_bcr = {\n",
    "    'Class':['Class 1', 'Class 2', 'Class 3'],\n",
    "    'Buliding Coverage Ratio': [CT_cluster0.median()[\"BCR\"], CT_cluster1.median()[\"BCR\"],CT_cluster2.median()[\"BCR\"]]\n",
    "  \n",
    "}\n",
    "df_ct_bcr = pd.DataFrame(ct_bcr).set_index(\"Class\")\n",
    "\n",
    "ct_bcr_bar = df_ct_bcr.plot_bokeh.bar(\n",
    "    show_figure=False,\n",
    "    figsize=(300, 200),  \n",
    "    ylabel=\"value\", \n",
    "    title=\"Building Coverage Ratio\",\n",
    "    color=\"blue\",\n",
    "    alpha=0.6)"
   ]
  },
  {
   "cell_type": "markdown",
   "metadata": {
    "colab_type": "text",
    "id": "c9cM-NRENtAF"
   },
   "source": [
    "### BD visualization"
   ]
  },
  {
   "cell_type": "code",
   "execution_count": 18,
   "metadata": {
    "colab": {
     "base_uri": "https://localhost:8080/",
     "height": 408
    },
    "colab_type": "code",
    "id": "KQvXcQEFYdjl",
    "outputId": "a43dc0eb-dbb2-4f5e-f712-f4b534fc93c7",
    "scrolled": true
   },
   "outputs": [],
   "source": [
    "ct_bd = {\n",
    "    'Class':['Class 1', 'Class 2', 'Class 3'],\n",
    "    'Buliding Density': [CT_cluster0.median()[\"BD\"], CT_cluster1.median()[\"BD\"],CT_cluster2.median()[\"BD\"]]\n",
    "  \n",
    "}\n",
    "df_ct_bd = pd.DataFrame(ct_bd).set_index(\"Class\")\n",
    "\n",
    "ct_bd_bar = df_ct_bd.plot_bokeh.bar(\n",
    "    show_figure=False,\n",
    "    figsize=(300, 200),\n",
    "    ylabel=\"value\", \n",
    "    title=\"Building Density\",\n",
    "    color=\"purple\",\n",
    "    alpha=0.6)"
   ]
  },
  {
   "cell_type": "markdown",
   "metadata": {},
   "source": [
    "### Proximity visualization"
   ]
  },
  {
   "cell_type": "code",
   "execution_count": 19,
   "metadata": {},
   "outputs": [],
   "source": [
    "ct_p = {\n",
    "    'Class':['Class 1', 'Class 2', 'Class 3'],\n",
    "    'Proximity': [CT_cluster0.median()[\"ProxMean\"], CT_cluster1.median()[\"ProxMean\"],CT_cluster2.median()[\"ProxMean\"]]\n",
    "  \n",
    "}\n",
    "df_ct_p = pd.DataFrame(ct_p).set_index(\"Class\")\n",
    "\n",
    "ct_p_bar = df_ct_p.plot_bokeh.bar(\n",
    "    figsize=(300, 200),\n",
    "    show_figure=False, \n",
    "    ylabel=\"value\", \n",
    "    title=\"Proximity\",\n",
    "    color=\"Green\",\n",
    "    alpha=0.6)"
   ]
  },
  {
   "cell_type": "markdown",
   "metadata": {},
   "source": [
    "### Size visualization"
   ]
  },
  {
   "cell_type": "code",
   "execution_count": 20,
   "metadata": {},
   "outputs": [],
   "source": [
    "ct_s = {\n",
    "    'Class':['Class 1', 'Class 2', 'Class 3'],\n",
    "    'Average Size': [CT_cluster0.median()[\"AvgSize\"], CT_cluster1.median()[\"AvgSize\"],CT_cluster2.median()[\"AvgSize\"]]\n",
    "  \n",
    "}\n",
    "df_ct_s = pd.DataFrame(ct_s).set_index(\"Class\")\n",
    "\n",
    "ct_s_bar = df_ct_s.plot_bokeh.bar(\n",
    "    show_figure=False,\n",
    "    figsize=(300, 200), \n",
    "    ylabel=\"value\", \n",
    "    title=\"Average Size\",\n",
    "    color=\"Red\",\n",
    "    alpha=0.6)"
   ]
  },
  {
   "cell_type": "markdown",
   "metadata": {
    "colab_type": "text",
    "id": "3mb87GTdRDJF"
   },
   "source": [
    "### Contiguity Ratio visualization"
   ]
  },
  {
   "cell_type": "code",
   "execution_count": 21,
   "metadata": {},
   "outputs": [],
   "source": [
    "ct_c = {\n",
    "    'Class':['Class 1', 'Class 2', 'Class 3'],\n",
    "    \"Contiguity Ratio\": [CT_cluster0.median()[\"ContRatio\"], CT_cluster1.median()[\"ContRatio\"],CT_cluster2.median()[\"ContRatio\"]]\n",
    "  \n",
    "}\n",
    "df_ct_c = pd.DataFrame(ct_c).set_index(\"Class\")\n",
    "\n",
    "ct_c_bar = df_ct_c.plot_bokeh.bar(\n",
    "    figsize=(300, 200),\n",
    "    show_figure=False, \n",
    "    ylabel=\"value\", \n",
    "    title=\"Contiguity Ratio\",\n",
    "    color=\"Grey\",\n",
    "    alpha=0.6)"
   ]
  },
  {
   "cell_type": "markdown",
   "metadata": {},
   "source": [
    "### Integrated visualization for census tract"
   ]
  },
  {
   "cell_type": "code",
   "execution_count": 22,
   "metadata": {
    "scrolled": true
   },
   "outputs": [],
   "source": [
    "Rct_class=df_ct.plot_bokeh(\n",
    "    figsize=(900, 600),\n",
    "    show_figure=False,\n",
    "    category=\"LabelNum\",\n",
    "    show_colorbar=True,\n",
    "    colormap=\"Viridis\",\n",
    "    hovertool_columns=['CTUID','Labels'],\n",
    "    legend=\"Census Tract\",\n",
    "    toolbar_location=\"above\",\n",
    "    title=\"Classification for Census Tract\")"
   ]
  },
  {
   "cell_type": "code",
   "execution_count": 23,
   "metadata": {},
   "outputs": [],
   "source": [
    "ct = layout([[Rct_class],\n",
    "                        [ct_bcr_bar, ct_bd_bar],\n",
    "                        [ct_p_bar, ct_s_bar,ct_c_bar]],sizing_mode='fixed')"
   ]
  },
  {
   "cell_type": "markdown",
   "metadata": {
    "colab_type": "text",
    "id": "VpEyv0BSmcLj"
   },
   "source": [
    "# 2. Dissemination Block"
   ]
  },
  {
   "cell_type": "code",
   "execution_count": 24,
   "metadata": {
    "colab": {
     "base_uri": "https://localhost:8080/",
     "height": 204
    },
    "colab_type": "code",
    "id": "esqqZyJCmp6w",
    "outputId": "e5f3c766-a52c-4f0f-c587-8a6404b5e2c7"
   },
   "outputs": [],
   "source": [
    "df_db = dbstats.drop(['PRNAME','CMANAME','CMATYPE','area', 'BldgArea', 'BldgCount', 'ContCount'], axis=1)"
   ]
  },
  {
   "cell_type": "code",
   "execution_count": 25,
   "metadata": {
    "colab": {},
    "colab_type": "code",
    "id": "3Id3Oi8jnWHv"
   },
   "outputs": [],
   "source": [
    "df_db = df_db.dropna(axis='rows')"
   ]
  },
  {
   "cell_type": "code",
   "execution_count": 26,
   "metadata": {
    "colab": {
     "base_uri": "https://localhost:8080/",
     "height": 204
    },
    "colab_type": "code",
    "id": "M-sxwaOYmqJW",
    "outputId": "bd625f2f-fa91-481a-c837-a21a54291765"
   },
   "outputs": [
    {
     "data": {
      "text/html": [
       "<div>\n",
       "<style scoped>\n",
       "    .dataframe tbody tr th:only-of-type {\n",
       "        vertical-align: middle;\n",
       "    }\n",
       "\n",
       "    .dataframe tbody tr th {\n",
       "        vertical-align: top;\n",
       "    }\n",
       "\n",
       "    .dataframe thead th {\n",
       "        text-align: right;\n",
       "    }\n",
       "</style>\n",
       "<table border=\"1\" class=\"dataframe\">\n",
       "  <thead>\n",
       "    <tr style=\"text-align: right;\">\n",
       "      <th></th>\n",
       "      <th>DBUID</th>\n",
       "      <th>AvgSize</th>\n",
       "      <th>BD</th>\n",
       "      <th>BCR</th>\n",
       "      <th>ProxMean</th>\n",
       "      <th>ContRatio</th>\n",
       "      <th>geometry</th>\n",
       "    </tr>\n",
       "  </thead>\n",
       "  <tbody>\n",
       "    <tr>\n",
       "      <th>0</th>\n",
       "      <td>47060240002</td>\n",
       "      <td>159.403587</td>\n",
       "      <td>0.001367</td>\n",
       "      <td>0.217917</td>\n",
       "      <td>1.761887</td>\n",
       "      <td>0.303030</td>\n",
       "      <td>POLYGON ((5310555.5 1677478.5, 5310619.5 16774...</td>\n",
       "    </tr>\n",
       "    <tr>\n",
       "      <th>1</th>\n",
       "      <td>47060240003</td>\n",
       "      <td>193.716986</td>\n",
       "      <td>0.000754</td>\n",
       "      <td>0.145967</td>\n",
       "      <td>1.194216</td>\n",
       "      <td>0.142857</td>\n",
       "      <td>POLYGON ((5310597.5 1677715.5, 5310833 1677671...</td>\n",
       "    </tr>\n",
       "    <tr>\n",
       "      <th>2</th>\n",
       "      <td>47060241002</td>\n",
       "      <td>183.151856</td>\n",
       "      <td>0.001349</td>\n",
       "      <td>0.247159</td>\n",
       "      <td>1.180730</td>\n",
       "      <td>0.235294</td>\n",
       "      <td>POLYGON ((5309899 1677747.625715, 5309992 1677...</td>\n",
       "    </tr>\n",
       "    <tr>\n",
       "      <th>3</th>\n",
       "      <td>47060241003</td>\n",
       "      <td>204.489614</td>\n",
       "      <td>0.000772</td>\n",
       "      <td>0.157864</td>\n",
       "      <td>1.062728</td>\n",
       "      <td>0.400000</td>\n",
       "      <td>POLYGON ((5309923 1677656.75143, 5310007 16776...</td>\n",
       "    </tr>\n",
       "    <tr>\n",
       "      <th>5</th>\n",
       "      <td>47060241007</td>\n",
       "      <td>422.638431</td>\n",
       "      <td>0.000630</td>\n",
       "      <td>0.266473</td>\n",
       "      <td>1.717315</td>\n",
       "      <td>0.666667</td>\n",
       "      <td>POLYGON ((5310145.3 1677681.74, 5310247.442855...</td>\n",
       "    </tr>\n",
       "  </tbody>\n",
       "</table>\n",
       "</div>"
      ],
      "text/plain": [
       "         DBUID     AvgSize        BD       BCR  ProxMean  ContRatio  \\\n",
       "0  47060240002  159.403587  0.001367  0.217917  1.761887   0.303030   \n",
       "1  47060240003  193.716986  0.000754  0.145967  1.194216   0.142857   \n",
       "2  47060241002  183.151856  0.001349  0.247159  1.180730   0.235294   \n",
       "3  47060241003  204.489614  0.000772  0.157864  1.062728   0.400000   \n",
       "5  47060241007  422.638431  0.000630  0.266473  1.717315   0.666667   \n",
       "\n",
       "                                            geometry  \n",
       "0  POLYGON ((5310555.5 1677478.5, 5310619.5 16774...  \n",
       "1  POLYGON ((5310597.5 1677715.5, 5310833 1677671...  \n",
       "2  POLYGON ((5309899 1677747.625715, 5309992 1677...  \n",
       "3  POLYGON ((5309923 1677656.75143, 5310007 16776...  \n",
       "5  POLYGON ((5310145.3 1677681.74, 5310247.442855...  "
      ]
     },
     "execution_count": 26,
     "metadata": {},
     "output_type": "execute_result"
    }
   ],
   "source": [
    "df_db.head()"
   ]
  },
  {
   "cell_type": "markdown",
   "metadata": {
    "colab_type": "text",
    "id": "M0_QeD9c8wT1"
   },
   "source": [
    "## 2.1 Classification Task on the Dissemination Block data"
   ]
  },
  {
   "cell_type": "code",
   "execution_count": 27,
   "metadata": {
    "colab": {
     "base_uri": "https://localhost:8080/",
     "height": 136
    },
    "colab_type": "code",
    "id": "icakwg-XmqP0",
    "outputId": "38bedefd-41a3-4860-9ccc-2d7410332e78"
   },
   "outputs": [
    {
     "name": "stderr",
     "output_type": "stream",
     "text": [
      "/Users/lirui/anaconda3/lib/python3.6/site-packages/sklearn/utils/validation.py:595: DataConversionWarning: Data with input dtype object was converted to float64 by StandardScaler.\n",
      "  warnings.warn(msg, DataConversionWarning)\n",
      "/Users/lirui/anaconda3/lib/python3.6/site-packages/sklearn/utils/validation.py:595: DataConversionWarning: Data with input dtype object was converted to float64 by StandardScaler.\n",
      "  warnings.warn(msg, DataConversionWarning)\n"
     ]
    },
    {
     "data": {
      "text/plain": [
       "array([[-0.09806439, -0.37797652,  0.24305496, -0.34465445, -0.36405927],\n",
       "       [ 0.02671966, -1.10138149, -0.99954492, -0.54620972, -1.29294363],\n",
       "       [-0.01170148, -0.39873888,  0.74805804, -0.55099802, -0.75687838],\n",
       "       ...,\n",
       "       [ 0.60972664, -0.83037432,  2.49216273, -0.3753711 ,  0.58490912],\n",
       "       [-0.06927343, -0.89740102, -0.84310687,  0.86848266, -1.43914321],\n",
       "       [-0.33616412, -0.32303466, -1.22716565, -0.1468848 , -1.0167888 ]])"
      ]
     },
     "execution_count": 27,
     "metadata": {},
     "output_type": "execute_result"
    }
   ],
   "source": [
    "X = df_db.values[:,1:-1] #we are taking only the 5 statistics\n",
    "cluster_dataset = StandardScaler().fit_transform(X) #creating standard scalar from unscaled data a \n",
    "cluster_dataset"
   ]
  },
  {
   "cell_type": "code",
   "execution_count": 28,
   "metadata": {
    "colab": {
     "base_uri": "https://localhost:8080/",
     "height": 34
    },
    "colab_type": "code",
    "id": "NaI5hvvMmqV4",
    "outputId": "f3497215-01e3-41f6-f05c-3d69c6b1c4f1"
   },
   "outputs": [],
   "source": [
    "k_means = KMeans(init = \"k-means++\", n_clusters = 3, n_init = 12)\n",
    "# fit the X value to the model\n",
    "k_means.fit(cluster_dataset)\n",
    "labels = k_means.labels_"
   ]
  },
  {
   "cell_type": "code",
   "execution_count": 29,
   "metadata": {
    "colab": {},
    "colab_type": "code",
    "id": "mGY2gIAXmqb_"
   },
   "outputs": [],
   "source": [
    "new_lab = []\n",
    "for label in labels:\n",
    "    new_lab.append(\"Class \"+str(label))"
   ]
  },
  {
   "cell_type": "code",
   "execution_count": 30,
   "metadata": {
    "colab": {
     "base_uri": "https://localhost:8080/",
     "height": 51
    },
    "colab_type": "code",
    "id": "E5FKcwTsmqaA",
    "outputId": "4fdaa547-0f59-4237-fd12-a89bca6fa82b"
   },
   "outputs": [],
   "source": [
    "new_lab = np.asarray(new_lab)"
   ]
  },
  {
   "cell_type": "code",
   "execution_count": 31,
   "metadata": {
    "colab": {
     "base_uri": "https://localhost:8080/",
     "height": 289
    },
    "colab_type": "code",
    "id": "TsQi7shGmqTp",
    "outputId": "cd37c427-ea0e-465f-b906-9500005202a6"
   },
   "outputs": [
    {
     "data": {
      "text/html": [
       "<div>\n",
       "<style scoped>\n",
       "    .dataframe tbody tr th:only-of-type {\n",
       "        vertical-align: middle;\n",
       "    }\n",
       "\n",
       "    .dataframe tbody tr th {\n",
       "        vertical-align: top;\n",
       "    }\n",
       "\n",
       "    .dataframe thead th {\n",
       "        text-align: right;\n",
       "    }\n",
       "</style>\n",
       "<table border=\"1\" class=\"dataframe\">\n",
       "  <thead>\n",
       "    <tr style=\"text-align: right;\">\n",
       "      <th></th>\n",
       "      <th>DBUID</th>\n",
       "      <th>AvgSize</th>\n",
       "      <th>BD</th>\n",
       "      <th>BCR</th>\n",
       "      <th>ProxMean</th>\n",
       "      <th>ContRatio</th>\n",
       "      <th>geometry</th>\n",
       "      <th>Labels</th>\n",
       "      <th>LabelNum</th>\n",
       "    </tr>\n",
       "  </thead>\n",
       "  <tbody>\n",
       "    <tr>\n",
       "      <th>0</th>\n",
       "      <td>47060240002</td>\n",
       "      <td>159.403587</td>\n",
       "      <td>0.001367</td>\n",
       "      <td>0.217917</td>\n",
       "      <td>1.761887</td>\n",
       "      <td>0.303030</td>\n",
       "      <td>POLYGON ((5310555.5 1677478.5, 5310619.5 16774...</td>\n",
       "      <td>Class 1</td>\n",
       "      <td>1</td>\n",
       "    </tr>\n",
       "    <tr>\n",
       "      <th>1</th>\n",
       "      <td>47060240003</td>\n",
       "      <td>193.716986</td>\n",
       "      <td>0.000754</td>\n",
       "      <td>0.145967</td>\n",
       "      <td>1.194216</td>\n",
       "      <td>0.142857</td>\n",
       "      <td>POLYGON ((5310597.5 1677715.5, 5310833 1677671...</td>\n",
       "      <td>Class 1</td>\n",
       "      <td>1</td>\n",
       "    </tr>\n",
       "    <tr>\n",
       "      <th>2</th>\n",
       "      <td>47060241002</td>\n",
       "      <td>183.151856</td>\n",
       "      <td>0.001349</td>\n",
       "      <td>0.247159</td>\n",
       "      <td>1.180730</td>\n",
       "      <td>0.235294</td>\n",
       "      <td>POLYGON ((5309899 1677747.625715, 5309992 1677...</td>\n",
       "      <td>Class 1</td>\n",
       "      <td>1</td>\n",
       "    </tr>\n",
       "    <tr>\n",
       "      <th>3</th>\n",
       "      <td>47060241003</td>\n",
       "      <td>204.489614</td>\n",
       "      <td>0.000772</td>\n",
       "      <td>0.157864</td>\n",
       "      <td>1.062728</td>\n",
       "      <td>0.400000</td>\n",
       "      <td>POLYGON ((5309923 1677656.75143, 5310007 16776...</td>\n",
       "      <td>Class 1</td>\n",
       "      <td>1</td>\n",
       "    </tr>\n",
       "    <tr>\n",
       "      <th>5</th>\n",
       "      <td>47060241007</td>\n",
       "      <td>422.638431</td>\n",
       "      <td>0.000630</td>\n",
       "      <td>0.266473</td>\n",
       "      <td>1.717315</td>\n",
       "      <td>0.666667</td>\n",
       "      <td>POLYGON ((5310145.3 1677681.74, 5310247.442855...</td>\n",
       "      <td>Class 0</td>\n",
       "      <td>0</td>\n",
       "    </tr>\n",
       "  </tbody>\n",
       "</table>\n",
       "</div>"
      ],
      "text/plain": [
       "         DBUID     AvgSize        BD       BCR  ProxMean  ContRatio  \\\n",
       "0  47060240002  159.403587  0.001367  0.217917  1.761887   0.303030   \n",
       "1  47060240003  193.716986  0.000754  0.145967  1.194216   0.142857   \n",
       "2  47060241002  183.151856  0.001349  0.247159  1.180730   0.235294   \n",
       "3  47060241003  204.489614  0.000772  0.157864  1.062728   0.400000   \n",
       "5  47060241007  422.638431  0.000630  0.266473  1.717315   0.666667   \n",
       "\n",
       "                                            geometry   Labels  LabelNum  \n",
       "0  POLYGON ((5310555.5 1677478.5, 5310619.5 16774...  Class 1         1  \n",
       "1  POLYGON ((5310597.5 1677715.5, 5310833 1677671...  Class 1         1  \n",
       "2  POLYGON ((5309899 1677747.625715, 5309992 1677...  Class 1         1  \n",
       "3  POLYGON ((5309923 1677656.75143, 5310007 16776...  Class 1         1  \n",
       "5  POLYGON ((5310145.3 1677681.74, 5310247.442855...  Class 0         0  "
      ]
     },
     "execution_count": 31,
     "metadata": {},
     "output_type": "execute_result"
    }
   ],
   "source": [
    "df_db['Labels'] = new_lab\n",
    "df_db['LabelNum']=labels\n",
    "df_db.head()"
   ]
  },
  {
   "cell_type": "code",
   "execution_count": 32,
   "metadata": {
    "colab": {},
    "colab_type": "code",
    "id": "VeMTPjXOmqMz"
   },
   "outputs": [],
   "source": [
    "df_db['Labels'] = df_db['Labels'].astype(object)"
   ]
  },
  {
   "cell_type": "markdown",
   "metadata": {
    "colab_type": "text",
    "id": "sg8mt7Q5Sexg"
   },
   "source": [
    "### Interpretation of Classes"
   ]
  },
  {
   "cell_type": "code",
   "execution_count": 33,
   "metadata": {
    "colab": {},
    "colab_type": "code",
    "id": "NCm2JYd4mqEB"
   },
   "outputs": [],
   "source": [
    "DB_cluster0 = df_db[df_db.Labels==\"Class 0\"]\n",
    "DB_cluster1 = df_db[df_db.Labels==\"Class 1\"]\n",
    "DB_cluster2 = df_db[df_db.Labels==\"Class 2\"]"
   ]
  },
  {
   "cell_type": "markdown",
   "metadata": {},
   "source": [
    "## 2.2 Visualization for classification"
   ]
  },
  {
   "cell_type": "markdown",
   "metadata": {
    "colab_type": "text",
    "id": "qvSDHyYNY27f"
   },
   "source": [
    "### BCR visualization"
   ]
  },
  {
   "cell_type": "code",
   "execution_count": 34,
   "metadata": {},
   "outputs": [],
   "source": [
    "db_bcr = {\n",
    "    'Class':['Class 1', 'Class 2', 'Class 3'],\n",
    "    'Buliding Coverage Ratio': [DB_cluster0.median()[\"BCR\"], DB_cluster1.median()[\"BCR\"],DB_cluster2.median()[\"BCR\"]]\n",
    "  \n",
    "}\n",
    "df_db_bcr = pd.DataFrame(db_bcr).set_index(\"Class\")\n",
    "\n",
    "db_bcr_bar = df_db_bcr.plot_bokeh.bar(\n",
    "    show_figure=False, \n",
    "    figsize=(300,200),\n",
    "    ylabel=\"value\", \n",
    "    title=\"Building Coverage Ratio\",\n",
    "    color=\"blue\",\n",
    "    alpha=0.6)"
   ]
  },
  {
   "cell_type": "markdown",
   "metadata": {
    "colab_type": "text",
    "id": "c9cM-NRENtAF"
   },
   "source": [
    "### BD visualization"
   ]
  },
  {
   "cell_type": "code",
   "execution_count": 35,
   "metadata": {
    "colab": {
     "base_uri": "https://localhost:8080/",
     "height": 408
    },
    "colab_type": "code",
    "id": "KQvXcQEFYdjl",
    "outputId": "a43dc0eb-dbb2-4f5e-f712-f4b534fc93c7",
    "scrolled": true
   },
   "outputs": [],
   "source": [
    "db_bd = {\n",
    "    'Class':['Class 1', 'Class 2', 'Class 3'],\n",
    "    'Buliding Density': [DB_cluster0.median()[\"BD\"], DB_cluster1.median()[\"BD\"],DB_cluster2.median()[\"BD\"]]\n",
    "  \n",
    "}\n",
    "df_db_bd = pd.DataFrame(db_bd).set_index(\"Class\")\n",
    "\n",
    "db_bd_bar = df_db_bd.plot_bokeh.bar(\n",
    "    show_figure=False,  \n",
    "    figsize=(300,200),\n",
    "    ylabel=\"value\", \n",
    "    title=\"Building Density\",\n",
    "    color=\"purple\",\n",
    "    alpha=0.6)"
   ]
  },
  {
   "cell_type": "markdown",
   "metadata": {},
   "source": [
    "### Proximity visualization"
   ]
  },
  {
   "cell_type": "code",
   "execution_count": 36,
   "metadata": {},
   "outputs": [],
   "source": [
    "db_p = {\n",
    "    'Class':['Class 1', 'Class 2', 'Class 3'],\n",
    "    'Proximity': [DB_cluster0.median()[\"ProxMean\"], DB_cluster1.median()[\"ProxMean\"],DB_cluster2.median()[\"ProxMean\"]]\n",
    "  \n",
    "}\n",
    "df_db_p = pd.DataFrame(db_p).set_index(\"Class\")\n",
    "\n",
    "db_p_bar = df_db_p.plot_bokeh.bar(\n",
    "    show_figure=False, \n",
    "    figsize=(300,200),\n",
    "    ylabel=\"value\", \n",
    "    title=\"Proximity\",\n",
    "    color=\"Green\",\n",
    "    alpha=0.6)"
   ]
  },
  {
   "cell_type": "markdown",
   "metadata": {},
   "source": [
    "### Size visualization"
   ]
  },
  {
   "cell_type": "code",
   "execution_count": 37,
   "metadata": {},
   "outputs": [],
   "source": [
    "db_s = {\n",
    "    'Class':['Class 1', 'Class 2', 'Class 3'],\n",
    "    'Average Size': [DB_cluster0.median()[\"AvgSize\"], DB_cluster1.median()[\"AvgSize\"],DB_cluster2.median()[\"AvgSize\"]]\n",
    "  \n",
    "}\n",
    "df_db_s = pd.DataFrame(db_s).set_index(\"Class\")\n",
    "\n",
    "db_s_bar = df_db_s.plot_bokeh.bar(\n",
    "    show_figure=False, \n",
    "    figsize=(300,200),\n",
    "    ylabel=\"value\", \n",
    "    title=\"Average Size\",\n",
    "    color=\"Red\",\n",
    "    alpha=0.6)"
   ]
  },
  {
   "cell_type": "markdown",
   "metadata": {
    "colab_type": "text",
    "id": "3mb87GTdRDJF"
   },
   "source": [
    "### Contiguity Ratio visualization"
   ]
  },
  {
   "cell_type": "code",
   "execution_count": 38,
   "metadata": {},
   "outputs": [],
   "source": [
    "db_c = {\n",
    "    'Class':['Class 1', 'Class 2', 'Class 3'],\n",
    "    \"Contiguity Ratio\": [DB_cluster0.median()[\"ContRatio\"], DB_cluster1.median()[\"ContRatio\"],CT_cluster2.median()[\"ContRatio\"]]\n",
    "  \n",
    "}\n",
    "df_db_c = pd.DataFrame(db_c).set_index(\"Class\")\n",
    "\n",
    "db_c_bar = df_db_c.plot_bokeh.bar(\n",
    "    show_figure=False, \n",
    "    figsize=(300,200),\n",
    "    ylabel=\"value\", \n",
    "    title=\"Contiguity Ratio\",\n",
    "    color=\"Grey\",\n",
    "    alpha=0.6)"
   ]
  },
  {
   "cell_type": "markdown",
   "metadata": {},
   "source": [
    "### Integrated visualization for Dessimination Blocks"
   ]
  },
  {
   "cell_type": "code",
   "execution_count": 39,
   "metadata": {},
   "outputs": [],
   "source": [
    "Rdb_class=df_db.plot_bokeh(\n",
    "    show_figure=False,\n",
    "    figsize=(900, 600),\n",
    "    category=\"LabelNum\",\n",
    "    show_colorbar=True,\n",
    "    colormap=\"Viridis\",\n",
    "    hovertool_columns=['DBUID','Labels'],\n",
    "    legend=\"Dessimination Block\",\n",
    "    toolbar_location=\"above\",\n",
    "    title=\"Classification for Dessimination Block\")"
   ]
  },
  {
   "cell_type": "code",
   "execution_count": 40,
   "metadata": {},
   "outputs": [],
   "source": [
    "db = layout([[Rdb_class],\n",
    "                        [db_bcr_bar, db_bd_bar],\n",
    "                        [db_p_bar, db_s_bar,db_c_bar]],sizing_mode='fixed')"
   ]
  },
  {
   "cell_type": "markdown",
   "metadata": {
    "colab_type": "text",
    "id": "YFCb_a-QtD2Z"
   },
   "source": [
    "# 3. 1 km<sup>2</sup> Grid"
   ]
  },
  {
   "cell_type": "code",
   "execution_count": 41,
   "metadata": {
    "colab": {
     "base_uri": "https://localhost:8080/",
     "height": 204
    },
    "colab_type": "code",
    "id": "mmZEiy74Y2yL",
    "outputId": "7940a049-f462-48b3-c292-0deb1036d2a9"
   },
   "outputs": [],
   "source": [
    "df_grid = gridstats.drop(['area', 'BldgArea', 'BldgCount', 'ContCount'], axis=1)"
   ]
  },
  {
   "cell_type": "code",
   "execution_count": 42,
   "metadata": {
    "colab": {},
    "colab_type": "code",
    "id": "T3kjswkxsDOo"
   },
   "outputs": [],
   "source": [
    "df_grid = df_grid.dropna(axis='rows')"
   ]
  },
  {
   "cell_type": "code",
   "execution_count": 43,
   "metadata": {
    "colab": {
     "base_uri": "https://localhost:8080/",
     "height": 204
    },
    "colab_type": "code",
    "id": "ndHJ6YS9ssnV",
    "outputId": "c6dcb031-3936-43bf-fd80-bc100451361c"
   },
   "outputs": [
    {
     "data": {
      "text/html": [
       "<div>\n",
       "<style scoped>\n",
       "    .dataframe tbody tr th:only-of-type {\n",
       "        vertical-align: middle;\n",
       "    }\n",
       "\n",
       "    .dataframe tbody tr th {\n",
       "        vertical-align: top;\n",
       "    }\n",
       "\n",
       "    .dataframe thead th {\n",
       "        text-align: right;\n",
       "    }\n",
       "</style>\n",
       "<table border=\"1\" class=\"dataframe\">\n",
       "  <thead>\n",
       "    <tr style=\"text-align: right;\">\n",
       "      <th></th>\n",
       "      <th>id</th>\n",
       "      <th>AvgSize</th>\n",
       "      <th>BD</th>\n",
       "      <th>BCR</th>\n",
       "      <th>ProxMean</th>\n",
       "      <th>ContRatio</th>\n",
       "      <th>geometry</th>\n",
       "    </tr>\n",
       "  </thead>\n",
       "  <tbody>\n",
       "    <tr>\n",
       "      <th>0</th>\n",
       "      <td>3922</td>\n",
       "      <td>40.357167</td>\n",
       "      <td>0.000012</td>\n",
       "      <td>0.000484</td>\n",
       "      <td>2.761683</td>\n",
       "      <td>0.500000</td>\n",
       "      <td>POLYGON ((5294439.034285 1683576.202855, 52954...</td>\n",
       "    </tr>\n",
       "    <tr>\n",
       "      <th>1</th>\n",
       "      <td>3923</td>\n",
       "      <td>2570.114800</td>\n",
       "      <td>0.000013</td>\n",
       "      <td>0.033411</td>\n",
       "      <td>32.097878</td>\n",
       "      <td>0.153846</td>\n",
       "      <td>POLYGON ((5294439.034285 1682576.202855, 52954...</td>\n",
       "    </tr>\n",
       "    <tr>\n",
       "      <th>3</th>\n",
       "      <td>4020</td>\n",
       "      <td>148.553032</td>\n",
       "      <td>0.000011</td>\n",
       "      <td>0.001634</td>\n",
       "      <td>51.955178</td>\n",
       "      <td>0.181818</td>\n",
       "      <td>POLYGON ((5295439.034285 1682576.202855, 52964...</td>\n",
       "    </tr>\n",
       "    <tr>\n",
       "      <th>4</th>\n",
       "      <td>4021</td>\n",
       "      <td>9993.058286</td>\n",
       "      <td>0.000010</td>\n",
       "      <td>0.099931</td>\n",
       "      <td>20.197038</td>\n",
       "      <td>0.300000</td>\n",
       "      <td>POLYGON ((5295439.034285 1681576.202855, 52964...</td>\n",
       "    </tr>\n",
       "    <tr>\n",
       "      <th>7</th>\n",
       "      <td>4115</td>\n",
       "      <td>149.531578</td>\n",
       "      <td>0.000027</td>\n",
       "      <td>0.004037</td>\n",
       "      <td>33.231388</td>\n",
       "      <td>0.111111</td>\n",
       "      <td>POLYGON ((5296439.034285 1684576.202855, 52974...</td>\n",
       "    </tr>\n",
       "  </tbody>\n",
       "</table>\n",
       "</div>"
      ],
      "text/plain": [
       "     id      AvgSize        BD       BCR   ProxMean  ContRatio  \\\n",
       "0  3922    40.357167  0.000012  0.000484   2.761683   0.500000   \n",
       "1  3923  2570.114800  0.000013  0.033411  32.097878   0.153846   \n",
       "3  4020   148.553032  0.000011  0.001634  51.955178   0.181818   \n",
       "4  4021  9993.058286  0.000010  0.099931  20.197038   0.300000   \n",
       "7  4115   149.531578  0.000027  0.004037  33.231388   0.111111   \n",
       "\n",
       "                                            geometry  \n",
       "0  POLYGON ((5294439.034285 1683576.202855, 52954...  \n",
       "1  POLYGON ((5294439.034285 1682576.202855, 52954...  \n",
       "3  POLYGON ((5295439.034285 1682576.202855, 52964...  \n",
       "4  POLYGON ((5295439.034285 1681576.202855, 52964...  \n",
       "7  POLYGON ((5296439.034285 1684576.202855, 52974...  "
      ]
     },
     "execution_count": 43,
     "metadata": {},
     "output_type": "execute_result"
    }
   ],
   "source": [
    "df_grid.head()"
   ]
  },
  {
   "cell_type": "markdown",
   "metadata": {
    "colab_type": "text",
    "id": "M0_QeD9c8wT1"
   },
   "source": [
    "## 3.1 Classification Task on the Grid 1km^2 data"
   ]
  },
  {
   "cell_type": "code",
   "execution_count": 44,
   "metadata": {
    "colab": {
     "base_uri": "https://localhost:8080/",
     "height": 4947
    },
    "colab_type": "code",
    "id": "Ec1kSLKtsvPz",
    "outputId": "434a4580-6aaa-4135-cdee-2a3bbe2b151f"
   },
   "outputs": [
    {
     "name": "stderr",
     "output_type": "stream",
     "text": [
      "/Users/lirui/anaconda3/lib/python3.6/site-packages/sklearn/utils/validation.py:595: DataConversionWarning: Data with input dtype object was converted to float64 by StandardScaler.\n",
      "  warnings.warn(msg, DataConversionWarning)\n",
      "/Users/lirui/anaconda3/lib/python3.6/site-packages/sklearn/utils/validation.py:595: DataConversionWarning: Data with input dtype object was converted to float64 by StandardScaler.\n",
      "  warnings.warn(msg, DataConversionWarning)\n"
     ]
    }
   ],
   "source": [
    "X = df_grid.values[:,1:-1] #we are taking only the 5 statistics\n",
    "cluster_dataset = StandardScaler().fit_transform(X) #creating standard scalar from unscaled data a "
   ]
  },
  {
   "cell_type": "code",
   "execution_count": 45,
   "metadata": {
    "colab": {
     "base_uri": "https://localhost:8080/",
     "height": 136
    },
    "colab_type": "code",
    "id": "erjKAHSBA5qd",
    "outputId": "f5dd5b54-b784-4dcd-e096-0b876345b249"
   },
   "outputs": [],
   "source": [
    "k_means = KMeans(init = \"k-means++\", n_clusters = 3, n_init = 12)\n",
    "# fit the X value to the model\n",
    "k_means.fit(cluster_dataset)\n",
    "labels = k_means.labels_"
   ]
  },
  {
   "cell_type": "code",
   "execution_count": 46,
   "metadata": {
    "colab": {},
    "colab_type": "code",
    "id": "rYg7jSJWA-Eu"
   },
   "outputs": [],
   "source": [
    "new_lab = []\n",
    "for label in labels:\n",
    "    new_lab.append(\"Class \"+str(label))"
   ]
  },
  {
   "cell_type": "code",
   "execution_count": 47,
   "metadata": {
    "colab": {
     "base_uri": "https://localhost:8080/",
     "height": 527
    },
    "colab_type": "code",
    "id": "WLL32IPwBAyr",
    "outputId": "46443932-be0e-4526-e4fb-1d0a5733b809"
   },
   "outputs": [],
   "source": [
    "new_lab = np.asarray(new_lab)"
   ]
  },
  {
   "cell_type": "code",
   "execution_count": 48,
   "metadata": {
    "colab": {
     "base_uri": "https://localhost:8080/",
     "height": 204
    },
    "colab_type": "code",
    "id": "UH8ZQVjpBCPF",
    "outputId": "bc7563f2-a558-4b92-8c1c-ad7481900963"
   },
   "outputs": [
    {
     "data": {
      "text/html": [
       "<div>\n",
       "<style scoped>\n",
       "    .dataframe tbody tr th:only-of-type {\n",
       "        vertical-align: middle;\n",
       "    }\n",
       "\n",
       "    .dataframe tbody tr th {\n",
       "        vertical-align: top;\n",
       "    }\n",
       "\n",
       "    .dataframe thead th {\n",
       "        text-align: right;\n",
       "    }\n",
       "</style>\n",
       "<table border=\"1\" class=\"dataframe\">\n",
       "  <thead>\n",
       "    <tr style=\"text-align: right;\">\n",
       "      <th></th>\n",
       "      <th>id</th>\n",
       "      <th>AvgSize</th>\n",
       "      <th>BD</th>\n",
       "      <th>BCR</th>\n",
       "      <th>ProxMean</th>\n",
       "      <th>ContRatio</th>\n",
       "      <th>geometry</th>\n",
       "      <th>Labels</th>\n",
       "      <th>LabelNum</th>\n",
       "    </tr>\n",
       "  </thead>\n",
       "  <tbody>\n",
       "    <tr>\n",
       "      <th>0</th>\n",
       "      <td>3922</td>\n",
       "      <td>40.357167</td>\n",
       "      <td>0.000012</td>\n",
       "      <td>0.000484</td>\n",
       "      <td>2.761683</td>\n",
       "      <td>0.500000</td>\n",
       "      <td>POLYGON ((5294439.034285 1683576.202855, 52954...</td>\n",
       "      <td>Class 0</td>\n",
       "      <td>0</td>\n",
       "    </tr>\n",
       "    <tr>\n",
       "      <th>1</th>\n",
       "      <td>3923</td>\n",
       "      <td>2570.114800</td>\n",
       "      <td>0.000013</td>\n",
       "      <td>0.033411</td>\n",
       "      <td>32.097878</td>\n",
       "      <td>0.153846</td>\n",
       "      <td>POLYGON ((5294439.034285 1682576.202855, 52954...</td>\n",
       "      <td>Class 0</td>\n",
       "      <td>0</td>\n",
       "    </tr>\n",
       "    <tr>\n",
       "      <th>3</th>\n",
       "      <td>4020</td>\n",
       "      <td>148.553032</td>\n",
       "      <td>0.000011</td>\n",
       "      <td>0.001634</td>\n",
       "      <td>51.955178</td>\n",
       "      <td>0.181818</td>\n",
       "      <td>POLYGON ((5295439.034285 1682576.202855, 52964...</td>\n",
       "      <td>Class 0</td>\n",
       "      <td>0</td>\n",
       "    </tr>\n",
       "    <tr>\n",
       "      <th>4</th>\n",
       "      <td>4021</td>\n",
       "      <td>9993.058286</td>\n",
       "      <td>0.000010</td>\n",
       "      <td>0.099931</td>\n",
       "      <td>20.197038</td>\n",
       "      <td>0.300000</td>\n",
       "      <td>POLYGON ((5295439.034285 1681576.202855, 52964...</td>\n",
       "      <td>Class 2</td>\n",
       "      <td>2</td>\n",
       "    </tr>\n",
       "    <tr>\n",
       "      <th>7</th>\n",
       "      <td>4115</td>\n",
       "      <td>149.531578</td>\n",
       "      <td>0.000027</td>\n",
       "      <td>0.004037</td>\n",
       "      <td>33.231388</td>\n",
       "      <td>0.111111</td>\n",
       "      <td>POLYGON ((5296439.034285 1684576.202855, 52974...</td>\n",
       "      <td>Class 0</td>\n",
       "      <td>0</td>\n",
       "    </tr>\n",
       "  </tbody>\n",
       "</table>\n",
       "</div>"
      ],
      "text/plain": [
       "     id      AvgSize        BD       BCR   ProxMean  ContRatio  \\\n",
       "0  3922    40.357167  0.000012  0.000484   2.761683   0.500000   \n",
       "1  3923  2570.114800  0.000013  0.033411  32.097878   0.153846   \n",
       "3  4020   148.553032  0.000011  0.001634  51.955178   0.181818   \n",
       "4  4021  9993.058286  0.000010  0.099931  20.197038   0.300000   \n",
       "7  4115   149.531578  0.000027  0.004037  33.231388   0.111111   \n",
       "\n",
       "                                            geometry   Labels  LabelNum  \n",
       "0  POLYGON ((5294439.034285 1683576.202855, 52954...  Class 0         0  \n",
       "1  POLYGON ((5294439.034285 1682576.202855, 52954...  Class 0         0  \n",
       "3  POLYGON ((5295439.034285 1682576.202855, 52964...  Class 0         0  \n",
       "4  POLYGON ((5295439.034285 1681576.202855, 52964...  Class 2         2  \n",
       "7  POLYGON ((5296439.034285 1684576.202855, 52974...  Class 0         0  "
      ]
     },
     "execution_count": 48,
     "metadata": {},
     "output_type": "execute_result"
    }
   ],
   "source": [
    "df_grid['Labels'] = new_lab\n",
    "df_grid['LabelNum']= labels\n",
    "df_grid.head()"
   ]
  },
  {
   "cell_type": "code",
   "execution_count": 49,
   "metadata": {
    "colab": {},
    "colab_type": "code",
    "id": "J4RO6EZmBK5K"
   },
   "outputs": [],
   "source": [
    "df_grid['Labels'] = df_grid['Labels'].astype(object)"
   ]
  },
  {
   "cell_type": "markdown",
   "metadata": {
    "colab_type": "text",
    "id": "1NXdNLBbf3t3"
   },
   "source": [
    "## Interpretation of Classes"
   ]
  },
  {
   "cell_type": "code",
   "execution_count": 50,
   "metadata": {
    "colab": {},
    "colab_type": "code",
    "id": "7aKY9JCCBmYj"
   },
   "outputs": [],
   "source": [
    "GRID_cluster0 = df_grid[df_grid.Labels==\"Class 0\"]\n",
    "GRID_cluster1 = df_grid[df_grid.Labels==\"Class 1\"]\n",
    "GRID_cluster2 = df_grid[df_grid.Labels==\"Class 2\"]"
   ]
  },
  {
   "cell_type": "markdown",
   "metadata": {},
   "source": [
    "## 3.2 Visualization for classification"
   ]
  },
  {
   "cell_type": "markdown",
   "metadata": {
    "colab_type": "text",
    "id": "qvSDHyYNY27f"
   },
   "source": [
    "### BCR visualization"
   ]
  },
  {
   "cell_type": "code",
   "execution_count": 51,
   "metadata": {},
   "outputs": [],
   "source": [
    "gd_bcr = {\n",
    "    'Class':['Class 1', 'Class 2', 'Class 3'],\n",
    "    'Buliding Coverage Ratio': [GRID_cluster0.median()[\"BCR\"], GRID_cluster1.median()[\"BCR\"],GRID_cluster2.median()[\"BCR\"]]\n",
    "  \n",
    "}\n",
    "df_gd_bcr = pd.DataFrame(gd_bcr).set_index(\"Class\")\n",
    "\n",
    "gd_bcr_bar = df_gd_bcr.plot_bokeh.bar(\n",
    "    show_figure=False,   \n",
    "    figsize=(300,200),\n",
    "    ylabel=\"value\", \n",
    "    title=\"Building Coverage Ratio\",\n",
    "    color=\"blue\",\n",
    "    alpha=0.6)"
   ]
  },
  {
   "cell_type": "markdown",
   "metadata": {
    "colab_type": "text",
    "id": "c9cM-NRENtAF"
   },
   "source": [
    "### BD visualization"
   ]
  },
  {
   "cell_type": "code",
   "execution_count": 52,
   "metadata": {
    "colab": {
     "base_uri": "https://localhost:8080/",
     "height": 408
    },
    "colab_type": "code",
    "id": "KQvXcQEFYdjl",
    "outputId": "a43dc0eb-dbb2-4f5e-f712-f4b534fc93c7",
    "scrolled": true
   },
   "outputs": [],
   "source": [
    "gd_bd = {\n",
    "    'Class':['Class 1', 'Class 2', 'Class 3'],\n",
    "    'Buliding Density': [GRID_cluster0.median()[\"BD\"], GRID_cluster1.median()[\"BD\"],GRID_cluster2.median()[\"BD\"]]\n",
    "  \n",
    "}\n",
    "df_gd_bd = pd.DataFrame(gd_bd).set_index(\"Class\")\n",
    "\n",
    "gd_bd_bar = df_gd_bd .plot_bokeh.bar(\n",
    "    figsize=(300,200),\n",
    "    show_figure=False,  \n",
    "    ylabel=\"value\", \n",
    "    title=\"Building Density\",\n",
    "    color=\"purple\",\n",
    "    alpha=0.6)"
   ]
  },
  {
   "cell_type": "markdown",
   "metadata": {},
   "source": [
    "### Proximity visualization"
   ]
  },
  {
   "cell_type": "code",
   "execution_count": 53,
   "metadata": {},
   "outputs": [],
   "source": [
    "gd_p = {\n",
    "    'Class':['Class 1', 'Class 2', 'Class 3'],\n",
    "    'Proximity': [GRID_cluster0.median()[\"ProxMean\"], GRID_cluster1.median()[\"ProxMean\"],GRID_cluster2.median()[\"ProxMean\"]]\n",
    "  \n",
    "}\n",
    "df_gd_p = pd.DataFrame(gd_p).set_index(\"Class\")\n",
    "\n",
    "gd_p_bar = df_gd_p.plot_bokeh.bar(\n",
    "    figsize=(300,200),\n",
    "    show_figure=False, \n",
    "    ylabel=\"value\", \n",
    "    title=\"Proximity\",\n",
    "    color=\"Green\",\n",
    "    alpha=0.6)"
   ]
  },
  {
   "cell_type": "markdown",
   "metadata": {},
   "source": [
    "### Size visualization"
   ]
  },
  {
   "cell_type": "code",
   "execution_count": 54,
   "metadata": {},
   "outputs": [],
   "source": [
    "gd_s = {\n",
    "    'Class':['Class 1', 'Class 2', 'Class 3'],\n",
    "    'Average Size': [GRID_cluster0.median()[\"AvgSize\"], GRID_cluster1.median()[\"AvgSize\"],GRID_cluster2.median()[\"AvgSize\"]]\n",
    "  \n",
    "}\n",
    "df_gd_s = pd.DataFrame(gd_s).set_index(\"Class\")\n",
    "\n",
    "gd_s_bar = df_gd_s.plot_bokeh.bar(\n",
    "    show_figure=False, \n",
    "    figsize=(300,200),\n",
    "    ylabel=\"value\", \n",
    "    title=\"Average Size\",\n",
    "    color=\"Red\",\n",
    "    alpha=0.6)"
   ]
  },
  {
   "cell_type": "markdown",
   "metadata": {
    "colab_type": "text",
    "id": "3mb87GTdRDJF"
   },
   "source": [
    "### Contiguity Ratio"
   ]
  },
  {
   "cell_type": "code",
   "execution_count": 55,
   "metadata": {},
   "outputs": [],
   "source": [
    "gd_c = {\n",
    "    'Class':['Class 1', 'Class 2', 'Class 3'],\n",
    "    \"Contiguity Ratio\": [GRID_cluster0.median()[\"ContRatio\"], GRID_cluster1.median()[\"ContRatio\"],GRID_cluster2.median()[\"ContRatio\"]]\n",
    "  \n",
    "}\n",
    "df_gd_c = pd.DataFrame(gd_c).set_index(\"Class\")\n",
    "\n",
    "gd_c_bar = df_gd_c.plot_bokeh.bar(\n",
    "    figsize=(300,200),\n",
    "    show_figure=False, \n",
    "    ylabel=\"value\", \n",
    "    title=\"Contiguity Ratio\",\n",
    "    color=\"Grey\",\n",
    "    alpha=0.6)"
   ]
  },
  {
   "cell_type": "markdown",
   "metadata": {},
   "source": [
    "\n",
    "\n",
    "### Integrated visualization for Grid 1km^2"
   ]
  },
  {
   "cell_type": "code",
   "execution_count": 56,
   "metadata": {},
   "outputs": [],
   "source": [
    "Rgd_class=df_grid.plot_bokeh(\n",
    "    show_figure=False,\n",
    "    figsize=(900, 600),\n",
    "    category=\"LabelNum\",\n",
    "    show_colorbar=True,\n",
    "    colormap=\"Viridis\",\n",
    "    hovertool_columns=['id','Labels'],\n",
    "    legend=\"1km^2 Grid\",\n",
    "    toolbar_location=\"above\",\n",
    "    title=\"Classification for 1km^2 Grid\")"
   ]
  },
  {
   "cell_type": "code",
   "execution_count": 57,
   "metadata": {
    "scrolled": true
   },
   "outputs": [],
   "source": [
    "gd=layout([[Rgd_class],\n",
    "                        [gd_bcr_bar, gd_bd_bar],\n",
    "                        [gd_p_bar, gd_s_bar,gd_c_bar]], sizing_mode='fixed')"
   ]
  },
  {
   "cell_type": "markdown",
   "metadata": {},
   "source": [
    "# 3. Integrated visualization for 3 Geographic Units"
   ]
  },
  {
   "cell_type": "code",
   "execution_count": 58,
   "metadata": {},
   "outputs": [],
   "source": [
    "tab1 = Panel(child=ct,title=\"Census Tract\")\n",
    "tab2 = Panel(child=db,title=\"Dissimination Classification\")\n",
    "tab3 = Panel(child=gd,title=\"Grid 1km^2 Classification\")\n",
    "tabs = Tabs(tabs=[ tab1 ,tab2, tab3])"
   ]
  },
  {
   "cell_type": "code",
   "execution_count": 59,
   "metadata": {},
   "outputs": [],
   "source": [
    "p1 = layout([[Rdb_class],\n",
    "                        [db_bcr_bar, db_bd_bar],\n",
    "                        [db_p_bar, db_s_bar,db_c_bar]],sizing_mode='fixed')\n",
    "\n"
   ]
  },
  {
   "cell_type": "code",
   "execution_count": 60,
   "metadata": {},
   "outputs": [],
   "source": [
    "show(tabs)"
   ]
  },
  {
   "cell_type": "code",
   "execution_count": null,
   "metadata": {},
   "outputs": [],
   "source": []
  },
  {
   "cell_type": "code",
   "execution_count": null,
   "metadata": {},
   "outputs": [],
   "source": []
  }
 ],
 "metadata": {
  "accelerator": "GPU",
  "colab": {
   "collapsed_sections": [
    "C26sVSLUSDAl",
    "qvSDHyYNY27f",
    "c9cM-NRENtAF",
    "meHmlKRXP8kw",
    "w-P3UrjGQeU9",
    "3mb87GTdRDJF"
   ],
   "name": "Final Output Saskachewan.ipynb",
   "provenance": [],
   "toc_visible": true,
   "version": "0.3.2"
  },
  "kernelspec": {
   "display_name": "Python 3",
   "language": "python",
   "name": "python3"
  },
  "language_info": {
   "codemirror_mode": {
    "name": "ipython",
    "version": 3
   },
   "file_extension": ".py",
   "mimetype": "text/x-python",
   "name": "python",
   "nbconvert_exporter": "python",
   "pygments_lexer": "ipython3",
   "version": "3.6.8"
  }
 },
 "nbformat": 4,
 "nbformat_minor": 1
}
